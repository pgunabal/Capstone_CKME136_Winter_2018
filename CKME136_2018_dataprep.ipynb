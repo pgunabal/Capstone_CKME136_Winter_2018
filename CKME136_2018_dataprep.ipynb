{
 "cells": [
  {
   "cell_type": "markdown",
   "metadata": {},
   "source": [
    "# Capstone Project"
   ]
  },
  {
   "cell_type": "markdown",
   "metadata": {},
   "source": [
    "### Import required libraries"
   ]
  },
  {
   "cell_type": "code",
   "execution_count": 1,
   "metadata": {},
   "outputs": [],
   "source": [
    "import numpy as np\n",
    "#in case we need to repeat experiment\n",
    "np.random.seed(255)\n",
    "\n",
    "import pandas as pd\n",
    "pd.options.display.max_rows = 25\n",
    "\n",
    "import matplotlib.pyplot as plt\n",
    "plt.style.use('classic')\n",
    "\n",
    "import seaborn as sns\n",
    "sns.set()\n",
    "\n",
    "%matplotlib inline\n",
    "%precision 3\n",
    "debug = False"
   ]
  },
  {
   "cell_type": "markdown",
   "metadata": {},
   "source": [
    "## Utility Functions for this project"
   ]
  },
  {
   "cell_type": "code",
   "execution_count": 95,
   "metadata": {},
   "outputs": [],
   "source": [
    "def plotSimpleHist(data, title, hight=10, width=10):\n",
    "    plot_enabled = True\n",
    "    if(plot_enabled):\n",
    "        shist = data.value_counts().plot(figsize=(width,hight), kind='bar',title=title, stacked = False)\n",
    "        shist.set(xlabel=data.name, ylabel='Accident Count')"
   ]
  },
  {
   "cell_type": "code",
   "execution_count": 119,
   "metadata": {},
   "outputs": [],
   "source": [
    "# list the accident severity count\n",
    "def severity_count(data):\n",
    "    sv_count = data.value_counts()\n",
    "    sv_count.index.name = 'Severity'\n",
    "    df_sv_count = pd.DataFrame({'Count':sv_count.values}, index = sv_count.index)\n",
    "    df_sv_count.rename(index={'1':'non-fatal','2':'injury', '3':'fatal'},inplace=True)\n",
    "    return df_sv_count"
   ]
  },
  {
   "cell_type": "code",
   "execution_count": 125,
   "metadata": {},
   "outputs": [],
   "source": [
    "# list the accident severity count by dependent variable\n",
    "def by_severity_count(data, ind, dep):\n",
    "    bg_count = data.groupby([data[dep],data[ind]])\n",
    "    sv_count = bg_count.size().unstack() \n",
    "    sv_count.index.name = 'Severity'\n",
    "    sv_count.columns.name = ''\n",
    "    sv_count.rename(index={'1':'non-fatal','2':'injury', '3':'fatal'},inplace=True)\n",
    "    sv_count.fillna(value=0, inplace=True)\n",
    "    sv_count.transpose()\n",
    "    return sv_count"
   ]
  },
  {
   "cell_type": "code",
   "execution_count": null,
   "metadata": {},
   "outputs": [],
   "source": []
  },
  {
   "cell_type": "code",
   "execution_count": null,
   "metadata": {},
   "outputs": [],
   "source": []
  },
  {
   "cell_type": "code",
   "execution_count": null,
   "metadata": {},
   "outputs": [],
   "source": []
  },
  {
   "cell_type": "code",
   "execution_count": null,
   "metadata": {},
   "outputs": [],
   "source": []
  },
  {
   "cell_type": "code",
   "execution_count": null,
   "metadata": {},
   "outputs": [],
   "source": []
  },
  {
   "cell_type": "markdown",
   "metadata": {},
   "source": [
    "### Read data file"
   ]
  },
  {
   "cell_type": "code",
   "execution_count": 2,
   "metadata": {},
   "outputs": [],
   "source": [
    "#df = pd.read_csv('NCDB_2016.csv', engine = 'python')\n",
    "df = pd.read_csv('NCDB_1999_to_2016.csv', engine = 'python')"
   ]
  },
  {
   "cell_type": "markdown",
   "metadata": {},
   "source": [
    "### Number of rows and columns"
   ]
  },
  {
   "cell_type": "code",
   "execution_count": 3,
   "metadata": {
    "scrolled": true
   },
   "outputs": [
    {
     "name": "stdout",
     "output_type": "stream",
     "text": [
      "(6486831, 23)\n"
     ]
    }
   ],
   "source": [
    "print(df.shape)"
   ]
  },
  {
   "cell_type": "markdown",
   "metadata": {},
   "source": [
    "### List dataset columns"
   ]
  },
  {
   "cell_type": "code",
   "execution_count": 4,
   "metadata": {},
   "outputs": [
    {
     "name": "stdout",
     "output_type": "stream",
     "text": [
      "Index(['C_YEAR', 'C_MNTH', 'C_WDAY', 'C_HOUR', 'C_SEV', 'C_VEHS', 'C_CONF',\n",
      "       'C_RCFG', 'C_WTHR', 'C_RSUR', 'C_RALN', 'C_TRAF', 'V_ID', 'V_TYPE',\n",
      "       'V_YEAR', 'P_ID', 'P_SEX', 'P_AGE', 'P_PSN', 'P_ISEV', 'P_SAFE',\n",
      "       'P_USER', 'C_CASE'],\n",
      "      dtype='object')\n"
     ]
    }
   ],
   "source": [
    "print(df.columns)"
   ]
  },
  {
   "cell_type": "code",
   "execution_count": 5,
   "metadata": {
    "scrolled": true
   },
   "outputs": [
    {
     "name": "stdout",
     "output_type": "stream",
     "text": [
      "   C_YEAR C_MNTH C_WDAY C_HOUR  C_SEV C_VEHS C_CONF C_RCFG C_WTHR C_RSUR  \\\n",
      "0    1999     01      1     20      2     02     34     UU      1      5   \n",
      "1    1999     01      1     20      2     02     34     UU      1      5   \n",
      "\n",
      "   ...   V_TYPE V_YEAR P_ID P_SEX P_AGE P_PSN P_ISEV P_SAFE P_USER C_CASE  \n",
      "0  ...       06   1990   01     M    41    11      1     UU      1    752  \n",
      "1  ...       01   1987   01     M    19    11      1     UU      1    752  \n",
      "\n",
      "[2 rows x 23 columns]\n"
     ]
    }
   ],
   "source": [
    "print(df.head(2))"
   ]
  },
  {
   "cell_type": "code",
   "execution_count": 6,
   "metadata": {},
   "outputs": [],
   "source": [
    "## Inital type of each independent variable"
   ]
  },
  {
   "cell_type": "code",
   "execution_count": 96,
   "metadata": {
    "scrolled": false
   },
   "outputs": [
    {
     "name": "stdout",
     "output_type": "stream",
     "text": [
      "C_YEAR     int64\n",
      "C_MNTH    object\n",
      "C_WDAY    object\n",
      "C_HOUR    object\n",
      "C_VEHS    object\n",
      "C_CONF    object\n",
      "C_RCFG    object\n",
      "C_WTHR    object\n",
      "C_RSUR    object\n",
      "C_RALN    object\n",
      "C_TRAF    object\n",
      "V_ID      object\n",
      "V_TYPE    object\n",
      "V_YEAR    object\n",
      "P_ID      object\n",
      "P_SEX     object\n",
      "P_AGE     object\n",
      "P_PSN     object\n",
      "P_SAFE    object\n",
      "P_USER    object\n",
      "P_ISEV    object\n",
      "dtype: object\n"
     ]
    }
   ],
   "source": [
    "print(df.dtypes)"
   ]
  },
  {
   "cell_type": "markdown",
   "metadata": {},
   "source": [
    "### Backup a copy of the dataset"
   ]
  },
  {
   "cell_type": "code",
   "execution_count": 8,
   "metadata": {},
   "outputs": [],
   "source": [
    "# backup the origial data set\n",
    "dfcopy = df.copy()"
   ]
  },
  {
   "cell_type": "markdown",
   "metadata": {},
   "source": [
    "### Select Pasenger Severity as the Dependent Variable\n",
    "#### Move the dependent variable as the last column"
   ]
  },
  {
   "cell_type": "code",
   "execution_count": 9,
   "metadata": {},
   "outputs": [],
   "source": [
    "#Move the dependent variable to the outside and drop C_CASE column\n",
    "P_ISEV = df['P_ISEV']\n",
    "df.drop(columns = ['P_ISEV'], inplace = True)\n",
    "df['P_ISEV'] = P_ISEV"
   ]
  },
  {
   "cell_type": "markdown",
   "metadata": {},
   "source": [
    "### Remove rows with more than 4 missing values\n",
    "#### Preserve rows with fatal pasenger"
   ]
  },
  {
   "cell_type": "code",
   "execution_count": 101,
   "metadata": {},
   "outputs": [
    {
     "name": "stdout",
     "output_type": "stream",
     "text": [
      "Dropped 238608 rows from dataset\n"
     ]
    }
   ],
   "source": [
    "### drop rows that have more than 4 missing values and P_ISEV is not fatal\n",
    "missing_value_strings = ['U', 'UU', 'UUU', 'UUUU', 'N', 'NN', 'NNN', 'NNNN', 'Q', 'QQ', 'QQQ', 'QQQQ', 'X', 'XX', 'XXX', 'XXXX']\n",
    "non_fatal_with_more_than_4_missing = ((df.isin(missing_value_strings).sum(axis=1) > 3) & ~(df['P_ISEV'] == '3')).sum()\n",
    "df.drop(df.index[(df.isin(missing_value_strings).sum(axis=1) > 3) & ~(df['P_ISEV'] == '3')], inplace = True)\n",
    "df = df.reset_index(drop=True)\n",
    "print(\"Dropped {drop_count} rows from dataset\".format(drop_count = non_fatal_with_more_than_4_missing))"
   ]
  },
  {
   "cell_type": "markdown",
   "metadata": {},
   "source": [
    "### Drop columns C_SEV and C_CASE\n",
    "#### We will not be using them"
   ]
  },
  {
   "cell_type": "code",
   "execution_count": 10,
   "metadata": {},
   "outputs": [],
   "source": [
    "#Move the dependent variable to the outside and drop C_CASE column\n",
    "df.drop(columns = ['C_SEV', 'C_CASE'], inplace = True)"
   ]
  },
  {
   "cell_type": "markdown",
   "metadata": {},
   "source": [
    "### Check for missing values"
   ]
  },
  {
   "cell_type": "code",
   "execution_count": 11,
   "metadata": {},
   "outputs": [
    {
     "name": "stdout",
     "output_type": "stream",
     "text": [
      "This dataset has 0 Null values\n",
      "This dataset has 0 Not a Number (NaN) values\n"
     ]
    }
   ],
   "source": [
    "print(\"This dataset has {0} Null values\".format(df.isnull().sum().sum()))\n",
    "print(\"This dataset has {0} Not a Number (NaN) values\".format(df.isna().sum().sum()))"
   ]
  },
  {
   "cell_type": "markdown",
   "metadata": {},
   "source": [
    "## Histogram of each variable"
   ]
  },
  {
   "cell_type": "code",
   "execution_count": 124,
   "metadata": {},
   "outputs": [
    {
     "data": {
      "text/html": [
       "<div>\n",
       "<style scoped>\n",
       "    .dataframe tbody tr th:only-of-type {\n",
       "        vertical-align: middle;\n",
       "    }\n",
       "\n",
       "    .dataframe tbody tr th {\n",
       "        vertical-align: top;\n",
       "    }\n",
       "\n",
       "    .dataframe thead th {\n",
       "        text-align: right;\n",
       "    }\n",
       "</style>\n",
       "<table border=\"1\" class=\"dataframe\">\n",
       "  <thead>\n",
       "    <tr style=\"text-align: right;\">\n",
       "      <th>Severity</th>\n",
       "      <th>injury</th>\n",
       "      <th>non-fatal</th>\n",
       "      <th>fatal</th>\n",
       "    </tr>\n",
       "  </thead>\n",
       "  <tbody>\n",
       "    <tr>\n",
       "      <th>Count</th>\n",
       "      <td>3273354</td>\n",
       "      <td>2513281</td>\n",
       "      <td>44167</td>\n",
       "    </tr>\n",
       "  </tbody>\n",
       "</table>\n",
       "</div>"
      ],
      "text/plain": [
       "Severity   injury  non-fatal  fatal\n",
       "Count     3273354    2513281  44167"
      ]
     },
     "execution_count": 124,
     "metadata": {},
     "output_type": "execute_result"
    },
    {
     "data": {
      "image/png": "[encoded data removed]",
      "text/plain": [
       "<Figure size 1440x720 with 1 Axes>"
      ]
     },
     "metadata": {
      "needs_background": "light"
     },
     "output_type": "display_data"
    }
   ],
   "source": [
    "# Histogram of Accident Severity of Vehicle Occupant\n",
    "plotSimpleHist(df['P_ISEV'], 'Accident Severity of Vehicle Occupant', hight=10, width=20)\n",
    "severity_count(df['P_ISEV']).transpose()\n",
    "#severity_count(df['P_ISEV'])"
   ]
  },
  {
   "cell_type": "code",
   "execution_count": 128,
   "metadata": {},
   "outputs": [
    {
     "data": {
      "text/html": [
       "<div>\n",
       "<style scoped>\n",
       "    .dataframe tbody tr th:only-of-type {\n",
       "        vertical-align: middle;\n",
       "    }\n",
       "\n",
       "    .dataframe tbody tr th {\n",
       "        vertical-align: top;\n",
       "    }\n",
       "\n",
       "    .dataframe thead th {\n",
       "        text-align: right;\n",
       "    }\n",
       "</style>\n",
       "<table border=\"1\" class=\"dataframe\">\n",
       "  <thead>\n",
       "    <tr style=\"text-align: right;\">\n",
       "      <th></th>\n",
       "      <th>1999</th>\n",
       "      <th>2000</th>\n",
       "      <th>2001</th>\n",
       "      <th>2002</th>\n",
       "      <th>2003</th>\n",
       "      <th>2004</th>\n",
       "      <th>2005</th>\n",
       "      <th>2006</th>\n",
       "      <th>2007</th>\n",
       "      <th>2008</th>\n",
       "      <th>2009</th>\n",
       "      <th>2010</th>\n",
       "      <th>2011</th>\n",
       "      <th>2012</th>\n",
       "      <th>2013</th>\n",
       "      <th>2014</th>\n",
       "      <th>2015</th>\n",
       "      <th>2016</th>\n",
       "    </tr>\n",
       "    <tr>\n",
       "      <th>Severity</th>\n",
       "      <th></th>\n",
       "      <th></th>\n",
       "      <th></th>\n",
       "      <th></th>\n",
       "      <th></th>\n",
       "      <th></th>\n",
       "      <th></th>\n",
       "      <th></th>\n",
       "      <th></th>\n",
       "      <th></th>\n",
       "      <th></th>\n",
       "      <th></th>\n",
       "      <th></th>\n",
       "      <th></th>\n",
       "      <th></th>\n",
       "      <th></th>\n",
       "      <th></th>\n",
       "      <th></th>\n",
       "    </tr>\n",
       "  </thead>\n",
       "  <tbody>\n",
       "    <tr>\n",
       "      <th>non-fatal</th>\n",
       "      <td>164530</td>\n",
       "      <td>164422</td>\n",
       "      <td>159174</td>\n",
       "      <td>163251</td>\n",
       "      <td>156230</td>\n",
       "      <td>149797</td>\n",
       "      <td>148269</td>\n",
       "      <td>144475</td>\n",
       "      <td>140466</td>\n",
       "      <td>129562</td>\n",
       "      <td>127212</td>\n",
       "      <td>130351</td>\n",
       "      <td>127214</td>\n",
       "      <td>125985</td>\n",
       "      <td>125395</td>\n",
       "      <td>116694</td>\n",
       "      <td>122013</td>\n",
       "      <td>118241</td>\n",
       "    </tr>\n",
       "    <tr>\n",
       "      <th>injury</th>\n",
       "      <td>210201</td>\n",
       "      <td>214626</td>\n",
       "      <td>208485</td>\n",
       "      <td>214309</td>\n",
       "      <td>207481</td>\n",
       "      <td>198071</td>\n",
       "      <td>196115</td>\n",
       "      <td>191593</td>\n",
       "      <td>184957</td>\n",
       "      <td>169683</td>\n",
       "      <td>164400</td>\n",
       "      <td>165717</td>\n",
       "      <td>162012</td>\n",
       "      <td>161166</td>\n",
       "      <td>159124</td>\n",
       "      <td>151030</td>\n",
       "      <td>155895</td>\n",
       "      <td>158489</td>\n",
       "    </tr>\n",
       "    <tr>\n",
       "      <th>fatal</th>\n",
       "      <td>2980</td>\n",
       "      <td>2904</td>\n",
       "      <td>2758</td>\n",
       "      <td>2921</td>\n",
       "      <td>2777</td>\n",
       "      <td>2735</td>\n",
       "      <td>2898</td>\n",
       "      <td>2871</td>\n",
       "      <td>2753</td>\n",
       "      <td>2431</td>\n",
       "      <td>2216</td>\n",
       "      <td>2238</td>\n",
       "      <td>2023</td>\n",
       "      <td>2075</td>\n",
       "      <td>1951</td>\n",
       "      <td>1846</td>\n",
       "      <td>1895</td>\n",
       "      <td>1895</td>\n",
       "    </tr>\n",
       "  </tbody>\n",
       "</table>\n",
       "</div>"
      ],
      "text/plain": [
       "             1999    2000    2001    2002    2003    2004    2005    2006  \\\n",
       "Severity                                                                    \n",
       "non-fatal  164530  164422  159174  163251  156230  149797  148269  144475   \n",
       "injury     210201  214626  208485  214309  207481  198071  196115  191593   \n",
       "fatal        2980    2904    2758    2921    2777    2735    2898    2871   \n",
       "\n",
       "             2007    2008    2009    2010    2011    2012    2013    2014  \\\n",
       "Severity                                                                    \n",
       "non-fatal  140466  129562  127212  130351  127214  125985  125395  116694   \n",
       "injury     184957  169683  164400  165717  162012  161166  159124  151030   \n",
       "fatal        2753    2431    2216    2238    2023    2075    1951    1846   \n",
       "\n",
       "             2015    2016  \n",
       "Severity                   \n",
       "non-fatal  122013  118241  \n",
       "injury     155895  158489  \n",
       "fatal        1895    1895  "
      ]
     },
     "execution_count": 128,
     "metadata": {},
     "output_type": "execute_result"
    },
    {
     "data": {
      "image/png": "[encoded data removed]",
      "text/plain": [
       "<Figure size 1440x720 with 1 Axes>"
      ]
     },
     "metadata": {
      "needs_background": "light"
     },
     "output_type": "display_data"
    }
   ],
   "source": [
    "#Year of Accident\n",
    "plotSimpleHist(df['C_YEAR'], 'Year of Accident', hight=10, width=20)\n",
    "by_severity_count(df, 'C_YEAR', 'P_ISEV')"
   ]
  },
  {
   "cell_type": "code",
   "execution_count": 129,
   "metadata": {},
   "outputs": [
    {
     "data": {
      "text/html": [
       "<div>\n",
       "<style scoped>\n",
       "    .dataframe tbody tr th:only-of-type {\n",
       "        vertical-align: middle;\n",
       "    }\n",
       "\n",
       "    .dataframe tbody tr th {\n",
       "        vertical-align: top;\n",
       "    }\n",
       "\n",
       "    .dataframe thead th {\n",
       "        text-align: right;\n",
       "    }\n",
       "</style>\n",
       "<table border=\"1\" class=\"dataframe\">\n",
       "  <thead>\n",
       "    <tr style=\"text-align: right;\">\n",
       "      <th></th>\n",
       "      <th>01</th>\n",
       "      <th>02</th>\n",
       "      <th>03</th>\n",
       "      <th>04</th>\n",
       "      <th>05</th>\n",
       "      <th>06</th>\n",
       "      <th>07</th>\n",
       "      <th>08</th>\n",
       "      <th>09</th>\n",
       "      <th>10</th>\n",
       "      <th>11</th>\n",
       "      <th>12</th>\n",
       "      <th>UU</th>\n",
       "    </tr>\n",
       "    <tr>\n",
       "      <th>Severity</th>\n",
       "      <th></th>\n",
       "      <th></th>\n",
       "      <th></th>\n",
       "      <th></th>\n",
       "      <th></th>\n",
       "      <th></th>\n",
       "      <th></th>\n",
       "      <th></th>\n",
       "      <th></th>\n",
       "      <th></th>\n",
       "      <th></th>\n",
       "      <th></th>\n",
       "      <th></th>\n",
       "    </tr>\n",
       "  </thead>\n",
       "  <tbody>\n",
       "    <tr>\n",
       "      <th>non-fatal</th>\n",
       "      <td>212435</td>\n",
       "      <td>183172</td>\n",
       "      <td>178228</td>\n",
       "      <td>169478</td>\n",
       "      <td>202060</td>\n",
       "      <td>222236</td>\n",
       "      <td>230921</td>\n",
       "      <td>234464</td>\n",
       "      <td>221662</td>\n",
       "      <td>222973</td>\n",
       "      <td>211278</td>\n",
       "      <td>224349</td>\n",
       "      <td>25</td>\n",
       "    </tr>\n",
       "    <tr>\n",
       "      <th>injury</th>\n",
       "      <td>278984</td>\n",
       "      <td>237052</td>\n",
       "      <td>231489</td>\n",
       "      <td>219548</td>\n",
       "      <td>261624</td>\n",
       "      <td>291477</td>\n",
       "      <td>302132</td>\n",
       "      <td>305355</td>\n",
       "      <td>284231</td>\n",
       "      <td>286927</td>\n",
       "      <td>281763</td>\n",
       "      <td>292745</td>\n",
       "      <td>27</td>\n",
       "    </tr>\n",
       "    <tr>\n",
       "      <th>fatal</th>\n",
       "      <td>3140</td>\n",
       "      <td>2649</td>\n",
       "      <td>2744</td>\n",
       "      <td>2924</td>\n",
       "      <td>3593</td>\n",
       "      <td>3973</td>\n",
       "      <td>4573</td>\n",
       "      <td>4663</td>\n",
       "      <td>4194</td>\n",
       "      <td>4133</td>\n",
       "      <td>3803</td>\n",
       "      <td>3775</td>\n",
       "      <td>3</td>\n",
       "    </tr>\n",
       "  </tbody>\n",
       "</table>\n",
       "</div>"
      ],
      "text/plain": [
       "               01      02      03      04      05      06      07      08  \\\n",
       "Severity                                                                    \n",
       "non-fatal  212435  183172  178228  169478  202060  222236  230921  234464   \n",
       "injury     278984  237052  231489  219548  261624  291477  302132  305355   \n",
       "fatal        3140    2649    2744    2924    3593    3973    4573    4663   \n",
       "\n",
       "               09      10      11      12  UU  \n",
       "Severity                                       \n",
       "non-fatal  221662  222973  211278  224349  25  \n",
       "injury     284231  286927  281763  292745  27  \n",
       "fatal        4194    4133    3803    3775   3  "
      ]
     },
     "execution_count": 129,
     "metadata": {},
     "output_type": "execute_result"
    },
    {
     "data": {
      "image/png": "[encoded data removed]",
      "text/plain": [
       "<Figure size 1440x720 with 1 Axes>"
      ]
     },
     "metadata": {
      "needs_background": "light"
     },
     "output_type": "display_data"
    }
   ],
   "source": [
    "# Accident Month\n",
    "plotSimpleHist(df['C_MNTH'], 'Accident Month', hight=10, width=20)\n",
    "by_severity_count(df, 'C_MNTH', 'P_ISEV')"
   ]
  },
  {
   "cell_type": "code",
   "execution_count": 130,
   "metadata": {},
   "outputs": [
    {
     "data": {
      "text/html": [
       "<div>\n",
       "<style scoped>\n",
       "    .dataframe tbody tr th:only-of-type {\n",
       "        vertical-align: middle;\n",
       "    }\n",
       "\n",
       "    .dataframe tbody tr th {\n",
       "        vertical-align: top;\n",
       "    }\n",
       "\n",
       "    .dataframe thead th {\n",
       "        text-align: right;\n",
       "    }\n",
       "</style>\n",
       "<table border=\"1\" class=\"dataframe\">\n",
       "  <thead>\n",
       "    <tr style=\"text-align: right;\">\n",
       "      <th></th>\n",
       "      <th>1</th>\n",
       "      <th>2</th>\n",
       "      <th>3</th>\n",
       "      <th>4</th>\n",
       "      <th>5</th>\n",
       "      <th>6</th>\n",
       "      <th>7</th>\n",
       "      <th>U</th>\n",
       "    </tr>\n",
       "    <tr>\n",
       "      <th>Severity</th>\n",
       "      <th></th>\n",
       "      <th></th>\n",
       "      <th></th>\n",
       "      <th></th>\n",
       "      <th></th>\n",
       "      <th></th>\n",
       "      <th></th>\n",
       "      <th></th>\n",
       "    </tr>\n",
       "  </thead>\n",
       "  <tbody>\n",
       "    <tr>\n",
       "      <th>non-fatal</th>\n",
       "      <td>330245</td>\n",
       "      <td>351875</td>\n",
       "      <td>354918</td>\n",
       "      <td>372770</td>\n",
       "      <td>433602</td>\n",
       "      <td>373642</td>\n",
       "      <td>295976</td>\n",
       "      <td>253</td>\n",
       "    </tr>\n",
       "    <tr>\n",
       "      <th>injury</th>\n",
       "      <td>438258</td>\n",
       "      <td>456197</td>\n",
       "      <td>459456</td>\n",
       "      <td>484191</td>\n",
       "      <td>550542</td>\n",
       "      <td>481990</td>\n",
       "      <td>402287</td>\n",
       "      <td>433</td>\n",
       "    </tr>\n",
       "    <tr>\n",
       "      <th>fatal</th>\n",
       "      <td>5466</td>\n",
       "      <td>5260</td>\n",
       "      <td>5459</td>\n",
       "      <td>6100</td>\n",
       "      <td>7186</td>\n",
       "      <td>7807</td>\n",
       "      <td>6881</td>\n",
       "      <td>8</td>\n",
       "    </tr>\n",
       "  </tbody>\n",
       "</table>\n",
       "</div>"
      ],
      "text/plain": [
       "                1       2       3       4       5       6       7    U\n",
       "Severity                                                              \n",
       "non-fatal  330245  351875  354918  372770  433602  373642  295976  253\n",
       "injury     438258  456197  459456  484191  550542  481990  402287  433\n",
       "fatal        5466    5260    5459    6100    7186    7807    6881    8"
      ]
     },
     "execution_count": 130,
     "metadata": {},
     "output_type": "execute_result"
    },
    {
     "data": {
      "image/png": "[encoded data removed]",
      "text/plain": [
       "<Figure size 1440x720 with 1 Axes>"
      ]
     },
     "metadata": {
      "needs_background": "light"
     },
     "output_type": "display_data"
    }
   ],
   "source": [
    "# Weekday of Accident\n",
    "plotSimpleHist(df['C_WDAY'], 'Weekday of Accident', hight=10, width=20)\n",
    "by_severity_count(df, 'C_WDAY', 'P_ISEV')"
   ]
  },
  {
   "cell_type": "code",
   "execution_count": 131,
   "metadata": {},
   "outputs": [
    {
     "data": {
      "text/html": [
       "<div>\n",
       "<style scoped>\n",
       "    .dataframe tbody tr th:only-of-type {\n",
       "        vertical-align: middle;\n",
       "    }\n",
       "\n",
       "    .dataframe tbody tr th {\n",
       "        vertical-align: top;\n",
       "    }\n",
       "\n",
       "    .dataframe thead th {\n",
       "        text-align: right;\n",
       "    }\n",
       "</style>\n",
       "<table border=\"1\" class=\"dataframe\">\n",
       "  <thead>\n",
       "    <tr style=\"text-align: right;\">\n",
       "      <th></th>\n",
       "      <th>00</th>\n",
       "      <th>01</th>\n",
       "      <th>02</th>\n",
       "      <th>03</th>\n",
       "      <th>04</th>\n",
       "      <th>05</th>\n",
       "      <th>06</th>\n",
       "      <th>07</th>\n",
       "      <th>08</th>\n",
       "      <th>09</th>\n",
       "      <th>...</th>\n",
       "      <th>15</th>\n",
       "      <th>16</th>\n",
       "      <th>17</th>\n",
       "      <th>18</th>\n",
       "      <th>19</th>\n",
       "      <th>20</th>\n",
       "      <th>21</th>\n",
       "      <th>22</th>\n",
       "      <th>23</th>\n",
       "      <th>UU</th>\n",
       "    </tr>\n",
       "    <tr>\n",
       "      <th>Severity</th>\n",
       "      <th></th>\n",
       "      <th></th>\n",
       "      <th></th>\n",
       "      <th></th>\n",
       "      <th></th>\n",
       "      <th></th>\n",
       "      <th></th>\n",
       "      <th></th>\n",
       "      <th></th>\n",
       "      <th></th>\n",
       "      <th></th>\n",
       "      <th></th>\n",
       "      <th></th>\n",
       "      <th></th>\n",
       "      <th></th>\n",
       "      <th></th>\n",
       "      <th></th>\n",
       "      <th></th>\n",
       "      <th></th>\n",
       "      <th></th>\n",
       "      <th></th>\n",
       "    </tr>\n",
       "  </thead>\n",
       "  <tbody>\n",
       "    <tr>\n",
       "      <th>non-fatal</th>\n",
       "      <td>30067</td>\n",
       "      <td>22821</td>\n",
       "      <td>23797</td>\n",
       "      <td>17562</td>\n",
       "      <td>10176</td>\n",
       "      <td>12828</td>\n",
       "      <td>38697</td>\n",
       "      <td>83649</td>\n",
       "      <td>132541</td>\n",
       "      <td>96822</td>\n",
       "      <td>...</td>\n",
       "      <td>227366</td>\n",
       "      <td>236727</td>\n",
       "      <td>229646</td>\n",
       "      <td>171702</td>\n",
       "      <td>123209</td>\n",
       "      <td>91198</td>\n",
       "      <td>82844</td>\n",
       "      <td>64106</td>\n",
       "      <td>46651</td>\n",
       "      <td>19249</td>\n",
       "    </tr>\n",
       "    <tr>\n",
       "      <th>injury</th>\n",
       "      <td>54882</td>\n",
       "      <td>46853</td>\n",
       "      <td>48548</td>\n",
       "      <td>41652</td>\n",
       "      <td>27688</td>\n",
       "      <td>32170</td>\n",
       "      <td>68782</td>\n",
       "      <td>124642</td>\n",
       "      <td>170066</td>\n",
       "      <td>131448</td>\n",
       "      <td>...</td>\n",
       "      <td>261057</td>\n",
       "      <td>278042</td>\n",
       "      <td>266734</td>\n",
       "      <td>203074</td>\n",
       "      <td>154984</td>\n",
       "      <td>122738</td>\n",
       "      <td>117036</td>\n",
       "      <td>96588</td>\n",
       "      <td>76868</td>\n",
       "      <td>30334</td>\n",
       "    </tr>\n",
       "    <tr>\n",
       "      <th>fatal</th>\n",
       "      <td>1418</td>\n",
       "      <td>1481</td>\n",
       "      <td>1549</td>\n",
       "      <td>1338</td>\n",
       "      <td>912</td>\n",
       "      <td>972</td>\n",
       "      <td>1343</td>\n",
       "      <td>1541</td>\n",
       "      <td>1490</td>\n",
       "      <td>1585</td>\n",
       "      <td>...</td>\n",
       "      <td>2567</td>\n",
       "      <td>2649</td>\n",
       "      <td>2594</td>\n",
       "      <td>2485</td>\n",
       "      <td>2177</td>\n",
       "      <td>2095</td>\n",
       "      <td>1972</td>\n",
       "      <td>1899</td>\n",
       "      <td>1678</td>\n",
       "      <td>627</td>\n",
       "    </tr>\n",
       "  </tbody>\n",
       "</table>\n",
       "<p>3 rows × 25 columns</p>\n",
       "</div>"
      ],
      "text/plain": [
       "              00     01     02     03     04     05     06      07      08  \\\n",
       "Severity                                                                     \n",
       "non-fatal  30067  22821  23797  17562  10176  12828  38697   83649  132541   \n",
       "injury     54882  46853  48548  41652  27688  32170  68782  124642  170066   \n",
       "fatal       1418   1481   1549   1338    912    972   1343    1541    1490   \n",
       "\n",
       "               09  ...        15      16      17      18      19      20  \\\n",
       "Severity           ...                                                     \n",
       "non-fatal   96822  ...    227366  236727  229646  171702  123209   91198   \n",
       "injury     131448  ...    261057  278042  266734  203074  154984  122738   \n",
       "fatal        1585  ...      2567    2649    2594    2485    2177    2095   \n",
       "\n",
       "               21     22     23     UU  \n",
       "Severity                                \n",
       "non-fatal   82844  64106  46651  19249  \n",
       "injury     117036  96588  76868  30334  \n",
       "fatal        1972   1899   1678    627  \n",
       "\n",
       "[3 rows x 25 columns]"
      ]
     },
     "execution_count": 131,
     "metadata": {},
     "output_type": "execute_result"
    },
    {
     "data": {
      "image/png": "[encoded data removed]",
      "text/plain": [
       "<Figure size 1440x720 with 1 Axes>"
      ]
     },
     "metadata": {
      "needs_background": "light"
     },
     "output_type": "display_data"
    }
   ],
   "source": [
    "# Accident Hour\n",
    "plotSimpleHist(df['C_HOUR'], 'Accident Hour', hight=10, width=20)\n",
    "by_severity_count(df, 'C_HOUR', 'P_ISEV')"
   ]
  },
  {
   "cell_type": "code",
   "execution_count": 132,
   "metadata": {},
   "outputs": [
    {
     "data": {
      "text/html": [
       "<div>\n",
       "<style scoped>\n",
       "    .dataframe tbody tr th:only-of-type {\n",
       "        vertical-align: middle;\n",
       "    }\n",
       "\n",
       "    .dataframe tbody tr th {\n",
       "        vertical-align: top;\n",
       "    }\n",
       "\n",
       "    .dataframe thead th {\n",
       "        text-align: right;\n",
       "    }\n",
       "</style>\n",
       "<table border=\"1\" class=\"dataframe\">\n",
       "  <thead>\n",
       "    <tr style=\"text-align: right;\">\n",
       "      <th></th>\n",
       "      <th>01</th>\n",
       "      <th>02</th>\n",
       "      <th>03</th>\n",
       "      <th>04</th>\n",
       "      <th>05</th>\n",
       "      <th>06</th>\n",
       "      <th>07</th>\n",
       "      <th>08</th>\n",
       "      <th>09</th>\n",
       "      <th>10</th>\n",
       "      <th>...</th>\n",
       "      <th>47</th>\n",
       "      <th>51</th>\n",
       "      <th>54</th>\n",
       "      <th>56</th>\n",
       "      <th>57</th>\n",
       "      <th>58</th>\n",
       "      <th>71</th>\n",
       "      <th>72</th>\n",
       "      <th>77</th>\n",
       "      <th>UU</th>\n",
       "    </tr>\n",
       "    <tr>\n",
       "      <th>Severity</th>\n",
       "      <th></th>\n",
       "      <th></th>\n",
       "      <th></th>\n",
       "      <th></th>\n",
       "      <th></th>\n",
       "      <th></th>\n",
       "      <th></th>\n",
       "      <th></th>\n",
       "      <th></th>\n",
       "      <th></th>\n",
       "      <th></th>\n",
       "      <th></th>\n",
       "      <th></th>\n",
       "      <th></th>\n",
       "      <th></th>\n",
       "      <th></th>\n",
       "      <th></th>\n",
       "      <th></th>\n",
       "      <th></th>\n",
       "      <th></th>\n",
       "      <th></th>\n",
       "    </tr>\n",
       "  </thead>\n",
       "  <tbody>\n",
       "    <tr>\n",
       "      <th>non-fatal</th>\n",
       "      <td>313747.0</td>\n",
       "      <td>1641440.0</td>\n",
       "      <td>405651.0</td>\n",
       "      <td>106983.0</td>\n",
       "      <td>26335.0</td>\n",
       "      <td>8486.0</td>\n",
       "      <td>3209.0</td>\n",
       "      <td>1583.0</td>\n",
       "      <td>1069.0</td>\n",
       "      <td>734.0</td>\n",
       "      <td>...</td>\n",
       "      <td>0.0</td>\n",
       "      <td>40.0</td>\n",
       "      <td>64.0</td>\n",
       "      <td>40.0</td>\n",
       "      <td>50.0</td>\n",
       "      <td>10.0</td>\n",
       "      <td>31.0</td>\n",
       "      <td>108.0</td>\n",
       "      <td>111.0</td>\n",
       "      <td>55.0</td>\n",
       "    </tr>\n",
       "    <tr>\n",
       "      <th>injury</th>\n",
       "      <td>882242.0</td>\n",
       "      <td>1961274.0</td>\n",
       "      <td>330311.0</td>\n",
       "      <td>72834.0</td>\n",
       "      <td>16228.0</td>\n",
       "      <td>5062.0</td>\n",
       "      <td>1773.0</td>\n",
       "      <td>827.0</td>\n",
       "      <td>466.0</td>\n",
       "      <td>329.0</td>\n",
       "      <td>...</td>\n",
       "      <td>17.0</td>\n",
       "      <td>35.0</td>\n",
       "      <td>19.0</td>\n",
       "      <td>17.0</td>\n",
       "      <td>8.0</td>\n",
       "      <td>7.0</td>\n",
       "      <td>54.0</td>\n",
       "      <td>14.0</td>\n",
       "      <td>89.0</td>\n",
       "      <td>4.0</td>\n",
       "    </tr>\n",
       "    <tr>\n",
       "      <th>fatal</th>\n",
       "      <td>20956.0</td>\n",
       "      <td>19201.0</td>\n",
       "      <td>2895.0</td>\n",
       "      <td>706.0</td>\n",
       "      <td>200.0</td>\n",
       "      <td>83.0</td>\n",
       "      <td>42.0</td>\n",
       "      <td>14.0</td>\n",
       "      <td>5.0</td>\n",
       "      <td>4.0</td>\n",
       "      <td>...</td>\n",
       "      <td>0.0</td>\n",
       "      <td>0.0</td>\n",
       "      <td>1.0</td>\n",
       "      <td>1.0</td>\n",
       "      <td>0.0</td>\n",
       "      <td>0.0</td>\n",
       "      <td>7.0</td>\n",
       "      <td>0.0</td>\n",
       "      <td>1.0</td>\n",
       "      <td>6.0</td>\n",
       "    </tr>\n",
       "  </tbody>\n",
       "</table>\n",
       "<p>3 rows × 54 columns</p>\n",
       "</div>"
      ],
      "text/plain": [
       "                 01         02        03        04       05      06      07  \\\n",
       "Severity                                                                      \n",
       "non-fatal  313747.0  1641440.0  405651.0  106983.0  26335.0  8486.0  3209.0   \n",
       "injury     882242.0  1961274.0  330311.0   72834.0  16228.0  5062.0  1773.0   \n",
       "fatal       20956.0    19201.0    2895.0     706.0    200.0    83.0    42.0   \n",
       "\n",
       "               08      09     10  ...     47    51    54    56    57    58  \\\n",
       "Severity                          ...                                        \n",
       "non-fatal  1583.0  1069.0  734.0  ...    0.0  40.0  64.0  40.0  50.0  10.0   \n",
       "injury      827.0   466.0  329.0  ...   17.0  35.0  19.0  17.0   8.0   7.0   \n",
       "fatal        14.0     5.0    4.0  ...    0.0   0.0   1.0   1.0   0.0   0.0   \n",
       "\n",
       "             71     72     77    UU  \n",
       "Severity                             \n",
       "non-fatal  31.0  108.0  111.0  55.0  \n",
       "injury     54.0   14.0   89.0   4.0  \n",
       "fatal       7.0    0.0    1.0   6.0  \n",
       "\n",
       "[3 rows x 54 columns]"
      ]
     },
     "execution_count": 132,
     "metadata": {},
     "output_type": "execute_result"
    },
    {
     "data": {
      "image/png": "[encoded data removed]",
      "text/plain": [
       "<Figure size 1440x720 with 1 Axes>"
      ]
     },
     "metadata": {
      "needs_background": "light"
     },
     "output_type": "display_data"
    }
   ],
   "source": [
    "# Number of vehicles involved in collision\n",
    "plotSimpleHist(df['C_VEHS'], 'Number of vehicles involved in collision', hight=10, width=20)\n",
    "by_severity_count(df, 'C_VEHS', 'P_ISEV')"
   ]
  },
  {
   "cell_type": "code",
   "execution_count": 133,
   "metadata": {},
   "outputs": [
    {
     "data": {
      "text/html": [
       "<div>\n",
       "<style scoped>\n",
       "    .dataframe tbody tr th:only-of-type {\n",
       "        vertical-align: middle;\n",
       "    }\n",
       "\n",
       "    .dataframe tbody tr th {\n",
       "        vertical-align: top;\n",
       "    }\n",
       "\n",
       "    .dataframe thead th {\n",
       "        text-align: right;\n",
       "    }\n",
       "</style>\n",
       "<table border=\"1\" class=\"dataframe\">\n",
       "  <thead>\n",
       "    <tr style=\"text-align: right;\">\n",
       "      <th></th>\n",
       "      <th>01</th>\n",
       "      <th>02</th>\n",
       "      <th>03</th>\n",
       "      <th>04</th>\n",
       "      <th>05</th>\n",
       "      <th>06</th>\n",
       "      <th>21</th>\n",
       "      <th>22</th>\n",
       "      <th>23</th>\n",
       "      <th>24</th>\n",
       "      <th>25</th>\n",
       "      <th>31</th>\n",
       "      <th>32</th>\n",
       "      <th>33</th>\n",
       "      <th>34</th>\n",
       "      <th>35</th>\n",
       "      <th>36</th>\n",
       "      <th>41</th>\n",
       "      <th>QQ</th>\n",
       "      <th>UU</th>\n",
       "    </tr>\n",
       "    <tr>\n",
       "      <th>Severity</th>\n",
       "      <th></th>\n",
       "      <th></th>\n",
       "      <th></th>\n",
       "      <th></th>\n",
       "      <th></th>\n",
       "      <th></th>\n",
       "      <th></th>\n",
       "      <th></th>\n",
       "      <th></th>\n",
       "      <th></th>\n",
       "      <th></th>\n",
       "      <th></th>\n",
       "      <th></th>\n",
       "      <th></th>\n",
       "      <th></th>\n",
       "      <th></th>\n",
       "      <th></th>\n",
       "      <th></th>\n",
       "      <th></th>\n",
       "      <th></th>\n",
       "    </tr>\n",
       "  </thead>\n",
       "  <tbody>\n",
       "    <tr>\n",
       "      <th>non-fatal</th>\n",
       "      <td>26903</td>\n",
       "      <td>38072</td>\n",
       "      <td>24582</td>\n",
       "      <td>29853</td>\n",
       "      <td>1291</td>\n",
       "      <td>189226</td>\n",
       "      <td>928224</td>\n",
       "      <td>110080</td>\n",
       "      <td>24370</td>\n",
       "      <td>20134</td>\n",
       "      <td>5450</td>\n",
       "      <td>64475</td>\n",
       "      <td>21406</td>\n",
       "      <td>185034</td>\n",
       "      <td>27468</td>\n",
       "      <td>387021</td>\n",
       "      <td>241715</td>\n",
       "      <td>24552</td>\n",
       "      <td>104630</td>\n",
       "      <td>58795</td>\n",
       "    </tr>\n",
       "    <tr>\n",
       "      <th>injury</th>\n",
       "      <td>50006</td>\n",
       "      <td>116867</td>\n",
       "      <td>142433</td>\n",
       "      <td>188739</td>\n",
       "      <td>12071</td>\n",
       "      <td>346905</td>\n",
       "      <td>853604</td>\n",
       "      <td>96016</td>\n",
       "      <td>35657</td>\n",
       "      <td>26075</td>\n",
       "      <td>6662</td>\n",
       "      <td>125485</td>\n",
       "      <td>25685</td>\n",
       "      <td>235672</td>\n",
       "      <td>32600</td>\n",
       "      <td>480716</td>\n",
       "      <td>241094</td>\n",
       "      <td>34686</td>\n",
       "      <td>138736</td>\n",
       "      <td>83645</td>\n",
       "    </tr>\n",
       "    <tr>\n",
       "      <th>fatal</th>\n",
       "      <td>1388</td>\n",
       "      <td>2718</td>\n",
       "      <td>3939</td>\n",
       "      <td>4692</td>\n",
       "      <td>204</td>\n",
       "      <td>7049</td>\n",
       "      <td>2029</td>\n",
       "      <td>863</td>\n",
       "      <td>346</td>\n",
       "      <td>165</td>\n",
       "      <td>44</td>\n",
       "      <td>8979</td>\n",
       "      <td>664</td>\n",
       "      <td>1590</td>\n",
       "      <td>268</td>\n",
       "      <td>4524</td>\n",
       "      <td>1017</td>\n",
       "      <td>450</td>\n",
       "      <td>2269</td>\n",
       "      <td>969</td>\n",
       "    </tr>\n",
       "  </tbody>\n",
       "</table>\n",
       "</div>"
      ],
      "text/plain": [
       "              01      02      03      04     05      06      21      22  \\\n",
       "Severity                                                                  \n",
       "non-fatal  26903   38072   24582   29853   1291  189226  928224  110080   \n",
       "injury     50006  116867  142433  188739  12071  346905  853604   96016   \n",
       "fatal       1388    2718    3939    4692    204    7049    2029     863   \n",
       "\n",
       "              23     24    25      31     32      33     34      35      36  \\\n",
       "Severity                                                                      \n",
       "non-fatal  24370  20134  5450   64475  21406  185034  27468  387021  241715   \n",
       "injury     35657  26075  6662  125485  25685  235672  32600  480716  241094   \n",
       "fatal        346    165    44    8979    664    1590    268    4524    1017   \n",
       "\n",
       "              41      QQ     UU  \n",
       "Severity                         \n",
       "non-fatal  24552  104630  58795  \n",
       "injury     34686  138736  83645  \n",
       "fatal        450    2269    969  "
      ]
     },
     "execution_count": 133,
     "metadata": {},
     "output_type": "execute_result"
    },
    {
     "data": {
      "image/png": "[encoded data removed]",
      "text/plain": [
       "<Figure size 1440x720 with 1 Axes>"
      ]
     },
     "metadata": {
      "needs_background": "light"
     },
     "output_type": "display_data"
    }
   ],
   "source": [
    "# Collision configuration\n",
    "plotSimpleHist(df['C_CONF'], 'Collision configuration', hight=10, width=20)\n",
    "by_severity_count(df, 'C_CONF', 'P_ISEV')"
   ]
  },
  {
   "cell_type": "code",
   "execution_count": 134,
   "metadata": {},
   "outputs": [
    {
     "data": {
      "text/html": [
       "<div>\n",
       "<style scoped>\n",
       "    .dataframe tbody tr th:only-of-type {\n",
       "        vertical-align: middle;\n",
       "    }\n",
       "\n",
       "    .dataframe tbody tr th {\n",
       "        vertical-align: top;\n",
       "    }\n",
       "\n",
       "    .dataframe thead th {\n",
       "        text-align: right;\n",
       "    }\n",
       "</style>\n",
       "<table border=\"1\" class=\"dataframe\">\n",
       "  <thead>\n",
       "    <tr style=\"text-align: right;\">\n",
       "      <th></th>\n",
       "      <th>01</th>\n",
       "      <th>02</th>\n",
       "      <th>03</th>\n",
       "      <th>04</th>\n",
       "      <th>05</th>\n",
       "      <th>06</th>\n",
       "      <th>07</th>\n",
       "      <th>08</th>\n",
       "      <th>09</th>\n",
       "      <th>10</th>\n",
       "      <th>QQ</th>\n",
       "      <th>UU</th>\n",
       "    </tr>\n",
       "    <tr>\n",
       "      <th>Severity</th>\n",
       "      <th></th>\n",
       "      <th></th>\n",
       "      <th></th>\n",
       "      <th></th>\n",
       "      <th></th>\n",
       "      <th></th>\n",
       "      <th></th>\n",
       "      <th></th>\n",
       "      <th></th>\n",
       "      <th></th>\n",
       "      <th></th>\n",
       "      <th></th>\n",
       "    </tr>\n",
       "  </thead>\n",
       "  <tbody>\n",
       "    <tr>\n",
       "      <th>non-fatal</th>\n",
       "      <td>829327</td>\n",
       "      <td>1282588</td>\n",
       "      <td>149258</td>\n",
       "      <td>4305</td>\n",
       "      <td>20784</td>\n",
       "      <td>2093</td>\n",
       "      <td>211</td>\n",
       "      <td>5250</td>\n",
       "      <td>774</td>\n",
       "      <td>139</td>\n",
       "      <td>38534</td>\n",
       "      <td>180018</td>\n",
       "    </tr>\n",
       "    <tr>\n",
       "      <th>injury</th>\n",
       "      <td>1289404</td>\n",
       "      <td>1487974</td>\n",
       "      <td>149464</td>\n",
       "      <td>13950</td>\n",
       "      <td>29072</td>\n",
       "      <td>3665</td>\n",
       "      <td>596</td>\n",
       "      <td>7044</td>\n",
       "      <td>1130</td>\n",
       "      <td>249</td>\n",
       "      <td>72037</td>\n",
       "      <td>218769</td>\n",
       "    </tr>\n",
       "    <tr>\n",
       "      <th>fatal</th>\n",
       "      <td>26399</td>\n",
       "      <td>10873</td>\n",
       "      <td>1178</td>\n",
       "      <td>453</td>\n",
       "      <td>570</td>\n",
       "      <td>76</td>\n",
       "      <td>38</td>\n",
       "      <td>46</td>\n",
       "      <td>6</td>\n",
       "      <td>6</td>\n",
       "      <td>1580</td>\n",
       "      <td>2942</td>\n",
       "    </tr>\n",
       "  </tbody>\n",
       "</table>\n",
       "</div>"
      ],
      "text/plain": [
       "                01       02      03     04     05    06   07    08    09   10  \\\n",
       "Severity                                                                        \n",
       "non-fatal   829327  1282588  149258   4305  20784  2093  211  5250   774  139   \n",
       "injury     1289404  1487974  149464  13950  29072  3665  596  7044  1130  249   \n",
       "fatal        26399    10873    1178    453    570    76   38    46     6    6   \n",
       "\n",
       "              QQ      UU  \n",
       "Severity                  \n",
       "non-fatal  38534  180018  \n",
       "injury     72037  218769  \n",
       "fatal       1580    2942  "
      ]
     },
     "execution_count": 134,
     "metadata": {},
     "output_type": "execute_result"
    },
    {
     "data": {
      "image/png": "[encoded data removed]",
      "text/plain": [
       "<Figure size 1440x720 with 1 Axes>"
      ]
     },
     "metadata": {
      "needs_background": "light"
     },
     "output_type": "display_data"
    }
   ],
   "source": [
    "# Roadway configuration\n",
    "plotSimpleHist(df['C_RCFG'], 'Roadway configuration', hight=10, width=20)\n",
    "by_severity_count(df, 'C_RCFG', 'P_ISEV')"
   ]
  },
  {
   "cell_type": "code",
   "execution_count": 135,
   "metadata": {},
   "outputs": [
    {
     "data": {
      "text/html": [
       "<div>\n",
       "<style scoped>\n",
       "    .dataframe tbody tr th:only-of-type {\n",
       "        vertical-align: middle;\n",
       "    }\n",
       "\n",
       "    .dataframe tbody tr th {\n",
       "        vertical-align: top;\n",
       "    }\n",
       "\n",
       "    .dataframe thead th {\n",
       "        text-align: right;\n",
       "    }\n",
       "</style>\n",
       "<table border=\"1\" class=\"dataframe\">\n",
       "  <thead>\n",
       "    <tr style=\"text-align: right;\">\n",
       "      <th></th>\n",
       "      <th>1</th>\n",
       "      <th>2</th>\n",
       "      <th>3</th>\n",
       "      <th>4</th>\n",
       "      <th>5</th>\n",
       "      <th>6</th>\n",
       "      <th>7</th>\n",
       "      <th>Q</th>\n",
       "      <th>U</th>\n",
       "    </tr>\n",
       "    <tr>\n",
       "      <th>Severity</th>\n",
       "      <th></th>\n",
       "      <th></th>\n",
       "      <th></th>\n",
       "      <th></th>\n",
       "      <th></th>\n",
       "      <th></th>\n",
       "      <th></th>\n",
       "      <th></th>\n",
       "      <th></th>\n",
       "    </tr>\n",
       "  </thead>\n",
       "  <tbody>\n",
       "    <tr>\n",
       "      <th>non-fatal</th>\n",
       "      <td>1836030</td>\n",
       "      <td>207631</td>\n",
       "      <td>269328</td>\n",
       "      <td>140780</td>\n",
       "      <td>10557</td>\n",
       "      <td>28390</td>\n",
       "      <td>5256</td>\n",
       "      <td>5877</td>\n",
       "      <td>9432</td>\n",
       "    </tr>\n",
       "    <tr>\n",
       "      <th>injury</th>\n",
       "      <td>2272399</td>\n",
       "      <td>348821</td>\n",
       "      <td>330238</td>\n",
       "      <td>213118</td>\n",
       "      <td>19697</td>\n",
       "      <td>52681</td>\n",
       "      <td>10171</td>\n",
       "      <td>6605</td>\n",
       "      <td>19624</td>\n",
       "    </tr>\n",
       "    <tr>\n",
       "      <th>fatal</th>\n",
       "      <td>29669</td>\n",
       "      <td>5803</td>\n",
       "      <td>3666</td>\n",
       "      <td>2666</td>\n",
       "      <td>300</td>\n",
       "      <td>1240</td>\n",
       "      <td>249</td>\n",
       "      <td>127</td>\n",
       "      <td>447</td>\n",
       "    </tr>\n",
       "  </tbody>\n",
       "</table>\n",
       "</div>"
      ],
      "text/plain": [
       "                 1       2       3       4      5      6      7     Q      U\n",
       "Severity                                                                    \n",
       "non-fatal  1836030  207631  269328  140780  10557  28390   5256  5877   9432\n",
       "injury     2272399  348821  330238  213118  19697  52681  10171  6605  19624\n",
       "fatal        29669    5803    3666    2666    300   1240    249   127    447"
      ]
     },
     "execution_count": 135,
     "metadata": {},
     "output_type": "execute_result"
    },
    {
     "data": {
      "image/png": "[encoded data removed]",
      "text/plain": [
       "<Figure size 1440x720 with 1 Axes>"
      ]
     },
     "metadata": {
      "needs_background": "light"
     },
     "output_type": "display_data"
    }
   ],
   "source": [
    "# Weather condition\n",
    "plotSimpleHist(df['C_WTHR'], 'Weather condition', hight=10, width=20)\n",
    "by_severity_count(df, 'C_WTHR', 'P_ISEV')"
   ]
  },
  {
   "cell_type": "code",
   "execution_count": 136,
   "metadata": {},
   "outputs": [
    {
     "data": {
      "text/html": [
       "<div>\n",
       "<style scoped>\n",
       "    .dataframe tbody tr th:only-of-type {\n",
       "        vertical-align: middle;\n",
       "    }\n",
       "\n",
       "    .dataframe tbody tr th {\n",
       "        vertical-align: top;\n",
       "    }\n",
       "\n",
       "    .dataframe thead th {\n",
       "        text-align: right;\n",
       "    }\n",
       "</style>\n",
       "<table border=\"1\" class=\"dataframe\">\n",
       "  <thead>\n",
       "    <tr style=\"text-align: right;\">\n",
       "      <th></th>\n",
       "      <th>1</th>\n",
       "      <th>2</th>\n",
       "      <th>3</th>\n",
       "      <th>4</th>\n",
       "      <th>5</th>\n",
       "      <th>6</th>\n",
       "      <th>7</th>\n",
       "      <th>8</th>\n",
       "      <th>9</th>\n",
       "      <th>Q</th>\n",
       "      <th>U</th>\n",
       "    </tr>\n",
       "    <tr>\n",
       "      <th>Severity</th>\n",
       "      <th></th>\n",
       "      <th></th>\n",
       "      <th></th>\n",
       "      <th></th>\n",
       "      <th></th>\n",
       "      <th></th>\n",
       "      <th></th>\n",
       "      <th></th>\n",
       "      <th></th>\n",
       "      <th></th>\n",
       "      <th></th>\n",
       "    </tr>\n",
       "  </thead>\n",
       "  <tbody>\n",
       "    <tr>\n",
       "      <th>non-fatal</th>\n",
       "      <td>1719454</td>\n",
       "      <td>479590</td>\n",
       "      <td>89934</td>\n",
       "      <td>28585</td>\n",
       "      <td>107362</td>\n",
       "      <td>4880</td>\n",
       "      <td>1462</td>\n",
       "      <td>315</td>\n",
       "      <td>79</td>\n",
       "      <td>72312</td>\n",
       "      <td>9308</td>\n",
       "    </tr>\n",
       "    <tr>\n",
       "      <th>injury</th>\n",
       "      <td>2143543</td>\n",
       "      <td>594951</td>\n",
       "      <td>157168</td>\n",
       "      <td>46954</td>\n",
       "      <td>204990</td>\n",
       "      <td>19547</td>\n",
       "      <td>3960</td>\n",
       "      <td>901</td>\n",
       "      <td>217</td>\n",
       "      <td>86971</td>\n",
       "      <td>14152</td>\n",
       "    </tr>\n",
       "    <tr>\n",
       "      <th>fatal</th>\n",
       "      <td>29799</td>\n",
       "      <td>6851</td>\n",
       "      <td>1876</td>\n",
       "      <td>623</td>\n",
       "      <td>2485</td>\n",
       "      <td>543</td>\n",
       "      <td>125</td>\n",
       "      <td>2</td>\n",
       "      <td>8</td>\n",
       "      <td>1446</td>\n",
       "      <td>409</td>\n",
       "    </tr>\n",
       "  </tbody>\n",
       "</table>\n",
       "</div>"
      ],
      "text/plain": [
       "                 1       2       3      4       5      6     7    8    9  \\\n",
       "Severity                                                                   \n",
       "non-fatal  1719454  479590   89934  28585  107362   4880  1462  315   79   \n",
       "injury     2143543  594951  157168  46954  204990  19547  3960  901  217   \n",
       "fatal        29799    6851    1876    623    2485    543   125    2    8   \n",
       "\n",
       "               Q      U  \n",
       "Severity                 \n",
       "non-fatal  72312   9308  \n",
       "injury     86971  14152  \n",
       "fatal       1446    409  "
      ]
     },
     "execution_count": 136,
     "metadata": {},
     "output_type": "execute_result"
    },
    {
     "data": {
      "image/png": "[encoded data removed]",
      "text/plain": [
       "<Figure size 1440x720 with 1 Axes>"
      ]
     },
     "metadata": {
      "needs_background": "light"
     },
     "output_type": "display_data"
    }
   ],
   "source": [
    "# Road surface\n",
    "plotSimpleHist(df['C_RSUR'], 'Road surface', hight=10, width=20)\n",
    "by_severity_count(df, 'C_RSUR', 'P_ISEV')"
   ]
  },
  {
   "cell_type": "code",
   "execution_count": 137,
   "metadata": {},
   "outputs": [
    {
     "data": {
      "text/html": [
       "<div>\n",
       "<style scoped>\n",
       "    .dataframe tbody tr th:only-of-type {\n",
       "        vertical-align: middle;\n",
       "    }\n",
       "\n",
       "    .dataframe tbody tr th {\n",
       "        vertical-align: top;\n",
       "    }\n",
       "\n",
       "    .dataframe thead th {\n",
       "        text-align: right;\n",
       "    }\n",
       "</style>\n",
       "<table border=\"1\" class=\"dataframe\">\n",
       "  <thead>\n",
       "    <tr style=\"text-align: right;\">\n",
       "      <th></th>\n",
       "      <th>1</th>\n",
       "      <th>2</th>\n",
       "      <th>3</th>\n",
       "      <th>4</th>\n",
       "      <th>5</th>\n",
       "      <th>6</th>\n",
       "      <th>Q</th>\n",
       "      <th>U</th>\n",
       "    </tr>\n",
       "    <tr>\n",
       "      <th>Severity</th>\n",
       "      <th></th>\n",
       "      <th></th>\n",
       "      <th></th>\n",
       "      <th></th>\n",
       "      <th></th>\n",
       "      <th></th>\n",
       "      <th></th>\n",
       "      <th></th>\n",
       "    </tr>\n",
       "  </thead>\n",
       "  <tbody>\n",
       "    <tr>\n",
       "      <th>non-fatal</th>\n",
       "      <td>1875695</td>\n",
       "      <td>253580</td>\n",
       "      <td>108617</td>\n",
       "      <td>69776</td>\n",
       "      <td>13646</td>\n",
       "      <td>9023</td>\n",
       "      <td>3593</td>\n",
       "      <td>179351</td>\n",
       "    </tr>\n",
       "    <tr>\n",
       "      <th>injury</th>\n",
       "      <td>2312248</td>\n",
       "      <td>326791</td>\n",
       "      <td>253508</td>\n",
       "      <td>153605</td>\n",
       "      <td>25308</td>\n",
       "      <td>19024</td>\n",
       "      <td>9622</td>\n",
       "      <td>173248</td>\n",
       "    </tr>\n",
       "    <tr>\n",
       "      <th>fatal</th>\n",
       "      <td>25061</td>\n",
       "      <td>5282</td>\n",
       "      <td>6802</td>\n",
       "      <td>4359</td>\n",
       "      <td>560</td>\n",
       "      <td>453</td>\n",
       "      <td>161</td>\n",
       "      <td>1489</td>\n",
       "    </tr>\n",
       "  </tbody>\n",
       "</table>\n",
       "</div>"
      ],
      "text/plain": [
       "                 1       2       3       4      5      6     Q       U\n",
       "Severity                                                              \n",
       "non-fatal  1875695  253580  108617   69776  13646   9023  3593  179351\n",
       "injury     2312248  326791  253508  153605  25308  19024  9622  173248\n",
       "fatal        25061    5282    6802    4359    560    453   161    1489"
      ]
     },
     "execution_count": 137,
     "metadata": {},
     "output_type": "execute_result"
    },
    {
     "data": {
      "image/png": "[encoded data removed]",
      "text/plain": [
       "<Figure size 1440x720 with 1 Axes>"
      ]
     },
     "metadata": {
      "needs_background": "light"
     },
     "output_type": "display_data"
    }
   ],
   "source": [
    "# Road alignment\n",
    "plotSimpleHist(df['C_RALN'], 'Road alignment', hight=10, width=20)\n",
    "by_severity_count(df, 'C_RALN', 'P_ISEV')"
   ]
  },
  {
   "cell_type": "code",
   "execution_count": 138,
   "metadata": {},
   "outputs": [
    {
     "data": {
      "text/html": [
       "<div>\n",
       "<style scoped>\n",
       "    .dataframe tbody tr th:only-of-type {\n",
       "        vertical-align: middle;\n",
       "    }\n",
       "\n",
       "    .dataframe tbody tr th {\n",
       "        vertical-align: top;\n",
       "    }\n",
       "\n",
       "    .dataframe thead th {\n",
       "        text-align: right;\n",
       "    }\n",
       "</style>\n",
       "<table border=\"1\" class=\"dataframe\">\n",
       "  <thead>\n",
       "    <tr style=\"text-align: right;\">\n",
       "      <th></th>\n",
       "      <th>01</th>\n",
       "      <th>02</th>\n",
       "      <th>03</th>\n",
       "      <th>04</th>\n",
       "      <th>05</th>\n",
       "      <th>06</th>\n",
       "      <th>07</th>\n",
       "      <th>08</th>\n",
       "      <th>09</th>\n",
       "      <th>10</th>\n",
       "      <th>11</th>\n",
       "      <th>12</th>\n",
       "      <th>13</th>\n",
       "      <th>15</th>\n",
       "      <th>16</th>\n",
       "      <th>17</th>\n",
       "      <th>18</th>\n",
       "      <th>QQ</th>\n",
       "      <th>UU</th>\n",
       "    </tr>\n",
       "    <tr>\n",
       "      <th>Severity</th>\n",
       "      <th></th>\n",
       "      <th></th>\n",
       "      <th></th>\n",
       "      <th></th>\n",
       "      <th></th>\n",
       "      <th></th>\n",
       "      <th></th>\n",
       "      <th></th>\n",
       "      <th></th>\n",
       "      <th></th>\n",
       "      <th></th>\n",
       "      <th></th>\n",
       "      <th></th>\n",
       "      <th></th>\n",
       "      <th></th>\n",
       "      <th></th>\n",
       "      <th></th>\n",
       "      <th></th>\n",
       "      <th></th>\n",
       "    </tr>\n",
       "  </thead>\n",
       "  <tbody>\n",
       "    <tr>\n",
       "      <th>non-fatal</th>\n",
       "      <td>816692</td>\n",
       "      <td>7877</td>\n",
       "      <td>302141</td>\n",
       "      <td>42668</td>\n",
       "      <td>856</td>\n",
       "      <td>22141</td>\n",
       "      <td>1157</td>\n",
       "      <td>12662</td>\n",
       "      <td>198</td>\n",
       "      <td>652</td>\n",
       "      <td>493</td>\n",
       "      <td>1056</td>\n",
       "      <td>2205</td>\n",
       "      <td>1169</td>\n",
       "      <td>213</td>\n",
       "      <td>1180</td>\n",
       "      <td>1211997</td>\n",
       "      <td>28121</td>\n",
       "      <td>59803</td>\n",
       "    </tr>\n",
       "    <tr>\n",
       "      <th>injury</th>\n",
       "      <td>855705</td>\n",
       "      <td>10803</td>\n",
       "      <td>362399</td>\n",
       "      <td>47190</td>\n",
       "      <td>2854</td>\n",
       "      <td>19930</td>\n",
       "      <td>1145</td>\n",
       "      <td>12271</td>\n",
       "      <td>300</td>\n",
       "      <td>1794</td>\n",
       "      <td>2253</td>\n",
       "      <td>1748</td>\n",
       "      <td>2067</td>\n",
       "      <td>2262</td>\n",
       "      <td>625</td>\n",
       "      <td>1651</td>\n",
       "      <td>1810042</td>\n",
       "      <td>35878</td>\n",
       "      <td>102437</td>\n",
       "    </tr>\n",
       "    <tr>\n",
       "      <th>fatal</th>\n",
       "      <td>3317</td>\n",
       "      <td>154</td>\n",
       "      <td>3512</td>\n",
       "      <td>223</td>\n",
       "      <td>82</td>\n",
       "      <td>169</td>\n",
       "      <td>10</td>\n",
       "      <td>69</td>\n",
       "      <td>1</td>\n",
       "      <td>66</td>\n",
       "      <td>73</td>\n",
       "      <td>59</td>\n",
       "      <td>11</td>\n",
       "      <td>107</td>\n",
       "      <td>51</td>\n",
       "      <td>35</td>\n",
       "      <td>33913</td>\n",
       "      <td>677</td>\n",
       "      <td>1638</td>\n",
       "    </tr>\n",
       "  </tbody>\n",
       "</table>\n",
       "</div>"
      ],
      "text/plain": [
       "               01     02      03     04    05     06    07     08   09    10  \\\n",
       "Severity                                                                       \n",
       "non-fatal  816692   7877  302141  42668   856  22141  1157  12662  198   652   \n",
       "injury     855705  10803  362399  47190  2854  19930  1145  12271  300  1794   \n",
       "fatal        3317    154    3512    223    82    169    10     69    1    66   \n",
       "\n",
       "             11    12    13    15   16    17       18     QQ      UU  \n",
       "Severity                                                              \n",
       "non-fatal   493  1056  2205  1169  213  1180  1211997  28121   59803  \n",
       "injury     2253  1748  2067  2262  625  1651  1810042  35878  102437  \n",
       "fatal        73    59    11   107   51    35    33913    677    1638  "
      ]
     },
     "execution_count": 138,
     "metadata": {},
     "output_type": "execute_result"
    },
    {
     "data": {
      "image/png": "[encoded data removed]",
      "text/plain": [
       "<Figure size 1440x720 with 1 Axes>"
      ]
     },
     "metadata": {
      "needs_background": "light"
     },
     "output_type": "display_data"
    }
   ],
   "source": [
    "# Traffic control\n",
    "plotSimpleHist(df['C_TRAF'], 'Traffic control', hight=10, width=20)\n",
    "by_severity_count(df, 'C_TRAF', 'P_ISEV')"
   ]
  },
  {
   "cell_type": "code",
   "execution_count": 139,
   "metadata": {},
   "outputs": [
    {
     "data": {
      "text/html": [
       "<div>\n",
       "<style scoped>\n",
       "    .dataframe tbody tr th:only-of-type {\n",
       "        vertical-align: middle;\n",
       "    }\n",
       "\n",
       "    .dataframe tbody tr th {\n",
       "        vertical-align: top;\n",
       "    }\n",
       "\n",
       "    .dataframe thead th {\n",
       "        text-align: right;\n",
       "    }\n",
       "</style>\n",
       "<table border=\"1\" class=\"dataframe\">\n",
       "  <thead>\n",
       "    <tr style=\"text-align: right;\">\n",
       "      <th></th>\n",
       "      <th>01</th>\n",
       "      <th>02</th>\n",
       "      <th>03</th>\n",
       "      <th>04</th>\n",
       "      <th>05</th>\n",
       "      <th>06</th>\n",
       "      <th>07</th>\n",
       "      <th>08</th>\n",
       "      <th>09</th>\n",
       "      <th>10</th>\n",
       "      <th>...</th>\n",
       "      <th>71</th>\n",
       "      <th>72</th>\n",
       "      <th>73</th>\n",
       "      <th>74</th>\n",
       "      <th>75</th>\n",
       "      <th>76</th>\n",
       "      <th>77</th>\n",
       "      <th>86</th>\n",
       "      <th>99</th>\n",
       "      <th>UU</th>\n",
       "    </tr>\n",
       "    <tr>\n",
       "      <th>Severity</th>\n",
       "      <th></th>\n",
       "      <th></th>\n",
       "      <th></th>\n",
       "      <th></th>\n",
       "      <th></th>\n",
       "      <th></th>\n",
       "      <th></th>\n",
       "      <th></th>\n",
       "      <th></th>\n",
       "      <th></th>\n",
       "      <th></th>\n",
       "      <th></th>\n",
       "      <th></th>\n",
       "      <th></th>\n",
       "      <th></th>\n",
       "      <th></th>\n",
       "      <th></th>\n",
       "      <th></th>\n",
       "      <th></th>\n",
       "      <th></th>\n",
       "      <th></th>\n",
       "    </tr>\n",
       "  </thead>\n",
       "  <tbody>\n",
       "    <tr>\n",
       "      <th>non-fatal</th>\n",
       "      <td>1408184.0</td>\n",
       "      <td>856020.0</td>\n",
       "      <td>190474.0</td>\n",
       "      <td>39368.0</td>\n",
       "      <td>8649.0</td>\n",
       "      <td>2682.0</td>\n",
       "      <td>1133.0</td>\n",
       "      <td>620.0</td>\n",
       "      <td>447.0</td>\n",
       "      <td>258.0</td>\n",
       "      <td>...</td>\n",
       "      <td>2.0</td>\n",
       "      <td>3.0</td>\n",
       "      <td>1.0</td>\n",
       "      <td>1.0</td>\n",
       "      <td>1.0</td>\n",
       "      <td>1.0</td>\n",
       "      <td>1.0</td>\n",
       "      <td>1.0</td>\n",
       "      <td>3684.0</td>\n",
       "      <td>0.0</td>\n",
       "    </tr>\n",
       "    <tr>\n",
       "      <th>injury</th>\n",
       "      <td>1696714.0</td>\n",
       "      <td>1297746.0</td>\n",
       "      <td>97997.0</td>\n",
       "      <td>15268.0</td>\n",
       "      <td>3028.0</td>\n",
       "      <td>987.0</td>\n",
       "      <td>443.0</td>\n",
       "      <td>258.0</td>\n",
       "      <td>190.0</td>\n",
       "      <td>101.0</td>\n",
       "      <td>...</td>\n",
       "      <td>1.0</td>\n",
       "      <td>5.0</td>\n",
       "      <td>2.0</td>\n",
       "      <td>0.0</td>\n",
       "      <td>0.0</td>\n",
       "      <td>2.0</td>\n",
       "      <td>1.0</td>\n",
       "      <td>1.0</td>\n",
       "      <td>159792.0</td>\n",
       "      <td>0.0</td>\n",
       "    </tr>\n",
       "    <tr>\n",
       "      <th>fatal</th>\n",
       "      <td>28536.0</td>\n",
       "      <td>8890.0</td>\n",
       "      <td>400.0</td>\n",
       "      <td>82.0</td>\n",
       "      <td>36.0</td>\n",
       "      <td>9.0</td>\n",
       "      <td>5.0</td>\n",
       "      <td>3.0</td>\n",
       "      <td>4.0</td>\n",
       "      <td>0.0</td>\n",
       "      <td>...</td>\n",
       "      <td>0.0</td>\n",
       "      <td>1.0</td>\n",
       "      <td>0.0</td>\n",
       "      <td>0.0</td>\n",
       "      <td>0.0</td>\n",
       "      <td>0.0</td>\n",
       "      <td>0.0</td>\n",
       "      <td>0.0</td>\n",
       "      <td>6167.0</td>\n",
       "      <td>7.0</td>\n",
       "    </tr>\n",
       "  </tbody>\n",
       "</table>\n",
       "<p>3 rows × 80 columns</p>\n",
       "</div>"
      ],
      "text/plain": [
       "                  01         02        03       04      05      06      07  \\\n",
       "Severity                                                                     \n",
       "non-fatal  1408184.0   856020.0  190474.0  39368.0  8649.0  2682.0  1133.0   \n",
       "injury     1696714.0  1297746.0   97997.0  15268.0  3028.0   987.0   443.0   \n",
       "fatal        28536.0     8890.0     400.0     82.0    36.0     9.0     5.0   \n",
       "\n",
       "              08     09     10 ...    71   72   73   74   75   76   77   86  \\\n",
       "Severity                       ...                                            \n",
       "non-fatal  620.0  447.0  258.0 ...   2.0  3.0  1.0  1.0  1.0  1.0  1.0  1.0   \n",
       "injury     258.0  190.0  101.0 ...   1.0  5.0  2.0  0.0  0.0  2.0  1.0  1.0   \n",
       "fatal        3.0    4.0    0.0 ...   0.0  1.0  0.0  0.0  0.0  0.0  0.0  0.0   \n",
       "\n",
       "                 99   UU  \n",
       "Severity                  \n",
       "non-fatal    3684.0  0.0  \n",
       "injury     159792.0  0.0  \n",
       "fatal        6167.0  7.0  \n",
       "\n",
       "[3 rows x 80 columns]"
      ]
     },
     "execution_count": 139,
     "metadata": {},
     "output_type": "execute_result"
    },
    {
     "data": {
      "image/png": "[encoded data removed]",
      "text/plain": [
       "<Figure size 1440x720 with 1 Axes>"
      ]
     },
     "metadata": {
      "needs_background": "light"
     },
     "output_type": "display_data"
    }
   ],
   "source": [
    "# Vehicle sequence number\n",
    "# 99 = not a vehile\n",
    "plotSimpleHist(df['V_ID'], 'Vehicle sequence number', hight=10, width=20)\n",
    "by_severity_count(df, 'V_ID', 'P_ISEV')"
   ]
  },
  {
   "cell_type": "code",
   "execution_count": 140,
   "metadata": {},
   "outputs": [
    {
     "data": {
      "text/html": [
       "<div>\n",
       "<style scoped>\n",
       "    .dataframe tbody tr th:only-of-type {\n",
       "        vertical-align: middle;\n",
       "    }\n",
       "\n",
       "    .dataframe tbody tr th {\n",
       "        vertical-align: top;\n",
       "    }\n",
       "\n",
       "    .dataframe thead th {\n",
       "        text-align: right;\n",
       "    }\n",
       "</style>\n",
       "<table border=\"1\" class=\"dataframe\">\n",
       "  <thead>\n",
       "    <tr style=\"text-align: right;\">\n",
       "      <th></th>\n",
       "      <th>01</th>\n",
       "      <th>05</th>\n",
       "      <th>06</th>\n",
       "      <th>07</th>\n",
       "      <th>08</th>\n",
       "      <th>09</th>\n",
       "      <th>10</th>\n",
       "      <th>11</th>\n",
       "      <th>14</th>\n",
       "      <th>16</th>\n",
       "      <th>17</th>\n",
       "      <th>18</th>\n",
       "      <th>19</th>\n",
       "      <th>20</th>\n",
       "      <th>21</th>\n",
       "      <th>22</th>\n",
       "      <th>23</th>\n",
       "      <th>NN</th>\n",
       "      <th>QQ</th>\n",
       "      <th>UU</th>\n",
       "    </tr>\n",
       "    <tr>\n",
       "      <th>Severity</th>\n",
       "      <th></th>\n",
       "      <th></th>\n",
       "      <th></th>\n",
       "      <th></th>\n",
       "      <th></th>\n",
       "      <th></th>\n",
       "      <th></th>\n",
       "      <th></th>\n",
       "      <th></th>\n",
       "      <th></th>\n",
       "      <th></th>\n",
       "      <th></th>\n",
       "      <th></th>\n",
       "      <th></th>\n",
       "      <th></th>\n",
       "      <th></th>\n",
       "      <th></th>\n",
       "      <th></th>\n",
       "      <th></th>\n",
       "      <th></th>\n",
       "    </tr>\n",
       "  </thead>\n",
       "  <tbody>\n",
       "    <tr>\n",
       "      <th>non-fatal</th>\n",
       "      <td>2196454.0</td>\n",
       "      <td>41255.0</td>\n",
       "      <td>88145.0</td>\n",
       "      <td>53002.0</td>\n",
       "      <td>41594.0</td>\n",
       "      <td>15261.0</td>\n",
       "      <td>625.0</td>\n",
       "      <td>30270.0</td>\n",
       "      <td>10891.0</td>\n",
       "      <td>1239.0</td>\n",
       "      <td>7927.0</td>\n",
       "      <td>1882.0</td>\n",
       "      <td>1249.0</td>\n",
       "      <td>3300.0</td>\n",
       "      <td>684.0</td>\n",
       "      <td>484.0</td>\n",
       "      <td>2347.0</td>\n",
       "      <td>4664.0</td>\n",
       "      <td>7759.0</td>\n",
       "      <td>4249.0</td>\n",
       "    </tr>\n",
       "    <tr>\n",
       "      <th>injury</th>\n",
       "      <td>2658575.0</td>\n",
       "      <td>28504.0</td>\n",
       "      <td>85602.0</td>\n",
       "      <td>28806.0</td>\n",
       "      <td>23072.0</td>\n",
       "      <td>6162.0</td>\n",
       "      <td>365.0</td>\n",
       "      <td>19928.0</td>\n",
       "      <td>118315.0</td>\n",
       "      <td>6789.0</td>\n",
       "      <td>114159.0</td>\n",
       "      <td>1253.0</td>\n",
       "      <td>581.0</td>\n",
       "      <td>1790.0</td>\n",
       "      <td>207.0</td>\n",
       "      <td>2835.0</td>\n",
       "      <td>884.0</td>\n",
       "      <td>160586.0</td>\n",
       "      <td>12331.0</td>\n",
       "      <td>2610.0</td>\n",
       "    </tr>\n",
       "    <tr>\n",
       "      <th>fatal</th>\n",
       "      <td>29317.0</td>\n",
       "      <td>316.0</td>\n",
       "      <td>1365.0</td>\n",
       "      <td>518.0</td>\n",
       "      <td>742.0</td>\n",
       "      <td>18.0</td>\n",
       "      <td>1.0</td>\n",
       "      <td>83.0</td>\n",
       "      <td>3487.0</td>\n",
       "      <td>456.0</td>\n",
       "      <td>1003.0</td>\n",
       "      <td>34.0</td>\n",
       "      <td>45.0</td>\n",
       "      <td>111.0</td>\n",
       "      <td>2.0</td>\n",
       "      <td>263.0</td>\n",
       "      <td>0.0</td>\n",
       "      <td>6194.0</td>\n",
       "      <td>164.0</td>\n",
       "      <td>48.0</td>\n",
       "    </tr>\n",
       "  </tbody>\n",
       "</table>\n",
       "</div>"
      ],
      "text/plain": [
       "                  01       05       06       07       08       09     10  \\\n",
       "Severity                                                                   \n",
       "non-fatal  2196454.0  41255.0  88145.0  53002.0  41594.0  15261.0  625.0   \n",
       "injury     2658575.0  28504.0  85602.0  28806.0  23072.0   6162.0  365.0   \n",
       "fatal        29317.0    316.0   1365.0    518.0    742.0     18.0    1.0   \n",
       "\n",
       "                11        14      16        17      18      19      20     21  \\\n",
       "Severity                                                                        \n",
       "non-fatal  30270.0   10891.0  1239.0    7927.0  1882.0  1249.0  3300.0  684.0   \n",
       "injury     19928.0  118315.0  6789.0  114159.0  1253.0   581.0  1790.0  207.0   \n",
       "fatal         83.0    3487.0   456.0    1003.0    34.0    45.0   111.0    2.0   \n",
       "\n",
       "               22      23        NN       QQ      UU  \n",
       "Severity                                              \n",
       "non-fatal   484.0  2347.0    4664.0   7759.0  4249.0  \n",
       "injury     2835.0   884.0  160586.0  12331.0  2610.0  \n",
       "fatal       263.0     0.0    6194.0    164.0    48.0  "
      ]
     },
     "execution_count": 140,
     "metadata": {},
     "output_type": "execute_result"
    },
    {
     "data": {
      "image/png": "[encoded data removed]",
      "text/plain": [
       "<Figure size 1440x720 with 1 Axes>"
      ]
     },
     "metadata": {
      "needs_background": "light"
     },
     "output_type": "display_data"
    }
   ],
   "source": [
    "# Vehicle type\n",
    "plotSimpleHist(df['V_TYPE'], 'Vehicle type', hight=10, width=20)\n",
    "by_severity_count(df, 'V_TYPE', 'P_ISEV')"
   ]
  },
  {
   "cell_type": "code",
   "execution_count": 141,
   "metadata": {},
   "outputs": [
    {
     "data": {
      "text/html": [
       "<div>\n",
       "<style scoped>\n",
       "    .dataframe tbody tr th:only-of-type {\n",
       "        vertical-align: middle;\n",
       "    }\n",
       "\n",
       "    .dataframe tbody tr th {\n",
       "        vertical-align: top;\n",
       "    }\n",
       "\n",
       "    .dataframe thead th {\n",
       "        text-align: right;\n",
       "    }\n",
       "</style>\n",
       "<table border=\"1\" class=\"dataframe\">\n",
       "  <thead>\n",
       "    <tr style=\"text-align: right;\">\n",
       "      <th></th>\n",
       "      <th>1901</th>\n",
       "      <th>1903</th>\n",
       "      <th>1904</th>\n",
       "      <th>1905</th>\n",
       "      <th>1906</th>\n",
       "      <th>1907</th>\n",
       "      <th>1908</th>\n",
       "      <th>1909</th>\n",
       "      <th>1910</th>\n",
       "      <th>1911</th>\n",
       "      <th>...</th>\n",
       "      <th>2009</th>\n",
       "      <th>2010</th>\n",
       "      <th>2011</th>\n",
       "      <th>2012</th>\n",
       "      <th>2013</th>\n",
       "      <th>2014</th>\n",
       "      <th>2015</th>\n",
       "      <th>2016</th>\n",
       "      <th>NNNN</th>\n",
       "      <th>UUUU</th>\n",
       "    </tr>\n",
       "    <tr>\n",
       "      <th>Severity</th>\n",
       "      <th></th>\n",
       "      <th></th>\n",
       "      <th></th>\n",
       "      <th></th>\n",
       "      <th></th>\n",
       "      <th></th>\n",
       "      <th></th>\n",
       "      <th></th>\n",
       "      <th></th>\n",
       "      <th></th>\n",
       "      <th></th>\n",
       "      <th></th>\n",
       "      <th></th>\n",
       "      <th></th>\n",
       "      <th></th>\n",
       "      <th></th>\n",
       "      <th></th>\n",
       "      <th></th>\n",
       "      <th></th>\n",
       "      <th></th>\n",
       "      <th></th>\n",
       "    </tr>\n",
       "  </thead>\n",
       "  <tbody>\n",
       "    <tr>\n",
       "      <th>non-fatal</th>\n",
       "      <td>8.0</td>\n",
       "      <td>3.0</td>\n",
       "      <td>1.0</td>\n",
       "      <td>0.0</td>\n",
       "      <td>1.0</td>\n",
       "      <td>1.0</td>\n",
       "      <td>2.0</td>\n",
       "      <td>1.0</td>\n",
       "      <td>0.0</td>\n",
       "      <td>8.0</td>\n",
       "      <td>...</td>\n",
       "      <td>57832.0</td>\n",
       "      <td>56143.0</td>\n",
       "      <td>43657.0</td>\n",
       "      <td>38646.0</td>\n",
       "      <td>32997.0</td>\n",
       "      <td>24232.0</td>\n",
       "      <td>16833.0</td>\n",
       "      <td>7357.0</td>\n",
       "      <td>3976.0</td>\n",
       "      <td>85679.0</td>\n",
       "    </tr>\n",
       "    <tr>\n",
       "      <th>injury</th>\n",
       "      <td>6.0</td>\n",
       "      <td>5.0</td>\n",
       "      <td>1.0</td>\n",
       "      <td>3.0</td>\n",
       "      <td>0.0</td>\n",
       "      <td>1.0</td>\n",
       "      <td>2.0</td>\n",
       "      <td>0.0</td>\n",
       "      <td>1.0</td>\n",
       "      <td>2.0</td>\n",
       "      <td>...</td>\n",
       "      <td>68394.0</td>\n",
       "      <td>61362.0</td>\n",
       "      <td>44372.0</td>\n",
       "      <td>41043.0</td>\n",
       "      <td>35659.0</td>\n",
       "      <td>26206.0</td>\n",
       "      <td>17202.0</td>\n",
       "      <td>7348.0</td>\n",
       "      <td>199367.0</td>\n",
       "      <td>147896.0</td>\n",
       "    </tr>\n",
       "    <tr>\n",
       "      <th>fatal</th>\n",
       "      <td>0.0</td>\n",
       "      <td>0.0</td>\n",
       "      <td>0.0</td>\n",
       "      <td>0.0</td>\n",
       "      <td>0.0</td>\n",
       "      <td>0.0</td>\n",
       "      <td>0.0</td>\n",
       "      <td>0.0</td>\n",
       "      <td>0.0</td>\n",
       "      <td>0.0</td>\n",
       "      <td>...</td>\n",
       "      <td>588.0</td>\n",
       "      <td>485.0</td>\n",
       "      <td>327.0</td>\n",
       "      <td>331.0</td>\n",
       "      <td>247.0</td>\n",
       "      <td>208.0</td>\n",
       "      <td>135.0</td>\n",
       "      <td>50.0</td>\n",
       "      <td>6510.0</td>\n",
       "      <td>2481.0</td>\n",
       "    </tr>\n",
       "  </tbody>\n",
       "</table>\n",
       "<p>3 rows × 117 columns</p>\n",
       "</div>"
      ],
      "text/plain": [
       "           1901  1903  1904  1905  1906  1907  1908  1909  1910  1911  \\\n",
       "Severity                                                                \n",
       "non-fatal   8.0   3.0   1.0   0.0   1.0   1.0   2.0   1.0   0.0   8.0   \n",
       "injury      6.0   5.0   1.0   3.0   0.0   1.0   2.0   0.0   1.0   2.0   \n",
       "fatal       0.0   0.0   0.0   0.0   0.0   0.0   0.0   0.0   0.0   0.0   \n",
       "\n",
       "             ...        2009     2010     2011     2012     2013     2014  \\\n",
       "Severity     ...                                                            \n",
       "non-fatal    ...     57832.0  56143.0  43657.0  38646.0  32997.0  24232.0   \n",
       "injury       ...     68394.0  61362.0  44372.0  41043.0  35659.0  26206.0   \n",
       "fatal        ...       588.0    485.0    327.0    331.0    247.0    208.0   \n",
       "\n",
       "              2015    2016      NNNN      UUUU  \n",
       "Severity                                        \n",
       "non-fatal  16833.0  7357.0    3976.0   85679.0  \n",
       "injury     17202.0  7348.0  199367.0  147896.0  \n",
       "fatal        135.0    50.0    6510.0    2481.0  \n",
       "\n",
       "[3 rows x 117 columns]"
      ]
     },
     "execution_count": 141,
     "metadata": {},
     "output_type": "execute_result"
    },
    {
     "data": {
      "image/png": "[encoded data removed]",
      "text/plain": [
       "<Figure size 1440x720 with 1 Axes>"
      ]
     },
     "metadata": {
      "needs_background": "light"
     },
     "output_type": "display_data"
    }
   ],
   "source": [
    "# Vehicle model year\n",
    "plotSimpleHist(df['V_YEAR'], 'Vehicle model year', hight=10, width=20)\n",
    "by_severity_count(df, 'V_YEAR', 'P_ISEV')"
   ]
  },
  {
   "cell_type": "code",
   "execution_count": 142,
   "metadata": {},
   "outputs": [
    {
     "data": {
      "text/html": [
       "<div>\n",
       "<style scoped>\n",
       "    .dataframe tbody tr th:only-of-type {\n",
       "        vertical-align: middle;\n",
       "    }\n",
       "\n",
       "    .dataframe tbody tr th {\n",
       "        vertical-align: top;\n",
       "    }\n",
       "\n",
       "    .dataframe thead th {\n",
       "        text-align: right;\n",
       "    }\n",
       "</style>\n",
       "<table border=\"1\" class=\"dataframe\">\n",
       "  <thead>\n",
       "    <tr style=\"text-align: right;\">\n",
       "      <th></th>\n",
       "      <th>01</th>\n",
       "      <th>02</th>\n",
       "      <th>03</th>\n",
       "      <th>04</th>\n",
       "      <th>05</th>\n",
       "      <th>06</th>\n",
       "      <th>07</th>\n",
       "      <th>08</th>\n",
       "      <th>09</th>\n",
       "      <th>10</th>\n",
       "      <th>...</th>\n",
       "      <th>86</th>\n",
       "      <th>87</th>\n",
       "      <th>88</th>\n",
       "      <th>89</th>\n",
       "      <th>90</th>\n",
       "      <th>91</th>\n",
       "      <th>92</th>\n",
       "      <th>93</th>\n",
       "      <th>99</th>\n",
       "      <th>UU</th>\n",
       "    </tr>\n",
       "    <tr>\n",
       "      <th>Severity</th>\n",
       "      <th></th>\n",
       "      <th></th>\n",
       "      <th></th>\n",
       "      <th></th>\n",
       "      <th></th>\n",
       "      <th></th>\n",
       "      <th></th>\n",
       "      <th></th>\n",
       "      <th></th>\n",
       "      <th></th>\n",
       "      <th></th>\n",
       "      <th></th>\n",
       "      <th></th>\n",
       "      <th></th>\n",
       "      <th></th>\n",
       "      <th></th>\n",
       "      <th></th>\n",
       "      <th></th>\n",
       "      <th></th>\n",
       "      <th></th>\n",
       "      <th></th>\n",
       "    </tr>\n",
       "  </thead>\n",
       "  <tbody>\n",
       "    <tr>\n",
       "      <th>non-fatal</th>\n",
       "      <td>1733877.0</td>\n",
       "      <td>469845.0</td>\n",
       "      <td>187960.0</td>\n",
       "      <td>77770.0</td>\n",
       "      <td>24495.0</td>\n",
       "      <td>7031.0</td>\n",
       "      <td>2976.0</td>\n",
       "      <td>1397.0</td>\n",
       "      <td>926.0</td>\n",
       "      <td>735.0</td>\n",
       "      <td>...</td>\n",
       "      <td>1.0</td>\n",
       "      <td>1.0</td>\n",
       "      <td>1.0</td>\n",
       "      <td>1.0</td>\n",
       "      <td>1.0</td>\n",
       "      <td>0.0</td>\n",
       "      <td>1.0</td>\n",
       "      <td>0.0</td>\n",
       "      <td>1.0</td>\n",
       "      <td>5.0</td>\n",
       "    </tr>\n",
       "    <tr>\n",
       "      <th>injury</th>\n",
       "      <td>2317701.0</td>\n",
       "      <td>704557.0</td>\n",
       "      <td>164501.0</td>\n",
       "      <td>57740.0</td>\n",
       "      <td>17672.0</td>\n",
       "      <td>4864.0</td>\n",
       "      <td>1913.0</td>\n",
       "      <td>863.0</td>\n",
       "      <td>502.0</td>\n",
       "      <td>390.0</td>\n",
       "      <td>...</td>\n",
       "      <td>0.0</td>\n",
       "      <td>0.0</td>\n",
       "      <td>0.0</td>\n",
       "      <td>0.0</td>\n",
       "      <td>0.0</td>\n",
       "      <td>1.0</td>\n",
       "      <td>0.0</td>\n",
       "      <td>1.0</td>\n",
       "      <td>0.0</td>\n",
       "      <td>14.0</td>\n",
       "    </tr>\n",
       "    <tr>\n",
       "      <th>fatal</th>\n",
       "      <td>33613.0</td>\n",
       "      <td>7210.0</td>\n",
       "      <td>2081.0</td>\n",
       "      <td>794.0</td>\n",
       "      <td>308.0</td>\n",
       "      <td>89.0</td>\n",
       "      <td>31.0</td>\n",
       "      <td>13.0</td>\n",
       "      <td>9.0</td>\n",
       "      <td>5.0</td>\n",
       "      <td>...</td>\n",
       "      <td>0.0</td>\n",
       "      <td>0.0</td>\n",
       "      <td>0.0</td>\n",
       "      <td>0.0</td>\n",
       "      <td>0.0</td>\n",
       "      <td>0.0</td>\n",
       "      <td>0.0</td>\n",
       "      <td>0.0</td>\n",
       "      <td>0.0</td>\n",
       "      <td>0.0</td>\n",
       "    </tr>\n",
       "  </tbody>\n",
       "</table>\n",
       "<p>3 rows × 95 columns</p>\n",
       "</div>"
      ],
      "text/plain": [
       "                  01        02        03       04       05      06      07  \\\n",
       "Severity                                                                     \n",
       "non-fatal  1733877.0  469845.0  187960.0  77770.0  24495.0  7031.0  2976.0   \n",
       "injury     2317701.0  704557.0  164501.0  57740.0  17672.0  4864.0  1913.0   \n",
       "fatal        33613.0    7210.0    2081.0    794.0    308.0    89.0    31.0   \n",
       "\n",
       "               08     09     10  ...    86   87   88   89   90   91   92   93  \\\n",
       "Severity                         ...                                            \n",
       "non-fatal  1397.0  926.0  735.0  ...   1.0  1.0  1.0  1.0  1.0  0.0  1.0  0.0   \n",
       "injury      863.0  502.0  390.0  ...   0.0  0.0  0.0  0.0  0.0  1.0  0.0  1.0   \n",
       "fatal        13.0    9.0    5.0  ...   0.0  0.0  0.0  0.0  0.0  0.0  0.0  0.0   \n",
       "\n",
       "            99    UU  \n",
       "Severity              \n",
       "non-fatal  1.0   5.0  \n",
       "injury     0.0  14.0  \n",
       "fatal      0.0   0.0  \n",
       "\n",
       "[3 rows x 95 columns]"
      ]
     },
     "execution_count": 142,
     "metadata": {},
     "output_type": "execute_result"
    },
    {
     "data": {
      "image/png": "[encoded data removed]",
      "text/plain": [
       "<Figure size 1440x720 with 1 Axes>"
      ]
     },
     "metadata": {
      "needs_background": "light"
     },
     "output_type": "display_data"
    }
   ],
   "source": [
    "# Person sequence number\n",
    "plotSimpleHist(df['P_ID'], 'Person sequence number', hight=10, width=20)\n",
    "by_severity_count(df, 'P_ID', 'P_ISEV')"
   ]
  },
  {
   "cell_type": "code",
   "execution_count": 143,
   "metadata": {},
   "outputs": [
    {
     "data": {
      "text/html": [
       "<div>\n",
       "<style scoped>\n",
       "    .dataframe tbody tr th:only-of-type {\n",
       "        vertical-align: middle;\n",
       "    }\n",
       "\n",
       "    .dataframe tbody tr th {\n",
       "        vertical-align: top;\n",
       "    }\n",
       "\n",
       "    .dataframe thead th {\n",
       "        text-align: right;\n",
       "    }\n",
       "</style>\n",
       "<table border=\"1\" class=\"dataframe\">\n",
       "  <thead>\n",
       "    <tr style=\"text-align: right;\">\n",
       "      <th></th>\n",
       "      <th>F</th>\n",
       "      <th>M</th>\n",
       "      <th>N</th>\n",
       "      <th>U</th>\n",
       "    </tr>\n",
       "    <tr>\n",
       "      <th>Severity</th>\n",
       "      <th></th>\n",
       "      <th></th>\n",
       "      <th></th>\n",
       "      <th></th>\n",
       "    </tr>\n",
       "  </thead>\n",
       "  <tbody>\n",
       "    <tr>\n",
       "      <th>non-fatal</th>\n",
       "      <td>895994.0</td>\n",
       "      <td>1586668.0</td>\n",
       "      <td>64.0</td>\n",
       "      <td>30555.0</td>\n",
       "    </tr>\n",
       "    <tr>\n",
       "      <th>injury</th>\n",
       "      <td>1656651.0</td>\n",
       "      <td>1587979.0</td>\n",
       "      <td>21.0</td>\n",
       "      <td>28703.0</td>\n",
       "    </tr>\n",
       "    <tr>\n",
       "      <th>fatal</th>\n",
       "      <td>13563.0</td>\n",
       "      <td>30543.0</td>\n",
       "      <td>0.0</td>\n",
       "      <td>61.0</td>\n",
       "    </tr>\n",
       "  </tbody>\n",
       "</table>\n",
       "</div>"
      ],
      "text/plain": [
       "                   F          M     N        U\n",
       "Severity                                      \n",
       "non-fatal   895994.0  1586668.0  64.0  30555.0\n",
       "injury     1656651.0  1587979.0  21.0  28703.0\n",
       "fatal        13563.0    30543.0   0.0     61.0"
      ]
     },
     "execution_count": 143,
     "metadata": {},
     "output_type": "execute_result"
    },
    {
     "data": {
      "image/png": "[encoded data removed]",
      "text/plain": [
       "<Figure size 1440x720 with 1 Axes>"
      ]
     },
     "metadata": {
      "needs_background": "light"
     },
     "output_type": "display_data"
    }
   ],
   "source": [
    "# Person sex\n",
    "plotSimpleHist(df['P_SEX'], 'Person sex', hight=10, width=20)\n",
    "by_severity_count(df, 'P_SEX', 'P_ISEV')"
   ]
  },
  {
   "cell_type": "code",
   "execution_count": 144,
   "metadata": {},
   "outputs": [
    {
     "data": {
      "text/html": [
       "<div>\n",
       "<style scoped>\n",
       "    .dataframe tbody tr th:only-of-type {\n",
       "        vertical-align: middle;\n",
       "    }\n",
       "\n",
       "    .dataframe tbody tr th {\n",
       "        vertical-align: top;\n",
       "    }\n",
       "\n",
       "    .dataframe thead th {\n",
       "        text-align: right;\n",
       "    }\n",
       "</style>\n",
       "<table border=\"1\" class=\"dataframe\">\n",
       "  <thead>\n",
       "    <tr style=\"text-align: right;\">\n",
       "      <th></th>\n",
       "      <th>01</th>\n",
       "      <th>02</th>\n",
       "      <th>03</th>\n",
       "      <th>04</th>\n",
       "      <th>05</th>\n",
       "      <th>06</th>\n",
       "      <th>07</th>\n",
       "      <th>08</th>\n",
       "      <th>09</th>\n",
       "      <th>10</th>\n",
       "      <th>...</th>\n",
       "      <th>92</th>\n",
       "      <th>93</th>\n",
       "      <th>94</th>\n",
       "      <th>95</th>\n",
       "      <th>96</th>\n",
       "      <th>97</th>\n",
       "      <th>98</th>\n",
       "      <th>99</th>\n",
       "      <th>NN</th>\n",
       "      <th>UU</th>\n",
       "    </tr>\n",
       "    <tr>\n",
       "      <th>Severity</th>\n",
       "      <th></th>\n",
       "      <th></th>\n",
       "      <th></th>\n",
       "      <th></th>\n",
       "      <th></th>\n",
       "      <th></th>\n",
       "      <th></th>\n",
       "      <th></th>\n",
       "      <th></th>\n",
       "      <th></th>\n",
       "      <th></th>\n",
       "      <th></th>\n",
       "      <th></th>\n",
       "      <th></th>\n",
       "      <th></th>\n",
       "      <th></th>\n",
       "      <th></th>\n",
       "      <th></th>\n",
       "      <th></th>\n",
       "      <th></th>\n",
       "      <th></th>\n",
       "    </tr>\n",
       "  </thead>\n",
       "  <tbody>\n",
       "    <tr>\n",
       "      <th>non-fatal</th>\n",
       "      <td>30604</td>\n",
       "      <td>19148</td>\n",
       "      <td>18351</td>\n",
       "      <td>17837</td>\n",
       "      <td>17070</td>\n",
       "      <td>15402</td>\n",
       "      <td>15086</td>\n",
       "      <td>14786</td>\n",
       "      <td>14369</td>\n",
       "      <td>14606</td>\n",
       "      <td>...</td>\n",
       "      <td>403</td>\n",
       "      <td>252</td>\n",
       "      <td>164</td>\n",
       "      <td>113</td>\n",
       "      <td>59</td>\n",
       "      <td>40</td>\n",
       "      <td>72</td>\n",
       "      <td>137</td>\n",
       "      <td>71</td>\n",
       "      <td>120078</td>\n",
       "    </tr>\n",
       "    <tr>\n",
       "      <th>injury</th>\n",
       "      <td>12958</td>\n",
       "      <td>8040</td>\n",
       "      <td>9059</td>\n",
       "      <td>10366</td>\n",
       "      <td>11325</td>\n",
       "      <td>12267</td>\n",
       "      <td>13350</td>\n",
       "      <td>13956</td>\n",
       "      <td>14552</td>\n",
       "      <td>15554</td>\n",
       "      <td>...</td>\n",
       "      <td>685</td>\n",
       "      <td>489</td>\n",
       "      <td>338</td>\n",
       "      <td>193</td>\n",
       "      <td>132</td>\n",
       "      <td>90</td>\n",
       "      <td>147</td>\n",
       "      <td>142</td>\n",
       "      <td>1821</td>\n",
       "      <td>87811</td>\n",
       "    </tr>\n",
       "    <tr>\n",
       "      <th>fatal</th>\n",
       "      <td>158</td>\n",
       "      <td>73</td>\n",
       "      <td>74</td>\n",
       "      <td>100</td>\n",
       "      <td>104</td>\n",
       "      <td>101</td>\n",
       "      <td>106</td>\n",
       "      <td>94</td>\n",
       "      <td>111</td>\n",
       "      <td>113</td>\n",
       "      <td>...</td>\n",
       "      <td>53</td>\n",
       "      <td>40</td>\n",
       "      <td>25</td>\n",
       "      <td>20</td>\n",
       "      <td>13</td>\n",
       "      <td>7</td>\n",
       "      <td>6</td>\n",
       "      <td>8</td>\n",
       "      <td>5</td>\n",
       "      <td>268</td>\n",
       "    </tr>\n",
       "  </tbody>\n",
       "</table>\n",
       "<p>3 rows × 101 columns</p>\n",
       "</div>"
      ],
      "text/plain": [
       "              01     02     03     04     05     06     07     08     09  \\\n",
       "Severity                                                                   \n",
       "non-fatal  30604  19148  18351  17837  17070  15402  15086  14786  14369   \n",
       "injury     12958   8040   9059  10366  11325  12267  13350  13956  14552   \n",
       "fatal        158     73     74    100    104    101    106     94    111   \n",
       "\n",
       "              10   ...     92   93   94   95   96  97   98   99    NN      UU  \n",
       "Severity           ...                                                         \n",
       "non-fatal  14606   ...    403  252  164  113   59  40   72  137    71  120078  \n",
       "injury     15554   ...    685  489  338  193  132  90  147  142  1821   87811  \n",
       "fatal        113   ...     53   40   25   20   13   7    6    8     5     268  \n",
       "\n",
       "[3 rows x 101 columns]"
      ]
     },
     "execution_count": 144,
     "metadata": {},
     "output_type": "execute_result"
    },
    {
     "data": {
      "image/png": "[encoded data removed]",
      "text/plain": [
       "<Figure size 1440x720 with 1 Axes>"
      ]
     },
     "metadata": {
      "needs_background": "light"
     },
     "output_type": "display_data"
    }
   ],
   "source": [
    "# Person age\n",
    "plotSimpleHist(df['P_AGE'], 'Person age', hight=10, width=20)\n",
    "by_severity_count(df, 'P_AGE', 'P_ISEV')"
   ]
  },
  {
   "cell_type": "code",
   "execution_count": 145,
   "metadata": {},
   "outputs": [
    {
     "data": {
      "text/html": [
       "<div>\n",
       "<style scoped>\n",
       "    .dataframe tbody tr th:only-of-type {\n",
       "        vertical-align: middle;\n",
       "    }\n",
       "\n",
       "    .dataframe tbody tr th {\n",
       "        vertical-align: top;\n",
       "    }\n",
       "\n",
       "    .dataframe thead th {\n",
       "        text-align: right;\n",
       "    }\n",
       "</style>\n",
       "<table border=\"1\" class=\"dataframe\">\n",
       "  <thead>\n",
       "    <tr style=\"text-align: right;\">\n",
       "      <th></th>\n",
       "      <th>11</th>\n",
       "      <th>12</th>\n",
       "      <th>13</th>\n",
       "      <th>21</th>\n",
       "      <th>22</th>\n",
       "      <th>23</th>\n",
       "      <th>31</th>\n",
       "      <th>32</th>\n",
       "      <th>33</th>\n",
       "      <th>96</th>\n",
       "      <th>97</th>\n",
       "      <th>98</th>\n",
       "      <th>99</th>\n",
       "      <th>NN</th>\n",
       "      <th>QQ</th>\n",
       "      <th>UU</th>\n",
       "    </tr>\n",
       "    <tr>\n",
       "      <th>Severity</th>\n",
       "      <th></th>\n",
       "      <th></th>\n",
       "      <th></th>\n",
       "      <th></th>\n",
       "      <th></th>\n",
       "      <th></th>\n",
       "      <th></th>\n",
       "      <th></th>\n",
       "      <th></th>\n",
       "      <th></th>\n",
       "      <th></th>\n",
       "      <th></th>\n",
       "      <th></th>\n",
       "      <th></th>\n",
       "      <th></th>\n",
       "      <th></th>\n",
       "    </tr>\n",
       "  </thead>\n",
       "  <tbody>\n",
       "    <tr>\n",
       "      <th>non-fatal</th>\n",
       "      <td>1737686</td>\n",
       "      <td>32538</td>\n",
       "      <td>375851</td>\n",
       "      <td>122782</td>\n",
       "      <td>51944</td>\n",
       "      <td>148722</td>\n",
       "      <td>2835</td>\n",
       "      <td>17344</td>\n",
       "      <td>3444</td>\n",
       "      <td>10766</td>\n",
       "      <td>117</td>\n",
       "      <td>1021</td>\n",
       "      <td>3644</td>\n",
       "      <td>25</td>\n",
       "      <td>1753</td>\n",
       "      <td>2809</td>\n",
       "    </tr>\n",
       "    <tr>\n",
       "      <th>injury</th>\n",
       "      <td>2140914</td>\n",
       "      <td>58348</td>\n",
       "      <td>568015</td>\n",
       "      <td>109704</td>\n",
       "      <td>43129</td>\n",
       "      <td>129652</td>\n",
       "      <td>2041</td>\n",
       "      <td>14413</td>\n",
       "      <td>2744</td>\n",
       "      <td>31181</td>\n",
       "      <td>158</td>\n",
       "      <td>5106</td>\n",
       "      <td>159781</td>\n",
       "      <td>59</td>\n",
       "      <td>2677</td>\n",
       "      <td>5432</td>\n",
       "    </tr>\n",
       "    <tr>\n",
       "      <th>fatal</th>\n",
       "      <td>26745</td>\n",
       "      <td>598</td>\n",
       "      <td>5862</td>\n",
       "      <td>1344</td>\n",
       "      <td>501</td>\n",
       "      <td>1293</td>\n",
       "      <td>35</td>\n",
       "      <td>217</td>\n",
       "      <td>36</td>\n",
       "      <td>1019</td>\n",
       "      <td>4</td>\n",
       "      <td>116</td>\n",
       "      <td>6167</td>\n",
       "      <td>10</td>\n",
       "      <td>60</td>\n",
       "      <td>160</td>\n",
       "    </tr>\n",
       "  </tbody>\n",
       "</table>\n",
       "</div>"
      ],
      "text/plain": [
       "                11     12      13      21     22      23    31     32    33  \\\n",
       "Severity                                                                      \n",
       "non-fatal  1737686  32538  375851  122782  51944  148722  2835  17344  3444   \n",
       "injury     2140914  58348  568015  109704  43129  129652  2041  14413  2744   \n",
       "fatal        26745    598    5862    1344    501    1293    35    217    36   \n",
       "\n",
       "              96   97    98      99  NN    QQ    UU  \n",
       "Severity                                             \n",
       "non-fatal  10766  117  1021    3644  25  1753  2809  \n",
       "injury     31181  158  5106  159781  59  2677  5432  \n",
       "fatal       1019    4   116    6167  10    60   160  "
      ]
     },
     "execution_count": 145,
     "metadata": {},
     "output_type": "execute_result"
    },
    {
     "data": {
      "image/png": "[encoded data removed]",
      "text/plain": [
       "<Figure size 1440x720 with 1 Axes>"
      ]
     },
     "metadata": {
      "needs_background": "light"
     },
     "output_type": "display_data"
    }
   ],
   "source": [
    "# Person position\n",
    "plotSimpleHist(df['P_PSN'], 'Person position', hight=10, width=20)\n",
    "by_severity_count(df, 'P_PSN', 'P_ISEV')"
   ]
  },
  {
   "cell_type": "code",
   "execution_count": 151,
   "metadata": {
    "scrolled": false
   },
   "outputs": [
    {
     "data": {
      "text/html": [
       "<div>\n",
       "<style scoped>\n",
       "    .dataframe tbody tr th:only-of-type {\n",
       "        vertical-align: middle;\n",
       "    }\n",
       "\n",
       "    .dataframe tbody tr th {\n",
       "        vertical-align: top;\n",
       "    }\n",
       "\n",
       "    .dataframe thead th {\n",
       "        text-align: right;\n",
       "    }\n",
       "</style>\n",
       "<table border=\"1\" class=\"dataframe\">\n",
       "  <thead>\n",
       "    <tr style=\"text-align: right;\">\n",
       "      <th></th>\n",
       "      <th>01</th>\n",
       "      <th>02</th>\n",
       "      <th>09</th>\n",
       "      <th>10</th>\n",
       "      <th>11</th>\n",
       "      <th>12</th>\n",
       "      <th>13</th>\n",
       "      <th>NN</th>\n",
       "      <th>QQ</th>\n",
       "      <th>UU</th>\n",
       "    </tr>\n",
       "    <tr>\n",
       "      <th>Severity</th>\n",
       "      <th></th>\n",
       "      <th></th>\n",
       "      <th></th>\n",
       "      <th></th>\n",
       "      <th></th>\n",
       "      <th></th>\n",
       "      <th></th>\n",
       "      <th></th>\n",
       "      <th></th>\n",
       "      <th></th>\n",
       "    </tr>\n",
       "  </thead>\n",
       "  <tbody>\n",
       "    <tr>\n",
       "      <th>non-fatal</th>\n",
       "      <td>31800</td>\n",
       "      <td>1994042</td>\n",
       "      <td>3562</td>\n",
       "      <td>8</td>\n",
       "      <td>3</td>\n",
       "      <td>4977</td>\n",
       "      <td>31894</td>\n",
       "      <td>160442</td>\n",
       "      <td>11102</td>\n",
       "      <td>275451</td>\n",
       "    </tr>\n",
       "    <tr>\n",
       "      <th>injury</th>\n",
       "      <td>155793</td>\n",
       "      <td>2532572</td>\n",
       "      <td>103869</td>\n",
       "      <td>131</td>\n",
       "      <td>9</td>\n",
       "      <td>20578</td>\n",
       "      <td>119235</td>\n",
       "      <td>109022</td>\n",
       "      <td>39217</td>\n",
       "      <td>192928</td>\n",
       "    </tr>\n",
       "    <tr>\n",
       "      <th>fatal</th>\n",
       "      <td>11106</td>\n",
       "      <td>18127</td>\n",
       "      <td>2955</td>\n",
       "      <td>13</td>\n",
       "      <td>1</td>\n",
       "      <td>348</td>\n",
       "      <td>2315</td>\n",
       "      <td>3657</td>\n",
       "      <td>723</td>\n",
       "      <td>4922</td>\n",
       "    </tr>\n",
       "  </tbody>\n",
       "</table>\n",
       "</div>"
      ],
      "text/plain": [
       "               01       02      09   10  11     12      13      NN     QQ  \\\n",
       "Severity                                                                    \n",
       "non-fatal   31800  1994042    3562    8   3   4977   31894  160442  11102   \n",
       "injury     155793  2532572  103869  131   9  20578  119235  109022  39217   \n",
       "fatal       11106    18127    2955   13   1    348    2315    3657    723   \n",
       "\n",
       "               UU  \n",
       "Severity           \n",
       "non-fatal  275451  \n",
       "injury     192928  \n",
       "fatal        4922  "
      ]
     },
     "execution_count": 151,
     "metadata": {},
     "output_type": "execute_result"
    },
    {
     "data": {
      "image/png": "[encoded data removed]",
      "text/plain": [
       "<Figure size 1440x720 with 1 Axes>"
      ]
     },
     "metadata": {
      "needs_background": "light"
     },
     "output_type": "display_data"
    }
   ],
   "source": [
    "# Safety device used\n",
    "plotSimpleHist(df['P_SAFE'], 'Safety device used', hight=10, width=20)\n",
    "by_severity_count(df, 'P_SAFE', 'P_ISEV')"
   ]
  },
  {
   "cell_type": "code",
   "execution_count": 147,
   "metadata": {},
   "outputs": [
    {
     "data": {
      "text/html": [
       "<div>\n",
       "<style scoped>\n",
       "    .dataframe tbody tr th:only-of-type {\n",
       "        vertical-align: middle;\n",
       "    }\n",
       "\n",
       "    .dataframe tbody tr th {\n",
       "        vertical-align: top;\n",
       "    }\n",
       "\n",
       "    .dataframe thead th {\n",
       "        text-align: right;\n",
       "    }\n",
       "</style>\n",
       "<table border=\"1\" class=\"dataframe\">\n",
       "  <thead>\n",
       "    <tr style=\"text-align: right;\">\n",
       "      <th></th>\n",
       "      <th>1</th>\n",
       "      <th>2</th>\n",
       "      <th>3</th>\n",
       "      <th>4</th>\n",
       "      <th>5</th>\n",
       "      <th>U</th>\n",
       "    </tr>\n",
       "    <tr>\n",
       "      <th>Severity</th>\n",
       "      <th></th>\n",
       "      <th></th>\n",
       "      <th></th>\n",
       "      <th></th>\n",
       "      <th></th>\n",
       "      <th></th>\n",
       "    </tr>\n",
       "  </thead>\n",
       "  <tbody>\n",
       "    <tr>\n",
       "      <th>non-fatal</th>\n",
       "      <td>1707581</td>\n",
       "      <td>758594</td>\n",
       "      <td>3684</td>\n",
       "      <td>7927</td>\n",
       "      <td>10891</td>\n",
       "      <td>24604</td>\n",
       "    </tr>\n",
       "    <tr>\n",
       "      <th>injury</th>\n",
       "      <td>1931514</td>\n",
       "      <td>911170</td>\n",
       "      <td>159792</td>\n",
       "      <td>114159</td>\n",
       "      <td>118315</td>\n",
       "      <td>38404</td>\n",
       "    </tr>\n",
       "    <tr>\n",
       "      <th>fatal</th>\n",
       "      <td>22322</td>\n",
       "      <td>9787</td>\n",
       "      <td>6167</td>\n",
       "      <td>1003</td>\n",
       "      <td>3487</td>\n",
       "      <td>1401</td>\n",
       "    </tr>\n",
       "  </tbody>\n",
       "</table>\n",
       "</div>"
      ],
      "text/plain": [
       "                 1       2       3       4       5      U\n",
       "Severity                                                 \n",
       "non-fatal  1707581  758594    3684    7927   10891  24604\n",
       "injury     1931514  911170  159792  114159  118315  38404\n",
       "fatal        22322    9787    6167    1003    3487   1401"
      ]
     },
     "execution_count": 147,
     "metadata": {},
     "output_type": "execute_result"
    },
    {
     "data": {
      "image/png": "[encoded data removed]",
      "text/plain": [
       "<Figure size 1440x720 with 1 Axes>"
      ]
     },
     "metadata": {
      "needs_background": "light"
     },
     "output_type": "display_data"
    }
   ],
   "source": [
    "# Road user class\n",
    "plotSimpleHist(df['P_USER'], 'Road user class', hight=10, width=20)\n",
    "by_severity_count(df, 'P_USER', 'P_ISEV')"
   ]
  },
  {
   "cell_type": "code",
   "execution_count": null,
   "metadata": {},
   "outputs": [],
   "source": []
  },
  {
   "cell_type": "code",
   "execution_count": null,
   "metadata": {},
   "outputs": [],
   "source": []
  },
  {
   "cell_type": "markdown",
   "metadata": {},
   "source": []
  },
  {
   "cell_type": "code",
   "execution_count": null,
   "metadata": {},
   "outputs": [],
   "source": []
  },
  {
   "cell_type": "code",
   "execution_count": null,
   "metadata": {},
   "outputs": [],
   "source": [
    "drop_count = df['P_ISEV'].isin(['U', 'N', 'X' ]).sum()\n",
    "df.drop(df.index[df['P_ISEV'].isin(['U', 'N'])], inplace=True)\n",
    "df = df.reset_index(drop=True)\n",
    "print(\"Dropped {drop_count} rows from dataset\".format(drop_count = drop_count))"
   ]
  },
  {
   "cell_type": "code",
   "execution_count": null,
   "metadata": {},
   "outputs": [],
   "source": [
    "#Check for non-numeric values in P_ISEV column\n",
    "count = df['P_ISEV'].str.contains('[^0-9]').sum()\n",
    "print(\"{count} non-numeric rows observed\".format(count = count))"
   ]
  },
  {
   "cell_type": "code",
   "execution_count": null,
   "metadata": {},
   "outputs": [],
   "source": []
  },
  {
   "cell_type": "code",
   "execution_count": null,
   "metadata": {},
   "outputs": [],
   "source": []
  },
  {
   "cell_type": "code",
   "execution_count": null,
   "metadata": {},
   "outputs": [],
   "source": [
    "### drop rows that have more than 4 missing values and P_ISEV is not fatal\n",
    "missing_value_strings = ['U', 'UU', 'UUU', 'UUUU', 'N', 'NN', 'NNN', 'NNNN', 'Q', 'QQ', 'QQQ', 'QQQQ', 'X', 'XX', 'XXX', 'XXXX']\n",
    "non_fatal_with_more_than_4_missing = ((df.isin(missing_value_strings).sum(axis=1) > 3) & ~(df['P_ISEV'] == '3')).sum()\n",
    "df.drop(df.index[(df.isin(missing_value_strings).sum(axis=1) > 3) & ~(df['P_ISEV'] == '3')], inplace = True)\n",
    "df = df.reset_index(drop=True)\n",
    "print(\"Dropped {drop_count} rows from dataset\".format(drop_count = non_fatal_with_more_than_4_missing))"
   ]
  },
  {
   "cell_type": "code",
   "execution_count": null,
   "metadata": {},
   "outputs": [],
   "source": [
    "df.shape"
   ]
  },
  {
   "cell_type": "markdown",
   "metadata": {},
   "source": [
    "### Clean intividual attributes"
   ]
  },
  {
   "cell_type": "code",
   "execution_count": null,
   "metadata": {},
   "outputs": [],
   "source": [
    "#### Clean Accident Year column\n",
    "\n",
    "#Collisions by Year\n",
    "print(\"{count} non-numeric rows observed\".format(count = df['C_YEAR'].astype('str').str.contains('[^0-9]').sum()))\n",
    "by_year = df.groupby(['C_YEAR','P_ISEV']).size()\n",
    "plt_enabled = False\n",
    "if (plt_enabled):\n",
    "    plot = by_year.plot(figsize=(20,15), kind='bar',title='Collisions by Year');\n",
    "\n",
    "\n"
   ]
  },
  {
   "cell_type": "code",
   "execution_count": null,
   "metadata": {},
   "outputs": [],
   "source": [
    "#### Clean Accident month column\n",
    "#import random\n",
    "\n",
    "\n",
    "#Collisions by Month\n",
    "print(\"{count} non-numeric rows observed\".format(count = df['C_MNTH'].astype('str').str.contains('[^0-9]').sum()))\n",
    "by_month = df.groupby(['C_MNTH','P_ISEV']).size()\n",
    "plt_enabled = False\n",
    "if (plt_enabled):\n",
    "    plot = by_month.plot(figsize=(20,15), kind='bar',title='Collisions by Year');\n",
    "\n",
    "tmp = df.index[df['C_MNTH'].astype('str').str.contains('[^0-9]')]\n",
    "    \n",
    "## Not much variations accross the months, we are going to randomly (with equal probability)\n",
    "months = ['01', '02', '03', '04', '05', '06', '07', '08', '09', '10', '11', '12']\n",
    "\n",
    "df['C_MNTH'] = df['C_MNTH'].apply(lambda x: x.replace('UU', np.random.choice(months)))\n",
    "\n",
    "print(\"{count} non-numeric rows observed\".format(count = df['C_MNTH'].astype('str').str.contains('[^0-9]').sum()))\n",
    "\n"
   ]
  },
  {
   "cell_type": "code",
   "execution_count": null,
   "metadata": {},
   "outputs": [],
   "source": [
    "#### Clean Accident Week column\n",
    "\n",
    "#Collisions by weekday\n",
    "print(\"{count} non-numeric rows observed\".format(count = df['C_WDAY'].astype('str').str.contains('[^0-9]').sum()))\n",
    "by_weekday = df.groupby(['C_WDAY','P_ISEV']).size().unstack()\n",
    "plt_enabled = False\n",
    "if (plt_enabled):\n",
    "    plot = by_weekday.plot(figsize=(20,15), kind='bar',title='Collisions by Weekday', stacked = True);\n",
    "\n",
    "#generate the probability of each row excluding unspecified\n",
    "#Total number of rows excluding undefined\n"
   ]
  },
  {
   "cell_type": "code",
   "execution_count": null,
   "metadata": {},
   "outputs": [],
   "source": [
    "N = by_weekday[0:len(by_weekday.index) - 1].sum().sum()\n",
    "P=[]\n",
    "for day in by_weekday.index[0:len(by_weekday.index) - 1]:\n",
    "    #print(day)\n",
    "    p = by_weekday.loc[day].sum()/N\n",
    "    P.append(p)\n",
    "    #print(P)\n",
    "df['C_WDAY'] = df['C_WDAY'].apply(lambda x: x.replace('U', str(np.random.choice(np.arange(1, 8), p = P))))\n",
    "print(\"{count} non-numeric rows observed\".format(count = df['C_WDAY'].astype('str').str.contains('[^0-9]').sum()))"
   ]
  },
  {
   "cell_type": "code",
   "execution_count": null,
   "metadata": {},
   "outputs": [],
   "source": [
    "#### Clean Accident Hour column\n",
    "\n",
    "#Collisions by weekday\n",
    "print(\"{count} non-numeric rows observed\".format(count = df['C_HOUR'].astype('str').str.contains('[^0-9]').sum()))\n",
    "by_weekday = df.groupby(['C_HOUR','P_ISEV']).size().unstack()\n",
    "plt_enabled = False\n",
    "if (plt_enabled):\n",
    "    plot = by_weekday.plot(figsize=(20,15), kind='bar',title='Collisions by HOUR', stacked = False);\n",
    "\n",
    "#To many levels, lets reduce the number of levels by combining the hours\n",
    "#[8pm-6am], [7am-7pm]\n",
    "night = ['22', '23', '00', '01', '02', '03', '04', '05']\n",
    "morning = ['06', '07', '08', '09', '10', '11']\n",
    "activeHours = ['12', '13', '14', '15', '16', '17', '18', '19', '20', '21'] \n",
    "\n",
    "#df['C_HOUR'] = df['C_HOUR'].apply(lambda x: x.replace(Night, '1'))\n",
    "#df['C_HOUR'] = df['C_HOUR'].apply(lambda x: x.replace(Night, '1'))\n",
    "df['C_HOUR'] = df['C_HOUR'].apply(lambda x: '1' if x in night else '2' if x in morning else '3')\n",
    "print(\"{count} non-numeric rows observed\".format(count = df['C_HOUR'].astype('str').str.contains('[^0-9]').sum()))\n",
    "\n",
    "if (plt_enabled):\n",
    "    plot = by_weekday.plot(figsize=(20,15), kind='bar',title='Collisions by HOUR', stacked = False);\n"
   ]
  },
  {
   "cell_type": "code",
   "execution_count": null,
   "metadata": {},
   "outputs": [],
   "source": [
    "#### Clean Accident Vehicle count column\n",
    "\n",
    "#Collisions severity by Vehicle count\n",
    "print(\"{count} non-numeric rows observed\".format(count = df['C_VEHS'].astype('str').str.contains('[^0-9]').sum()))\n",
    "by_weekday = df.groupby(['C_VEHS','P_ISEV']).size().unstack()\n",
    "plt_enabled = False\n",
    "if (plt_enabled):\n",
    "    plot = by_weekday.plot(figsize=(20,15), kind='bar',title='Collisions severity by Vehicle count', stacked = True);"
   ]
  },
  {
   "cell_type": "code",
   "execution_count": null,
   "metadata": {},
   "outputs": [],
   "source": [
    "#### Clean Accident Collison Configuration column\n",
    "\n",
    "#Collisions severity by Collison Configuration\n",
    "print(\"{count} non-numeric rows observed\".format(count = df['C_CONF'].astype('str').str.contains('[^0-9]').sum()))\n",
    "by_CCONF = df.groupby(['C_CONF','P_ISEV']).size().unstack()\n",
    "plt_enabled = False\n",
    "if (plt_enabled):\n",
    "    plot = by_weekday.plot(figsize=(20,15), kind='bar',title='Collisions severity by Collison Configuration', stacked = False);\n",
    "print(by_CCONF)"
   ]
  },
  {
   "cell_type": "code",
   "execution_count": null,
   "metadata": {},
   "outputs": [],
   "source": []
  },
  {
   "cell_type": "code",
   "execution_count": null,
   "metadata": {},
   "outputs": [],
   "source": [
    "#functions\n",
    "debug2 = False\n",
    "\n",
    "def selectBin(start, end, P, leadingZero = False):\n",
    "    x = np.random.choice(np.arange(start, end), p = P)\n",
    "    if debug2:\n",
    "        print(\"Selected bin: {0}\".format(x))\n",
    "    if leadingZero:\n",
    "        if x < 10:\n",
    "            x = '0' + str(x)\n",
    "    return str(x)\n",
    "\n",
    "#compute the probability of each bin\n",
    "def computeP(dataFrm):\n",
    "    N = dataFrm[dataFrm.index.astype('str').str.contains('[0-9]')].sum().sum()\n",
    "    if debug:\n",
    "        print(dataFrm[dataFrm.index.astype('str').str.contains('[0-9]')])\n",
    "        print(N)\n",
    "    \n",
    "    maxCol = dataFrm.index[dataFrm.index.astype('str').str.contains('[0-9]')].max()\n",
    "\n",
    "    #calculate the probability of the each category\n",
    "    P=[]\n",
    "    cur = 1;\n",
    "    for ind in dataFrm.index[dataFrm.index.astype('str').str.contains('[0-9]')]:\n",
    "        if debug:\n",
    "            print(\"ind: {0}\".format(ind))\n",
    "            print(\"cur: {0}\".format(cur))\n",
    "            \n",
    "        # some categoris may not have any values\n",
    "        # we need to build the P matrix for the same number of colums\n",
    "        end = int(ind)\n",
    "        if cur < end:\n",
    "            for i in range(cur, end):\n",
    "                print(\"i: {0}\".format(i))\n",
    "                P.append(0)\n",
    "                cur = cur +1\n",
    "                \n",
    "        p = dataFrm.loc[ind].sum()/N\n",
    "        P.append(p)\n",
    "        cur = cur +1\n",
    "    \n",
    "    if debug:\n",
    "        print(P)\n",
    "        print(np.sum(P))\n",
    "    \n",
    "    return P      \n",
    "\n",
    "#plot histogram\n",
    "def checkHistogram(df, feature, pred, plot):\n",
    "    by_level = df.groupby([feature,pred]).size().unstack()\n",
    "\n",
    "    if(plot):\n",
    "        plot = by_level.plot(figsize=(20,15), kind='bar',title='Weather Configuration', stacked = False);\n",
    "            \n",
    "    return by_level\n"
   ]
  },
  {
   "cell_type": "code",
   "execution_count": null,
   "metadata": {},
   "outputs": [],
   "source": []
  },
  {
   "cell_type": "code",
   "execution_count": null,
   "metadata": {},
   "outputs": [],
   "source": [
    "#Clean Road configuraiton\n",
    "print(\"{count} non-numeric rows observed\".format(count = df['C_RCFG'].astype('str').str.contains('[^0-9]').sum()))\n",
    "by_road_config = df.groupby(['C_RCFG','P_ISEV']).size().unstack()\n",
    "plt_enabled = True\n",
    "if (plt_enabled):\n",
    "    plot = by_road_config.plot(figsize=(20,15), kind='bar',title='Road Configuration', stacked = False);\n",
    "\n",
    "N = by_road_config[0:len(by_road_config.index) - 2].sum().sum()\n",
    "N1 = by_road_config[0:len(by_road_config.index) - 1].sum()\n",
    "print (N)\n",
    "#calculate the probability of the each category\n",
    "P=[]\n",
    "for cfg in by_road_config.index[0:len(by_road_config.index) - 2]:\n",
    "    #print(cfg)\n",
    "    p = by_road_config.loc[cfg].sum()/N\n",
    "    P.append(p)\n",
    "    #print(P)\n",
    "np.sum(P)\n",
    "#df['C_RCFG'] = df['C_RCFG'].apply(lambda x: x.replace('UU', str(np.random.choice(np.arange(1, 11), p = P))))\n",
    "df['C_RCFG'] = df['C_RCFG'].apply(lambda x: x.replace('UU', selectBin(1, 11, P, True)))\n",
    "#df['C_RCFG'] = df['C_RCFG'].apply(lambda x: x.replace('QQ', str(np.random.choice(np.arange(1, 11), p = P))))\n",
    "df['C_RCFG'] = df['C_RCFG'].apply(lambda x: x.replace('QQ', selectBin(1, 11, P, True)))\n",
    "print(\"{count} non-numeric rows observed\".format(count = df['C_RCFG'].astype('str').str.contains('[^0-9]').sum()))"
   ]
  },
  {
   "cell_type": "code",
   "execution_count": null,
   "metadata": {},
   "outputs": [],
   "source": [
    "by_road_config = df.groupby(['C_RCFG','P_ISEV']).size().unstack()\n",
    "plt_enabled = False\n",
    "if (plt_enabled):\n",
    "    plot = by_road_config.plot(figsize=(20,15), kind='bar',title='Road Configuration', stacked = False);\n"
   ]
  },
  {
   "cell_type": "code",
   "execution_count": null,
   "metadata": {},
   "outputs": [],
   "source": []
  },
  {
   "cell_type": "code",
   "execution_count": null,
   "metadata": {},
   "outputs": [],
   "source": [
    "#Clean Weather\n",
    "#C_WTHR\n",
    "\n",
    "print(\"{count} non-numeric rows observed\".format(count = df['C_WTHR'].astype('str').str.contains('[^0-9]').sum()))\n",
    "gbWTHR = checkHistogram(df, 'C_WTHR', 'P_ISEV', True)"
   ]
  },
  {
   "cell_type": "code",
   "execution_count": null,
   "metadata": {},
   "outputs": [],
   "source": [
    "#compute probability of each level not including unknows\n",
    "P = computeP(gbWTHR)"
   ]
  },
  {
   "cell_type": "code",
   "execution_count": null,
   "metadata": {},
   "outputs": [],
   "source": [
    "#impute unkown values\n",
    "df['C_WTHR'] = df['C_WTHR'].apply(lambda x: x.replace('Q', selectBin(1, 8, P, False)))\n",
    "df['C_WTHR'] = df['C_WTHR'].apply(lambda x: x.replace('U', selectBin(1, 8, P, False)))\n",
    "print(\"{count} non-numeric rows observed\".format(count = df['C_WTHR'].astype('str').str.contains('[^0-9]').sum()))"
   ]
  },
  {
   "cell_type": "code",
   "execution_count": null,
   "metadata": {},
   "outputs": [],
   "source": [
    "#check histogram for new distribution\n",
    "checkHistogram(df, 'C_WTHR', 'P_ISEV', True)"
   ]
  },
  {
   "cell_type": "code",
   "execution_count": null,
   "metadata": {},
   "outputs": [],
   "source": [
    "#Clean road surface\n",
    "#C_RSUR\n",
    "print(\"{count} non-numeric rows observed\".format(count = df['C_RSUR'].astype('str').str.contains('[^0-9]').sum()))\n",
    "gbRSUR = checkHistogram(df, 'C_RSUR', 'P_ISEV', True)"
   ]
  },
  {
   "cell_type": "code",
   "execution_count": null,
   "metadata": {},
   "outputs": [],
   "source": [
    "#compute probability of each road surface condition in our data set not including unknows\n",
    "P = computeP(gbRSUR)"
   ]
  },
  {
   "cell_type": "code",
   "execution_count": null,
   "metadata": {},
   "outputs": [],
   "source": [
    "#impute unkown values\n",
    "df['C_RSUR'] = df['C_RSUR'].apply(lambda x: x.replace('Q', selectBin(1, 10, P, False)))\n",
    "df['C_RSUR'] = df['C_RSUR'].apply(lambda x: x.replace('U', selectBin(1, 10, P, False)))\n",
    "print(\"{count} non-numeric rows observed\".format(count = df['C_RSUR'].astype('str').str.contains('[^0-9]').sum()))"
   ]
  },
  {
   "cell_type": "code",
   "execution_count": null,
   "metadata": {},
   "outputs": [],
   "source": [
    "#Clean road surface\n",
    "print(\"{count} non-numeric rows observed\".format(count = df['C_RSUR'].astype('str').str.contains('[^0-9]').sum()))\n",
    "checkHistogram(df, 'C_RSUR', 'P_ISEV', True)"
   ]
  },
  {
   "cell_type": "code",
   "execution_count": null,
   "metadata": {},
   "outputs": [],
   "source": [
    "#road alignment\n",
    "#C_RALN\n",
    "print(\"{count} non-numeric rows observed\".format(count = df['C_RALN'].astype('str').str.contains('[^0-9]').sum()))\n",
    "gbRALG = checkHistogram(df, 'C_RALN', 'P_ISEV', True)"
   ]
  },
  {
   "cell_type": "code",
   "execution_count": null,
   "metadata": {},
   "outputs": [],
   "source": [
    "#compute probability of each road alignment in our data set not including unknows\n",
    "P = computeP(gbRALG)\n",
    "\n",
    "#impute unkown values\n",
    "df['C_RALN'] = df['C_RALN'].apply(lambda x: x.replace('Q', selectBin(1, 7, P, False)))\n",
    "df['C_RALN'] = df['C_RALN'].apply(lambda x: x.replace('U', selectBin(1, 7, P, False)))\n",
    "print(\"{count} non-numeric rows observed\".format(count = df['C_RALN'].astype('str').str.contains('[^0-9]').sum()))\n",
    "\n",
    "#Clean road surface\n",
    "checkHistogram(df, 'C_RALN', 'P_ISEV', True)"
   ]
  },
  {
   "cell_type": "code",
   "execution_count": null,
   "metadata": {},
   "outputs": [],
   "source": [
    "df.dtypes"
   ]
  },
  {
   "cell_type": "code",
   "execution_count": null,
   "metadata": {},
   "outputs": [],
   "source": [
    "#C_TRAF\n",
    "#Traffic configuration\n",
    "print(\"{count} non-numeric rows observed\".format(count = df['C_TRAF'].astype('str').str.contains('[^0-9]').sum()))\n",
    "gbTRAF = checkHistogram(df, 'C_TRAF', 'P_ISEV', True)"
   ]
  },
  {
   "cell_type": "code",
   "execution_count": null,
   "metadata": {},
   "outputs": [],
   "source": [
    "#compute probability of each road alignment in our data set not including unknows\n",
    "#note, school bus zone has no value\n",
    "P = computeP(gbTRAF)\n",
    "\n",
    "#impute unkown values\n",
    "df['C_TRAF'] = df['C_TRAF'].apply(lambda x: x.replace('QQ', selectBin(1, 19, P, True)))\n",
    "df['C_TRAF'] = df['C_TRAF'].apply(lambda x: x.replace('UU', selectBin(1, 19, P, True)))\n",
    "print(\"{count} non-numeric rows observed\".format(count = df['C_TRAF'].astype('str').str.contains('[^0-9]').sum()))\n",
    "\n",
    "#Clean road surface\n",
    "checkHistogram(df, 'C_TRAF', 'P_ISEV', True)"
   ]
  },
  {
   "cell_type": "code",
   "execution_count": null,
   "metadata": {},
   "outputs": [],
   "source": [
    "df.columns"
   ]
  },
  {
   "cell_type": "code",
   "execution_count": null,
   "metadata": {},
   "outputs": [],
   "source": [
    "#vehicle if\n",
    "print(\"{count} non-numeric rows observed\".format(count = df['V_ID'].astype('str').str.contains('[^0-9]').sum()))\n",
    "gbVID = checkHistogram(df, 'V_ID', 'P_ISEV', True)"
   ]
  },
  {
   "cell_type": "code",
   "execution_count": null,
   "metadata": {},
   "outputs": [],
   "source": [
    "#compute probability of each road alignment in our data set not including unknows\n",
    "#note, school bus zone has no value\n",
    "P = computeP(gbVID)\n",
    "\n",
    "#impute unkown values\n",
    "df['V_ID'] = df['V_ID'].apply(lambda x: x.replace('UU', selectBin(1, 100, P, True)))\n",
    "print(\"{count} non-numeric rows observed\".format(count = df['C_TRAF'].astype('str').str.contains('[^0-9]').sum()))\n",
    "\n",
    "#Clean road surface\n",
    "checkHistogram(df, 'V_ID', 'P_ISEV', True)"
   ]
  },
  {
   "cell_type": "code",
   "execution_count": null,
   "metadata": {},
   "outputs": [],
   "source": [
    "#V_TYPE\n",
    "#change NN to 24\n",
    "df['V_TYPE'] = df['V_TYPE'].apply(lambda x: x.replace('NN', '24'))\n",
    "\n",
    "print(\"{count} non-numeric rows observed\".format(count = df['V_TYPE'].astype('str').str.contains('[^0-9]').sum()))\n",
    "gbVTYPE = checkHistogram(df, 'V_TYPE', 'P_ISEV', True)"
   ]
  },
  {
   "cell_type": "code",
   "execution_count": null,
   "metadata": {},
   "outputs": [],
   "source": [
    "#compute probability of each road alignment in our data set not including unknows\n",
    "#note, school bus zone has no value\n",
    "P = computeP(gbVTYPE)\n",
    "\n",
    "#impute unkown values\n",
    "df['V_TYPE'] = df['V_TYPE'].apply(lambda x: x.replace('UU', selectBin(1, 25, P, True)))\n",
    "df['V_TYPE'] = df['V_TYPE'].apply(lambda x: x.replace('QQ', selectBin(1, 25, P, True)))\n",
    "print(\"{count} non-numeric rows observed\".format(count = df['V_TYPE'].astype('str').str.contains('[^0-9]').sum()))\n",
    "\n",
    "#Clean road surface\n",
    "checkHistogram(df, 'V_TYPE', 'P_ISEV', True)"
   ]
  },
  {
   "cell_type": "code",
   "execution_count": null,
   "metadata": {},
   "outputs": [],
   "source": [
    "#V_YEAR - Vehicle Year\n",
    "df['V_YEAR'] = df['V_YEAR'].apply(lambda x: x.replace('NNNN', '2017'))\n",
    "\n",
    "#For now set UUUU to year 2018, unti we find out why the code is not working\n",
    "df['V_YEAR'] = df['V_YEAR'].apply(lambda x: x.replace('UUUU', '2018'))\n",
    "\n",
    "print(\"{count} non-numeric rows observed\".format(count = df['V_YEAR'].astype('str').str.contains('[^0-9]').sum()))\n",
    "gbVYEAR = checkHistogram(df, 'V_YEAR', 'P_ISEV', True)"
   ]
  },
  {
   "cell_type": "code",
   "execution_count": null,
   "metadata": {},
   "outputs": [],
   "source": [
    "P = computeP(gbVYEAR)\n",
    "\n",
    "#impute unkown values\n",
    "#df['V_YEAR'] = df['V_YEAR'].apply(lambda x: x.replace('UUUU', selectBin(1, 118, P, True)))\n",
    "#print(\"{count} non-numeric rows observed\".format(count = df['V_YEAR'].astype('str').str.contains('[^0-9]').sum()))\n",
    "\n",
    "#Clean road surface\n",
    "#checkHistogram(df, 'V_YEAR', 'P_ISEV', True)"
   ]
  },
  {
   "cell_type": "code",
   "execution_count": null,
   "metadata": {},
   "outputs": [],
   "source": [
    "# P_ID - Passenger ID\n",
    "#df['P_ID'] = df['P_ID'].apply(lambda x: x.replace('NN', '100'))\n",
    "print(\"{count} non-numeric rows observed\".format(count = df['P_ID'].astype('str').str.contains('[^0-9]').sum()))\n",
    "gbPID = checkHistogram(df, 'P_ID', 'P_ISEV', True)"
   ]
  },
  {
   "cell_type": "code",
   "execution_count": null,
   "metadata": {},
   "outputs": [],
   "source": [
    "P = computeP(gbPID)\n",
    "\n",
    "#impute unkown values\n",
    "df['P_ID'] = df['P_ID'].apply(lambda x: x.replace('UU', selectBin(1, 100, P, True)))\n",
    "print(\"{count} non-numeric rows observed\".format(count = df['P_ID'].astype('str').str.contains('[^0-9]').sum()))\n",
    "\n",
    "#Clean road surface\n",
    "checkHistogram(df, 'P_ID', 'P_ISEV', True)"
   ]
  },
  {
   "cell_type": "code",
   "execution_count": null,
   "metadata": {},
   "outputs": [],
   "source": [
    "df.columns"
   ]
  },
  {
   "cell_type": "code",
   "execution_count": null,
   "metadata": {},
   "outputs": [],
   "source": [
    "#P_SEX\n",
    "df['P_SEX'] = df['P_SEX'].apply(lambda x: x.replace('F', '0'))\n",
    "df['P_SEX'] = df['P_SEX'].apply(lambda x: x.replace('M', '1'))\n",
    "print(\"{count} non-numeric rows observed\".format(count = df['P_SEX'].astype('str').str.contains('[^0-9]').sum()))\n",
    "gbPSEX = checkHistogram(df, 'P_SEX', 'P_ISEV', True)"
   ]
  },
  {
   "cell_type": "code",
   "execution_count": null,
   "metadata": {},
   "outputs": [],
   "source": [
    "P = computeP(gbPSEX)\n",
    "\n",
    "#impute unkown values\n",
    "df['P_SEX'] = df['P_SEX'].apply(lambda x: x.replace('U', selectBin(1, 3, P, False)))\n",
    "df['P_SEX'] = df['P_SEX'].apply(lambda x: x.replace('N', selectBin(1, 3, P, False)))\n",
    "print(\"{count} non-numeric rows observed\".format(count = df['P_SEX'].astype('str').str.contains('[^0-9]').sum()))\n",
    "\n",
    "#Clean road surface\n",
    "checkHistogram(df, 'P_SEX', 'P_ISEV', True)"
   ]
  },
  {
   "cell_type": "code",
   "execution_count": null,
   "metadata": {},
   "outputs": [],
   "source": [
    "#P_AGE\n",
    "print(\"{count} non-numeric rows observed\".format(count = df['P_AGE'].astype('str').str.contains('[^0-9]').sum()))\n",
    "gbPAGE = checkHistogram(df, 'P_AGE', 'P_ISEV', True)"
   ]
  },
  {
   "cell_type": "code",
   "execution_count": null,
   "metadata": {},
   "outputs": [],
   "source": [
    "P = computeP(gbPAGE)\n",
    "\n",
    "#impute unkown values\n",
    "df['P_AGE'] = df['P_AGE'].apply(lambda x: x.replace('UU', selectBin(1, 100, P, True)))\n",
    "df['P_AGE'] = df['P_AGE'].apply(lambda x: x.replace('NN', selectBin(1, 100, P, True)))\n",
    "print(\"{count} non-numeric rows observed\".format(count = df['P_AGE'].astype('str').str.contains('[^0-9]').sum()))\n",
    "\n",
    "#Clean road surface\n",
    "checkHistogram(df, 'P_AGE', 'P_ISEV', True)"
   ]
  },
  {
   "cell_type": "code",
   "execution_count": null,
   "metadata": {},
   "outputs": [],
   "source": [
    "#P_PSN\n",
    "print(\"{count} non-numeric rows observed\".format(count = df['P_PSN'].astype('str').str.contains('[^0-9]').sum()))\n",
    "gbPPSN = checkHistogram(df, 'P_PSN', 'P_ISEV', True)"
   ]
  },
  {
   "cell_type": "code",
   "execution_count": null,
   "metadata": {},
   "outputs": [],
   "source": [
    "P = computeP(gbPPSN)\n",
    "\n",
    "#impute unkown values\n",
    "df['P_PSN'] = df['P_PSN'].apply(lambda x: x.replace('UU', selectBin(1, 100, P, True)))\n",
    "df['P_PSN'] = df['P_PSN'].apply(lambda x: x.replace('NN', selectBin(1, 100, P, True)))\n",
    "df['P_PSN'] = df['P_PSN'].apply(lambda x: x.replace('QQ', selectBin(1, 100, P, True)))\n",
    "print(\"{count} non-numeric rows observed\".format(count = df['P_PSN'].astype('str').str.contains('[^0-9]').sum()))\n",
    "\n",
    "#Clean road surface\n",
    "checkHistogram(df, 'P_PSN', 'P_ISEV', True)"
   ]
  },
  {
   "cell_type": "code",
   "execution_count": null,
   "metadata": {},
   "outputs": [],
   "source": [
    "#P_SAFE\n",
    "print(\"{count} non-numeric rows observed\".format(count = df['P_SAFE'].astype('str').str.contains('[^0-9]').sum()))\n",
    "gbPSAFE = checkHistogram(df, 'P_SAFE', 'P_ISEV', True)"
   ]
  },
  {
   "cell_type": "code",
   "execution_count": null,
   "metadata": {},
   "outputs": [],
   "source": [
    "P = computeP(gbPSAFE)\n",
    "\n",
    "#impute unkown values\n",
    "df['P_SAFE'] = df['P_SAFE'].apply(lambda x: x.replace('UU', selectBin(1, 14, P, True)))\n",
    "df['P_SAFE'] = df['P_SAFE'].apply(lambda x: x.replace('NN', selectBin(1, 14, P, True)))\n",
    "df['P_SAFE'] = df['P_SAFE'].apply(lambda x: x.replace('QQ', selectBin(1, 14, P, True)))\n",
    "print(\"{count} non-numeric rows observed\".format(count = df['P_SAFE'].astype('str').str.contains('[^0-9]').sum()))\n",
    "\n",
    "#Clean road surface\n",
    "checkHistogram(df, 'P_SAFE', 'P_ISEV', True)"
   ]
  },
  {
   "cell_type": "code",
   "execution_count": null,
   "metadata": {},
   "outputs": [],
   "source": [
    "#P_USER\n",
    "print(\"{count} non-numeric rows observed\".format(count = df['P_USER'].astype('str').str.contains('[^0-9]').sum()))\n",
    "gbPUSER = checkHistogram(df, 'P_USER', 'P_ISEV', True)"
   ]
  },
  {
   "cell_type": "code",
   "execution_count": null,
   "metadata": {},
   "outputs": [],
   "source": [
    "P = computeP(gbPUSER)\n",
    "\n",
    "#impute unkown values\n",
    "df['P_USER'] = df['P_USER'].apply(lambda x: x.replace('U', selectBin(1, 6, P, False)))\n",
    "print(\"{count} non-numeric rows observed\".format(count = df['P_USER'].astype('str').str.contains('[^0-9]').sum()))\n",
    "\n",
    "#Clean road surface\n",
    "checkHistogram(df, 'P_USER', 'P_ISEV', True)"
   ]
  },
  {
   "cell_type": "code",
   "execution_count": null,
   "metadata": {},
   "outputs": [],
   "source": [
    "#P_ISEV\n",
    "print(\"{count} non-numeric rows observed\".format(count = df['P_ISEV'].astype('str').str.contains('[^0-9]').sum()))\n",
    "#gbPUSER = checkHistogram(df, 'P_ISEV', 'P_ISEV', True)"
   ]
  },
  {
   "cell_type": "code",
   "execution_count": null,
   "metadata": {},
   "outputs": [],
   "source": [
    "df['P_ISEV'] = df['P_ISEV'].apply(lambda x: x.replace('1', '0'))\n",
    "df['P_ISEV'] = df['P_ISEV'].apply(lambda x: x.replace('2', '1'))\n",
    "df['P_ISEV'] = df['P_ISEV'].apply(lambda x: x.replace('3', '2'))"
   ]
  },
  {
   "cell_type": "code",
   "execution_count": null,
   "metadata": {},
   "outputs": [],
   "source": [
    "#Year vs Severity\n",
    "#Year vs Severity\n",
    "#df.groupby(['P_ISEV', 'P_ISEV']).size().unstack().plot(figsize=(8,10), kind='bar', title = 'P_ISEV vs Accident Severity', stacked = True)\n",
    "print(\"{count} non-numeric rows observed\".format(count = df['P_ISEV'].astype('str').str.contains('[^0-9]').sum()))"
   ]
  },
  {
   "cell_type": "code",
   "execution_count": null,
   "metadata": {},
   "outputs": [],
   "source": []
  },
  {
   "cell_type": "code",
   "execution_count": null,
   "metadata": {},
   "outputs": [],
   "source": []
  },
  {
   "cell_type": "code",
   "execution_count": null,
   "metadata": {},
   "outputs": [],
   "source": []
  },
  {
   "cell_type": "code",
   "execution_count": null,
   "metadata": {},
   "outputs": [],
   "source": [
    "#drop rows which has more than four columns with missing values\n",
    "#df.drop(df.index[df.isin(['U', 'UU', 'UUU', 'UUUU']).sum(axis=1) >= 1], inplace=True)\n",
    "#df.drop(df.index[df.isin(['N', 'NN', 'NNN', 'NNNN']).sum(axis=1) >= 1], inplace=True)\n",
    "#df.drop(df.index[df.isin(['Q', 'QQ', 'QQQ', 'QQQQ']).sum(axis=1) >= 1], inplace=True)\n",
    "#df.drop(df.index[df.isin(['X', 'XX', 'XXX', 'XXXX']).sum(axis=1) >= 1], inplace=True)\n",
    "#df = df.reset_index(drop=True)\n",
    "#print(df.shape)"
   ]
  },
  {
   "cell_type": "code",
   "execution_count": null,
   "metadata": {},
   "outputs": [],
   "source": []
  },
  {
   "cell_type": "code",
   "execution_count": null,
   "metadata": {},
   "outputs": [],
   "source": []
  },
  {
   "cell_type": "code",
   "execution_count": null,
   "metadata": {},
   "outputs": [],
   "source": []
  },
  {
   "cell_type": "code",
   "execution_count": null,
   "metadata": {},
   "outputs": [],
   "source": []
  },
  {
   "cell_type": "code",
   "execution_count": null,
   "metadata": {},
   "outputs": [],
   "source": []
  },
  {
   "cell_type": "code",
   "execution_count": null,
   "metadata": {},
   "outputs": [],
   "source": []
  },
  {
   "cell_type": "code",
   "execution_count": null,
   "metadata": {},
   "outputs": [],
   "source": [
    "print(\"This dataset has {0} missing value\".format(df.isnull().sum().sum()))\n",
    "print(\"This dataset has {0} NA value\".format(df.isna().sum().sum()))"
   ]
  },
  {
   "cell_type": "code",
   "execution_count": null,
   "metadata": {},
   "outputs": [],
   "source": []
  },
  {
   "cell_type": "code",
   "execution_count": null,
   "metadata": {},
   "outputs": [],
   "source": []
  },
  {
   "cell_type": "code",
   "execution_count": null,
   "metadata": {},
   "outputs": [],
   "source": []
  },
  {
   "cell_type": "code",
   "execution_count": null,
   "metadata": {},
   "outputs": [],
   "source": []
  },
  {
   "cell_type": "code",
   "execution_count": null,
   "metadata": {},
   "outputs": [],
   "source": [
    "df.to_csv('data01_clean.csv', encoding='utf-8', index=False)"
   ]
  },
  {
   "cell_type": "code",
   "execution_count": null,
   "metadata": {},
   "outputs": [],
   "source": [
    "df.shape"
   ]
  },
  {
   "cell_type": "code",
   "execution_count": null,
   "metadata": {},
   "outputs": [],
   "source": [
    "#set the correct type for each variable\n",
    "df = df.astype('category')\n",
    "#df['C_YEAR'] = df['C_YEAR'].astype('int64')\n",
    "df['C_VEHS'] = df['C_VEHS'].astype('int64')\n",
    "#df['V_YEAR'] = df['V_YEAR'].astype('int64')\n",
    "df['P_AGE'] = df['P_AGE'].astype('int64')"
   ]
  },
  {
   "cell_type": "code",
   "execution_count": null,
   "metadata": {},
   "outputs": [],
   "source": [
    "#df of categorical and numberic varaibales\n",
    "df_cat = df.select_dtypes(include=['category']).copy()\n",
    "df_int = df.select_dtypes(include=['int64']).copy()"
   ]
  },
  {
   "cell_type": "code",
   "execution_count": null,
   "metadata": {},
   "outputs": [],
   "source": [
    "print(df_cat.head())\n",
    "print(df_int.head())"
   ]
  },
  {
   "cell_type": "code",
   "execution_count": null,
   "metadata": {},
   "outputs": [],
   "source": [
    "pd.options.display.float_format = '{:.4g}'.format\n",
    "df_int.describe()"
   ]
  },
  {
   "cell_type": "code",
   "execution_count": null,
   "metadata": {},
   "outputs": [],
   "source": [
    "df_int[['C_VEHS']].boxplot()"
   ]
  },
  {
   "cell_type": "code",
   "execution_count": null,
   "metadata": {},
   "outputs": [],
   "source": [
    "df_int[['P_AGE']].boxplot()"
   ]
  },
  {
   "cell_type": "code",
   "execution_count": null,
   "metadata": {},
   "outputs": [],
   "source": [
    "df_b = df.copy()\n",
    "df_b['fatal']=np.where(df_b['P_ISEV'] == '3',1,0)\n",
    "df_b['injury']=np.where(df_b['P_ISEV'] == '2',1,0)\n",
    "df_b['no_injury']=np.where(df_b['P_ISEV'] == '1',1,0)\n",
    "\n",
    "df1 = df_b.groupby('C_YEAR')['fatal','injury', 'no_injury'].sum()\n",
    "df1"
   ]
  },
  {
   "cell_type": "code",
   "execution_count": null,
   "metadata": {},
   "outputs": [],
   "source": [
    "#The overall diagram\n",
    "plot1 = df1.plot(figsize=(10,10),title='Collision overall statistics')\n",
    "plot1.set_xlabel(\"Year\")\n",
    "plot1.set_ylabel(\"Number of collisions\");"
   ]
  },
  {
   "cell_type": "code",
   "execution_count": null,
   "metadata": {},
   "outputs": [],
   "source": [
    "#Collisions by weekday\n",
    "by_weekday = df_b.groupby('C_WDAY')['P_ISEV'].count()\n",
    "by_weekday.index = ['Mon', 'Tue', 'Wed', 'Thu', 'Fri', 'Sat', 'Sun']\n",
    "plot2 = by_weekday.plot(kind='bar',title='Collisions by day');"
   ]
  },
  {
   "cell_type": "code",
   "execution_count": null,
   "metadata": {},
   "outputs": [],
   "source": [
    "#Collisions by hour\n",
    "plt.figure(figsize=(15,5))\n",
    "by_hour = df_b.groupby('C_HOUR')['P_ISEV'].count()\n",
    "plot3 = by_hour.plot(kind='bar',title='Collisions by hour',color='B');"
   ]
  },
  {
   "cell_type": "code",
   "execution_count": null,
   "metadata": {},
   "outputs": [],
   "source": [
    "#Year vs Severity\n",
    "df.groupby(['C_YEAR', 'P_ISEV']).size().unstack().plot(figsize=(10,10), kind='bar', title = 'Year vs Accident Severity', stacked = True)"
   ]
  },
  {
   "cell_type": "code",
   "execution_count": null,
   "metadata": {},
   "outputs": [],
   "source": [
    "#Year vs Severity\n",
    "df.groupby(['C_MNTH', 'P_ISEV']).size().unstack().plot(figsize=(10,10), kind='bar', title = 'Month vs Accident Severity', stacked = True)"
   ]
  },
  {
   "cell_type": "code",
   "execution_count": null,
   "metadata": {},
   "outputs": [],
   "source": [
    "#Year vs Severity\n",
    "df.groupby(['C_WDAY', 'P_ISEV']).size().unstack().plot(figsize=(10,10), kind='bar', title = 'Day vs Accident Severity', stacked = True)"
   ]
  },
  {
   "cell_type": "code",
   "execution_count": null,
   "metadata": {},
   "outputs": [],
   "source": [
    "#Year vs Severity\n",
    "df.groupby(['C_HOUR', 'P_ISEV']).size().unstack().plot(figsize=(10,10), kind='bar', title = 'HOUR vs Accident Severity', stacked = True)"
   ]
  },
  {
   "cell_type": "code",
   "execution_count": null,
   "metadata": {},
   "outputs": [],
   "source": [
    "#Year vs Severity\n",
    "df.groupby(['C_VEHS', 'P_ISEV']).size().unstack().plot(figsize=(10,10), kind='bar', title = 'C_VEHS vs Accident Severity', stacked = True)"
   ]
  },
  {
   "cell_type": "code",
   "execution_count": null,
   "metadata": {},
   "outputs": [],
   "source": [
    "#Year vs Severity\n",
    "df.groupby(['C_CONF', 'P_ISEV']).size().unstack().plot(figsize=(10,20), kind='bar', title = 'C_CONF vs Accident Severity', stacked = True)"
   ]
  },
  {
   "cell_type": "code",
   "execution_count": null,
   "metadata": {},
   "outputs": [],
   "source": [
    "#Year vs Severity\n",
    "df.groupby(['C_RCFG', 'P_ISEV']).size().unstack().plot(figsize=(10,20), kind='bar', title = 'C_RCFG vs Accident Severity', stacked = True)"
   ]
  },
  {
   "cell_type": "code",
   "execution_count": null,
   "metadata": {},
   "outputs": [],
   "source": [
    "#Year vs Severity\n",
    "df.groupby(['C_WTHR', 'P_ISEV']).size().unstack().plot(figsize=(10,20), kind='bar', title = 'C_WTHR vs Accident Severity', stacked = True)"
   ]
  },
  {
   "cell_type": "code",
   "execution_count": null,
   "metadata": {},
   "outputs": [],
   "source": [
    "#Year vs Severity\n",
    "df.groupby(['C_RSUR', 'P_ISEV']).size().unstack().plot(figsize=(10,20), kind='bar', title = 'C_WTHR vs Accident Severity', stacked = True)"
   ]
  },
  {
   "cell_type": "code",
   "execution_count": null,
   "metadata": {},
   "outputs": [],
   "source": [
    "#Year vs Severity\n",
    "df.groupby(['C_RALN', 'P_ISEV']).size().unstack().plot(figsize=(10,20), kind='bar', title = 'C_RALN vs Accident Severity', stacked = True)"
   ]
  },
  {
   "cell_type": "code",
   "execution_count": null,
   "metadata": {},
   "outputs": [],
   "source": [
    "#Year vs Severity\n",
    "df.groupby(['C_TRAF', 'P_ISEV']).size().unstack().plot(figsize=(10,20), kind='bar', title = 'C_TRAF vs Accident Severity', stacked = True)"
   ]
  },
  {
   "cell_type": "code",
   "execution_count": null,
   "metadata": {},
   "outputs": [],
   "source": [
    "#Year vs Severity\n",
    "df.groupby(['V_ID', 'P_ISEV']).size().unstack().plot(figsize=(10,20), kind='bar', title = 'V_ID vs Accident Severity', stacked = True)"
   ]
  },
  {
   "cell_type": "code",
   "execution_count": null,
   "metadata": {},
   "outputs": [],
   "source": [
    "#Year vs Severity\n",
    "df.groupby(['V_TYPE', 'P_ISEV']).size().unstack().plot(figsize=(10,20), kind='bar', title = 'V_TYPE vs Accident Severity', stacked = True)"
   ]
  },
  {
   "cell_type": "code",
   "execution_count": null,
   "metadata": {},
   "outputs": [],
   "source": [
    "#Year vs Severity\n",
    "df.groupby(['V_YEAR', 'P_ISEV']).size().unstack().plot(figsize=(25,20), kind='bar', title = 'V_YEAR vs Accident Severity', stacked = True)"
   ]
  },
  {
   "cell_type": "code",
   "execution_count": null,
   "metadata": {},
   "outputs": [],
   "source": [
    "#Year vs Severity\n",
    "df.groupby(['P_ID', 'P_ISEV']).size().unstack().plot(figsize=(25,20), kind='bar', title = 'P_ID vs Accident Severity', stacked = True)"
   ]
  },
  {
   "cell_type": "code",
   "execution_count": null,
   "metadata": {},
   "outputs": [],
   "source": [
    "#Year vs Severity\n",
    "df.groupby(['P_SEX', 'P_ISEV']).size().unstack().plot(figsize=(10,20), kind='bar', title = 'P_SEX vs Accident Severity', stacked = True)"
   ]
  },
  {
   "cell_type": "code",
   "execution_count": null,
   "metadata": {},
   "outputs": [],
   "source": [
    "#Year vs Severity\n",
    "df.groupby(['P_AGE', 'P_ISEV']).size().unstack().plot(figsize=(25,20), kind='bar', title = 'P_AGE vs Accident Severity', stacked = True)"
   ]
  },
  {
   "cell_type": "code",
   "execution_count": null,
   "metadata": {},
   "outputs": [],
   "source": [
    "#Year vs Severity\n",
    "df.groupby(['P_PSN', 'P_ISEV']).size().unstack().plot(figsize=(10,20), kind='bar', title = 'P_PSN vs Accident Severity', stacked = True)"
   ]
  },
  {
   "cell_type": "code",
   "execution_count": null,
   "metadata": {},
   "outputs": [],
   "source": [
    "#Year vs Severity\n",
    "df.groupby(['P_SAFE', 'P_ISEV']).size().unstack().plot(figsize=(10,20), kind='bar', title = 'P_SAFE vs Accident Severity', stacked = True)"
   ]
  },
  {
   "cell_type": "code",
   "execution_count": null,
   "metadata": {},
   "outputs": [],
   "source": [
    "#Year vs Severity\n",
    "df.groupby(['P_USER', 'P_ISEV']).size().unstack().plot(figsize=(10,15), kind='bar', title = 'P_USER vs Accident Severity', stacked = True)"
   ]
  },
  {
   "cell_type": "code",
   "execution_count": null,
   "metadata": {},
   "outputs": [],
   "source": [
    "#Year vs Severity\n",
    "df.groupby(['P_ISEV', 'P_ISEV']).size().unstack().plot(figsize=(8,10), kind='bar', title = 'P_ISEV vs Accident Severity', stacked = True)"
   ]
  },
  {
   "cell_type": "code",
   "execution_count": null,
   "metadata": {},
   "outputs": [],
   "source": []
  },
  {
   "cell_type": "code",
   "execution_count": null,
   "metadata": {
    "scrolled": false
   },
   "outputs": [],
   "source": [
    "%matplotlib inline\n",
    "df_int[['C_VEHS', 'P_AGE']].boxplot()"
   ]
  },
  {
   "cell_type": "code",
   "execution_count": null,
   "metadata": {},
   "outputs": [],
   "source": [
    "#check if dataset contains nulls\n",
    "if df.isnull().sum().sum():\n",
    "    print(\"Dataset contains Null values\")\n",
    "else:\n",
    "    print(\"No Null values in the Dataset\")"
   ]
  },
  {
   "cell_type": "code",
   "execution_count": null,
   "metadata": {
    "scrolled": true
   },
   "outputs": [],
   "source": [
    "if df.isna().sum().sum():\n",
    "    print(\"Dataset contains missing values\")\n",
    "else:\n",
    "    print(\"No missing values in the Dataset\")"
   ]
  },
  {
   "cell_type": "code",
   "execution_count": null,
   "metadata": {},
   "outputs": [],
   "source": []
  },
  {
   "cell_type": "code",
   "execution_count": null,
   "metadata": {},
   "outputs": [],
   "source": []
  },
  {
   "cell_type": "code",
   "execution_count": null,
   "metadata": {},
   "outputs": [],
   "source": []
  },
  {
   "cell_type": "code",
   "execution_count": null,
   "metadata": {},
   "outputs": [],
   "source": []
  },
  {
   "cell_type": "code",
   "execution_count": null,
   "metadata": {},
   "outputs": [],
   "source": []
  },
  {
   "cell_type": "code",
   "execution_count": null,
   "metadata": {},
   "outputs": [],
   "source": []
  },
  {
   "cell_type": "code",
   "execution_count": null,
   "metadata": {},
   "outputs": [],
   "source": []
  },
  {
   "cell_type": "code",
   "execution_count": null,
   "metadata": {},
   "outputs": [],
   "source": []
  },
  {
   "cell_type": "code",
   "execution_count": null,
   "metadata": {},
   "outputs": [],
   "source": []
  },
  {
   "cell_type": "code",
   "execution_count": null,
   "metadata": {},
   "outputs": [],
   "source": []
  },
  {
   "cell_type": "markdown",
   "metadata": {},
   "source": [
    "### inspect the data types as imported"
   ]
  },
  {
   "cell_type": "code",
   "execution_count": null,
   "metadata": {},
   "outputs": [],
   "source": []
  },
  {
   "cell_type": "code",
   "execution_count": null,
   "metadata": {},
   "outputs": [],
   "source": []
  },
  {
   "cell_type": "code",
   "execution_count": null,
   "metadata": {},
   "outputs": [],
   "source": []
  },
  {
   "cell_type": "code",
   "execution_count": null,
   "metadata": {},
   "outputs": [],
   "source": []
  },
  {
   "cell_type": "code",
   "execution_count": null,
   "metadata": {},
   "outputs": [],
   "source": []
  },
  {
   "cell_type": "code",
   "execution_count": null,
   "metadata": {},
   "outputs": [],
   "source": []
  },
  {
   "cell_type": "code",
   "execution_count": null,
   "metadata": {},
   "outputs": [],
   "source": []
  },
  {
   "cell_type": "code",
   "execution_count": null,
   "metadata": {},
   "outputs": [],
   "source": []
  },
  {
   "cell_type": "code",
   "execution_count": null,
   "metadata": {
    "scrolled": true
   },
   "outputs": [],
   "source": []
  },
  {
   "cell_type": "code",
   "execution_count": null,
   "metadata": {
    "scrolled": true
   },
   "outputs": [],
   "source": []
  },
  {
   "cell_type": "code",
   "execution_count": null,
   "metadata": {
    "scrolled": true
   },
   "outputs": [],
   "source": []
  },
  {
   "cell_type": "code",
   "execution_count": null,
   "metadata": {
    "scrolled": true
   },
   "outputs": [],
   "source": []
  },
  {
   "cell_type": "code",
   "execution_count": null,
   "metadata": {},
   "outputs": [],
   "source": []
  },
  {
   "cell_type": "code",
   "execution_count": null,
   "metadata": {},
   "outputs": [],
   "source": []
  },
  {
   "cell_type": "code",
   "execution_count": null,
   "metadata": {},
   "outputs": [],
   "source": []
  },
  {
   "cell_type": "code",
   "execution_count": null,
   "metadata": {},
   "outputs": [],
   "source": []
  },
  {
   "cell_type": "code",
   "execution_count": null,
   "metadata": {},
   "outputs": [],
   "source": []
  }
 ],
 "metadata": {
  "kernelspec": {
   "display_name": "Python 3",
   "language": "python",
   "name": "python3"
  },
  "language_info": {
   "codemirror_mode": {
    "name": "ipython",
    "version": 3
   },
   "file_extension": ".py",
   "mimetype": "text/x-python",
   "name": "python",
   "nbconvert_exporter": "python",
   "pygments_lexer": "ipython3",
   "version": "3.7.0"
  }
 },
 "nbformat": 4,
 "nbformat_minor": 2
}
