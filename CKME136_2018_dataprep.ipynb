{
 "cells": [
  {
   "cell_type": "markdown",
   "metadata": {},
   "source": [
    "# Capstone Project"
   ]
  },
  {
   "cell_type": "markdown",
   "metadata": {},
   "source": [
    "### Import required libraries"
   ]
  },
  {
   "cell_type": "code",
   "execution_count": 29,
   "metadata": {},
   "outputs": [],
   "source": [
    "import numpy as np\n",
    "#in case we need to repeat experiment\n",
    "np.random.seed(255)\n",
    "\n",
    "import pandas as pd\n",
    "pd.options.display.max_rows = 25\n",
    "\n",
    "import matplotlib.pyplot as plt\n",
    "plt.style.use('classic')\n",
    "\n",
    "import seaborn as sns\n",
    "sns.set()\n",
    "\n",
    "from IPython.display import display, HTML\n",
    "\n",
    "%matplotlib inline\n",
    "%precision 3\n",
    "debug = False"
   ]
  },
  {
   "cell_type": "markdown",
   "metadata": {},
   "source": [
    "## Utility Functions for this project"
   ]
  },
  {
   "cell_type": "code",
   "execution_count": 30,
   "metadata": {},
   "outputs": [],
   "source": [
    "def plotSimpleHist(data, title, hight=10, width=10):\n",
    "    plot_enabled = True\n",
    "    if(plot_enabled):\n",
    "        shist = data.value_counts().plot(figsize=(width,hight), kind='bar',title=title, stacked = False)\n",
    "        shist.set(xlabel=data.name, ylabel='Accident Count')"
   ]
  },
  {
   "cell_type": "code",
   "execution_count": 31,
   "metadata": {},
   "outputs": [],
   "source": [
    "# list the accident severity count\n",
    "def severity_count(data):\n",
    "    sv_count = data.value_counts()\n",
    "    sv_count.index.name = 'Severity'\n",
    "    df_sv_count = pd.DataFrame({'Count':sv_count.values}, index = sv_count.index)\n",
    "    df_sv_count.rename(index={'1':'non-fatal','2':'injury', '3':'fatal'},inplace=True)\n",
    "    return df_sv_count"
   ]
  },
  {
   "cell_type": "code",
   "execution_count": 32,
   "metadata": {},
   "outputs": [],
   "source": [
    "# list the accident severity count by dependent variable\n",
    "def by_severity_count(data, ind, dep):\n",
    "    bg_count = data.groupby([data[dep],data[ind]])\n",
    "    sv_count = bg_count.size().unstack() \n",
    "    sv_count.index.name = 'Severity'\n",
    "    sv_count.columns.name = ''\n",
    "    sv_count.rename(index={'1':'non-fatal','2':'injury', '3':'fatal'},inplace=True)\n",
    "    sv_count.fillna(value=0, inplace=True)\n",
    "    sv_count.transpose()\n",
    "    return sv_count"
   ]
  },
  {
   "cell_type": "code",
   "execution_count": 33,
   "metadata": {},
   "outputs": [],
   "source": [
    "#plot histogram\n",
    "def checkHistogram(df, feature, pred, plot):\n",
    "    by_level = df.groupby([feature,pred]).size().unstack()\n",
    "\n",
    "    if(plot):\n",
    "        plot = by_level.plot(figsize=(20,15), kind='bar',title='Weather Configuration', stacked = False);\n",
    "            \n",
    "    return by_level"
   ]
  },
  {
   "cell_type": "code",
   "execution_count": 34,
   "metadata": {},
   "outputs": [],
   "source": [
    "#functions\n",
    "debug2 = False\n",
    "\n",
    "def selectBin(start, end, P, leadingZero = False):\n",
    "    x = np.random.choice(np.arange(start, end), p = P)\n",
    "    if debug2:\n",
    "        print(\"Selected bin: {0}\".format(x))\n",
    "    if leadingZero:\n",
    "        if x < 10:\n",
    "            x = '0' + str(x)\n",
    "    return str(x)"
   ]
  },
  {
   "cell_type": "code",
   "execution_count": 35,
   "metadata": {},
   "outputs": [],
   "source": [
    "#compute the probability of each bin\n",
    "def computeP(dataFrm):\n",
    "    N = dataFrm[dataFrm.index.astype('str').str.contains('[0-9]')].sum().sum()\n",
    "    if debug:\n",
    "        print(dataFrm[dataFrm.index.astype('str').str.contains('[0-9]')])\n",
    "        print(N)\n",
    "    \n",
    "    maxCol = dataFrm.index[dataFrm.index.astype('str').str.contains('[0-9]')].max()\n",
    "\n",
    "    #calculate the probability of the each category\n",
    "    P=[]\n",
    "    cur = 1;\n",
    "    for ind in dataFrm.index[dataFrm.index.astype('str').str.contains('[0-9]')]:\n",
    "        if debug:\n",
    "            print(\"ind: {0}\".format(ind))\n",
    "            print(\"cur: {0}\".format(cur))\n",
    "            \n",
    "        # some categoris may not have any values\n",
    "        # we need to build the P matrix for the same number of colums\n",
    "        end = int(ind)\n",
    "        if cur < end:\n",
    "            for i in range(cur, end):\n",
    "                if debug:\n",
    "                    print(\"i: {0}\".format(i))\n",
    "                P.append(0)\n",
    "                cur = cur +1\n",
    "                \n",
    "        p = dataFrm.loc[ind].sum()/N\n",
    "        P.append(p)\n",
    "        cur = cur +1\n",
    "    \n",
    "    if debug:\n",
    "        print(P)\n",
    "        print(np.sum(P))\n",
    "    \n",
    "    return P      \n"
   ]
  },
  {
   "cell_type": "code",
   "execution_count": 36,
   "metadata": {},
   "outputs": [],
   "source": [
    "# remove unwanted data from the dataset\n",
    "def cleanData(df, ind, dep, replace, binStart, binLast, appendZero=False):\n",
    "    #display(by_severity_count(df, dep, ind))\n",
    "    print(\"{count} non-numeric rows observed\".format(count = df[ind].astype('str').str.contains('[^0-9]').sum()))\n",
    "    gby = checkHistogram(df, ind, dep, False)\n",
    "    P = computeP(gby)\n",
    "    for item in replace:     \n",
    "        data_to_impute = df[ind].astype('str').str.contains(item)\n",
    "        df[ind][data_to_impute] = df[ind][data_to_impute].apply(lambda x: x.replace(item, selectBin(binStart, binLast, P, appendZero)))\n",
    "    print(\"{count} non-numeric rows observed\".format(count = df[ind].astype('str').str.contains('[^0-9]').sum()))\n",
    "    #display(by_severity_count(df, dep, ind))"
   ]
  },
  {
   "cell_type": "markdown",
   "metadata": {},
   "source": [
    "### Read data file"
   ]
  },
  {
   "cell_type": "code",
   "execution_count": 37,
   "metadata": {},
   "outputs": [],
   "source": [
    "#df = pd.read_csv('NCDB_2016.csv', engine = 'python')\n",
    "df = pd.read_csv('NCDB_1999_to_2016.csv', engine = 'python')"
   ]
  },
  {
   "cell_type": "markdown",
   "metadata": {},
   "source": [
    "### Number of rows and columns"
   ]
  },
  {
   "cell_type": "code",
   "execution_count": 38,
   "metadata": {
    "scrolled": true
   },
   "outputs": [
    {
     "name": "stdout",
     "output_type": "stream",
     "text": [
      "(6486831, 23)\n"
     ]
    }
   ],
   "source": [
    "print(df.shape)"
   ]
  },
  {
   "cell_type": "markdown",
   "metadata": {},
   "source": [
    "### List dataset columns"
   ]
  },
  {
   "cell_type": "code",
   "execution_count": 39,
   "metadata": {},
   "outputs": [
    {
     "name": "stdout",
     "output_type": "stream",
     "text": [
      "Index(['C_YEAR', 'C_MNTH', 'C_WDAY', 'C_HOUR', 'C_SEV', 'C_VEHS', 'C_CONF',\n",
      "       'C_RCFG', 'C_WTHR', 'C_RSUR', 'C_RALN', 'C_TRAF', 'V_ID', 'V_TYPE',\n",
      "       'V_YEAR', 'P_ID', 'P_SEX', 'P_AGE', 'P_PSN', 'P_ISEV', 'P_SAFE',\n",
      "       'P_USER', 'C_CASE'],\n",
      "      dtype='object')\n"
     ]
    }
   ],
   "source": [
    "print(df.columns)"
   ]
  },
  {
   "cell_type": "code",
   "execution_count": 40,
   "metadata": {
    "scrolled": false
   },
   "outputs": [
    {
     "name": "stdout",
     "output_type": "stream",
     "text": [
      "   C_YEAR C_MNTH C_WDAY C_HOUR  C_SEV C_VEHS C_CONF C_RCFG C_WTHR C_RSUR  \\\n",
      "0    1999     01      1     20      2     02     34     UU      1      5   \n",
      "1    1999     01      1     20      2     02     34     UU      1      5   \n",
      "\n",
      "   ...   V_TYPE V_YEAR P_ID P_SEX P_AGE P_PSN P_ISEV P_SAFE P_USER C_CASE  \n",
      "0  ...       06   1990   01     M    41    11      1     UU      1    752  \n",
      "1  ...       01   1987   01     M    19    11      1     UU      1    752  \n",
      "\n",
      "[2 rows x 23 columns]\n"
     ]
    }
   ],
   "source": [
    "print(df.head(2))"
   ]
  },
  {
   "cell_type": "code",
   "execution_count": 41,
   "metadata": {},
   "outputs": [],
   "source": [
    "## Inital type of each independent variable"
   ]
  },
  {
   "cell_type": "code",
   "execution_count": 42,
   "metadata": {
    "scrolled": false
   },
   "outputs": [
    {
     "name": "stdout",
     "output_type": "stream",
     "text": [
      "C_YEAR     int64\n",
      "C_MNTH    object\n",
      "C_WDAY    object\n",
      "C_HOUR    object\n",
      "C_SEV      int64\n",
      "C_VEHS    object\n",
      "C_CONF    object\n",
      "C_RCFG    object\n",
      "C_WTHR    object\n",
      "C_RSUR    object\n",
      "C_RALN    object\n",
      "C_TRAF    object\n",
      "V_ID      object\n",
      "V_TYPE    object\n",
      "V_YEAR    object\n",
      "P_ID      object\n",
      "P_SEX     object\n",
      "P_AGE     object\n",
      "P_PSN     object\n",
      "P_ISEV    object\n",
      "P_SAFE    object\n",
      "P_USER    object\n",
      "C_CASE     int64\n",
      "dtype: object\n"
     ]
    }
   ],
   "source": [
    "print(df.dtypes)"
   ]
  },
  {
   "cell_type": "markdown",
   "metadata": {},
   "source": [
    "### Backup a copy of the dataset"
   ]
  },
  {
   "cell_type": "code",
   "execution_count": 43,
   "metadata": {},
   "outputs": [],
   "source": [
    "# backup the origial data set\n",
    "dfcopy = df.copy()"
   ]
  },
  {
   "cell_type": "markdown",
   "metadata": {},
   "source": [
    "### Select Pasenger Severity as the Dependent Variable\n",
    "#### Move the dependent variable as the last column"
   ]
  },
  {
   "cell_type": "code",
   "execution_count": 44,
   "metadata": {},
   "outputs": [],
   "source": [
    "#Move the dependent variable to the outside and drop C_CASE column\n",
    "P_ISEV = df['P_ISEV']\n",
    "df.drop(columns = ['P_ISEV'], inplace = True)\n",
    "df['P_ISEV'] = P_ISEV"
   ]
  },
  {
   "cell_type": "markdown",
   "metadata": {},
   "source": [
    "### Remove rows with more than 4 missing values"
   ]
  },
  {
   "cell_type": "code",
   "execution_count": 45,
   "metadata": {},
   "outputs": [
    {
     "name": "stdout",
     "output_type": "stream",
     "text": [
      "Dropped 432980 rows from dataset\n"
     ]
    }
   ],
   "source": [
    "### drop rows that have more than 4 missing values and P_ISEV is not fatal\n",
    "missing_value_strings = ['U', 'UU', 'UUU', 'UUUU', 'N', 'NN', 'NNN', 'NNNN', 'Q', 'QQ', 'QQQ', 'QQQQ', 'X', 'XX', 'XXX', 'XXXX']\n",
    "non_fatal_with_more_than_4_missing = ((df.isin(missing_value_strings).sum(axis=1) > 3) & ~(df['P_ISEV'] == '3')).sum()\n",
    "#df.drop(df.index[(df.isin(missing_value_strings).sum(axis=1) > 3) & ~(df['P_ISEV'] == '3')], inplace = True)\n",
    "df.drop(df.index[(df.isin(missing_value_strings).sum(axis=1) > 4)], inplace = True)\n",
    "df = df.reset_index(drop=True)\n",
    "print(\"Dropped {drop_count} rows from dataset\".format(drop_count = non_fatal_with_more_than_4_missing))"
   ]
  },
  {
   "cell_type": "code",
   "execution_count": null,
   "metadata": {},
   "outputs": [],
   "source": []
  },
  {
   "cell_type": "markdown",
   "metadata": {},
   "source": [
    "### Drop columns C_SEV and C_CASE\n",
    "#### We will not be using them"
   ]
  },
  {
   "cell_type": "code",
   "execution_count": 46,
   "metadata": {},
   "outputs": [],
   "source": [
    "#Move the dependent variable to the outside and drop C_CASE column\n",
    "df.drop(columns = ['C_SEV', 'C_CASE'], inplace = True)"
   ]
  },
  {
   "cell_type": "markdown",
   "metadata": {},
   "source": [
    "### Drop rows where Passenger Severity is unknown"
   ]
  },
  {
   "cell_type": "code",
   "execution_count": 47,
   "metadata": {},
   "outputs": [
    {
     "name": "stdout",
     "output_type": "stream",
     "text": [
      "Dropped 265119 rows from dataset where P_ISEV contained unkown values\n"
     ]
    }
   ],
   "source": [
    "#Drop rows where Passenger severity is unkown\n",
    "drop_count = df['P_ISEV'].isin(['U', 'N',]).sum()\n",
    "df.drop(df.index[df['P_ISEV'].isin(['U', 'N'])], inplace=True)\n",
    "print(\"Dropped {drop_count} rows from dataset where P_ISEV contained unkown values\".format(drop_count = drop_count))\n",
    "df = df.reset_index(drop=True)"
   ]
  },
  {
   "cell_type": "markdown",
   "metadata": {},
   "source": [
    "### Check for missing values"
   ]
  },
  {
   "cell_type": "code",
   "execution_count": null,
   "metadata": {},
   "outputs": [],
   "source": [
    "print(\"This dataset has {0} Null values\".format(df.isnull().sum().sum()))\n",
    "print(\"This dataset has {0} Not a Number (NaN) values\".format(df.isna().sum().sum()))"
   ]
  },
  {
   "cell_type": "markdown",
   "metadata": {},
   "source": [
    "## Histogram of each variable"
   ]
  },
  {
   "cell_type": "code",
   "execution_count": null,
   "metadata": {},
   "outputs": [],
   "source": [
    "# Histogram of Accident Severity of Vehicle Occupant\n",
    "plotSimpleHist(df['P_ISEV'], 'Accident Severity of Vehicle Occupant', hight=10, width=20)\n",
    "severity_count(df['P_ISEV']).transpose()\n",
    "#severity_count(df['P_ISEV'])"
   ]
  },
  {
   "cell_type": "code",
   "execution_count": null,
   "metadata": {},
   "outputs": [],
   "source": [
    "#Year of Accident\n",
    "plotSimpleHist(df['C_YEAR'], 'Year of Accident', hight=10, width=20)\n",
    "by_severity_count(df, 'C_YEAR', 'P_ISEV')"
   ]
  },
  {
   "cell_type": "code",
   "execution_count": null,
   "metadata": {},
   "outputs": [],
   "source": [
    "# Accident Month\n",
    "plotSimpleHist(df['C_MNTH'], 'Accident Month', hight=10, width=20)\n",
    "by_severity_count(df, 'C_MNTH', 'P_ISEV')"
   ]
  },
  {
   "cell_type": "code",
   "execution_count": null,
   "metadata": {},
   "outputs": [],
   "source": [
    "# Weekday of Accident\n",
    "plotSimpleHist(df['C_WDAY'], 'Weekday of Accident', hight=10, width=20)\n",
    "by_severity_count(df, 'C_WDAY', 'P_ISEV')"
   ]
  },
  {
   "cell_type": "code",
   "execution_count": null,
   "metadata": {},
   "outputs": [],
   "source": [
    "# Accident Hour\n",
    "plotSimpleHist(df['C_HOUR'], 'Accident Hour', hight=10, width=20)\n",
    "by_severity_count(df, 'C_HOUR', 'P_ISEV')"
   ]
  },
  {
   "cell_type": "code",
   "execution_count": null,
   "metadata": {},
   "outputs": [],
   "source": [
    "# Number of vehicles involved in collision\n",
    "plotSimpleHist(df['C_VEHS'], 'Number of vehicles involved in collision', hight=10, width=20)\n",
    "by_severity_count(df, 'C_VEHS', 'P_ISEV')"
   ]
  },
  {
   "cell_type": "code",
   "execution_count": null,
   "metadata": {},
   "outputs": [],
   "source": [
    "# Collision configuration\n",
    "plotSimpleHist(df['C_CONF'], 'Collision configuration', hight=10, width=20)\n",
    "by_severity_count(df, 'C_CONF', 'P_ISEV')"
   ]
  },
  {
   "cell_type": "code",
   "execution_count": null,
   "metadata": {},
   "outputs": [],
   "source": [
    "# Roadway configuration\n",
    "plotSimpleHist(df['C_RCFG'], 'Roadway configuration', hight=10, width=20)\n",
    "by_severity_count(df, 'C_RCFG', 'P_ISEV')"
   ]
  },
  {
   "cell_type": "code",
   "execution_count": null,
   "metadata": {},
   "outputs": [],
   "source": [
    "# Weather condition\n",
    "plotSimpleHist(df['C_WTHR'], 'Weather condition', hight=10, width=20)\n",
    "by_severity_count(df, 'C_WTHR', 'P_ISEV')"
   ]
  },
  {
   "cell_type": "code",
   "execution_count": null,
   "metadata": {},
   "outputs": [],
   "source": [
    "# Road surface\n",
    "plotSimpleHist(df['C_RSUR'], 'Road surface', hight=10, width=20)\n",
    "by_severity_count(df, 'C_RSUR', 'P_ISEV')"
   ]
  },
  {
   "cell_type": "code",
   "execution_count": null,
   "metadata": {},
   "outputs": [],
   "source": [
    "# Road alignment\n",
    "plotSimpleHist(df['C_RALN'], 'Road alignment', hight=10, width=20)\n",
    "by_severity_count(df, 'C_RALN', 'P_ISEV')"
   ]
  },
  {
   "cell_type": "code",
   "execution_count": null,
   "metadata": {},
   "outputs": [],
   "source": [
    "# Traffic control\n",
    "plotSimpleHist(df['C_TRAF'], 'Traffic control', hight=10, width=20)\n",
    "by_severity_count(df, 'C_TRAF', 'P_ISEV')"
   ]
  },
  {
   "cell_type": "code",
   "execution_count": null,
   "metadata": {},
   "outputs": [],
   "source": [
    "# Vehicle sequence number\n",
    "# 99 = not a vehile\n",
    "plotSimpleHist(df['V_ID'], 'Vehicle sequence number', hight=10, width=20)\n",
    "by_severity_count(df, 'V_ID', 'P_ISEV')"
   ]
  },
  {
   "cell_type": "code",
   "execution_count": null,
   "metadata": {},
   "outputs": [],
   "source": [
    "# Vehicle type\n",
    "plotSimpleHist(df['V_TYPE'], 'Vehicle type', hight=10, width=20)\n",
    "by_severity_count(df, 'V_TYPE', 'P_ISEV')"
   ]
  },
  {
   "cell_type": "code",
   "execution_count": null,
   "metadata": {},
   "outputs": [],
   "source": [
    "# Vehicle model year\n",
    "plotSimpleHist(df['V_YEAR'], 'Vehicle model year', hight=10, width=20)\n",
    "by_severity_count(df, 'V_YEAR', 'P_ISEV')"
   ]
  },
  {
   "cell_type": "code",
   "execution_count": null,
   "metadata": {},
   "outputs": [],
   "source": [
    "# Person sequence number\n",
    "plotSimpleHist(df['P_ID'], 'Person sequence number', hight=10, width=20)\n",
    "by_severity_count(df, 'P_ID', 'P_ISEV')"
   ]
  },
  {
   "cell_type": "code",
   "execution_count": null,
   "metadata": {},
   "outputs": [],
   "source": [
    "# Person sex\n",
    "plotSimpleHist(df['P_SEX'], 'Person sex', hight=10, width=20)\n",
    "by_severity_count(df, 'P_SEX', 'P_ISEV')"
   ]
  },
  {
   "cell_type": "code",
   "execution_count": null,
   "metadata": {},
   "outputs": [],
   "source": [
    "# Person age\n",
    "plotSimpleHist(df['P_AGE'], 'Person age', hight=10, width=20)\n",
    "by_severity_count(df, 'P_AGE', 'P_ISEV')"
   ]
  },
  {
   "cell_type": "code",
   "execution_count": null,
   "metadata": {},
   "outputs": [],
   "source": [
    "# Person position\n",
    "plotSimpleHist(df['P_PSN'], 'Person position', hight=10, width=20)\n",
    "by_severity_count(df, 'P_PSN', 'P_ISEV')"
   ]
  },
  {
   "cell_type": "code",
   "execution_count": null,
   "metadata": {
    "scrolled": false
   },
   "outputs": [],
   "source": [
    "# Safety device used\n",
    "plotSimpleHist(df['P_SAFE'], 'Safety device used', hight=10, width=20)\n",
    "by_severity_count(df, 'P_SAFE', 'P_ISEV')"
   ]
  },
  {
   "cell_type": "code",
   "execution_count": null,
   "metadata": {},
   "outputs": [],
   "source": [
    "# Road user class\n",
    "plotSimpleHist(df['P_USER'], 'Road user class', hight=10, width=20)\n",
    "by_severity_count(df, 'P_USER', 'P_ISEV')"
   ]
  },
  {
   "cell_type": "markdown",
   "metadata": {},
   "source": [
    "### Copy dataset"
   ]
  },
  {
   "cell_type": "code",
   "execution_count": null,
   "metadata": {},
   "outputs": [],
   "source": [
    "dfcopy2 = df.copy()"
   ]
  },
  {
   "cell_type": "markdown",
   "metadata": {},
   "source": [
    "## Clean dataset"
   ]
  },
  {
   "cell_type": "markdown",
   "metadata": {},
   "source": [
    "#### Clean: P_ISEV"
   ]
  },
  {
   "cell_type": "code",
   "execution_count": null,
   "metadata": {},
   "outputs": [],
   "source": [
    "#P_ISEV\n",
    "#df = dfcopy2.copy()\n",
    "display(severity_count(df['P_ISEV']).transpose())\n",
    "plotSimpleHist(df['P_ISEV'], 'Accident Severity of Vehicle Occupant', hight=10, width=20)\n",
    "print(\"Dropped {drop_count} rows from dataset\".format(drop_count = drop_count))"
   ]
  },
  {
   "cell_type": "markdown",
   "metadata": {},
   "source": [
    "#### Clean: C_YEAR"
   ]
  },
  {
   "cell_type": "code",
   "execution_count": null,
   "metadata": {},
   "outputs": [],
   "source": [
    "#C_YEAR\n",
    "display(by_severity_count(df, 'C_YEAR', 'P_ISEV'))\n",
    "plotSimpleHist(df['C_YEAR'], 'Year of Accident', hight=10, width=20)\n",
    "print(\"{count} non-numeric rows observed\".format(count = df['C_YEAR'].astype('str').str.contains('[^0-9]').sum()))"
   ]
  },
  {
   "cell_type": "markdown",
   "metadata": {},
   "source": [
    "#### Clean: C_MNTH"
   ]
  },
  {
   "cell_type": "code",
   "execution_count": null,
   "metadata": {},
   "outputs": [],
   "source": [
    "display(by_severity_count(df, 'C_MNTH', 'P_ISEV'))\n",
    "print(\"{count} non-numeric rows observed\".format(count = df['C_WTHR'].astype('str').str.contains('[^0-9]').sum()))\n",
    "gbC_MNTH = checkHistogram(df, 'C_MNTH', 'P_ISEV', False)\n",
    "P = computeP(gbC_MNTH)\n",
    "#data_to_impute = df['C_MNTH'].astype('str').str.contains('UU')\n",
    "#df[data_to_impute] = df.loc[data_to_impute].apply(lambda x: x.replace('UU', selectBin(1, 13, P, True)))\n",
    "\n",
    "data_to_impute = df['C_MNTH'].astype('str').str.contains('UU')\n",
    "df['C_MNTH'][data_to_impute] = df['C_MNTH'][data_to_impute].apply(lambda x: x.replace('UU', selectBin(1, 13, P, True)))\n",
    "\n",
    "print(\"{count} non-numeric rows observed\".format(count = df['C_MNTH'].astype('str').str.contains('[^0-9]').sum()))\n",
    "plotSimpleHist(df['C_MNTH'], 'Accident Month', hight=10, width=20)\n",
    "display(by_severity_count(df, 'C_MNTH', 'P_ISEV'))"
   ]
  },
  {
   "cell_type": "markdown",
   "metadata": {},
   "source": [
    "#### Clean: C_WDAY"
   ]
  },
  {
   "cell_type": "code",
   "execution_count": null,
   "metadata": {},
   "outputs": [],
   "source": [
    "# C_WDAY\n",
    "display(by_severity_count(df, 'C_WDAY', 'P_ISEV')) \n",
    "cleanData(df, 'C_WDAY', 'P_ISEV', ['U'], 1, 8, False)\n",
    "plotSimpleHist(df['C_WDAY'], 'Weekday of Accident', hight=10, width=20)\n",
    "display(by_severity_count(df, 'C_WDAY', 'P_ISEV'))"
   ]
  },
  {
   "cell_type": "markdown",
   "metadata": {},
   "source": [
    "#### Clean: C_HOUR"
   ]
  },
  {
   "cell_type": "code",
   "execution_count": null,
   "metadata": {},
   "outputs": [],
   "source": [
    "#C_HOUR\n",
    "display(by_severity_count(df, 'C_HOUR', 'P_ISEV')) \n",
    "cleanData(df, 'C_HOUR', 'P_ISEV', ['UU'], 1, 25, True)\n",
    "plotSimpleHist(df['C_HOUR'], 'Time of Accident', hight=10, width=20)\n",
    "display(by_severity_count(df, 'C_HOUR', 'P_ISEV'))"
   ]
  },
  {
   "cell_type": "markdown",
   "metadata": {},
   "source": [
    "#### Clean: C_VEHS"
   ]
  },
  {
   "cell_type": "code",
   "execution_count": null,
   "metadata": {},
   "outputs": [],
   "source": [
    "# C_VEHS\n",
    "display(by_severity_count(df, 'C_VEHS', 'P_ISEV')) \n",
    "cleanData(df, 'C_VEHS', 'P_ISEV', ['UU'], 1, 78, True)\n",
    "plotSimpleHist(df['C_VEHS'], 'Number of vehicles involved in collision', hight=10, width=20)\n",
    "display(by_severity_count(df, 'C_VEHS', 'P_ISEV'))"
   ]
  },
  {
   "cell_type": "markdown",
   "metadata": {},
   "source": [
    "#### Clean: C_CONF"
   ]
  },
  {
   "cell_type": "code",
   "execution_count": null,
   "metadata": {},
   "outputs": [],
   "source": [
    "display(by_severity_count(df, 'C_CONF', 'P_ISEV')) \n",
    "cleanData(df, 'C_CONF', 'P_ISEV', ['UU', 'QQ'], 1, 42, True)\n",
    "plotSimpleHist(df['C_CONF'], 'Collision configuration', hight=10, width=20)\n",
    "display(by_severity_count(df, 'C_CONF', 'P_ISEV'))"
   ]
  },
  {
   "cell_type": "markdown",
   "metadata": {},
   "source": [
    "#### Clean: C_RCFG"
   ]
  },
  {
   "cell_type": "code",
   "execution_count": null,
   "metadata": {},
   "outputs": [],
   "source": [
    "display(by_severity_count(df, 'C_RCFG', 'P_ISEV')) \n",
    "cleanData(df, 'C_RCFG', 'P_ISEV', ['UU', 'QQ'], 1, 11, True)\n",
    "plotSimpleHist(df['C_RCFG'], 'Roadway configuration', hight=10, width=20)\n",
    "display(by_severity_count(df, 'C_RCFG', 'P_ISEV'))"
   ]
  },
  {
   "cell_type": "markdown",
   "metadata": {},
   "source": [
    "#### Clean: C_WTHR"
   ]
  },
  {
   "cell_type": "code",
   "execution_count": null,
   "metadata": {},
   "outputs": [],
   "source": [
    "#C_WTHR\n",
    "display(by_severity_count(df, 'C_WTHR', 'P_ISEV')) \n",
    "cleanData(df, 'C_WTHR', 'P_ISEV', ['U', 'Q'], 1, 8, False)\n",
    "plotSimpleHist(df['C_WTHR'], 'Weather condition', hight=10, width=20)\n",
    "display(by_severity_count(df, 'C_WTHR', 'P_ISEV'))"
   ]
  },
  {
   "cell_type": "markdown",
   "metadata": {},
   "source": [
    "#### Clean: Road Surface (C_RSUR)"
   ]
  },
  {
   "cell_type": "code",
   "execution_count": null,
   "metadata": {},
   "outputs": [],
   "source": [
    "#C_RSUR\n",
    "display(by_severity_count(df, 'C_RSUR', 'P_ISEV')) \n",
    "cleanData(df, 'C_RSUR', 'P_ISEV', ['U', 'Q'], 1, 10, False)\n",
    "plotSimpleHist(df['C_RSUR'], 'Road surface', hight=10, width=20)\n",
    "display(by_severity_count(df, 'C_RSUR', 'P_ISEV'))"
   ]
  },
  {
   "cell_type": "markdown",
   "metadata": {},
   "source": [
    "#### Clean: Road alignment (C_RALN)"
   ]
  },
  {
   "cell_type": "code",
   "execution_count": null,
   "metadata": {},
   "outputs": [],
   "source": [
    "#C_RALN\n",
    "display(by_severity_count(df, 'C_RALN', 'P_ISEV')) \n",
    "cleanData(df, 'C_RALN', 'P_ISEV', ['U', 'Q'], 1, 7, False)\n",
    "plotSimpleHist(df['C_RALN'], 'Road alignment', hight=10, width=20)\n",
    "display(by_severity_count(df, 'C_RALN', 'P_ISEV'))"
   ]
  },
  {
   "cell_type": "markdown",
   "metadata": {},
   "source": [
    "#### Clean: Traffic control (C_TRAF)"
   ]
  },
  {
   "cell_type": "code",
   "execution_count": null,
   "metadata": {},
   "outputs": [],
   "source": [
    "#C_TRAF\n",
    "display(by_severity_count(df, 'C_TRAF', 'P_ISEV')) \n",
    "cleanData(df, 'C_TRAF', 'P_ISEV', ['UU', 'QQ'], 1, 19, True)\n",
    "plotSimpleHist(df['C_TRAF'], 'Traffic control', hight=10, width=20)\n",
    "display(by_severity_count(df, 'C_TRAF', 'P_ISEV'))"
   ]
  },
  {
   "cell_type": "code",
   "execution_count": null,
   "metadata": {},
   "outputs": [],
   "source": [
    "#### Clean: Vehicle sequence number (V_ID)"
   ]
  },
  {
   "cell_type": "code",
   "execution_count": null,
   "metadata": {},
   "outputs": [],
   "source": [
    "display(by_severity_count(df, 'V_ID', 'P_ISEV')) \n",
    "cleanData(df, 'V_ID', 'P_ISEV', ['UU'], 1, 100, True)\n",
    "plotSimpleHist(df['V_ID'], 'Vehicle sequence number', hight=10, width=20)\n",
    "display(by_severity_count(df, 'V_ID', 'P_ISEV'))"
   ]
  },
  {
   "cell_type": "markdown",
   "metadata": {},
   "source": [
    "#### Clean: Vehicle type (V_TYPE)"
   ]
  },
  {
   "cell_type": "code",
   "execution_count": null,
   "metadata": {},
   "outputs": [],
   "source": [
    "#V_TYPE\n",
    "display(by_severity_count(df, 'V_TYPE', 'P_ISEV')) \n",
    "cleanData(df, 'V_TYPE', 'P_ISEV', ['UU', 'QQ', 'NN'], 1, 24, True)\n",
    "plotSimpleHist(df['V_TYPE'], 'Vehicle type', hight=10, width=20)\n",
    "display(by_severity_count(df, 'V_TYPE', 'P_ISEV'))"
   ]
  },
  {
   "cell_type": "markdown",
   "metadata": {},
   "source": [
    "#### Clean: Vehicle model year ('V_YEAR)"
   ]
  },
  {
   "cell_type": "code",
   "execution_count": null,
   "metadata": {},
   "outputs": [],
   "source": [
    "#V_YEAR\n",
    "display(by_severity_count(df, 'V_YEAR', 'P_ISEV')) \n",
    "#cleanData(df, 'V_YEAR', 'P_ISEV', ['UUUU', 'NNNN'], 1, 117, False)\n",
    "\n",
    "#V_YEAR - Vehicle Year\n",
    "data_to_impute = df['V_YEAR'].astype('str').str.contains('NNNN')\n",
    "df['V_YEAR'][data_to_impute] = '2017'\n",
    "\n",
    "#For now set UUUU to year 2018, unti we find out why the code is not working\n",
    "data_to_impute = df['V_YEAR'].astype('str').str.contains('UUUU')\n",
    "df['V_YEAR'][data_to_impute] = '2018'\n",
    "\n",
    "plotSimpleHist(df['V_YEAR'], 'Vehicle model year', hight=10, width=20)\n",
    "display(by_severity_count(df, 'V_YEAR', 'P_ISEV'))"
   ]
  },
  {
   "cell_type": "code",
   "execution_count": null,
   "metadata": {
    "scrolled": true
   },
   "outputs": [],
   "source": [
    "#df = dfcopy.copy()\n",
    "display(by_severity_count(df, 'P_SEX', 'P_ISEV')) \n",
    "\n",
    "data_to_impute = df['P_SEX'].astype('str').str.contains('F')\n",
    "df['P_SEX'][data_to_impute] = '0'\n",
    "data_to_impute = df['P_SEX'].astype('str').str.contains('M')\n",
    "df['P_SEX'][data_to_impute] = '1'\n",
    "\n",
    "cleanData(df, 'P_SEX', 'P_ISEV', ['U', 'N'], 0,2, False)"
   ]
  },
  {
   "cell_type": "code",
   "execution_count": null,
   "metadata": {},
   "outputs": [],
   "source": [
    "display(by_severity_count(df, 'P_SEX', 'P_ISEV')) "
   ]
  },
  {
   "cell_type": "markdown",
   "metadata": {},
   "source": [
    "#### Clean: Person sequence number (P_ID)"
   ]
  },
  {
   "cell_type": "code",
   "execution_count": null,
   "metadata": {},
   "outputs": [],
   "source": [
    "#P_ID\n",
    "display(by_severity_count(df, 'P_ID', 'P_ISEV')) \n",
    "cleanData(df, 'P_ID', 'P_ISEV', ['UU'], 1, 100, True)\n",
    "plotSimpleHist(df['P_ID'], 'Person sequence number', hight=10, width=20)\n",
    "display(by_severity_count(df, 'P_ID', 'P_ISEV'))"
   ]
  },
  {
   "cell_type": "markdown",
   "metadata": {},
   "source": [
    "#### Clean: Person sex (P_SEX)"
   ]
  },
  {
   "cell_type": "code",
   "execution_count": null,
   "metadata": {},
   "outputs": [],
   "source": [
    "#P_SEX\n",
    "display(by_severity_count(df, 'P_SEX', 'P_ISEV')) \n",
    "\n",
    "data_to_impute = df['P_SEX'].astype('str').str.contains('F')\n",
    "df['P_SEX'][data_to_impute] = '0'\n",
    "data_to_impute = df['P_SEX'].astype('str').str.contains('M')\n",
    "df['P_SEX'][data_to_impute] = '1'\n",
    "\n",
    "cleanData(df, 'P_SEX', 'P_ISEV', ['U', 'N'], 1,3, False)\n",
    "plotSimpleHist(df['P_SEX'], 'Person sex', hight=10, width=20)\n",
    "display(by_severity_count(df, 'P_SEX', 'P_ISEV'))"
   ]
  },
  {
   "cell_type": "markdown",
   "metadata": {},
   "source": [
    "#### Clean: Person age (P_AGE)"
   ]
  },
  {
   "cell_type": "code",
   "execution_count": null,
   "metadata": {},
   "outputs": [],
   "source": [
    "#P_AGE\n",
    "display(by_severity_count(df, 'P_AGE', 'P_ISEV')) \n",
    "cleanData(df, 'P_AGE', 'P_ISEV', ['UU', 'NN'], 1, 100, True)\n",
    "plotSimpleHist(df['P_AGE'], 'Person age', hight=10, width=20)\n",
    "display(by_severity_count(df, 'P_AGE', 'P_ISEV'))"
   ]
  },
  {
   "cell_type": "markdown",
   "metadata": {},
   "source": [
    "#### Clean: Person position"
   ]
  },
  {
   "cell_type": "code",
   "execution_count": null,
   "metadata": {},
   "outputs": [],
   "source": [
    "#P_PSN\n",
    "display(by_severity_count(df, 'P_PSN', 'P_ISEV')) \n",
    "cleanData(df, 'P_PSN', 'P_ISEV', ['UU','NN', 'QQ'], 1, 100, True)\n",
    "plotSimpleHist(df['P_PSN'], 'Person position', hight=10, width=20)\n",
    "display(by_severity_count(df, 'P_PSN', 'P_ISEV'))"
   ]
  },
  {
   "cell_type": "markdown",
   "metadata": {},
   "source": [
    "#### Clean: Safety device used"
   ]
  },
  {
   "cell_type": "code",
   "execution_count": null,
   "metadata": {},
   "outputs": [],
   "source": [
    "#P_SAFE\n",
    "display(by_severity_count(df, 'P_SAFE', 'P_ISEV')) \n",
    "cleanData(df, 'P_SAFE', 'P_ISEV', ['UU','NN', 'QQ'], 1, 14, True)\n",
    "plotSimpleHist(df['P_SAFE'], 'Safety device used', hight=10, width=20)\n",
    "display(by_severity_count(df, 'P_SAFE', 'P_ISEV'))"
   ]
  },
  {
   "cell_type": "markdown",
   "metadata": {},
   "source": [
    "#### Clean: Road user class"
   ]
  },
  {
   "cell_type": "code",
   "execution_count": null,
   "metadata": {},
   "outputs": [],
   "source": [
    "#P_USER\n",
    "display(by_severity_count(df, 'P_USER', 'P_ISEV')) \n",
    "cleanData(df, 'P_USER', 'P_ISEV', ['U'], 1, 6, False)\n",
    "plotSimpleHist(df['P_USER'], 'Road user class', hight=10, width=20)\n",
    "display(by_severity_count(df, 'P_USER', 'P_ISEV'))"
   ]
  },
  {
   "cell_type": "markdown",
   "metadata": {},
   "source": [
    "#### Check that we have no non numeric values"
   ]
  },
  {
   "cell_type": "code",
   "execution_count": null,
   "metadata": {},
   "outputs": [],
   "source": [
    "print(\"This dataset has {0} missing value\".format(df.isnull().sum().sum()))\n",
    "print(\"This dataset has {0} NA value\".format(df.isna().sum().sum()))\n",
    "print(\"This dataset has {0} non numeric value\".format(df[df.index.astype('str').str.contains('[^0-9]')].sum().sum()))"
   ]
  },
  {
   "cell_type": "markdown",
   "metadata": {},
   "source": [
    "### Write Dataset to clean "
   ]
  },
  {
   "cell_type": "code",
   "execution_count": null,
   "metadata": {},
   "outputs": [],
   "source": [
    "df.to_csv('data01_clean.csv', encoding='utf-8', index=False)"
   ]
  },
  {
   "cell_type": "code",
   "execution_count": null,
   "metadata": {},
   "outputs": [],
   "source": [
    "print(df.shape)"
   ]
  },
  {
   "cell_type": "code",
   "execution_count": null,
   "metadata": {},
   "outputs": [],
   "source": [
    "#### Clean Accident month column\n",
    "#import random\n",
    "\n",
    "\n",
    "#Collisions by Month\n",
    "#print(\"{count} non-numeric rows observed\".format(count = df['C_MNTH'].astype('str').str.contains('[^0-9]').sum()))\n",
    "#by_month = df.groupby(['C_MNTH','P_ISEV']).size()\n",
    "#plt_enabled = False\n",
    "#if (plt_enabled):\n",
    "#    plot = by_month.plot(figsize=(20,15), kind='bar',title='Collisions by Year');\n",
    "#\n",
    "#tmp = df.index[df['C_MNTH'].astype('str').str.contains('[^0-9]')]\n",
    "    \n",
    "## Not much variations accross the months, we are going to randomly (with equal probability)\n",
    "#months = ['01', '02', '03', '04', '05', '06', '07', '08', '09', '10', '11', '12']\n",
    "\n",
    "#df['C_MNTH'] = df['C_MNTH'].apply(lambda x: x.replace('UU', np.random.choice(months)))\n",
    "\n",
    "#print(\"{count} non-numeric rows observed\".format(count = df['C_MNTH'].astype('str').str.contains('[^0-9]').sum()))\n",
    "\n"
   ]
  },
  {
   "cell_type": "code",
   "execution_count": null,
   "metadata": {},
   "outputs": [],
   "source": [
    "#### Clean Accident Hour column\n",
    "\n",
    "#Collisions by weekday\n",
    "#print(\"{count} non-numeric rows observed\".format(count = df['C_HOUR'].astype('str').str.contains('[^0-9]').sum()))\n",
    "#by_weekday = df.groupby(['C_HOUR','P_ISEV']).size().unstack()\n",
    "#plt_enabled = False\n",
    "#if (plt_enabled):\n",
    "#    plot = by_weekday.plot(figsize=(20,15), kind='bar',title='Collisions by HOUR', stacked = False);\n",
    "\n",
    "#To many levels, lets reduce the number of levels by combining the hours\n",
    "#[8pm-6am], [7am-7pm]\n",
    "#night = ['22', '23', '00', '01', '02', '03', '04', '05']\n",
    "#morning = ['06', '07', '08', '09', '10', '11']\n",
    "#activeHours = ['12', '13', '14', '15', '16', '17', '18', '19', '20', '21'] \n",
    "\n",
    "#df['C_HOUR'] = df['C_HOUR'].apply(lambda x: x.replace(Night, '1'))\n",
    "#df['C_HOUR'] = df['C_HOUR'].apply(lambda x: x.replace(Night, '1'))\n",
    "#df['C_HOUR'] = df['C_HOUR'].apply(lambda x: '1' if x in night else '2' if x in morning else '3')\n",
    "#print(\"{count} non-numeric rows observed\".format(count = df['C_HOUR'].astype('str').str.contains('[^0-9]').sum()))\n",
    "\n",
    "#if (plt_enabled):\n",
    "#    plot = by_weekday.plot(figsize=(20,15), kind='bar',title='Collisions by HOUR', stacked = False);\n"
   ]
  },
  {
   "cell_type": "code",
   "execution_count": null,
   "metadata": {},
   "outputs": [],
   "source": []
  },
  {
   "cell_type": "code",
   "execution_count": null,
   "metadata": {},
   "outputs": [],
   "source": []
  },
  {
   "cell_type": "code",
   "execution_count": null,
   "metadata": {},
   "outputs": [],
   "source": [
    "#set the correct type for each variable\n",
    "#df = df.astype('category')\n",
    "#df['C_YEAR'] = df['C_YEAR'].astype('int64')\n",
    "#df['C_VEHS'] = df['C_VEHS'].astype('int64')\n",
    "#df['V_YEAR'] = df['V_YEAR'].astype('int64')\n",
    "#df['P_AGE'] = df['P_AGE'].astype('int64')"
   ]
  },
  {
   "cell_type": "code",
   "execution_count": null,
   "metadata": {},
   "outputs": [],
   "source": [
    "#df of categorical and numberic varaibales\n",
    "#df_cat = df.select_dtypes(include=['category']).copy()\n",
    "#df_int = df.select_dtypes(include=['int64']).copy()"
   ]
  },
  {
   "cell_type": "code",
   "execution_count": null,
   "metadata": {},
   "outputs": [],
   "source": [
    "#print(df_cat.head())\n",
    "#print(df_int.head())"
   ]
  },
  {
   "cell_type": "code",
   "execution_count": null,
   "metadata": {},
   "outputs": [],
   "source": [
    "#pd.options.display.float_format = '{:.4g}'.format\n",
    "#df_int.describe()"
   ]
  },
  {
   "cell_type": "code",
   "execution_count": null,
   "metadata": {},
   "outputs": [],
   "source": [
    "#df_int[['C_VEHS']].boxplot()"
   ]
  },
  {
   "cell_type": "code",
   "execution_count": null,
   "metadata": {},
   "outputs": [],
   "source": [
    "#df_int[['P_AGE']].boxplot()"
   ]
  },
  {
   "cell_type": "code",
   "execution_count": null,
   "metadata": {},
   "outputs": [],
   "source": []
  },
  {
   "cell_type": "code",
   "execution_count": null,
   "metadata": {},
   "outputs": [],
   "source": [
    "if debug:\n",
    "    #The overall diagram\n",
    "    plot1 = df1.plot(figsize=(10,10),title='Collision overall statistics')\n",
    "    plot1.set_xlabel(\"Year\")\n",
    "    plot1.set_ylabel(\"Number of collisions\");"
   ]
  },
  {
   "cell_type": "code",
   "execution_count": null,
   "metadata": {},
   "outputs": [],
   "source": [
    "if debug:\n",
    "    #Collisions by weekday\n",
    "    by_weekday = df_b.groupby('C_WDAY')['P_ISEV'].count()\n",
    "    by_weekday.index = ['Mon', 'Tue', 'Wed', 'Thu', 'Fri', 'Sat', 'Sun']\n",
    "    plot2 = by_weekday.plot(kind='bar',title='Collisions by day');"
   ]
  },
  {
   "cell_type": "code",
   "execution_count": null,
   "metadata": {},
   "outputs": [],
   "source": [
    "if debug:\n",
    "    #Collisions by hour\n",
    "    plt.figure(figsize=(15,5))\n",
    "    by_hour = df_b.groupby('C_HOUR')['P_ISEV'].count()\n",
    "    plot3 = by_hour.plot(kind='bar',title='Collisions by hour',color='B');"
   ]
  },
  {
   "cell_type": "code",
   "execution_count": null,
   "metadata": {},
   "outputs": [],
   "source": [
    "if debug:\n",
    "    #Year vs Severity\n",
    "    df.groupby(['C_YEAR', 'P_ISEV']).size().unstack().plot(figsize=(10,10), kind='bar', title = 'Year vs Accident Severity', stacked = True)"
   ]
  },
  {
   "cell_type": "code",
   "execution_count": null,
   "metadata": {},
   "outputs": [],
   "source": [
    "if debug:\n",
    "    #Year vs Severity\n",
    "    df.groupby(['C_MNTH', 'P_ISEV']).size().unstack().plot(figsize=(10,10), kind='bar', title = 'Month vs Accident Severity', stacked = True)"
   ]
  },
  {
   "cell_type": "code",
   "execution_count": null,
   "metadata": {},
   "outputs": [],
   "source": [
    "if debug:\n",
    "    #Year vs Severity\n",
    "    df.groupby(['C_WDAY', 'P_ISEV']).size().unstack().plot(figsize=(10,10), kind='bar', title = 'Day vs Accident Severity', stacked = True)"
   ]
  },
  {
   "cell_type": "code",
   "execution_count": null,
   "metadata": {},
   "outputs": [],
   "source": [
    "if debug:\n",
    "    #Year vs Severity\n",
    "    df.groupby(['C_HOUR', 'P_ISEV']).size().unstack().plot(figsize=(10,10), kind='bar', title = 'HOUR vs Accident Severity', stacked = True)"
   ]
  },
  {
   "cell_type": "code",
   "execution_count": null,
   "metadata": {},
   "outputs": [],
   "source": [
    "if debug:\n",
    "    #Year vs Severity\n",
    "    df.groupby(['C_VEHS', 'P_ISEV']).size().unstack().plot(figsize=(10,10), kind='bar', title = 'C_VEHS vs Accident Severity', stacked = True)"
   ]
  },
  {
   "cell_type": "code",
   "execution_count": null,
   "metadata": {},
   "outputs": [],
   "source": [
    "if debug:\n",
    "    #Year vs Severity\n",
    "    df.groupby(['C_CONF', 'P_ISEV']).size().unstack().plot(figsize=(10,20), kind='bar', title = 'C_CONF vs Accident Severity', stacked = True)"
   ]
  },
  {
   "cell_type": "code",
   "execution_count": null,
   "metadata": {},
   "outputs": [],
   "source": [
    "if debug:\n",
    "    #Year vs Severity\n",
    "    df.groupby(['C_RCFG', 'P_ISEV']).size().unstack().plot(figsize=(10,20), kind='bar', title = 'C_RCFG vs Accident Severity', stacked = True)"
   ]
  },
  {
   "cell_type": "code",
   "execution_count": null,
   "metadata": {},
   "outputs": [],
   "source": [
    "if debug:\n",
    "    #Year vs Severity\n",
    "    df.groupby(['C_WTHR', 'P_ISEV']).size().unstack().plot(figsize=(10,20), kind='bar', title = 'C_WTHR vs Accident Severity', stacked = True)"
   ]
  },
  {
   "cell_type": "code",
   "execution_count": null,
   "metadata": {},
   "outputs": [],
   "source": [
    "if debug:\n",
    "    #Year vs Severity\n",
    "    df.groupby(['C_RSUR', 'P_ISEV']).size().unstack().plot(figsize=(10,20), kind='bar', title = 'C_WTHR vs Accident Severity', stacked = True)"
   ]
  },
  {
   "cell_type": "code",
   "execution_count": null,
   "metadata": {},
   "outputs": [],
   "source": [
    "if debug:\n",
    "    #Year vs Severity\n",
    "    df.groupby(['C_RALN', 'P_ISEV']).size().unstack().plot(figsize=(10,20), kind='bar', title = 'C_RALN vs Accident Severity', stacked = True)"
   ]
  },
  {
   "cell_type": "code",
   "execution_count": null,
   "metadata": {},
   "outputs": [],
   "source": [
    "if debug:\n",
    "    #Year vs Severity\n",
    "    df.groupby(['C_TRAF', 'P_ISEV']).size().unstack().plot(figsize=(10,20), kind='bar', title = 'C_TRAF vs Accident Severity', stacked = True)"
   ]
  },
  {
   "cell_type": "code",
   "execution_count": null,
   "metadata": {},
   "outputs": [],
   "source": [
    "if debug:\n",
    "    #Year vs Severity\n",
    "    df.groupby(['V_ID', 'P_ISEV']).size().unstack().plot(figsize=(10,20), kind='bar', title = 'V_ID vs Accident Severity', stacked = True)"
   ]
  },
  {
   "cell_type": "code",
   "execution_count": null,
   "metadata": {},
   "outputs": [],
   "source": [
    "if debug:\n",
    "    #Year vs Severity\n",
    "    df.groupby(['V_TYPE', 'P_ISEV']).size().unstack().plot(figsize=(10,20), kind='bar', title = 'V_TYPE vs Accident Severity', stacked = True)"
   ]
  },
  {
   "cell_type": "code",
   "execution_count": null,
   "metadata": {},
   "outputs": [],
   "source": [
    "if debug:\n",
    "    #Year vs Severity\n",
    "    df.groupby(['V_YEAR', 'P_ISEV']).size().unstack().plot(figsize=(25,20), kind='bar', title = 'V_YEAR vs Accident Severity', stacked = True)"
   ]
  },
  {
   "cell_type": "code",
   "execution_count": null,
   "metadata": {},
   "outputs": [],
   "source": [
    "if debug:\n",
    "    #Year vs Severity\n",
    "    df.groupby(['P_ID', 'P_ISEV']).size().unstack().plot(figsize=(25,20), kind='bar', title = 'P_ID vs Accident Severity', stacked = True)"
   ]
  },
  {
   "cell_type": "code",
   "execution_count": null,
   "metadata": {},
   "outputs": [],
   "source": [
    "if debug:\n",
    "    #Year vs Severity\n",
    "    df.groupby(['P_SEX', 'P_ISEV']).size().unstack().plot(figsize=(10,20), kind='bar', title = 'P_SEX vs Accident Severity', stacked = True)"
   ]
  },
  {
   "cell_type": "code",
   "execution_count": null,
   "metadata": {},
   "outputs": [],
   "source": [
    "if debug:\n",
    "    #Year vs Severity\n",
    "    df.groupby(['P_AGE', 'P_ISEV']).size().unstack().plot(figsize=(25,20), kind='bar', title = 'P_AGE vs Accident Severity', stacked = True)"
   ]
  },
  {
   "cell_type": "code",
   "execution_count": null,
   "metadata": {},
   "outputs": [],
   "source": [
    "if debug:\n",
    "    #Year vs Severity\n",
    "    df.groupby(['P_PSN', 'P_ISEV']).size().unstack().plot(figsize=(10,20), kind='bar', title = 'P_PSN vs Accident Severity', stacked = True)"
   ]
  },
  {
   "cell_type": "code",
   "execution_count": null,
   "metadata": {},
   "outputs": [],
   "source": [
    "if debug:\n",
    "    #Year vs Severity\n",
    "    df.groupby(['P_SAFE', 'P_ISEV']).size().unstack().plot(figsize=(10,20), kind='bar', title = 'P_SAFE vs Accident Severity', stacked = True)"
   ]
  },
  {
   "cell_type": "code",
   "execution_count": null,
   "metadata": {},
   "outputs": [],
   "source": [
    "if debug:\n",
    "    #Year vs Severity\n",
    "    df.groupby(['P_USER', 'P_ISEV']).size().unstack().plot(figsize=(10,15), kind='bar', title = 'P_USER vs Accident Severity', stacked = True)"
   ]
  },
  {
   "cell_type": "code",
   "execution_count": null,
   "metadata": {},
   "outputs": [],
   "source": [
    "if debug:\n",
    "    #Year vs Severity\n",
    "    df.groupby(['P_ISEV', 'P_ISEV']).size().unstack().plot(figsize=(8,10), kind='bar', title = 'P_ISEV vs Accident Severity', stacked = True)"
   ]
  },
  {
   "cell_type": "code",
   "execution_count": null,
   "metadata": {},
   "outputs": [],
   "source": []
  },
  {
   "cell_type": "code",
   "execution_count": null,
   "metadata": {
    "scrolled": false
   },
   "outputs": [],
   "source": [
    "#%matplotlib inline\n",
    "#df_int[['C_VEHS', 'P_AGE']].boxplot()"
   ]
  },
  {
   "cell_type": "code",
   "execution_count": null,
   "metadata": {},
   "outputs": [],
   "source": [
    "#check if dataset contains nulls\n",
    "if df.isnull().sum().sum():\n",
    "    print(\"Dataset contains Null values\")\n",
    "else:\n",
    "    print(\"No Null values in the Dataset\")"
   ]
  },
  {
   "cell_type": "code",
   "execution_count": null,
   "metadata": {
    "scrolled": true
   },
   "outputs": [],
   "source": [
    "if df.isna().sum().sum():\n",
    "    print(\"Dataset contains missing values\")\n",
    "else:\n",
    "    print(\"No missing values in the Dataset\")"
   ]
  },
  {
   "cell_type": "code",
   "execution_count": null,
   "metadata": {},
   "outputs": [],
   "source": []
  },
  {
   "cell_type": "code",
   "execution_count": null,
   "metadata": {},
   "outputs": [],
   "source": []
  },
  {
   "cell_type": "code",
   "execution_count": null,
   "metadata": {},
   "outputs": [],
   "source": []
  },
  {
   "cell_type": "code",
   "execution_count": null,
   "metadata": {},
   "outputs": [],
   "source": []
  },
  {
   "cell_type": "code",
   "execution_count": null,
   "metadata": {},
   "outputs": [],
   "source": []
  },
  {
   "cell_type": "code",
   "execution_count": null,
   "metadata": {},
   "outputs": [],
   "source": []
  },
  {
   "cell_type": "code",
   "execution_count": null,
   "metadata": {},
   "outputs": [],
   "source": []
  },
  {
   "cell_type": "code",
   "execution_count": null,
   "metadata": {},
   "outputs": [],
   "source": []
  },
  {
   "cell_type": "code",
   "execution_count": null,
   "metadata": {},
   "outputs": [],
   "source": []
  },
  {
   "cell_type": "code",
   "execution_count": null,
   "metadata": {},
   "outputs": [],
   "source": []
  },
  {
   "cell_type": "code",
   "execution_count": null,
   "metadata": {},
   "outputs": [],
   "source": []
  },
  {
   "cell_type": "code",
   "execution_count": null,
   "metadata": {},
   "outputs": [],
   "source": []
  },
  {
   "cell_type": "code",
   "execution_count": null,
   "metadata": {},
   "outputs": [],
   "source": []
  },
  {
   "cell_type": "code",
   "execution_count": null,
   "metadata": {},
   "outputs": [],
   "source": []
  },
  {
   "cell_type": "code",
   "execution_count": null,
   "metadata": {},
   "outputs": [],
   "source": []
  },
  {
   "cell_type": "code",
   "execution_count": null,
   "metadata": {},
   "outputs": [],
   "source": []
  },
  {
   "cell_type": "code",
   "execution_count": null,
   "metadata": {},
   "outputs": [],
   "source": []
  },
  {
   "cell_type": "code",
   "execution_count": null,
   "metadata": {},
   "outputs": [],
   "source": []
  },
  {
   "cell_type": "code",
   "execution_count": null,
   "metadata": {
    "scrolled": true
   },
   "outputs": [],
   "source": []
  },
  {
   "cell_type": "code",
   "execution_count": null,
   "metadata": {
    "scrolled": true
   },
   "outputs": [],
   "source": []
  },
  {
   "cell_type": "code",
   "execution_count": null,
   "metadata": {
    "scrolled": true
   },
   "outputs": [],
   "source": []
  },
  {
   "cell_type": "code",
   "execution_count": null,
   "metadata": {
    "scrolled": true
   },
   "outputs": [],
   "source": []
  },
  {
   "cell_type": "code",
   "execution_count": null,
   "metadata": {},
   "outputs": [],
   "source": []
  },
  {
   "cell_type": "code",
   "execution_count": null,
   "metadata": {},
   "outputs": [],
   "source": []
  },
  {
   "cell_type": "code",
   "execution_count": null,
   "metadata": {},
   "outputs": [],
   "source": []
  },
  {
   "cell_type": "code",
   "execution_count": null,
   "metadata": {},
   "outputs": [],
   "source": []
  },
  {
   "cell_type": "code",
   "execution_count": null,
   "metadata": {},
   "outputs": [],
   "source": []
  }
 ],
 "metadata": {
  "kernelspec": {
   "display_name": "Python 3",
   "language": "python",
   "name": "python3"
  },
  "language_info": {
   "codemirror_mode": {
    "name": "ipython",
    "version": 3
   },
   "file_extension": ".py",
   "mimetype": "text/x-python",
   "name": "python",
   "nbconvert_exporter": "python",
   "pygments_lexer": "ipython3",
   "version": "3.7.0"
  }
 },
 "nbformat": 4,
 "nbformat_minor": 2
}
