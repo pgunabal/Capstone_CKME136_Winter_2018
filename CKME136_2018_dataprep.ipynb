{
 "cells": [
  {
   "cell_type": "markdown",
   "metadata": {},
   "source": [
    "# Capstone Project"
   ]
  },
  {
   "cell_type": "markdown",
   "metadata": {},
   "source": [
    "### Import required libraries"
   ]
  },
  {
   "cell_type": "code",
   "execution_count": 240,
   "metadata": {},
   "outputs": [],
   "source": [
    "import numpy as np\n",
    "#in case we need to repeat experiment\n",
    "np.random.seed(255)\n",
    "\n",
    "import pandas as pd\n",
    "pd.options.display.max_rows = 25\n",
    "\n",
    "import matplotlib.pyplot as plt\n",
    "plt.style.use('classic')\n",
    "\n",
    "\n",
    "import seaborn as sns\n",
    "sns.set()\n",
    "\n",
    "%matplotlib inline\n",
    "%precision 3\n",
    "debug = False"
   ]
  },
  {
   "cell_type": "markdown",
   "metadata": {},
   "source": [
    "### Read data file"
   ]
  },
  {
   "cell_type": "code",
   "execution_count": 198,
   "metadata": {},
   "outputs": [],
   "source": [
    "#df = pd.read_csv('NCDB_2016.csv', engine = 'python')\n",
    "df = pd.read_csv('NCDB_1999_to_2016.csv', engine = 'python')"
   ]
  },
  {
   "cell_type": "code",
   "execution_count": 199,
   "metadata": {
    "scrolled": true
   },
   "outputs": [
    {
     "name": "stdout",
     "output_type": "stream",
     "text": [
      "(6486831, 23)\n"
     ]
    }
   ],
   "source": [
    "print(df.shape)"
   ]
  },
  {
   "cell_type": "code",
   "execution_count": 200,
   "metadata": {
    "scrolled": true
   },
   "outputs": [
    {
     "name": "stdout",
     "output_type": "stream",
     "text": [
      "   C_YEAR C_MNTH C_WDAY C_HOUR  C_SEV C_VEHS C_CONF C_RCFG C_WTHR C_RSUR  \\\n",
      "0    1999     01      1     20      2     02     34     UU      1      5   \n",
      "1    1999     01      1     20      2     02     34     UU      1      5   \n",
      "\n",
      "   ...   V_TYPE V_YEAR P_ID P_SEX P_AGE P_PSN P_ISEV P_SAFE P_USER C_CASE  \n",
      "0  ...       06   1990   01     M    41    11      1     UU      1    752  \n",
      "1  ...       01   1987   01     M    19    11      1     UU      1    752  \n",
      "\n",
      "[2 rows x 23 columns]\n"
     ]
    }
   ],
   "source": [
    "print(df.head(2))"
   ]
  },
  {
   "cell_type": "code",
   "execution_count": 201,
   "metadata": {},
   "outputs": [
    {
     "name": "stdout",
     "output_type": "stream",
     "text": [
      "   C_YEAR C_MNTH C_WDAY C_HOUR  C_SEV C_VEHS C_CONF C_RCFG C_WTHR C_RSUR  \\\n",
      "0    1999     01      1     20      2     02     34     UU      1      5   \n",
      "1    1999     01      1     20      2     02     34     UU      1      5   \n",
      "2    1999     01      1     20      2     02     34     UU      1      5   \n",
      "3    1999     01      1     08      2     01     01     UU      5      3   \n",
      "4    1999     01      1     08      2     01     01     UU      5      3   \n",
      "\n",
      "   ...   V_TYPE V_YEAR P_ID P_SEX P_AGE P_PSN P_ISEV P_SAFE P_USER C_CASE  \n",
      "0  ...       06   1990   01     M    41    11      1     UU      1    752  \n",
      "1  ...       01   1987   01     M    19    11      1     UU      1    752  \n",
      "2  ...       01   1987   02     F    20    13      2     02      2    752  \n",
      "3  ...       01   1986   01     M    46    11      1     UU      1    753  \n",
      "4  ...       NN   NNNN   01     M    05    99      2     UU      3    753  \n",
      "\n",
      "[5 rows x 23 columns]\n"
     ]
    }
   ],
   "source": [
    "print(df.loc[0:4])"
   ]
  },
  {
   "cell_type": "code",
   "execution_count": 202,
   "metadata": {
    "scrolled": true
   },
   "outputs": [
    {
     "data": {
      "text/plain": [
       "C_YEAR     int64\n",
       "C_MNTH    object\n",
       "C_WDAY    object\n",
       "C_HOUR    object\n",
       "C_SEV      int64\n",
       "C_VEHS    object\n",
       "C_CONF    object\n",
       "C_RCFG    object\n",
       "C_WTHR    object\n",
       "C_RSUR    object\n",
       "C_RALN    object\n",
       "           ...  \n",
       "V_ID      object\n",
       "V_TYPE    object\n",
       "V_YEAR    object\n",
       "P_ID      object\n",
       "P_SEX     object\n",
       "P_AGE     object\n",
       "P_PSN     object\n",
       "P_ISEV    object\n",
       "P_SAFE    object\n",
       "P_USER    object\n",
       "C_CASE     int64\n",
       "Length: 23, dtype: object"
      ]
     },
     "execution_count": 202,
     "metadata": {},
     "output_type": "execute_result"
    }
   ],
   "source": [
    "df.dtypes"
   ]
  },
  {
   "cell_type": "code",
   "execution_count": 203,
   "metadata": {
    "scrolled": false
   },
   "outputs": [
    {
     "data": {
      "text/html": [
       "<div>\n",
       "<style scoped>\n",
       "    .dataframe tbody tr th:only-of-type {\n",
       "        vertical-align: middle;\n",
       "    }\n",
       "\n",
       "    .dataframe tbody tr th {\n",
       "        vertical-align: top;\n",
       "    }\n",
       "\n",
       "    .dataframe thead th {\n",
       "        text-align: right;\n",
       "    }\n",
       "</style>\n",
       "<table border=\"1\" class=\"dataframe\">\n",
       "  <thead>\n",
       "    <tr style=\"text-align: right;\">\n",
       "      <th></th>\n",
       "      <th>C_YEAR</th>\n",
       "      <th>C_MNTH</th>\n",
       "      <th>C_WDAY</th>\n",
       "      <th>C_HOUR</th>\n",
       "      <th>C_VEHS</th>\n",
       "      <th>C_CONF</th>\n",
       "      <th>C_RCFG</th>\n",
       "      <th>C_WTHR</th>\n",
       "      <th>C_RSUR</th>\n",
       "      <th>C_RALN</th>\n",
       "      <th>...</th>\n",
       "      <th>V_ID</th>\n",
       "      <th>V_TYPE</th>\n",
       "      <th>V_YEAR</th>\n",
       "      <th>P_ID</th>\n",
       "      <th>P_SEX</th>\n",
       "      <th>P_AGE</th>\n",
       "      <th>P_PSN</th>\n",
       "      <th>P_SAFE</th>\n",
       "      <th>P_USER</th>\n",
       "      <th>P_ISEV</th>\n",
       "    </tr>\n",
       "  </thead>\n",
       "  <tbody>\n",
       "    <tr>\n",
       "      <th>0</th>\n",
       "      <td>1999</td>\n",
       "      <td>01</td>\n",
       "      <td>1</td>\n",
       "      <td>20</td>\n",
       "      <td>02</td>\n",
       "      <td>34</td>\n",
       "      <td>UU</td>\n",
       "      <td>1</td>\n",
       "      <td>5</td>\n",
       "      <td>3</td>\n",
       "      <td>...</td>\n",
       "      <td>01</td>\n",
       "      <td>06</td>\n",
       "      <td>1990</td>\n",
       "      <td>01</td>\n",
       "      <td>M</td>\n",
       "      <td>41</td>\n",
       "      <td>11</td>\n",
       "      <td>UU</td>\n",
       "      <td>1</td>\n",
       "      <td>1</td>\n",
       "    </tr>\n",
       "    <tr>\n",
       "      <th>1</th>\n",
       "      <td>1999</td>\n",
       "      <td>01</td>\n",
       "      <td>1</td>\n",
       "      <td>20</td>\n",
       "      <td>02</td>\n",
       "      <td>34</td>\n",
       "      <td>UU</td>\n",
       "      <td>1</td>\n",
       "      <td>5</td>\n",
       "      <td>3</td>\n",
       "      <td>...</td>\n",
       "      <td>02</td>\n",
       "      <td>01</td>\n",
       "      <td>1987</td>\n",
       "      <td>01</td>\n",
       "      <td>M</td>\n",
       "      <td>19</td>\n",
       "      <td>11</td>\n",
       "      <td>UU</td>\n",
       "      <td>1</td>\n",
       "      <td>1</td>\n",
       "    </tr>\n",
       "    <tr>\n",
       "      <th>2</th>\n",
       "      <td>1999</td>\n",
       "      <td>01</td>\n",
       "      <td>1</td>\n",
       "      <td>20</td>\n",
       "      <td>02</td>\n",
       "      <td>34</td>\n",
       "      <td>UU</td>\n",
       "      <td>1</td>\n",
       "      <td>5</td>\n",
       "      <td>3</td>\n",
       "      <td>...</td>\n",
       "      <td>02</td>\n",
       "      <td>01</td>\n",
       "      <td>1987</td>\n",
       "      <td>02</td>\n",
       "      <td>F</td>\n",
       "      <td>20</td>\n",
       "      <td>13</td>\n",
       "      <td>02</td>\n",
       "      <td>2</td>\n",
       "      <td>2</td>\n",
       "    </tr>\n",
       "    <tr>\n",
       "      <th>3</th>\n",
       "      <td>1999</td>\n",
       "      <td>01</td>\n",
       "      <td>1</td>\n",
       "      <td>08</td>\n",
       "      <td>01</td>\n",
       "      <td>01</td>\n",
       "      <td>UU</td>\n",
       "      <td>5</td>\n",
       "      <td>3</td>\n",
       "      <td>6</td>\n",
       "      <td>...</td>\n",
       "      <td>01</td>\n",
       "      <td>01</td>\n",
       "      <td>1986</td>\n",
       "      <td>01</td>\n",
       "      <td>M</td>\n",
       "      <td>46</td>\n",
       "      <td>11</td>\n",
       "      <td>UU</td>\n",
       "      <td>1</td>\n",
       "      <td>1</td>\n",
       "    </tr>\n",
       "    <tr>\n",
       "      <th>4</th>\n",
       "      <td>1999</td>\n",
       "      <td>01</td>\n",
       "      <td>1</td>\n",
       "      <td>08</td>\n",
       "      <td>01</td>\n",
       "      <td>01</td>\n",
       "      <td>UU</td>\n",
       "      <td>5</td>\n",
       "      <td>3</td>\n",
       "      <td>6</td>\n",
       "      <td>...</td>\n",
       "      <td>99</td>\n",
       "      <td>NN</td>\n",
       "      <td>NNNN</td>\n",
       "      <td>01</td>\n",
       "      <td>M</td>\n",
       "      <td>05</td>\n",
       "      <td>99</td>\n",
       "      <td>UU</td>\n",
       "      <td>3</td>\n",
       "      <td>2</td>\n",
       "    </tr>\n",
       "    <tr>\n",
       "      <th>5</th>\n",
       "      <td>1999</td>\n",
       "      <td>01</td>\n",
       "      <td>1</td>\n",
       "      <td>17</td>\n",
       "      <td>03</td>\n",
       "      <td>QQ</td>\n",
       "      <td>QQ</td>\n",
       "      <td>1</td>\n",
       "      <td>2</td>\n",
       "      <td>1</td>\n",
       "      <td>...</td>\n",
       "      <td>01</td>\n",
       "      <td>01</td>\n",
       "      <td>1984</td>\n",
       "      <td>01</td>\n",
       "      <td>M</td>\n",
       "      <td>28</td>\n",
       "      <td>11</td>\n",
       "      <td>UU</td>\n",
       "      <td>1</td>\n",
       "      <td>1</td>\n",
       "    </tr>\n",
       "    <tr>\n",
       "      <th>6</th>\n",
       "      <td>1999</td>\n",
       "      <td>01</td>\n",
       "      <td>1</td>\n",
       "      <td>17</td>\n",
       "      <td>03</td>\n",
       "      <td>QQ</td>\n",
       "      <td>QQ</td>\n",
       "      <td>1</td>\n",
       "      <td>2</td>\n",
       "      <td>1</td>\n",
       "      <td>...</td>\n",
       "      <td>02</td>\n",
       "      <td>01</td>\n",
       "      <td>1991</td>\n",
       "      <td>01</td>\n",
       "      <td>M</td>\n",
       "      <td>21</td>\n",
       "      <td>11</td>\n",
       "      <td>UU</td>\n",
       "      <td>1</td>\n",
       "      <td>1</td>\n",
       "    </tr>\n",
       "    <tr>\n",
       "      <th>7</th>\n",
       "      <td>1999</td>\n",
       "      <td>01</td>\n",
       "      <td>1</td>\n",
       "      <td>17</td>\n",
       "      <td>03</td>\n",
       "      <td>QQ</td>\n",
       "      <td>QQ</td>\n",
       "      <td>1</td>\n",
       "      <td>2</td>\n",
       "      <td>1</td>\n",
       "      <td>...</td>\n",
       "      <td>02</td>\n",
       "      <td>01</td>\n",
       "      <td>1991</td>\n",
       "      <td>02</td>\n",
       "      <td>F</td>\n",
       "      <td>UU</td>\n",
       "      <td>13</td>\n",
       "      <td>UU</td>\n",
       "      <td>2</td>\n",
       "      <td>2</td>\n",
       "    </tr>\n",
       "    <tr>\n",
       "      <th>8</th>\n",
       "      <td>1999</td>\n",
       "      <td>01</td>\n",
       "      <td>1</td>\n",
       "      <td>17</td>\n",
       "      <td>03</td>\n",
       "      <td>QQ</td>\n",
       "      <td>QQ</td>\n",
       "      <td>1</td>\n",
       "      <td>2</td>\n",
       "      <td>1</td>\n",
       "      <td>...</td>\n",
       "      <td>03</td>\n",
       "      <td>01</td>\n",
       "      <td>1992</td>\n",
       "      <td>01</td>\n",
       "      <td>M</td>\n",
       "      <td>UU</td>\n",
       "      <td>11</td>\n",
       "      <td>UU</td>\n",
       "      <td>1</td>\n",
       "      <td>2</td>\n",
       "    </tr>\n",
       "    <tr>\n",
       "      <th>9</th>\n",
       "      <td>1999</td>\n",
       "      <td>01</td>\n",
       "      <td>1</td>\n",
       "      <td>15</td>\n",
       "      <td>01</td>\n",
       "      <td>04</td>\n",
       "      <td>UU</td>\n",
       "      <td>1</td>\n",
       "      <td>5</td>\n",
       "      <td>U</td>\n",
       "      <td>...</td>\n",
       "      <td>01</td>\n",
       "      <td>01</td>\n",
       "      <td>1997</td>\n",
       "      <td>01</td>\n",
       "      <td>M</td>\n",
       "      <td>61</td>\n",
       "      <td>11</td>\n",
       "      <td>UU</td>\n",
       "      <td>1</td>\n",
       "      <td>1</td>\n",
       "    </tr>\n",
       "    <tr>\n",
       "      <th>10</th>\n",
       "      <td>1999</td>\n",
       "      <td>01</td>\n",
       "      <td>1</td>\n",
       "      <td>15</td>\n",
       "      <td>01</td>\n",
       "      <td>04</td>\n",
       "      <td>UU</td>\n",
       "      <td>1</td>\n",
       "      <td>5</td>\n",
       "      <td>U</td>\n",
       "      <td>...</td>\n",
       "      <td>01</td>\n",
       "      <td>01</td>\n",
       "      <td>1997</td>\n",
       "      <td>02</td>\n",
       "      <td>F</td>\n",
       "      <td>56</td>\n",
       "      <td>13</td>\n",
       "      <td>02</td>\n",
       "      <td>2</td>\n",
       "      <td>2</td>\n",
       "    </tr>\n",
       "    <tr>\n",
       "      <th>...</th>\n",
       "      <td>...</td>\n",
       "      <td>...</td>\n",
       "      <td>...</td>\n",
       "      <td>...</td>\n",
       "      <td>...</td>\n",
       "      <td>...</td>\n",
       "      <td>...</td>\n",
       "      <td>...</td>\n",
       "      <td>...</td>\n",
       "      <td>...</td>\n",
       "      <td>...</td>\n",
       "      <td>...</td>\n",
       "      <td>...</td>\n",
       "      <td>...</td>\n",
       "      <td>...</td>\n",
       "      <td>...</td>\n",
       "      <td>...</td>\n",
       "      <td>...</td>\n",
       "      <td>...</td>\n",
       "      <td>...</td>\n",
       "      <td>...</td>\n",
       "    </tr>\n",
       "    <tr>\n",
       "      <th>6486820</th>\n",
       "      <td>2016</td>\n",
       "      <td>12</td>\n",
       "      <td>7</td>\n",
       "      <td>12</td>\n",
       "      <td>02</td>\n",
       "      <td>21</td>\n",
       "      <td>01</td>\n",
       "      <td>4</td>\n",
       "      <td>3</td>\n",
       "      <td>1</td>\n",
       "      <td>...</td>\n",
       "      <td>01</td>\n",
       "      <td>01</td>\n",
       "      <td>2012</td>\n",
       "      <td>01</td>\n",
       "      <td>F</td>\n",
       "      <td>44</td>\n",
       "      <td>11</td>\n",
       "      <td>02</td>\n",
       "      <td>1</td>\n",
       "      <td>2</td>\n",
       "    </tr>\n",
       "    <tr>\n",
       "      <th>6486821</th>\n",
       "      <td>2016</td>\n",
       "      <td>12</td>\n",
       "      <td>7</td>\n",
       "      <td>12</td>\n",
       "      <td>02</td>\n",
       "      <td>21</td>\n",
       "      <td>01</td>\n",
       "      <td>4</td>\n",
       "      <td>3</td>\n",
       "      <td>1</td>\n",
       "      <td>...</td>\n",
       "      <td>02</td>\n",
       "      <td>01</td>\n",
       "      <td>2010</td>\n",
       "      <td>01</td>\n",
       "      <td>M</td>\n",
       "      <td>31</td>\n",
       "      <td>11</td>\n",
       "      <td>02</td>\n",
       "      <td>1</td>\n",
       "      <td>1</td>\n",
       "    </tr>\n",
       "    <tr>\n",
       "      <th>6486822</th>\n",
       "      <td>2016</td>\n",
       "      <td>12</td>\n",
       "      <td>7</td>\n",
       "      <td>12</td>\n",
       "      <td>02</td>\n",
       "      <td>21</td>\n",
       "      <td>01</td>\n",
       "      <td>4</td>\n",
       "      <td>3</td>\n",
       "      <td>1</td>\n",
       "      <td>...</td>\n",
       "      <td>02</td>\n",
       "      <td>01</td>\n",
       "      <td>2010</td>\n",
       "      <td>02</td>\n",
       "      <td>F</td>\n",
       "      <td>25</td>\n",
       "      <td>13</td>\n",
       "      <td>02</td>\n",
       "      <td>2</td>\n",
       "      <td>2</td>\n",
       "    </tr>\n",
       "    <tr>\n",
       "      <th>6486823</th>\n",
       "      <td>2016</td>\n",
       "      <td>12</td>\n",
       "      <td>7</td>\n",
       "      <td>12</td>\n",
       "      <td>02</td>\n",
       "      <td>21</td>\n",
       "      <td>01</td>\n",
       "      <td>4</td>\n",
       "      <td>3</td>\n",
       "      <td>1</td>\n",
       "      <td>...</td>\n",
       "      <td>02</td>\n",
       "      <td>01</td>\n",
       "      <td>2010</td>\n",
       "      <td>03</td>\n",
       "      <td>F</td>\n",
       "      <td>01</td>\n",
       "      <td>22</td>\n",
       "      <td>02</td>\n",
       "      <td>2</td>\n",
       "      <td>2</td>\n",
       "    </tr>\n",
       "    <tr>\n",
       "      <th>6486824</th>\n",
       "      <td>2016</td>\n",
       "      <td>12</td>\n",
       "      <td>7</td>\n",
       "      <td>06</td>\n",
       "      <td>01</td>\n",
       "      <td>04</td>\n",
       "      <td>01</td>\n",
       "      <td>1</td>\n",
       "      <td>5</td>\n",
       "      <td>1</td>\n",
       "      <td>...</td>\n",
       "      <td>01</td>\n",
       "      <td>01</td>\n",
       "      <td>2015</td>\n",
       "      <td>01</td>\n",
       "      <td>M</td>\n",
       "      <td>59</td>\n",
       "      <td>11</td>\n",
       "      <td>02</td>\n",
       "      <td>1</td>\n",
       "      <td>2</td>\n",
       "    </tr>\n",
       "    <tr>\n",
       "      <th>6486825</th>\n",
       "      <td>2016</td>\n",
       "      <td>UU</td>\n",
       "      <td>U</td>\n",
       "      <td>01</td>\n",
       "      <td>01</td>\n",
       "      <td>06</td>\n",
       "      <td>UU</td>\n",
       "      <td>1</td>\n",
       "      <td>Q</td>\n",
       "      <td>U</td>\n",
       "      <td>...</td>\n",
       "      <td>01</td>\n",
       "      <td>14</td>\n",
       "      <td>2003</td>\n",
       "      <td>01</td>\n",
       "      <td>M</td>\n",
       "      <td>29</td>\n",
       "      <td>96</td>\n",
       "      <td>01</td>\n",
       "      <td>5</td>\n",
       "      <td>2</td>\n",
       "    </tr>\n",
       "    <tr>\n",
       "      <th>6486826</th>\n",
       "      <td>2016</td>\n",
       "      <td>UU</td>\n",
       "      <td>U</td>\n",
       "      <td>01</td>\n",
       "      <td>01</td>\n",
       "      <td>06</td>\n",
       "      <td>01</td>\n",
       "      <td>U</td>\n",
       "      <td>U</td>\n",
       "      <td>4</td>\n",
       "      <td>...</td>\n",
       "      <td>01</td>\n",
       "      <td>14</td>\n",
       "      <td>2012</td>\n",
       "      <td>01</td>\n",
       "      <td>M</td>\n",
       "      <td>56</td>\n",
       "      <td>96</td>\n",
       "      <td>UU</td>\n",
       "      <td>5</td>\n",
       "      <td>2</td>\n",
       "    </tr>\n",
       "    <tr>\n",
       "      <th>6486827</th>\n",
       "      <td>2016</td>\n",
       "      <td>UU</td>\n",
       "      <td>U</td>\n",
       "      <td>01</td>\n",
       "      <td>01</td>\n",
       "      <td>06</td>\n",
       "      <td>01</td>\n",
       "      <td>U</td>\n",
       "      <td>U</td>\n",
       "      <td>4</td>\n",
       "      <td>...</td>\n",
       "      <td>01</td>\n",
       "      <td>14</td>\n",
       "      <td>2012</td>\n",
       "      <td>02</td>\n",
       "      <td>F</td>\n",
       "      <td>49</td>\n",
       "      <td>96</td>\n",
       "      <td>UU</td>\n",
       "      <td>5</td>\n",
       "      <td>2</td>\n",
       "    </tr>\n",
       "    <tr>\n",
       "      <th>6486828</th>\n",
       "      <td>2016</td>\n",
       "      <td>UU</td>\n",
       "      <td>U</td>\n",
       "      <td>00</td>\n",
       "      <td>01</td>\n",
       "      <td>02</td>\n",
       "      <td>01</td>\n",
       "      <td>U</td>\n",
       "      <td>3</td>\n",
       "      <td>1</td>\n",
       "      <td>...</td>\n",
       "      <td>01</td>\n",
       "      <td>01</td>\n",
       "      <td>UUUU</td>\n",
       "      <td>01</td>\n",
       "      <td>F</td>\n",
       "      <td>UU</td>\n",
       "      <td>11</td>\n",
       "      <td>UU</td>\n",
       "      <td>1</td>\n",
       "      <td>1</td>\n",
       "    </tr>\n",
       "    <tr>\n",
       "      <th>6486829</th>\n",
       "      <td>2016</td>\n",
       "      <td>UU</td>\n",
       "      <td>U</td>\n",
       "      <td>00</td>\n",
       "      <td>01</td>\n",
       "      <td>02</td>\n",
       "      <td>01</td>\n",
       "      <td>U</td>\n",
       "      <td>3</td>\n",
       "      <td>1</td>\n",
       "      <td>...</td>\n",
       "      <td>01</td>\n",
       "      <td>01</td>\n",
       "      <td>UUUU</td>\n",
       "      <td>02</td>\n",
       "      <td>M</td>\n",
       "      <td>20</td>\n",
       "      <td>13</td>\n",
       "      <td>UU</td>\n",
       "      <td>2</td>\n",
       "      <td>1</td>\n",
       "    </tr>\n",
       "    <tr>\n",
       "      <th>6486830</th>\n",
       "      <td>2016</td>\n",
       "      <td>UU</td>\n",
       "      <td>U</td>\n",
       "      <td>00</td>\n",
       "      <td>01</td>\n",
       "      <td>02</td>\n",
       "      <td>01</td>\n",
       "      <td>U</td>\n",
       "      <td>3</td>\n",
       "      <td>1</td>\n",
       "      <td>...</td>\n",
       "      <td>01</td>\n",
       "      <td>01</td>\n",
       "      <td>UUUU</td>\n",
       "      <td>03</td>\n",
       "      <td>M</td>\n",
       "      <td>20</td>\n",
       "      <td>23</td>\n",
       "      <td>UU</td>\n",
       "      <td>2</td>\n",
       "      <td>2</td>\n",
       "    </tr>\n",
       "  </tbody>\n",
       "</table>\n",
       "<p>6486831 rows × 21 columns</p>\n",
       "</div>"
      ],
      "text/plain": [
       "         C_YEAR C_MNTH C_WDAY C_HOUR C_VEHS C_CONF C_RCFG C_WTHR C_RSUR  \\\n",
       "0          1999     01      1     20     02     34     UU      1      5   \n",
       "1          1999     01      1     20     02     34     UU      1      5   \n",
       "2          1999     01      1     20     02     34     UU      1      5   \n",
       "3          1999     01      1     08     01     01     UU      5      3   \n",
       "4          1999     01      1     08     01     01     UU      5      3   \n",
       "5          1999     01      1     17     03     QQ     QQ      1      2   \n",
       "6          1999     01      1     17     03     QQ     QQ      1      2   \n",
       "7          1999     01      1     17     03     QQ     QQ      1      2   \n",
       "8          1999     01      1     17     03     QQ     QQ      1      2   \n",
       "9          1999     01      1     15     01     04     UU      1      5   \n",
       "10         1999     01      1     15     01     04     UU      1      5   \n",
       "...         ...    ...    ...    ...    ...    ...    ...    ...    ...   \n",
       "6486820    2016     12      7     12     02     21     01      4      3   \n",
       "6486821    2016     12      7     12     02     21     01      4      3   \n",
       "6486822    2016     12      7     12     02     21     01      4      3   \n",
       "6486823    2016     12      7     12     02     21     01      4      3   \n",
       "6486824    2016     12      7     06     01     04     01      1      5   \n",
       "6486825    2016     UU      U     01     01     06     UU      1      Q   \n",
       "6486826    2016     UU      U     01     01     06     01      U      U   \n",
       "6486827    2016     UU      U     01     01     06     01      U      U   \n",
       "6486828    2016     UU      U     00     01     02     01      U      3   \n",
       "6486829    2016     UU      U     00     01     02     01      U      3   \n",
       "6486830    2016     UU      U     00     01     02     01      U      3   \n",
       "\n",
       "        C_RALN  ...   V_ID V_TYPE V_YEAR P_ID P_SEX P_AGE P_PSN P_SAFE P_USER  \\\n",
       "0            3  ...     01     06   1990   01     M    41    11     UU      1   \n",
       "1            3  ...     02     01   1987   01     M    19    11     UU      1   \n",
       "2            3  ...     02     01   1987   02     F    20    13     02      2   \n",
       "3            6  ...     01     01   1986   01     M    46    11     UU      1   \n",
       "4            6  ...     99     NN   NNNN   01     M    05    99     UU      3   \n",
       "5            1  ...     01     01   1984   01     M    28    11     UU      1   \n",
       "6            1  ...     02     01   1991   01     M    21    11     UU      1   \n",
       "7            1  ...     02     01   1991   02     F    UU    13     UU      2   \n",
       "8            1  ...     03     01   1992   01     M    UU    11     UU      1   \n",
       "9            U  ...     01     01   1997   01     M    61    11     UU      1   \n",
       "10           U  ...     01     01   1997   02     F    56    13     02      2   \n",
       "...        ...  ...    ...    ...    ...  ...   ...   ...   ...    ...    ...   \n",
       "6486820      1  ...     01     01   2012   01     F    44    11     02      1   \n",
       "6486821      1  ...     02     01   2010   01     M    31    11     02      1   \n",
       "6486822      1  ...     02     01   2010   02     F    25    13     02      2   \n",
       "6486823      1  ...     02     01   2010   03     F    01    22     02      2   \n",
       "6486824      1  ...     01     01   2015   01     M    59    11     02      1   \n",
       "6486825      U  ...     01     14   2003   01     M    29    96     01      5   \n",
       "6486826      4  ...     01     14   2012   01     M    56    96     UU      5   \n",
       "6486827      4  ...     01     14   2012   02     F    49    96     UU      5   \n",
       "6486828      1  ...     01     01   UUUU   01     F    UU    11     UU      1   \n",
       "6486829      1  ...     01     01   UUUU   02     M    20    13     UU      2   \n",
       "6486830      1  ...     01     01   UUUU   03     M    20    23     UU      2   \n",
       "\n",
       "        P_ISEV  \n",
       "0            1  \n",
       "1            1  \n",
       "2            2  \n",
       "3            1  \n",
       "4            2  \n",
       "5            1  \n",
       "6            1  \n",
       "7            2  \n",
       "8            2  \n",
       "9            1  \n",
       "10           2  \n",
       "...        ...  \n",
       "6486820      2  \n",
       "6486821      1  \n",
       "6486822      2  \n",
       "6486823      2  \n",
       "6486824      2  \n",
       "6486825      2  \n",
       "6486826      2  \n",
       "6486827      2  \n",
       "6486828      1  \n",
       "6486829      1  \n",
       "6486830      2  \n",
       "\n",
       "[6486831 rows x 21 columns]"
      ]
     },
     "execution_count": 203,
     "metadata": {},
     "output_type": "execute_result"
    }
   ],
   "source": [
    "#Move the dependent variable to the outside and drop C_CASE column\n",
    "P_ISEV = df['P_ISEV']\n",
    "P_ISEV\n",
    "df.drop(columns = ['P_ISEV', 'C_SEV', 'C_CASE'], inplace = True)\n",
    "df['P_ISEV'] = P_ISEV\n",
    "df\n"
   ]
  },
  {
   "cell_type": "markdown",
   "metadata": {},
   "source": [
    "### Check for missing values"
   ]
  },
  {
   "cell_type": "code",
   "execution_count": 204,
   "metadata": {},
   "outputs": [
    {
     "name": "stdout",
     "output_type": "stream",
     "text": [
      "This dataset has 0 missing value\n",
      "This dataset has 0 NA value\n"
     ]
    }
   ],
   "source": [
    "print(\"This dataset has {0} missing value\".format(df.isnull().sum().sum()))\n",
    "print(\"This dataset has {0} NA value\".format(df.isna().sum().sum()))"
   ]
  },
  {
   "cell_type": "markdown",
   "metadata": {},
   "source": [
    "### Prepare the dependent variable.  Drop all unkown values in the dependent column P_ISEV\n",
    "#### Drop rows containing N, U, X, NA, and NULL"
   ]
  },
  {
   "cell_type": "code",
   "execution_count": 205,
   "metadata": {},
   "outputs": [
    {
     "data": {
      "text/plain": [
       "417421"
      ]
     },
     "execution_count": 205,
     "metadata": {},
     "output_type": "execute_result"
    }
   ],
   "source": [
    "df['P_ISEV'].isin(['U', 'N', 'X' ]).sum()"
   ]
  },
  {
   "cell_type": "code",
   "execution_count": 206,
   "metadata": {},
   "outputs": [
    {
     "name": "stdout",
     "output_type": "stream",
     "text": [
      "Dropped 417421 rows from dataset\n"
     ]
    }
   ],
   "source": [
    "drop_count = df['P_ISEV'].isin(['U', 'N', 'X' ]).sum()\n",
    "df.drop(df.index[df['P_ISEV'].isin(['U', 'N', 'X' ])], inplace=True)\n",
    "df = df.reset_index(drop=True)\n",
    "print(\"Dropped {drop_count} rows from dataset\".format(drop_count = drop_count))"
   ]
  },
  {
   "cell_type": "code",
   "execution_count": 207,
   "metadata": {},
   "outputs": [
    {
     "name": "stdout",
     "output_type": "stream",
     "text": [
      "0 non-numeric rows observed\n"
     ]
    }
   ],
   "source": [
    "#Check for non-numeric values in P_ISEV column\n",
    "count = df['P_ISEV'].str.contains('[^0-9]').sum()\n",
    "print(\"{count} non-numeric rows observed\".format(count = count))"
   ]
  },
  {
   "cell_type": "code",
   "execution_count": 208,
   "metadata": {},
   "outputs": [
    {
     "name": "stdout",
     "output_type": "stream",
     "text": [
      "Dropped 238608 rows from dataset\n"
     ]
    }
   ],
   "source": [
    "### drop rows that have more than 4 missing values and P_ISEV is not fatal\n",
    "missing_value_strings = ['U', 'UU', 'UUU', 'UUUU', 'N', 'NN', 'NNN', 'NNNN', 'Q', 'QQ', 'QQQ', 'QQQQ', 'X', 'XX', 'XXX', 'XXXX']\n",
    "non_fatal_with_more_than_4_missing = ((df.isin(missing_value_strings).sum(axis=1) > 3) & ~(df['P_ISEV'] == '3')).sum()\n",
    "df.drop(df.index[(df.isin(missing_value_strings).sum(axis=1) > 3) & ~(df['P_ISEV'] == '3')], inplace = True)\n",
    "df = df.reset_index(drop=True)\n",
    "print(\"Dropped {drop_count} rows from dataset\".format(drop_count = non_fatal_with_more_than_4_missing))"
   ]
  },
  {
   "cell_type": "code",
   "execution_count": 209,
   "metadata": {},
   "outputs": [
    {
     "data": {
      "text/plain": [
       "(5830802, 21)"
      ]
     },
     "execution_count": 209,
     "metadata": {},
     "output_type": "execute_result"
    }
   ],
   "source": [
    "df.shape"
   ]
  },
  {
   "cell_type": "markdown",
   "metadata": {},
   "source": [
    "### Clean intividual attributes"
   ]
  },
  {
   "cell_type": "code",
   "execution_count": 210,
   "metadata": {},
   "outputs": [
    {
     "name": "stdout",
     "output_type": "stream",
     "text": [
      "0 non-numeric rows observed\n"
     ]
    }
   ],
   "source": [
    "#### Clean Accident Year column\n",
    "\n",
    "#Collisions by Year\n",
    "print(\"{count} non-numeric rows observed\".format(count = df['C_YEAR'].astype('str').str.contains('[^0-9]').sum()))\n",
    "by_year = df.groupby(['C_YEAR','P_ISEV']).size()\n",
    "plt_enabled = False\n",
    "if (plt_enabled):\n",
    "    plot = by_year.plot(figsize=(20,15), kind='bar',title='Collisions by Year');\n",
    "\n",
    "\n"
   ]
  },
  {
   "cell_type": "code",
   "execution_count": 211,
   "metadata": {},
   "outputs": [
    {
     "name": "stdout",
     "output_type": "stream",
     "text": [
      "55 non-numeric rows observed\n",
      "0 non-numeric rows observed\n"
     ]
    }
   ],
   "source": [
    "#### Clean Accident month column\n",
    "#import random\n",
    "\n",
    "\n",
    "#Collisions by Month\n",
    "print(\"{count} non-numeric rows observed\".format(count = df['C_MNTH'].astype('str').str.contains('[^0-9]').sum()))\n",
    "by_month = df.groupby(['C_MNTH','P_ISEV']).size()\n",
    "plt_enabled = False\n",
    "if (plt_enabled):\n",
    "    plot = by_month.plot(figsize=(20,15), kind='bar',title='Collisions by Year');\n",
    "\n",
    "tmp = df.index[df['C_MNTH'].astype('str').str.contains('[^0-9]')]\n",
    "    \n",
    "## Not much variations accross the months, we are going to randomly (with equal probability)\n",
    "months = ['01', '02', '03', '04', '05', '06', '07', '08', '09', '10', '11', '12']\n",
    "\n",
    "df['C_MNTH'] = df['C_MNTH'].apply(lambda x: x.replace('UU', np.random.choice(months)))\n",
    "\n",
    "print(\"{count} non-numeric rows observed\".format(count = df['C_MNTH'].astype('str').str.contains('[^0-9]').sum()))\n",
    "\n"
   ]
  },
  {
   "cell_type": "code",
   "execution_count": 212,
   "metadata": {},
   "outputs": [
    {
     "name": "stdout",
     "output_type": "stream",
     "text": [
      "694 non-numeric rows observed\n"
     ]
    }
   ],
   "source": [
    "#### Clean Accident Week column\n",
    "\n",
    "#Collisions by weekday\n",
    "print(\"{count} non-numeric rows observed\".format(count = df['C_WDAY'].astype('str').str.contains('[^0-9]').sum()))\n",
    "by_weekday = df.groupby(['C_WDAY','P_ISEV']).size().unstack()\n",
    "plt_enabled = False\n",
    "if (plt_enabled):\n",
    "    plot = by_weekday.plot(figsize=(20,15), kind='bar',title='Collisions by Weekday', stacked = True);\n",
    "\n",
    "#generate the probability of each row excluding unspecified\n",
    "#Total number of rows excluding undefined\n"
   ]
  },
  {
   "cell_type": "code",
   "execution_count": 213,
   "metadata": {},
   "outputs": [
    {
     "data": {
      "text/plain": [
       "5"
      ]
     },
     "execution_count": 213,
     "metadata": {},
     "output_type": "execute_result"
    }
   ],
   "source": [
    "np.random.choice(np.arange(1, 7), p=[0.1, 0.05, 0.05, 0.2, 0.4, 0.2])"
   ]
  },
  {
   "cell_type": "code",
   "execution_count": 214,
   "metadata": {},
   "outputs": [
    {
     "name": "stdout",
     "output_type": "stream",
     "text": [
      "0 non-numeric rows observed\n"
     ]
    }
   ],
   "source": [
    "#print(by_weekday)\n",
    "#print(by_weekday.iloc[0])\n",
    "#by_weekday.iloc[0][1]\n",
    "#print(by_weekday.index)\n",
    "#print(by_weekday.sum().sum())\n",
    "N = by_weekday[0:len(by_weekday.index) - 1].sum().sum()\n",
    "P=[]\n",
    "for day in by_weekday.index[0:len(by_weekday.index) - 1]:\n",
    "    #print(day)\n",
    "    p = by_weekday.loc[day].sum()/N\n",
    "    P.append(p)\n",
    "    #print(P)\n",
    "df['C_WDAY'] = df['C_WDAY'].apply(lambda x: x.replace('U', str(np.random.choice(np.arange(1, 8), p = P))))\n",
    "print(\"{count} non-numeric rows observed\".format(count = df['C_WDAY'].astype('str').str.contains('[^0-9]').sum()))"
   ]
  },
  {
   "cell_type": "code",
   "execution_count": 215,
   "metadata": {},
   "outputs": [
    {
     "name": "stdout",
     "output_type": "stream",
     "text": [
      "50210 non-numeric rows observed\n",
      "0 non-numeric rows observed\n"
     ]
    }
   ],
   "source": [
    "#### Clean Accident Hour column\n",
    "\n",
    "#Collisions by weekday\n",
    "print(\"{count} non-numeric rows observed\".format(count = df['C_HOUR'].astype('str').str.contains('[^0-9]').sum()))\n",
    "by_weekday = df.groupby(['C_HOUR','P_ISEV']).size().unstack()\n",
    "plt_enabled = False\n",
    "if (plt_enabled):\n",
    "    plot = by_weekday.plot(figsize=(20,15), kind='bar',title='Collisions by HOUR', stacked = False);\n",
    "\n",
    "#To many levels, lets reduce the number of levels by combining the hours\n",
    "#[8pm-6am], [7am-7pm]\n",
    "night = ['22', '23', '00', '01', '02', '03', '04', '05']\n",
    "morning = ['06', '07', '08', '09', '10', '11']\n",
    "activeHours = ['12', '13', '14', '15', '16', '17', '18', '19', '20', '21'] \n",
    "\n",
    "#df['C_HOUR'] = df['C_HOUR'].apply(lambda x: x.replace(Night, '1'))\n",
    "#df['C_HOUR'] = df['C_HOUR'].apply(lambda x: x.replace(Night, '1'))\n",
    "df['C_HOUR'] = df['C_HOUR'].apply(lambda x: '1' if x in night else '2' if x in morning else '3')\n",
    "print(\"{count} non-numeric rows observed\".format(count = df['C_HOUR'].astype('str').str.contains('[^0-9]').sum()))\n",
    "\n",
    "if (plt_enabled):\n",
    "    plot = by_weekday.plot(figsize=(20,15), kind='bar',title='Collisions by HOUR', stacked = False);\n"
   ]
  },
  {
   "cell_type": "code",
   "execution_count": 216,
   "metadata": {},
   "outputs": [
    {
     "name": "stdout",
     "output_type": "stream",
     "text": [
      "65 non-numeric rows observed\n"
     ]
    }
   ],
   "source": [
    "#### Clean Accident Vehicle count column\n",
    "\n",
    "#Collisions severity by Vehicle count\n",
    "print(\"{count} non-numeric rows observed\".format(count = df['C_VEHS'].astype('str').str.contains('[^0-9]').sum()))\n",
    "by_weekday = df.groupby(['C_VEHS','P_ISEV']).size().unstack()\n",
    "plt_enabled = False\n",
    "if (plt_enabled):\n",
    "    plot = by_weekday.plot(figsize=(20,15), kind='bar',title='Collisions severity by Vehicle count', stacked = True);"
   ]
  },
  {
   "cell_type": "code",
   "execution_count": 217,
   "metadata": {},
   "outputs": [
    {
     "name": "stdout",
     "output_type": "stream",
     "text": [
      "389044 non-numeric rows observed\n",
      "P_ISEV       1       2     3\n",
      "C_CONF                      \n",
      "01       26903   50006  1388\n",
      "02       38072  116867  2718\n",
      "03       24582  142433  3939\n",
      "04       29853  188739  4692\n",
      "05        1291   12071   204\n",
      "06      189226  346905  7049\n",
      "21      928224  853604  2029\n",
      "22      110080   96016   863\n",
      "23       24370   35657   346\n",
      "24       20134   26075   165\n",
      "25        5450    6662    44\n",
      "31       64475  125485  8979\n",
      "32       21406   25685   664\n",
      "33      185034  235672  1590\n",
      "34       27468   32600   268\n",
      "35      387021  480716  4524\n",
      "36      241715  241094  1017\n",
      "41       24552   34686   450\n",
      "QQ      104630  138736  2269\n",
      "UU       58795   83645   969\n"
     ]
    }
   ],
   "source": [
    "#### Clean Accident Collison Configuration column\n",
    "\n",
    "#Collisions severity by Collison Configuration\n",
    "print(\"{count} non-numeric rows observed\".format(count = df['C_CONF'].astype('str').str.contains('[^0-9]').sum()))\n",
    "by_CCONF = df.groupby(['C_CONF','P_ISEV']).size().unstack()\n",
    "plt_enabled = False\n",
    "if (plt_enabled):\n",
    "    plot = by_weekday.plot(figsize=(20,15), kind='bar',title='Collisions severity by Collison Configuration', stacked = False);\n",
    "print(by_CCONF)"
   ]
  },
  {
   "cell_type": "code",
   "execution_count": 218,
   "metadata": {},
   "outputs": [],
   "source": [
    "# create test dataframes\n",
    "def createDataframe_CI():\n",
    "    L2 = np.array([['Sev','Col1','Col2','Col3'],\n",
    "                   ['1',1,2,1],\n",
    "                   ['2',2,3,2],\n",
    "                   ['3',3,4,3],\n",
    "                   ['4',4,5,1],\n",
    "                   ['U',5,6,2],\n",
    "                   ['6',6,7,3],\n",
    "                   ['N',7,8,1]])\n",
    "    L3 = pd.DataFrame(data=L2[1:,1:], index=L2[1:,0], columns=L2[0,1:])\n",
    "    L3.index.name = 'foo'\n",
    "    L3.columns.name = 'bar'\n",
    "    print(L3)\n",
    "    print(L3.index[L3.index.astype('str').str.contains('[0-9]')])\n",
    "    return L3\n",
    "\n",
    "def createDataframe():\n",
    "    L2 = np.array([['Sev','Col1','Col2','Col3'],\n",
    "                   ['1',1,2,1],\n",
    "                   ['2',2,3,2],\n",
    "                   ['3','U',4,3],\n",
    "                   ['4',1,5,1],\n",
    "                   ['U','N',6,2],\n",
    "                   ['6',3,7,3],\n",
    "                   ['N',1,'N',2],\n",
    "                   ['8',2,3,3],\n",
    "                   ['9',3,'U',3],\n",
    "                   ['10',2,3,3],\n",
    "                   ['11',3,3,3],\n",
    "                   ['11',1,3,3]])\n",
    "    L3 = pd.DataFrame(data=L2[1:,1:], columns=L2[0,1:])\n",
    "    return L3\n",
    "    "
   ]
  },
  {
   "cell_type": "code",
   "execution_count": 231,
   "metadata": {},
   "outputs": [],
   "source": [
    "#functions\n",
    "\n",
    "def selectBin(start, end, P, leadingZero = False):\n",
    "    x = np.random.choice(np.arange(start, end), p = P)\n",
    "    if leadingZero:\n",
    "        if x < 10:\n",
    "            x = '0' + str(x)\n",
    "    return str(x)\n",
    "\n",
    "#compute the probability of each bin\n",
    "def computeP(dataFrm):\n",
    "    N = dataFrm[dataFrm.index.astype('str').str.contains('[0-9]')].sum().sum()\n",
    "    if debug:\n",
    "        print(dataFrm[dataFrm.index.astype('str').str.contains('[0-9]')])\n",
    "        print(N)\n",
    "\n",
    "    #calculate the probability of the each category\n",
    "    P=[]\n",
    "    for ind in dataFrm.index[dataFrm.index.astype('str').str.contains('[0-9]')]:\n",
    "        if debug:\n",
    "            print(ind)\n",
    "        p = dataFrm.loc[ind].sum()/N\n",
    "        P.append(p)\n",
    "    \n",
    "    if debug:\n",
    "        print(P)\n",
    "        print(np.sum(P))\n",
    "    \n",
    "    return P      \n",
    "\n",
    "#plot histogram\n",
    "def checkHistogram(df, feature, pred, plot):\n",
    "    by_level = df.groupby([feature,pred]).size().unstack()\n",
    "\n",
    "    if(plot):\n",
    "        plot = by_level.plot(figsize=(20,15), kind='bar',title='Weather Configuration', stacked = False);\n",
    "            \n",
    "    return by_level\n"
   ]
  },
  {
   "cell_type": "code",
   "execution_count": 220,
   "metadata": {},
   "outputs": [
    {
     "name": "stdout",
     "output_type": "stream",
     "text": [
      "513880 non-numeric rows observed\n",
      "5316922\n",
      "0 non-numeric rows observed\n"
     ]
    }
   ],
   "source": [
    "#Clean Road configuraiton\n",
    "print(\"{count} non-numeric rows observed\".format(count = df['C_RCFG'].astype('str').str.contains('[^0-9]').sum()))\n",
    "by_road_config = df.groupby(['C_RCFG','P_ISEV']).size().unstack()\n",
    "plt_enabled = False\n",
    "if (plt_enabled):\n",
    "    plot = by_road_config.plot(figsize=(20,15), kind='bar',title='Road Configuration', stacked = False);\n",
    "\n",
    "N = by_road_config[0:len(by_road_config.index) - 2].sum().sum()\n",
    "N1 = by_road_config[0:len(by_road_config.index) - 1].sum()\n",
    "print (N)\n",
    "#calculate the probability of the each category\n",
    "P=[]\n",
    "for cfg in by_road_config.index[0:len(by_road_config.index) - 2]:\n",
    "    #print(cfg)\n",
    "    p = by_road_config.loc[cfg].sum()/N\n",
    "    P.append(p)\n",
    "    #print(P)\n",
    "np.sum(P)\n",
    "#df['C_RCFG'] = df['C_RCFG'].apply(lambda x: x.replace('UU', str(np.random.choice(np.arange(1, 11), p = P))))\n",
    "df['C_RCFG'] = df['C_RCFG'].apply(lambda x: x.replace('UU', selectBin(1, 11, P, True)))\n",
    "#df['C_RCFG'] = df['C_RCFG'].apply(lambda x: x.replace('QQ', str(np.random.choice(np.arange(1, 11), p = P))))\n",
    "df['C_RCFG'] = df['C_RCFG'].apply(lambda x: x.replace('QQ', selectBin(1, 11, P, True)))\n",
    "print(\"{count} non-numeric rows observed\".format(count = df['C_RCFG'].astype('str').str.contains('[^0-9]').sum()))"
   ]
  },
  {
   "cell_type": "code",
   "execution_count": 221,
   "metadata": {},
   "outputs": [],
   "source": [
    "by_road_config = df.groupby(['C_RCFG','P_ISEV']).size().unstack()\n",
    "plt_enabled = False\n",
    "if (plt_enabled):\n",
    "    plot = by_road_config.plot(figsize=(20,15), kind='bar',title='Road Configuration', stacked = False);\n"
   ]
  },
  {
   "cell_type": "markdown",
   "metadata": {},
   "source": [
    "### Code for testing, should be removed"
   ]
  },
  {
   "cell_type": "code",
   "execution_count": 222,
   "metadata": {},
   "outputs": [
    {
     "data": {
      "text/html": [
       "<div>\n",
       "<style scoped>\n",
       "    .dataframe tbody tr th:only-of-type {\n",
       "        vertical-align: middle;\n",
       "    }\n",
       "\n",
       "    .dataframe tbody tr th {\n",
       "        vertical-align: top;\n",
       "    }\n",
       "\n",
       "    .dataframe thead th {\n",
       "        text-align: right;\n",
       "    }\n",
       "</style>\n",
       "<table border=\"1\" class=\"dataframe\">\n",
       "  <thead>\n",
       "    <tr style=\"text-align: right;\">\n",
       "      <th></th>\n",
       "      <th>Col1</th>\n",
       "      <th>Col2</th>\n",
       "      <th>Col3</th>\n",
       "    </tr>\n",
       "  </thead>\n",
       "  <tbody>\n",
       "    <tr>\n",
       "      <th>0</th>\n",
       "      <td>1</td>\n",
       "      <td>2</td>\n",
       "      <td>1</td>\n",
       "    </tr>\n",
       "    <tr>\n",
       "      <th>1</th>\n",
       "      <td>2</td>\n",
       "      <td>3</td>\n",
       "      <td>2</td>\n",
       "    </tr>\n",
       "    <tr>\n",
       "      <th>2</th>\n",
       "      <td>U</td>\n",
       "      <td>4</td>\n",
       "      <td>3</td>\n",
       "    </tr>\n",
       "    <tr>\n",
       "      <th>3</th>\n",
       "      <td>1</td>\n",
       "      <td>5</td>\n",
       "      <td>1</td>\n",
       "    </tr>\n",
       "    <tr>\n",
       "      <th>4</th>\n",
       "      <td>N</td>\n",
       "      <td>6</td>\n",
       "      <td>2</td>\n",
       "    </tr>\n",
       "    <tr>\n",
       "      <th>5</th>\n",
       "      <td>3</td>\n",
       "      <td>7</td>\n",
       "      <td>3</td>\n",
       "    </tr>\n",
       "    <tr>\n",
       "      <th>6</th>\n",
       "      <td>1</td>\n",
       "      <td>N</td>\n",
       "      <td>2</td>\n",
       "    </tr>\n",
       "    <tr>\n",
       "      <th>7</th>\n",
       "      <td>2</td>\n",
       "      <td>3</td>\n",
       "      <td>3</td>\n",
       "    </tr>\n",
       "    <tr>\n",
       "      <th>8</th>\n",
       "      <td>3</td>\n",
       "      <td>U</td>\n",
       "      <td>3</td>\n",
       "    </tr>\n",
       "    <tr>\n",
       "      <th>9</th>\n",
       "      <td>2</td>\n",
       "      <td>3</td>\n",
       "      <td>3</td>\n",
       "    </tr>\n",
       "    <tr>\n",
       "      <th>10</th>\n",
       "      <td>3</td>\n",
       "      <td>3</td>\n",
       "      <td>3</td>\n",
       "    </tr>\n",
       "    <tr>\n",
       "      <th>11</th>\n",
       "      <td>1</td>\n",
       "      <td>3</td>\n",
       "      <td>3</td>\n",
       "    </tr>\n",
       "  </tbody>\n",
       "</table>\n",
       "</div>"
      ],
      "text/plain": [
       "   Col1 Col2 Col3\n",
       "0     1    2    1\n",
       "1     2    3    2\n",
       "2     U    4    3\n",
       "3     1    5    1\n",
       "4     N    6    2\n",
       "5     3    7    3\n",
       "6     1    N    2\n",
       "7     2    3    3\n",
       "8     3    U    3\n",
       "9     2    3    3\n",
       "10    3    3    3\n",
       "11    1    3    3"
      ]
     },
     "execution_count": 222,
     "metadata": {},
     "output_type": "execute_result"
    }
   ],
   "source": [
    "L3 = createDataframe()\n",
    "L3"
   ]
  },
  {
   "cell_type": "code",
   "execution_count": null,
   "metadata": {},
   "outputs": [],
   "source": []
  },
  {
   "cell_type": "code",
   "execution_count": 223,
   "metadata": {},
   "outputs": [
    {
     "name": "stdout",
     "output_type": "stream",
     "text": [
      "2 non-numeric rows observed\n"
     ]
    },
    {
     "data": {
      "text/html": [
       "<div>\n",
       "<style scoped>\n",
       "    .dataframe tbody tr th:only-of-type {\n",
       "        vertical-align: middle;\n",
       "    }\n",
       "\n",
       "    .dataframe tbody tr th {\n",
       "        vertical-align: top;\n",
       "    }\n",
       "\n",
       "    .dataframe thead th {\n",
       "        text-align: right;\n",
       "    }\n",
       "</style>\n",
       "<table border=\"1\" class=\"dataframe\">\n",
       "  <thead>\n",
       "    <tr style=\"text-align: right;\">\n",
       "      <th>Col3</th>\n",
       "      <th>1</th>\n",
       "      <th>2</th>\n",
       "      <th>3</th>\n",
       "    </tr>\n",
       "    <tr>\n",
       "      <th>Col2</th>\n",
       "      <th></th>\n",
       "      <th></th>\n",
       "      <th></th>\n",
       "    </tr>\n",
       "  </thead>\n",
       "  <tbody>\n",
       "    <tr>\n",
       "      <th>2</th>\n",
       "      <td>1.0</td>\n",
       "      <td>NaN</td>\n",
       "      <td>NaN</td>\n",
       "    </tr>\n",
       "    <tr>\n",
       "      <th>3</th>\n",
       "      <td>NaN</td>\n",
       "      <td>1.0</td>\n",
       "      <td>4.0</td>\n",
       "    </tr>\n",
       "    <tr>\n",
       "      <th>4</th>\n",
       "      <td>NaN</td>\n",
       "      <td>NaN</td>\n",
       "      <td>1.0</td>\n",
       "    </tr>\n",
       "    <tr>\n",
       "      <th>5</th>\n",
       "      <td>1.0</td>\n",
       "      <td>NaN</td>\n",
       "      <td>NaN</td>\n",
       "    </tr>\n",
       "    <tr>\n",
       "      <th>6</th>\n",
       "      <td>NaN</td>\n",
       "      <td>1.0</td>\n",
       "      <td>NaN</td>\n",
       "    </tr>\n",
       "    <tr>\n",
       "      <th>7</th>\n",
       "      <td>NaN</td>\n",
       "      <td>NaN</td>\n",
       "      <td>1.0</td>\n",
       "    </tr>\n",
       "    <tr>\n",
       "      <th>N</th>\n",
       "      <td>NaN</td>\n",
       "      <td>1.0</td>\n",
       "      <td>NaN</td>\n",
       "    </tr>\n",
       "    <tr>\n",
       "      <th>U</th>\n",
       "      <td>NaN</td>\n",
       "      <td>NaN</td>\n",
       "      <td>1.0</td>\n",
       "    </tr>\n",
       "  </tbody>\n",
       "</table>\n",
       "</div>"
      ],
      "text/plain": [
       "Col3    1    2    3\n",
       "Col2               \n",
       "2     1.0  NaN  NaN\n",
       "3     NaN  1.0  4.0\n",
       "4     NaN  NaN  1.0\n",
       "5     1.0  NaN  NaN\n",
       "6     NaN  1.0  NaN\n",
       "7     NaN  NaN  1.0\n",
       "N     NaN  1.0  NaN\n",
       "U     NaN  NaN  1.0"
      ]
     },
     "execution_count": 223,
     "metadata": {},
     "output_type": "execute_result"
    },
    {
     "data": {
      "image/png": "[encoded data removed]",
      "text/plain": [
       "<Figure size 1440x1080 with 1 Axes>"
      ]
     },
     "metadata": {},
     "output_type": "display_data"
    }
   ],
   "source": [
    "print(\"{count} non-numeric rows observed\".format(count = L3['Col2'].astype('str').str.contains('[^0-9]').sum()))\n",
    "L1 = checkHistogram(L3, 'Col2', 'Col3', True)\n",
    "L1"
   ]
  },
  {
   "cell_type": "code",
   "execution_count": 224,
   "metadata": {},
   "outputs": [
    {
     "name": "stdout",
     "output_type": "stream",
     "text": [
      "Index(['2', '3', '4', '5', '6', '7'], dtype='object', name='Col2')\n",
      "Index(['N', 'U'], dtype='object', name='Col2')\n"
     ]
    }
   ],
   "source": [
    "print(L1.index[L1.index.astype('str').str.contains('[0-9]')])\n",
    "print(L1.index[L1.index.astype('str').str.contains('[^0-9]')])"
   ]
  },
  {
   "cell_type": "code",
   "execution_count": 225,
   "metadata": {},
   "outputs": [
    {
     "name": "stdout",
     "output_type": "stream",
     "text": [
      "Col3    1    2    3\n",
      "Col2               \n",
      "2     1.0  NaN  NaN\n",
      "3     NaN  1.0  4.0\n",
      "4     NaN  NaN  1.0\n",
      "5     1.0  NaN  NaN\n",
      "6     NaN  1.0  NaN\n",
      "7     NaN  NaN  1.0\n"
     ]
    }
   ],
   "source": [
    "test1 = computeP(L1)\n",
    "#df['C_RCFG'] = df['C_RCFG'].apply(lambda x: x.replace('UU', rcfg(1, 11, P)))\n",
    "#df['C_RCFG'] = df['C_RCFG'].apply(lambda x: x.replace('QQ', rcfg(1, 11, P)))\n",
    "#print(\"{count} non-numeric rows observed\".format(count = df['C_RCFG'].astype('str').str.contains('[^0-9]').sum()))"
   ]
  },
  {
   "cell_type": "markdown",
   "metadata": {},
   "source": [
    "### end of test code"
   ]
  },
  {
   "cell_type": "code",
   "execution_count": 226,
   "metadata": {},
   "outputs": [
    {
     "name": "stdout",
     "output_type": "stream",
     "text": [
      "42112 non-numeric rows observed\n"
     ]
    },
    {
     "data": {
      "image/png": "[encoded data removed]",
      "text/plain": [
       "<Figure size 1440x1080 with 1 Axes>"
      ]
     },
     "metadata": {},
     "output_type": "display_data"
    }
   ],
   "source": [
    "#Clean Weather\n",
    "#C_WTHR\n",
    "\n",
    "print(\"{count} non-numeric rows observed\".format(count = df['C_WTHR'].astype('str').str.contains('[^0-9]').sum()))\n",
    "gbWTHR = checkHistogram(df, 'C_WTHR', 'P_ISEV', True)"
   ]
  },
  {
   "cell_type": "code",
   "execution_count": 227,
   "metadata": {},
   "outputs": [
    {
     "name": "stdout",
     "output_type": "stream",
     "text": [
      "P_ISEV        1        2      3\n",
      "C_WTHR                         \n",
      "1       1836030  2272399  29669\n",
      "2        207631   348821   5803\n",
      "3        269328   330238   3666\n",
      "4        140780   213118   2666\n",
      "5         10557    19697    300\n",
      "6         28390    52681   1240\n",
      "7          5256    10171    249\n"
     ]
    }
   ],
   "source": [
    "#compute probability of each level not including unknows\n",
    "P = computeP(gbWTHR)"
   ]
  },
  {
   "cell_type": "code",
   "execution_count": 228,
   "metadata": {},
   "outputs": [
    {
     "name": "stdout",
     "output_type": "stream",
     "text": [
      "0 non-numeric rows observed\n"
     ]
    }
   ],
   "source": [
    "#impute unkown values\n",
    "df['C_WTHR'] = df['C_WTHR'].apply(lambda x: x.replace('Q', selectBin(1, 8, P, False)))\n",
    "df['C_WTHR'] = df['C_WTHR'].apply(lambda x: x.replace('U', selectBin(1, 8, P, False)))\n",
    "print(\"{count} non-numeric rows observed\".format(count = df['C_WTHR'].astype('str').str.contains('[^0-9]').sum()))"
   ]
  },
  {
   "cell_type": "code",
   "execution_count": 229,
   "metadata": {},
   "outputs": [
    {
     "data": {
      "text/html": [
       "<div>\n",
       "<style scoped>\n",
       "    .dataframe tbody tr th:only-of-type {\n",
       "        vertical-align: middle;\n",
       "    }\n",
       "\n",
       "    .dataframe tbody tr th {\n",
       "        vertical-align: top;\n",
       "    }\n",
       "\n",
       "    .dataframe thead th {\n",
       "        text-align: right;\n",
       "    }\n",
       "</style>\n",
       "<table border=\"1\" class=\"dataframe\">\n",
       "  <thead>\n",
       "    <tr style=\"text-align: right;\">\n",
       "      <th>P_ISEV</th>\n",
       "      <th>1</th>\n",
       "      <th>2</th>\n",
       "      <th>3</th>\n",
       "    </tr>\n",
       "    <tr>\n",
       "      <th>C_WTHR</th>\n",
       "      <th></th>\n",
       "      <th></th>\n",
       "      <th></th>\n",
       "    </tr>\n",
       "  </thead>\n",
       "  <tbody>\n",
       "    <tr>\n",
       "      <th>1</th>\n",
       "      <td>1846918</td>\n",
       "      <td>2291143</td>\n",
       "      <td>30084</td>\n",
       "    </tr>\n",
       "    <tr>\n",
       "      <th>2</th>\n",
       "      <td>209168</td>\n",
       "      <td>351414</td>\n",
       "      <td>5864</td>\n",
       "    </tr>\n",
       "    <tr>\n",
       "      <th>3</th>\n",
       "      <td>270964</td>\n",
       "      <td>332895</td>\n",
       "      <td>3723</td>\n",
       "    </tr>\n",
       "    <tr>\n",
       "      <th>4</th>\n",
       "      <td>141693</td>\n",
       "      <td>214738</td>\n",
       "      <td>2700</td>\n",
       "    </tr>\n",
       "    <tr>\n",
       "      <th>5</th>\n",
       "      <td>10649</td>\n",
       "      <td>19860</td>\n",
       "      <td>301</td>\n",
       "    </tr>\n",
       "    <tr>\n",
       "      <th>6</th>\n",
       "      <td>28600</td>\n",
       "      <td>53066</td>\n",
       "      <td>1245</td>\n",
       "    </tr>\n",
       "    <tr>\n",
       "      <th>7</th>\n",
       "      <td>5289</td>\n",
       "      <td>10238</td>\n",
       "      <td>250</td>\n",
       "    </tr>\n",
       "  </tbody>\n",
       "</table>\n",
       "</div>"
      ],
      "text/plain": [
       "P_ISEV        1        2      3\n",
       "C_WTHR                         \n",
       "1       1846918  2291143  30084\n",
       "2        209168   351414   5864\n",
       "3        270964   332895   3723\n",
       "4        141693   214738   2700\n",
       "5         10649    19860    301\n",
       "6         28600    53066   1245\n",
       "7          5289    10238    250"
      ]
     },
     "execution_count": 229,
     "metadata": {},
     "output_type": "execute_result"
    },
    {
     "data": {
      "image/png": "[encoded data removed]",
      "text/plain": [
       "<Figure size 1440x1080 with 1 Axes>"
      ]
     },
     "metadata": {},
     "output_type": "display_data"
    }
   ],
   "source": [
    "#check histogram for new distribution\n",
    "checkHistogram(df, 'C_WTHR', 'P_ISEV', True)"
   ]
  },
  {
   "cell_type": "code",
   "execution_count": 232,
   "metadata": {},
   "outputs": [
    {
     "name": "stdout",
     "output_type": "stream",
     "text": [
      "184598 non-numeric rows observed\n"
     ]
    },
    {
     "data": {
      "image/png": "[encoded data removed]",
      "text/plain": [
       "<Figure size 1440x1080 with 1 Axes>"
      ]
     },
     "metadata": {},
     "output_type": "display_data"
    }
   ],
   "source": [
    "#Clean road surface\n",
    "#C_RSUR\n",
    "print(\"{count} non-numeric rows observed\".format(count = df['C_RSUR'].astype('str').str.contains('[^0-9]').sum()))\n",
    "gbRSUR = checkHistogram(df, 'C_RSUR', 'P_ISEV', True)"
   ]
  },
  {
   "cell_type": "code",
   "execution_count": 234,
   "metadata": {},
   "outputs": [],
   "source": [
    "#compute probability of each road surface condition in our data set not including unknows\n",
    "P = computeP(gbRSUR)"
   ]
  },
  {
   "cell_type": "code",
   "execution_count": 236,
   "metadata": {},
   "outputs": [
    {
     "name": "stdout",
     "output_type": "stream",
     "text": [
      "0 non-numeric rows observed\n"
     ]
    }
   ],
   "source": [
    "#impute unkown values\n",
    "df['C_RSUR'] = df['C_RSUR'].apply(lambda x: x.replace('Q', selectBin(1, 10, P, False)))\n",
    "df['C_RSUR'] = df['C_RSUR'].apply(lambda x: x.replace('U', selectBin(1, 10, P, False)))\n",
    "print(\"{count} non-numeric rows observed\".format(count = df['C_RSUR'].astype('str').str.contains('[^0-9]').sum()))"
   ]
  },
  {
   "cell_type": "code",
   "execution_count": 237,
   "metadata": {},
   "outputs": [
    {
     "name": "stdout",
     "output_type": "stream",
     "text": [
      "0 non-numeric rows observed\n"
     ]
    },
    {
     "data": {
      "text/html": [
       "<div>\n",
       "<style scoped>\n",
       "    .dataframe tbody tr th:only-of-type {\n",
       "        vertical-align: middle;\n",
       "    }\n",
       "\n",
       "    .dataframe tbody tr th {\n",
       "        vertical-align: top;\n",
       "    }\n",
       "\n",
       "    .dataframe thead th {\n",
       "        text-align: right;\n",
       "    }\n",
       "</style>\n",
       "<table border=\"1\" class=\"dataframe\">\n",
       "  <thead>\n",
       "    <tr style=\"text-align: right;\">\n",
       "      <th>P_ISEV</th>\n",
       "      <th>1</th>\n",
       "      <th>2</th>\n",
       "      <th>3</th>\n",
       "    </tr>\n",
       "    <tr>\n",
       "      <th>C_RSUR</th>\n",
       "      <th></th>\n",
       "      <th></th>\n",
       "      <th></th>\n",
       "    </tr>\n",
       "  </thead>\n",
       "  <tbody>\n",
       "    <tr>\n",
       "      <th>1</th>\n",
       "      <td>1775719</td>\n",
       "      <td>2213244</td>\n",
       "      <td>31050</td>\n",
       "    </tr>\n",
       "    <tr>\n",
       "      <th>2</th>\n",
       "      <td>495174</td>\n",
       "      <td>614250</td>\n",
       "      <td>7231</td>\n",
       "    </tr>\n",
       "    <tr>\n",
       "      <th>3</th>\n",
       "      <td>93560</td>\n",
       "      <td>161610</td>\n",
       "      <td>1953</td>\n",
       "    </tr>\n",
       "    <tr>\n",
       "      <th>4</th>\n",
       "      <td>29673</td>\n",
       "      <td>48301</td>\n",
       "      <td>652</td>\n",
       "    </tr>\n",
       "    <tr>\n",
       "      <th>5</th>\n",
       "      <td>111932</td>\n",
       "      <td>210784</td>\n",
       "      <td>2594</td>\n",
       "    </tr>\n",
       "    <tr>\n",
       "      <th>6</th>\n",
       "      <td>5260</td>\n",
       "      <td>19974</td>\n",
       "      <td>550</td>\n",
       "    </tr>\n",
       "    <tr>\n",
       "      <th>7</th>\n",
       "      <td>1550</td>\n",
       "      <td>4049</td>\n",
       "      <td>127</td>\n",
       "    </tr>\n",
       "    <tr>\n",
       "      <th>8</th>\n",
       "      <td>331</td>\n",
       "      <td>920</td>\n",
       "      <td>2</td>\n",
       "    </tr>\n",
       "    <tr>\n",
       "      <th>9</th>\n",
       "      <td>82</td>\n",
       "      <td>222</td>\n",
       "      <td>8</td>\n",
       "    </tr>\n",
       "  </tbody>\n",
       "</table>\n",
       "</div>"
      ],
      "text/plain": [
       "P_ISEV        1        2      3\n",
       "C_RSUR                         \n",
       "1       1775719  2213244  31050\n",
       "2        495174   614250   7231\n",
       "3         93560   161610   1953\n",
       "4         29673    48301    652\n",
       "5        111932   210784   2594\n",
       "6          5260    19974    550\n",
       "7          1550     4049    127\n",
       "8           331      920      2\n",
       "9            82      222      8"
      ]
     },
     "execution_count": 237,
     "metadata": {},
     "output_type": "execute_result"
    },
    {
     "data": {
      "image/png": "[encoded data removed]",
      "text/plain": [
       "<Figure size 1440x1080 with 1 Axes>"
      ]
     },
     "metadata": {},
     "output_type": "display_data"
    }
   ],
   "source": [
    "#Clean road surface\n",
    "print(\"{count} non-numeric rows observed\".format(count = df['C_RSUR'].astype('str').str.contains('[^0-9]').sum()))\n",
    "checkHistogram(df, 'C_RSUR', 'P_ISEV', True)"
   ]
  },
  {
   "cell_type": "code",
   "execution_count": 238,
   "metadata": {},
   "outputs": [
    {
     "name": "stdout",
     "output_type": "stream",
     "text": [
      "367464 non-numeric rows observed\n"
     ]
    },
    {
     "data": {
      "image/png": "[encoded data removed]",
      "text/plain": [
       "<Figure size 1440x1080 with 1 Axes>"
      ]
     },
     "metadata": {},
     "output_type": "display_data"
    }
   ],
   "source": [
    "#road alignment\n",
    "#C_RALN\n",
    "print(\"{count} non-numeric rows observed\".format(count = df['C_RALN'].astype('str').str.contains('[^0-9]').sum()))\n",
    "gbRALG = checkHistogram(df, 'C_RALN', 'P_ISEV', True)"
   ]
  },
  {
   "cell_type": "code",
   "execution_count": 239,
   "metadata": {},
   "outputs": [
    {
     "name": "stdout",
     "output_type": "stream",
     "text": [
      "0 non-numeric rows observed\n"
     ]
    },
    {
     "data": {
      "text/html": [
       "<div>\n",
       "<style scoped>\n",
       "    .dataframe tbody tr th:only-of-type {\n",
       "        vertical-align: middle;\n",
       "    }\n",
       "\n",
       "    .dataframe tbody tr th {\n",
       "        vertical-align: top;\n",
       "    }\n",
       "\n",
       "    .dataframe thead th {\n",
       "        text-align: right;\n",
       "    }\n",
       "</style>\n",
       "<table border=\"1\" class=\"dataframe\">\n",
       "  <thead>\n",
       "    <tr style=\"text-align: right;\">\n",
       "      <th>P_ISEV</th>\n",
       "      <th>1</th>\n",
       "      <th>2</th>\n",
       "      <th>3</th>\n",
       "    </tr>\n",
       "    <tr>\n",
       "      <th>C_RALN</th>\n",
       "      <th></th>\n",
       "      <th></th>\n",
       "      <th></th>\n",
       "    </tr>\n",
       "  </thead>\n",
       "  <tbody>\n",
       "    <tr>\n",
       "      <th>1</th>\n",
       "      <td>2016689</td>\n",
       "      <td>2453306</td>\n",
       "      <td>26316</td>\n",
       "    </tr>\n",
       "    <tr>\n",
       "      <th>2</th>\n",
       "      <td>273252</td>\n",
       "      <td>346373</td>\n",
       "      <td>5467</td>\n",
       "    </tr>\n",
       "    <tr>\n",
       "      <th>3</th>\n",
       "      <td>121008</td>\n",
       "      <td>265878</td>\n",
       "      <td>6930</td>\n",
       "    </tr>\n",
       "    <tr>\n",
       "      <th>4</th>\n",
       "      <td>77389</td>\n",
       "      <td>161233</td>\n",
       "      <td>4424</td>\n",
       "    </tr>\n",
       "    <tr>\n",
       "      <th>5</th>\n",
       "      <td>14957</td>\n",
       "      <td>26590</td>\n",
       "      <td>571</td>\n",
       "    </tr>\n",
       "    <tr>\n",
       "      <th>6</th>\n",
       "      <td>9986</td>\n",
       "      <td>19974</td>\n",
       "      <td>459</td>\n",
       "    </tr>\n",
       "  </tbody>\n",
       "</table>\n",
       "</div>"
      ],
      "text/plain": [
       "P_ISEV        1        2      3\n",
       "C_RALN                         \n",
       "1       2016689  2453306  26316\n",
       "2        273252   346373   5467\n",
       "3        121008   265878   6930\n",
       "4         77389   161233   4424\n",
       "5         14957    26590    571\n",
       "6          9986    19974    459"
      ]
     },
     "execution_count": 239,
     "metadata": {},
     "output_type": "execute_result"
    },
    {
     "data": {
      "image/png": "[encoded data removed]",
      "text/plain": [
       "<Figure size 1440x1080 with 1 Axes>"
      ]
     },
     "metadata": {},
     "output_type": "display_data"
    }
   ],
   "source": [
    "#compute probability of each road alignment in our data set not including unknows\n",
    "P = computeP(gbRALG)\n",
    "\n",
    "#impute unkown values\n",
    "df['C_RALN'] = df['C_RALN'].apply(lambda x: x.replace('Q', selectBin(1, 7, P, False)))\n",
    "df['C_RALN'] = df['C_RALN'].apply(lambda x: x.replace('U', selectBin(1, 7, P, False)))\n",
    "print(\"{count} non-numeric rows observed\".format(count = df['C_RALN'].astype('str').str.contains('[^0-9]').sum()))\n",
    "\n",
    "#Clean road surface\n",
    "checkHistogram(df, 'C_RALN', 'P_ISEV', True)"
   ]
  },
  {
   "cell_type": "code",
   "execution_count": 243,
   "metadata": {},
   "outputs": [
    {
     "data": {
      "text/plain": [
       "C_YEAR     int64\n",
       "C_MNTH    object\n",
       "C_WDAY    object\n",
       "C_HOUR    object\n",
       "C_VEHS    object\n",
       "C_CONF    object\n",
       "C_RCFG    object\n",
       "C_WTHR    object\n",
       "C_RSUR    object\n",
       "C_RALN    object\n",
       "C_TRAF    object\n",
       "V_ID      object\n",
       "V_TYPE    object\n",
       "V_YEAR    object\n",
       "P_ID      object\n",
       "P_SEX     object\n",
       "P_AGE     object\n",
       "P_PSN     object\n",
       "P_SAFE    object\n",
       "P_USER    object\n",
       "P_ISEV    object\n",
       "dtype: object"
      ]
     },
     "execution_count": 243,
     "metadata": {},
     "output_type": "execute_result"
    }
   ],
   "source": [
    "df.dtypes"
   ]
  },
  {
   "cell_type": "code",
   "execution_count": 244,
   "metadata": {},
   "outputs": [
    {
     "name": "stdout",
     "output_type": "stream",
     "text": [
      "228554 non-numeric rows observed\n"
     ]
    },
    {
     "data": {
      "image/png": "[encoded data removed]",
      "text/plain": [
       "<Figure size 1440x1080 with 1 Axes>"
      ]
     },
     "metadata": {},
     "output_type": "display_data"
    }
   ],
   "source": [
    "#C_TRAF\n",
    "#Traffic configuration\n",
    "print(\"{count} non-numeric rows observed\".format(count = df['C_TRAF'].astype('str').str.contains('[^0-9]').sum()))\n",
    "gbTRAF = checkHistogram(df, 'C_TRAF', 'P_ISEV', True)"
   ]
  },
  {
   "cell_type": "code",
   "execution_count": 248,
   "metadata": {},
   "outputs": [
    {
     "name": "stdout",
     "output_type": "stream",
     "text": [
      "P_ISEV        1        2      3\n",
      "C_TRAF                         \n",
      "01       816692   855705   3317\n",
      "02         7877    10803    154\n",
      "03       302141   362399   3512\n",
      "04        42668    47190    223\n",
      "05          856     2854     82\n",
      "06        22141    19930    169\n",
      "07         1157     1145     10\n",
      "08        12662    12271     69\n",
      "09          198      300      1\n",
      "10          652     1794     66\n",
      "11          493     2253     73\n",
      "12         1056     1748     59\n",
      "13         2205     2067     11\n",
      "15         1169     2262    107\n",
      "16          213      625     51\n",
      "17         1180     1651     35\n",
      "18      1211997  1810042  33913\n",
      "5602248\n",
      "01\n",
      "02\n",
      "03\n",
      "04\n",
      "05\n",
      "06\n",
      "07\n",
      "08\n",
      "09\n",
      "10\n",
      "11\n",
      "12\n",
      "13\n",
      "15\n",
      "16\n",
      "17\n",
      "18\n",
      "[0.2991145697227256, 0.0033618647371555133, 0.11924713079463815, 0.016079438111272475, 0.0006768711417273923, 0.007539830439495003, 0.00041269147670720753, 0.004462851341104499, 8.907138705748121e-05, 0.00044839143143966494, 0.0005031908619539871, 0.0005110448519951277, 0.0007645145305955752, 0.0006315321992171714, 0.00015868629878577315, 0.0005115803513161145, 0.5454867403228133]\n",
      "1.0\n",
      "0 non-numeric rows observed\n"
     ]
    },
    {
     "data": {
      "text/html": [
       "<div>\n",
       "<style scoped>\n",
       "    .dataframe tbody tr th:only-of-type {\n",
       "        vertical-align: middle;\n",
       "    }\n",
       "\n",
       "    .dataframe tbody tr th {\n",
       "        vertical-align: top;\n",
       "    }\n",
       "\n",
       "    .dataframe thead th {\n",
       "        text-align: right;\n",
       "    }\n",
       "</style>\n",
       "<table border=\"1\" class=\"dataframe\">\n",
       "  <thead>\n",
       "    <tr style=\"text-align: right;\">\n",
       "      <th>P_ISEV</th>\n",
       "      <th>1</th>\n",
       "      <th>2</th>\n",
       "      <th>3</th>\n",
       "    </tr>\n",
       "    <tr>\n",
       "      <th>C_TRAF</th>\n",
       "      <th></th>\n",
       "      <th></th>\n",
       "      <th></th>\n",
       "    </tr>\n",
       "  </thead>\n",
       "  <tbody>\n",
       "    <tr>\n",
       "      <th>01</th>\n",
       "      <td>842817</td>\n",
       "      <td>896946</td>\n",
       "      <td>4041</td>\n",
       "    </tr>\n",
       "    <tr>\n",
       "      <th>02</th>\n",
       "      <td>8186</td>\n",
       "      <td>11274</td>\n",
       "      <td>164</td>\n",
       "    </tr>\n",
       "    <tr>\n",
       "      <th>03</th>\n",
       "      <td>312600</td>\n",
       "      <td>379017</td>\n",
       "      <td>3796</td>\n",
       "    </tr>\n",
       "    <tr>\n",
       "      <th>04</th>\n",
       "      <td>44072</td>\n",
       "      <td>49406</td>\n",
       "      <td>251</td>\n",
       "    </tr>\n",
       "    <tr>\n",
       "      <th>05</th>\n",
       "      <td>908</td>\n",
       "      <td>2939</td>\n",
       "      <td>83</td>\n",
       "    </tr>\n",
       "    <tr>\n",
       "      <th>06</th>\n",
       "      <td>22806</td>\n",
       "      <td>20949</td>\n",
       "      <td>190</td>\n",
       "    </tr>\n",
       "    <tr>\n",
       "      <th>07</th>\n",
       "      <td>1184</td>\n",
       "      <td>1211</td>\n",
       "      <td>10</td>\n",
       "    </tr>\n",
       "    <tr>\n",
       "      <th>08</th>\n",
       "      <td>13044</td>\n",
       "      <td>12861</td>\n",
       "      <td>83</td>\n",
       "    </tr>\n",
       "    <tr>\n",
       "      <th>09</th>\n",
       "      <td>209</td>\n",
       "      <td>310</td>\n",
       "      <td>1</td>\n",
       "    </tr>\n",
       "    <tr>\n",
       "      <th>10</th>\n",
       "      <td>691</td>\n",
       "      <td>1854</td>\n",
       "      <td>69</td>\n",
       "    </tr>\n",
       "    <tr>\n",
       "      <th>11</th>\n",
       "      <td>539</td>\n",
       "      <td>2323</td>\n",
       "      <td>73</td>\n",
       "    </tr>\n",
       "    <tr>\n",
       "      <th>12</th>\n",
       "      <td>1100</td>\n",
       "      <td>1831</td>\n",
       "      <td>59</td>\n",
       "    </tr>\n",
       "    <tr>\n",
       "      <th>13</th>\n",
       "      <td>2270</td>\n",
       "      <td>2182</td>\n",
       "      <td>16</td>\n",
       "    </tr>\n",
       "    <tr>\n",
       "      <th>14</th>\n",
       "      <td>54</td>\n",
       "      <td>85</td>\n",
       "      <td>1</td>\n",
       "    </tr>\n",
       "    <tr>\n",
       "      <th>15</th>\n",
       "      <td>1175</td>\n",
       "      <td>2279</td>\n",
       "      <td>108</td>\n",
       "    </tr>\n",
       "    <tr>\n",
       "      <th>16</th>\n",
       "      <td>261</td>\n",
       "      <td>692</td>\n",
       "      <td>52</td>\n",
       "    </tr>\n",
       "    <tr>\n",
       "      <th>17</th>\n",
       "      <td>49368</td>\n",
       "      <td>77153</td>\n",
       "      <td>1257</td>\n",
       "    </tr>\n",
       "    <tr>\n",
       "      <th>18</th>\n",
       "      <td>1211997</td>\n",
       "      <td>1810042</td>\n",
       "      <td>33913</td>\n",
       "    </tr>\n",
       "  </tbody>\n",
       "</table>\n",
       "</div>"
      ],
      "text/plain": [
       "P_ISEV        1        2      3\n",
       "C_TRAF                         \n",
       "01       842817   896946   4041\n",
       "02         8186    11274    164\n",
       "03       312600   379017   3796\n",
       "04        44072    49406    251\n",
       "05          908     2939     83\n",
       "06        22806    20949    190\n",
       "07         1184     1211     10\n",
       "08        13044    12861     83\n",
       "09          209      310      1\n",
       "10          691     1854     69\n",
       "11          539     2323     73\n",
       "12         1100     1831     59\n",
       "13         2270     2182     16\n",
       "14           54       85      1\n",
       "15         1175     2279    108\n",
       "16          261      692     52\n",
       "17        49368    77153   1257\n",
       "18      1211997  1810042  33913"
      ]
     },
     "execution_count": 248,
     "metadata": {},
     "output_type": "execute_result"
    },
    {
     "data": {
      "image/png": "[encoded data removed]",
      "text/plain": [
       "<Figure size 1440x1080 with 1 Axes>"
      ]
     },
     "metadata": {},
     "output_type": "display_data"
    }
   ],
   "source": [
    "#compute probability of each road alignment in our data set not including unknows\n",
    "#note, school bus zone has no value\n",
    "P = computeP(gbTRAF)\n",
    "\n",
    "#impute unkown values\n",
    "df['C_TRAF'] = df['C_TRAF'].apply(lambda x: x.replace('QQ', selectBin(1, 18, P, True)))\n",
    "df['C_TRAF'] = df['C_TRAF'].apply(lambda x: x.replace('UU', selectBin(1, 18, P, True)))\n",
    "print(\"{count} non-numeric rows observed\".format(count = df['C_TRAF'].astype('str').str.contains('[^0-9]').sum()))\n",
    "\n",
    "#Clean road surface\n",
    "checkHistogram(df, 'C_TRAF', 'P_ISEV', True)"
   ]
  },
  {
   "cell_type": "code",
   "execution_count": null,
   "metadata": {},
   "outputs": [],
   "source": []
  },
  {
   "cell_type": "code",
   "execution_count": null,
   "metadata": {},
   "outputs": [],
   "source": []
  },
  {
   "cell_type": "code",
   "execution_count": null,
   "metadata": {},
   "outputs": [],
   "source": [
    "#drop rows which has more than four columns with missing values\n",
    "df.drop(df.index[df.isin(['U', 'UU', 'UUU', 'UUUU']).sum(axis=1) >= 1], inplace=True)\n",
    "df.drop(df.index[df.isin(['N', 'NN', 'NNN', 'NNNN']).sum(axis=1) >= 1], inplace=True)\n",
    "df.drop(df.index[df.isin(['Q', 'QQ', 'QQQ', 'QQQQ']).sum(axis=1) >= 1], inplace=True)\n",
    "df.drop(df.index[df.isin(['X', 'XX', 'XXX', 'XXXX']).sum(axis=1) >= 1], inplace=True)\n",
    "df = df.reset_index(drop=True)\n",
    "print(df.shape)"
   ]
  },
  {
   "cell_type": "code",
   "execution_count": null,
   "metadata": {},
   "outputs": [],
   "source": [
    "df['P_SEX'].unique()"
   ]
  },
  {
   "cell_type": "code",
   "execution_count": null,
   "metadata": {},
   "outputs": [],
   "source": [
    "#map M/F to 0/1\n",
    "df['P_SEX'] = df['P_SEX'].map({'F':0, 'M':1})"
   ]
  },
  {
   "cell_type": "code",
   "execution_count": null,
   "metadata": {},
   "outputs": [],
   "source": []
  },
  {
   "cell_type": "code",
   "execution_count": null,
   "metadata": {},
   "outputs": [],
   "source": [
    "df['P_ISEV'] = df['P_ISEV'].map({'1':0, '2':1, '3':2})"
   ]
  },
  {
   "cell_type": "code",
   "execution_count": null,
   "metadata": {},
   "outputs": [],
   "source": [
    "df.dtypes"
   ]
  },
  {
   "cell_type": "code",
   "execution_count": null,
   "metadata": {},
   "outputs": [],
   "source": [
    "df['P_SEX'].isnull()"
   ]
  },
  {
   "cell_type": "code",
   "execution_count": null,
   "metadata": {},
   "outputs": [],
   "source": [
    "print(\"This dataset has {0} missing value\".format(df.isnull().sum().sum()))\n",
    "print(\"This dataset has {0} NA value\".format(df.isna().sum().sum()))"
   ]
  },
  {
   "cell_type": "code",
   "execution_count": null,
   "metadata": {},
   "outputs": [],
   "source": []
  },
  {
   "cell_type": "code",
   "execution_count": null,
   "metadata": {},
   "outputs": [],
   "source": [
    "df.loc[df['P_SEX'].isnull()]"
   ]
  },
  {
   "cell_type": "code",
   "execution_count": null,
   "metadata": {},
   "outputs": [],
   "source": [
    "df"
   ]
  },
  {
   "cell_type": "code",
   "execution_count": null,
   "metadata": {},
   "outputs": [],
   "source": []
  },
  {
   "cell_type": "code",
   "execution_count": null,
   "metadata": {},
   "outputs": [],
   "source": [
    "df.to_csv('data01_clean.csv', encoding='utf-8', index=False)"
   ]
  },
  {
   "cell_type": "code",
   "execution_count": null,
   "metadata": {},
   "outputs": [],
   "source": [
    "df.shape"
   ]
  },
  {
   "cell_type": "code",
   "execution_count": null,
   "metadata": {},
   "outputs": [],
   "source": [
    "#set the correct type for each variable\n",
    "df = df.astype('category')\n",
    "#df['C_YEAR'] = df['C_YEAR'].astype('int64')\n",
    "df['C_VEHS'] = df['C_VEHS'].astype('int64')\n",
    "#df['V_YEAR'] = df['V_YEAR'].astype('int64')\n",
    "df['P_AGE'] = df['P_AGE'].astype('int64')"
   ]
  },
  {
   "cell_type": "code",
   "execution_count": null,
   "metadata": {},
   "outputs": [],
   "source": [
    "#df of categorical and numberic varaibales\n",
    "df_cat = df.select_dtypes(include=['category']).copy()\n",
    "df_int = df.select_dtypes(include=['int64']).copy()"
   ]
  },
  {
   "cell_type": "code",
   "execution_count": null,
   "metadata": {},
   "outputs": [],
   "source": [
    "print(df_cat.head())\n",
    "print(df_int.head())"
   ]
  },
  {
   "cell_type": "code",
   "execution_count": null,
   "metadata": {},
   "outputs": [],
   "source": [
    "pd.options.display.float_format = '{:.4g}'.format\n",
    "df_int.describe()"
   ]
  },
  {
   "cell_type": "code",
   "execution_count": null,
   "metadata": {},
   "outputs": [],
   "source": [
    "df_int[['C_VEHS']].boxplot()"
   ]
  },
  {
   "cell_type": "code",
   "execution_count": null,
   "metadata": {},
   "outputs": [],
   "source": [
    "df_int[['P_AGE']].boxplot()"
   ]
  },
  {
   "cell_type": "code",
   "execution_count": null,
   "metadata": {},
   "outputs": [],
   "source": [
    "df_b = df.copy()\n",
    "df_b['fatal']=np.where(df_b['P_ISEV'] == '3',1,0)\n",
    "df_b['injury']=np.where(df_b['P_ISEV'] == '2',1,0)\n",
    "df_b['no_injury']=np.where(df_b['P_ISEV'] == '1',1,0)\n",
    "\n",
    "df1 = df_b.groupby('C_YEAR')['fatal','injury', 'no_injury'].sum()\n",
    "df1"
   ]
  },
  {
   "cell_type": "code",
   "execution_count": null,
   "metadata": {},
   "outputs": [],
   "source": [
    "#The overall diagram\n",
    "plot1 = df1.plot(figsize=(10,10),title='Collision overall statistics')\n",
    "plot1.set_xlabel(\"Year\")\n",
    "plot1.set_ylabel(\"Number of collisions\");"
   ]
  },
  {
   "cell_type": "code",
   "execution_count": null,
   "metadata": {},
   "outputs": [],
   "source": [
    "#Collisions by weekday\n",
    "by_weekday = df_b.groupby('C_WDAY')['P_ISEV'].count()\n",
    "by_weekday.index = ['Mon', 'Tue', 'Wed', 'Thu', 'Fri', 'Sat', 'Sun']\n",
    "plot2 = by_weekday.plot(kind='bar',title='Collisions by day');"
   ]
  },
  {
   "cell_type": "code",
   "execution_count": null,
   "metadata": {},
   "outputs": [],
   "source": [
    "#Collisions by hour\n",
    "plt.figure(figsize=(15,5))\n",
    "by_hour = df_b.groupby('C_HOUR')['P_ISEV'].count()\n",
    "plot3 = by_hour.plot(kind='bar',title='Collisions by hour',color='B');"
   ]
  },
  {
   "cell_type": "code",
   "execution_count": null,
   "metadata": {},
   "outputs": [],
   "source": [
    "#Year vs Severity\n",
    "df.groupby(['C_YEAR', 'P_ISEV']).size().unstack().plot(figsize=(10,10), kind='bar', title = 'Year vs Accident Severity', stacked = True)"
   ]
  },
  {
   "cell_type": "code",
   "execution_count": null,
   "metadata": {},
   "outputs": [],
   "source": [
    "#Year vs Severity\n",
    "df.groupby(['C_MNTH', 'P_ISEV']).size().unstack().plot(figsize=(10,10), kind='bar', title = 'Month vs Accident Severity', stacked = True)"
   ]
  },
  {
   "cell_type": "code",
   "execution_count": null,
   "metadata": {},
   "outputs": [],
   "source": [
    "#Year vs Severity\n",
    "df.groupby(['C_WDAY', 'P_ISEV']).size().unstack().plot(figsize=(10,10), kind='bar', title = 'Day vs Accident Severity', stacked = True)"
   ]
  },
  {
   "cell_type": "code",
   "execution_count": null,
   "metadata": {},
   "outputs": [],
   "source": [
    "#Year vs Severity\n",
    "df.groupby(['C_HOUR', 'P_ISEV']).size().unstack().plot(figsize=(10,10), kind='bar', title = 'HOUR vs Accident Severity', stacked = True)"
   ]
  },
  {
   "cell_type": "code",
   "execution_count": null,
   "metadata": {},
   "outputs": [],
   "source": [
    "#Year vs Severity\n",
    "df.groupby(['C_VEHS', 'P_ISEV']).size().unstack().plot(figsize=(10,10), kind='bar', title = 'C_VEHS vs Accident Severity', stacked = True)"
   ]
  },
  {
   "cell_type": "code",
   "execution_count": null,
   "metadata": {},
   "outputs": [],
   "source": [
    "#Year vs Severity\n",
    "df.groupby(['C_CONF', 'P_ISEV']).size().unstack().plot(figsize=(10,20), kind='bar', title = 'C_CONF vs Accident Severity', stacked = True)"
   ]
  },
  {
   "cell_type": "code",
   "execution_count": null,
   "metadata": {},
   "outputs": [],
   "source": [
    "#Year vs Severity\n",
    "df.groupby(['C_RCFG', 'P_ISEV']).size().unstack().plot(figsize=(10,20), kind='bar', title = 'C_RCFG vs Accident Severity', stacked = True)"
   ]
  },
  {
   "cell_type": "code",
   "execution_count": null,
   "metadata": {},
   "outputs": [],
   "source": [
    "#Year vs Severity\n",
    "df.groupby(['C_WTHR', 'P_ISEV']).size().unstack().plot(figsize=(10,20), kind='bar', title = 'C_WTHR vs Accident Severity', stacked = True)"
   ]
  },
  {
   "cell_type": "code",
   "execution_count": null,
   "metadata": {},
   "outputs": [],
   "source": [
    "#Year vs Severity\n",
    "df.groupby(['C_RSUR', 'P_ISEV']).size().unstack().plot(figsize=(10,20), kind='bar', title = 'C_WTHR vs Accident Severity', stacked = True)"
   ]
  },
  {
   "cell_type": "code",
   "execution_count": null,
   "metadata": {},
   "outputs": [],
   "source": [
    "#Year vs Severity\n",
    "df.groupby(['C_RALN', 'P_ISEV']).size().unstack().plot(figsize=(10,20), kind='bar', title = 'C_RALN vs Accident Severity', stacked = True)"
   ]
  },
  {
   "cell_type": "code",
   "execution_count": null,
   "metadata": {},
   "outputs": [],
   "source": [
    "#Year vs Severity\n",
    "df.groupby(['C_TRAF', 'P_ISEV']).size().unstack().plot(figsize=(10,20), kind='bar', title = 'C_TRAF vs Accident Severity', stacked = True)"
   ]
  },
  {
   "cell_type": "code",
   "execution_count": null,
   "metadata": {},
   "outputs": [],
   "source": [
    "#Year vs Severity\n",
    "df.groupby(['V_ID', 'P_ISEV']).size().unstack().plot(figsize=(10,20), kind='bar', title = 'V_ID vs Accident Severity', stacked = True)"
   ]
  },
  {
   "cell_type": "code",
   "execution_count": null,
   "metadata": {},
   "outputs": [],
   "source": [
    "#Year vs Severity\n",
    "df.groupby(['V_TYPE', 'P_ISEV']).size().unstack().plot(figsize=(10,20), kind='bar', title = 'V_TYPE vs Accident Severity', stacked = True)"
   ]
  },
  {
   "cell_type": "code",
   "execution_count": null,
   "metadata": {},
   "outputs": [],
   "source": [
    "#Year vs Severity\n",
    "df.groupby(['V_YEAR', 'P_ISEV']).size().unstack().plot(figsize=(25,20), kind='bar', title = 'V_YEAR vs Accident Severity', stacked = True)"
   ]
  },
  {
   "cell_type": "code",
   "execution_count": null,
   "metadata": {},
   "outputs": [],
   "source": [
    "#Year vs Severity\n",
    "df.groupby(['P_ID', 'P_ISEV']).size().unstack().plot(figsize=(25,20), kind='bar', title = 'P_ID vs Accident Severity', stacked = True)"
   ]
  },
  {
   "cell_type": "code",
   "execution_count": null,
   "metadata": {},
   "outputs": [],
   "source": [
    "#Year vs Severity\n",
    "df.groupby(['P_SEX', 'P_ISEV']).size().unstack().plot(figsize=(10,20), kind='bar', title = 'P_SEX vs Accident Severity', stacked = True)"
   ]
  },
  {
   "cell_type": "code",
   "execution_count": null,
   "metadata": {},
   "outputs": [],
   "source": [
    "#Year vs Severity\n",
    "df.groupby(['P_AGE', 'P_ISEV']).size().unstack().plot(figsize=(25,20), kind='bar', title = 'P_AGE vs Accident Severity', stacked = True)"
   ]
  },
  {
   "cell_type": "code",
   "execution_count": null,
   "metadata": {},
   "outputs": [],
   "source": [
    "#Year vs Severity\n",
    "df.groupby(['P_PSN', 'P_ISEV']).size().unstack().plot(figsize=(10,20), kind='bar', title = 'P_PSN vs Accident Severity', stacked = True)"
   ]
  },
  {
   "cell_type": "code",
   "execution_count": null,
   "metadata": {},
   "outputs": [],
   "source": [
    "#Year vs Severity\n",
    "df.groupby(['P_SAFE', 'P_ISEV']).size().unstack().plot(figsize=(10,20), kind='bar', title = 'P_SAFE vs Accident Severity', stacked = True)"
   ]
  },
  {
   "cell_type": "code",
   "execution_count": null,
   "metadata": {},
   "outputs": [],
   "source": [
    "#Year vs Severity\n",
    "df.groupby(['P_USER', 'P_ISEV']).size().unstack().plot(figsize=(10,15), kind='bar', title = 'P_USER vs Accident Severity', stacked = True)"
   ]
  },
  {
   "cell_type": "code",
   "execution_count": null,
   "metadata": {},
   "outputs": [],
   "source": [
    "#Year vs Severity\n",
    "df.groupby(['P_ISEV', 'P_ISEV']).size().unstack().plot(figsize=(8,10), kind='bar', title = 'P_ISEV vs Accident Severity', stacked = True)"
   ]
  },
  {
   "cell_type": "code",
   "execution_count": null,
   "metadata": {},
   "outputs": [],
   "source": [
    "#sns.pairplot(df_cat, hue='P_ISEV', size=2.5);\n",
    "#sns.pairplot(df_cat, hue='P_ISEV')\n",
    "\n",
    "for i, col in enumerate(df.columns):\n",
    "    print(df[col].value_counts())"
   ]
  },
  {
   "cell_type": "code",
   "execution_count": null,
   "metadata": {
    "scrolled": false
   },
   "outputs": [],
   "source": [
    "%matplotlib inline\n",
    "df_int[['C_VEHS', 'P_AGE']].boxplot()"
   ]
  },
  {
   "cell_type": "code",
   "execution_count": null,
   "metadata": {},
   "outputs": [],
   "source": [
    "#check if dataset contains nulls\n",
    "if df.isnull().sum().sum():\n",
    "    print(\"Dataset contains Null values\")\n",
    "else:\n",
    "    print(\"No Null values in the Dataset\")"
   ]
  },
  {
   "cell_type": "code",
   "execution_count": null,
   "metadata": {
    "scrolled": true
   },
   "outputs": [],
   "source": [
    "if df.isna().sum().sum():\n",
    "    print(\"Dataset contains missing values\")\n",
    "else:\n",
    "    print(\"No missing values in the Dataset\")"
   ]
  },
  {
   "cell_type": "code",
   "execution_count": null,
   "metadata": {},
   "outputs": [],
   "source": [
    "df_cat['C_YEAR']"
   ]
  },
  {
   "cell_type": "code",
   "execution_count": null,
   "metadata": {},
   "outputs": [],
   "source": [
    "df.index[df.isin(['U', 'UU', 'UUU', 'UUUU']).sum(axis=1) >= 3]"
   ]
  },
  {
   "cell_type": "code",
   "execution_count": null,
   "metadata": {},
   "outputs": [],
   "source": []
  },
  {
   "cell_type": "code",
   "execution_count": null,
   "metadata": {},
   "outputs": [],
   "source": []
  },
  {
   "cell_type": "code",
   "execution_count": null,
   "metadata": {},
   "outputs": [],
   "source": []
  },
  {
   "cell_type": "code",
   "execution_count": null,
   "metadata": {},
   "outputs": [],
   "source": []
  },
  {
   "cell_type": "code",
   "execution_count": null,
   "metadata": {},
   "outputs": [],
   "source": []
  },
  {
   "cell_type": "code",
   "execution_count": null,
   "metadata": {},
   "outputs": [],
   "source": []
  },
  {
   "cell_type": "code",
   "execution_count": null,
   "metadata": {},
   "outputs": [],
   "source": [
    "#fataility stat by year\n",
    "\n",
    "df.groupby('C_YEAR')['C_SEV'].count()"
   ]
  },
  {
   "cell_type": "code",
   "execution_count": null,
   "metadata": {},
   "outputs": [],
   "source": [
    "df.describe()"
   ]
  },
  {
   "cell_type": "markdown",
   "metadata": {},
   "source": [
    "### inspect the data types as imported"
   ]
  },
  {
   "cell_type": "code",
   "execution_count": null,
   "metadata": {},
   "outputs": [],
   "source": [
    "df.dtypes"
   ]
  },
  {
   "cell_type": "code",
   "execution_count": null,
   "metadata": {},
   "outputs": [],
   "source": [
    "#select multiple column\n",
    "df[['C_YEAR', 'C_MNTH']]"
   ]
  },
  {
   "cell_type": "code",
   "execution_count": null,
   "metadata": {},
   "outputs": [],
   "source": [
    "#df['name_match'] = df['First_name'].apply(lambda x: 'match' if x == 'Bill' else 'Mis-match')\n",
    "#df['N_ISEV'] = df['P_ISEV'].apply(lambda x: 'NON_FATAL' if x in ['1', '2', 'N'] else 'FATAL' if x in ['2'] else float('NaN'))\n",
    "df['N_ISEV'] = df['P_ISEV'].apply(lambda x: 'NON_FATAL' if x in ['1', '2', 'N'] else 'FATAL' if x in ['2'] else np.nan)"
   ]
  },
  {
   "cell_type": "code",
   "execution_count": null,
   "metadata": {},
   "outputs": [],
   "source": [
    "df[['P_ISEV','N_ISEV']]"
   ]
  },
  {
   "cell_type": "code",
   "execution_count": null,
   "metadata": {},
   "outputs": [],
   "source": [
    "df"
   ]
  },
  {
   "cell_type": "code",
   "execution_count": null,
   "metadata": {},
   "outputs": [],
   "source": [
    "#drop a column axis=1 drop column, axis=0 drop row\n",
    "df.drop('N_ISEV', axis=1, inplace=True)"
   ]
  },
  {
   "cell_type": "code",
   "execution_count": null,
   "metadata": {},
   "outputs": [],
   "source": [
    "#selecting rows or df.iloc[0]\n",
    "df.loc[0]"
   ]
  },
  {
   "cell_type": "code",
   "execution_count": null,
   "metadata": {},
   "outputs": [],
   "source": [
    "#select elements greater than 0\n",
    "df[df>0]\n",
    "df>0"
   ]
  },
  {
   "cell_type": "code",
   "execution_count": null,
   "metadata": {
    "scrolled": true
   },
   "outputs": [],
   "source": [
    "#get fatal collisions, get rows that are true for condition below\n",
    "df[df['P_ISEV'] == '3']"
   ]
  },
  {
   "cell_type": "code",
   "execution_count": null,
   "metadata": {
    "scrolled": true
   },
   "outputs": [],
   "source": [
    "#get fatal and injury\n",
    "df[(df['P_ISEV'] == '2') | (df['P_ISEV'] == '3')]"
   ]
  },
  {
   "cell_type": "code",
   "execution_count": null,
   "metadata": {
    "scrolled": true
   },
   "outputs": [],
   "source": [
    "#drop columns with na values where thresh number of columns is not NaN \n",
    "df.dropna(axis=1, thresh = 20)"
   ]
  },
  {
   "cell_type": "code",
   "execution_count": null,
   "metadata": {
    "scrolled": true
   },
   "outputs": [],
   "source": [
    "#fill na\n",
    "df.fillna(value='Fill Value')"
   ]
  },
  {
   "cell_type": "code",
   "execution_count": null,
   "metadata": {},
   "outputs": [],
   "source": [
    "#work on column only and replace na with mean\n",
    "df['C_YEAR'].fillna(value=df['C_YEAR'].mean())"
   ]
  },
  {
   "cell_type": "code",
   "execution_count": null,
   "metadata": {},
   "outputs": [],
   "source": [
    "#group by\n",
    "#df.groupby('V_YEAR').count()\n",
    "#df.groupby('V_YEAR')['P_ISEV'].count()\n",
    "df.groupby('V_YEAR')['P_ISEV'].count().loc['2013']"
   ]
  },
  {
   "cell_type": "code",
   "execution_count": null,
   "metadata": {},
   "outputs": [],
   "source": [
    "#5 level summary\n",
    "#df.groupby('V_YEAR').describe().transpose()\n",
    "df.groupby('V_YEAR').describe()"
   ]
  },
  {
   "cell_type": "code",
   "execution_count": null,
   "metadata": {},
   "outputs": [],
   "source": []
  },
  {
   "cell_type": "code",
   "execution_count": null,
   "metadata": {},
   "outputs": [],
   "source": []
  }
 ],
 "metadata": {
  "kernelspec": {
   "display_name": "Python 3",
   "language": "python",
   "name": "python3"
  },
  "language_info": {
   "codemirror_mode": {
    "name": "ipython",
    "version": 3
   },
   "file_extension": ".py",
   "mimetype": "text/x-python",
   "name": "python",
   "nbconvert_exporter": "python",
   "pygments_lexer": "ipython3",
   "version": "3.6.5"
  }
 },
 "nbformat": 4,
 "nbformat_minor": 2
}
