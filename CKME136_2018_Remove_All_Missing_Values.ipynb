{
 "cells": [
  {
   "cell_type": "code",
   "execution_count": 72,
   "metadata": {},
   "outputs": [],
   "source": [
    "import pandas as pd\n",
    "import numpy as np\n",
    "pd.options.display.max_rows = 10"
   ]
  },
  {
   "cell_type": "code",
   "execution_count": 73,
   "metadata": {},
   "outputs": [],
   "source": [
    "df = pd.read_csv('NCDB_1999_to_2016.csv', engine = 'python')"
   ]
  },
  {
   "cell_type": "code",
   "execution_count": 74,
   "metadata": {},
   "outputs": [
    {
     "name": "stdout",
     "output_type": "stream",
     "text": [
      "   C_YEAR C_MNTH C_WDAY C_HOUR  C_SEV C_VEHS C_CONF C_RCFG C_WTHR C_RSUR  \\\n",
      "0    1999     01      1     20      2     02     34     UU      1      5   \n",
      "1    1999     01      1     20      2     02     34     UU      1      5   \n",
      "2    1999     01      1     20      2     02     34     UU      1      5   \n",
      "3    1999     01      1     08      2     01     01     UU      5      3   \n",
      "4    1999     01      1     08      2     01     01     UU      5      3   \n",
      "\n",
      "   ...   V_TYPE V_YEAR P_ID P_SEX P_AGE P_PSN P_ISEV P_SAFE P_USER C_CASE  \n",
      "0  ...       06   1990   01     M    41    11      1     UU      1    752  \n",
      "1  ...       01   1987   01     M    19    11      1     UU      1    752  \n",
      "2  ...       01   1987   02     F    20    13      2     02      2    752  \n",
      "3  ...       01   1986   01     M    46    11      1     UU      1    753  \n",
      "4  ...       NN   NNNN   01     M    05    99      2     UU      3    753  \n",
      "\n",
      "[5 rows x 23 columns]\n",
      "(6486831, 23)\n",
      "None\n",
      "None\n",
      "Index(['C_YEAR', 'C_MNTH', 'C_WDAY', 'C_HOUR', 'C_SEV', 'C_VEHS', 'C_CONF',\n",
      "       'C_RCFG', 'C_WTHR', 'C_RSUR', 'C_RALN', 'C_TRAF', 'V_ID', 'V_TYPE',\n",
      "       'V_YEAR', 'P_ID', 'P_SEX', 'P_AGE', 'P_PSN', 'P_ISEV', 'P_SAFE',\n",
      "       'P_USER', 'C_CASE'],\n",
      "      dtype='object')\n",
      "C_YEAR     int64\n",
      "C_MNTH    object\n",
      "C_WDAY    object\n",
      "C_HOUR    object\n",
      "C_SEV      int64\n",
      "           ...  \n",
      "P_PSN     object\n",
      "P_ISEV    object\n",
      "P_SAFE    object\n",
      "P_USER    object\n",
      "C_CASE     int64\n",
      "Length: 23, dtype: object\n"
     ]
    },
    {
     "name": "stderr",
     "output_type": "stream",
     "text": [
      "C:\\Users\\pradeep\\Anaconda3\\lib\\site-packages\\ipykernel_launcher.py:20: SettingWithCopyWarning: \n",
      "A value is trying to be set on a copy of a slice from a DataFrame\n",
      "\n",
      "See the caveats in the documentation: http://pandas.pydata.org/pandas-docs/stable/indexing.html#indexing-view-versus-copy\n",
      "C:\\Users\\pradeep\\Anaconda3\\lib\\site-packages\\ipykernel_launcher.py:22: SettingWithCopyWarning: \n",
      "A value is trying to be set on a copy of a slice from a DataFrame\n",
      "\n",
      "See the caveats in the documentation: http://pandas.pydata.org/pandas-docs/stable/indexing.html#indexing-view-versus-copy\n"
     ]
    },
    {
     "name": "stdout",
     "output_type": "stream",
     "text": [
      "   C_YEAR C_MNTH C_WDAY C_HOUR C_VEHS C_CONF C_RCFG C_WTHR C_RSUR C_RALN  \\\n",
      "0    1999     01      1     20     02     34     UU      1      5      3   \n",
      "1    1999     01      1     20     02     34     UU      1      5      3   \n",
      "2    1999     01      1     20     02     34     UU      1      5      3   \n",
      "3    1999     01      1     08     01     01     UU      5      3      6   \n",
      "4    1999     01      1     08     01     01     UU      5      3      6   \n",
      "\n",
      "   ...   V_ID V_TYPE V_YEAR P_ID P_SEX P_AGE P_PSN P_SAFE P_USER P_ISEV  \n",
      "0  ...     01     06   1990   01     1    41    11     UU      1      1  \n",
      "1  ...     02     01   1987   01     1    19    11     UU      1      1  \n",
      "2  ...     02     01   1987   02     0    20    13     02      2      2  \n",
      "3  ...     01     01   1986   01     1    46    11     UU      1      1  \n",
      "4  ...     99     NN   NNNN   01     1    05    99     UU      3      2  \n",
      "\n",
      "[5 rows x 21 columns]\n",
      "  C_YEAR C_MNTH C_WDAY C_HOUR C_VEHS C_CONF C_RCFG C_WTHR C_RSUR C_RALN  \\\n",
      "0   1999     01      1     09     02     34     02      1      1      1   \n",
      "1   1999     01      1     09     02     34     02      1      1      1   \n",
      "2   1999     01      1     20     01     03     03      1      1      3   \n",
      "3   1999     01      1     05     02     01     02      3      2      4   \n",
      "4   1999     01      1     05     02     01     02      3      2      4   \n",
      "\n",
      "   ...   V_ID V_TYPE V_YEAR P_ID P_SEX P_AGE P_PSN P_SAFE P_USER P_ISEV  \n",
      "0  ...     01     01   1992   01     0    33    11     02      1      2  \n",
      "1  ...     02     01   1992   01     0    70    11     02      1      1  \n",
      "2  ...     01     01   1988   01     0    38    11     02      1      2  \n",
      "3  ...     01     06   1995   01     1    34    11     02      1      1  \n",
      "4  ...     01     06   1995   02     1    30    13     02      2      1  \n",
      "\n",
      "[5 rows x 21 columns]\n",
      "(3655334, 21)\n",
      "None\n",
      "None\n",
      "Index(['C_YEAR', 'C_MNTH', 'C_WDAY', 'C_HOUR', 'C_VEHS', 'C_CONF', 'C_RCFG',\n",
      "       'C_WTHR', 'C_RSUR', 'C_RALN', 'C_TRAF', 'V_ID', 'V_TYPE', 'V_YEAR',\n",
      "       'P_ID', 'P_SEX', 'P_AGE', 'P_PSN', 'P_SAFE', 'P_USER', 'P_ISEV'],\n",
      "      dtype='object')\n",
      "C_YEAR    category\n",
      "C_MNTH    category\n",
      "C_WDAY    category\n",
      "C_HOUR    category\n",
      "C_VEHS    category\n",
      "            ...   \n",
      "P_AGE     category\n",
      "P_PSN     category\n",
      "P_SAFE    category\n",
      "P_USER    category\n",
      "P_ISEV    category\n",
      "Length: 21, dtype: object\n",
      "This dataset has 0 Null values\n",
      "This dataset has 0 Not a Number (NaN) values\n",
      "This dataset has 0 Non Numeric values\n"
     ]
    }
   ],
   "source": [
    "print(df.head())\n",
    "print(df.shape)\n",
    "print(df.index.name)\n",
    "print(df.columns.name)\n",
    "print(df.columns)\n",
    "print(df.dtypes)\n",
    "\n",
    "\n",
    "\n",
    "#Move the dependent variable to the outside and drop C_CASE column\n",
    "P_ISEV = df['P_ISEV']\n",
    "df.drop(columns = ['P_ISEV'], inplace = True)\n",
    "df['P_ISEV'] = P_ISEV\n",
    "\n",
    "#Move the dependent variable to the outside and drop C_CASE column\n",
    "df.drop(columns = ['C_SEV', 'C_CASE'], inplace = True)\n",
    "\n",
    "#map F = 0 and M = 1\n",
    "data_to_impute = df['P_SEX'].astype('str').str.contains('F')\n",
    "df['P_SEX'][data_to_impute] = '0'\n",
    "data_to_impute = df['P_SEX'].astype('str').str.contains('M')\n",
    "df['P_SEX'][data_to_impute] = '1'\n",
    "\n",
    "print(df.head())\n",
    "\n",
    "for col in df.columns:\n",
    "    df[col] = df[col].apply(lambda x: str(x) if str(x).isdigit() else np.nan)\n",
    "\n",
    "df.dropna(inplace = True)\n",
    "df = df.reset_index(drop=True)\n",
    "df = df.astype('category')\n",
    "\n",
    "print(df.head())\n",
    "print(df.shape)\n",
    "print(df.index.name)\n",
    "print(df.columns.name)\n",
    "print(df.columns)\n",
    "print(df.dtypes)\n",
    "\n",
    "#check for nun numeric values\n",
    "print(\"This dataset has {0} Null values\".format(df.isnull().sum().sum()))\n",
    "print(\"This dataset has {0} Not a Number (NaN) values\".format(df.isna().sum().sum()))\n",
    "print(\"This dataset has {0} Non Numeric values\".format(df[df.columns].apply(lambda x: x.astype(str).str.contains('[^0-9]')).sum().sum()))"
   ]
  },
  {
   "cell_type": "code",
   "execution_count": 75,
   "metadata": {},
   "outputs": [],
   "source": [
    "df.to_csv('NCDB_FULL_Removed_All_Missing_Values.csv', encoding='utf-8', index=False)"
   ]
  },
  {
   "cell_type": "code",
   "execution_count": null,
   "metadata": {},
   "outputs": [],
   "source": []
  }
 ],
 "metadata": {
  "kernelspec": {
   "display_name": "Python 3",
   "language": "python",
   "name": "python3"
  },
  "language_info": {
   "codemirror_mode": {
    "name": "ipython",
    "version": 3
   },
   "file_extension": ".py",
   "mimetype": "text/x-python",
   "name": "python",
   "nbconvert_exporter": "python",
   "pygments_lexer": "ipython3",
   "version": "3.7.0"
  }
 },
 "nbformat": 4,
 "nbformat_minor": 2
}
