{
 "cells": [
  {
   "cell_type": "code",
   "execution_count": 23,
   "metadata": {},
   "outputs": [
    {
     "name": "stderr",
     "output_type": "stream",
     "text": [
      "C:\\Users\\pradeep\\Anaconda3\\lib\\site-packages\\sklearn\\cross_validation.py:41: DeprecationWarning: This module was deprecated in version 0.18 in favor of the model_selection module into which all the refactored classes and functions are moved. Also note that the interface of the new CV iterators are different from that of this module. This module will be removed in 0.20.\n",
      "  \"This module will be removed in 0.20.\", DeprecationWarning)\n"
     ]
    }
   ],
   "source": [
    "import numpy as np\n",
    "#in case we need to repeat experiment\n",
    "#np.random.seed(255)\n",
    "\n",
    "import pandas as pd\n",
    "pd.options.display.max_rows = 22\n",
    "\n",
    "import matplotlib.pyplot as plt\n",
    "plt.style.use('classic')\n",
    "\n",
    "import seaborn as sns\n",
    "sns.set()\n",
    "\n",
    "#sklearn imports\n",
    "from sklearn.cluster import KMeans\n",
    "from sklearn import model_selection\n",
    "from sklearn.metrics import classification_report\n",
    "from sklearn.metrics import confusion_matrix\n",
    "from sklearn.ensemble import RandomForestClassifier\n",
    "from sklearn.neural_network import MLPClassifier\n",
    "from sklearn.svm import SVC\n",
    "from sklearn.neighbors import KNeighborsClassifier\n",
    "from sklearn.ensemble import RandomForestClassifier\n",
    "from sklearn.tree import DecisionTreeClassifier\n",
    "from sklearn.linear_model import LogisticRegression\n",
    "from sklearn.model_selection import GridSearchCV\n",
    "from pandas.api.types import CategoricalDtype\n",
    "from sklearn.naive_bayes import GaussianNB\n",
    "import pickle # allows for model to be saved/load to file\n",
    "import time\n",
    "\n",
    "#Use print instead of display when run as python script\n",
    "pyscript = True\n",
    "\n",
    "#Classifier verborsity where supported\n",
    "verbose_level=3\n",
    "\n",
    "#Multiclass classification, binary if falase\n",
    "multiclass = False\n",
    "over_sample = True\n",
    "\n",
    "#inputfile = 'CKME136X10_2018_Data_CTF.csv'\n",
    "if multiclass:\n",
    "    inputfile_train_O = 'CKME136X10_2018_Data_CTFB_M_O_Train.csv'\n",
    "    inputfile_train_U = 'CKME136X10_2018_Data_CTFB_M_U_Train.csv'\n",
    "    inputfile_test = 'CKME136X10_2018_Data_CTFB_M_Test.csv'\n",
    "else:\n",
    "    inputfile_train_O = 'CKME136X10_2018_Data_CTFB_B_O_Train.csv'\n",
    "    inputfile_train_U = 'CKME136X10_2018_Data_CTFB_B_U_Train.csv'\n",
    "    inputfile_test = 'CKME136X10_2018_Data_CTFB_B_Test.csv'\n",
    "\n",
    "if over_sample:\n",
    "    datafile_train = inputfile_train_O\n",
    "else:\n",
    "    datafile_train = inputfile_train_U\n",
    "\n",
    "datafile_test = inputfile_test\n",
    "    \n",
    "model_max_iter = 1000\n",
    "datestr = 'dec_05_binary_run_1000_KBO'\n",
    "\n",
    "#Model Store\n",
    "file_lr = 'lr_' + datestr + '.model'\n",
    "file_lr_l1 = 'lr_l2_' + datestr + '.model'\n",
    "file_dt = 'dt_' + datestr + '.model'\n",
    "file_svm = 'svm_' + datestr + '.model'\n",
    "file_knn = 'knn_' + datestr + '.model'\n",
    "file_mlp = 'mlp_' + datestr + '.model'\n",
    "file_kmean = 'kmean_' + datestr + '.model'\n",
    "file_nbayes = 'nbayes_' + datestr + '.model'\n",
    "\n",
    "file_final_train = 'final_train_' + datestr + '.csv'\n",
    "file_final_test = 'final_test_' + datestr + '.csv'\n",
    "\n",
    "#Enable Optimization Algorithms\n",
    "enable_grid_search = False\n",
    "svm_c = 1\n",
    "svm_gamma = 1\n",
    "nfold = 10\n",
    "\n",
    "enable_lr_l1 = True\n",
    "predict_lr_l1 = True\n",
    "\n",
    "# Enable Algorithms\n",
    "enable_lr = True\n",
    "enable_dt = True\n",
    "enable_svm = True\n",
    "enable_knn = True\n",
    "enable_mlp = True\n",
    "enable_nbayes = True\n",
    "\n",
    "predict_lr = False\n",
    "predict_dt = True\n",
    "predict_svm = True\n",
    "predict_knn = True\n",
    "predict_mlp = True\n",
    "predict_nbayes = True"
   ]
  },
  {
   "cell_type": "code",
   "execution_count": 2,
   "metadata": {},
   "outputs": [
    {
     "name": "stdout",
     "output_type": "stream",
     "text": [
      "Multi-Class Classification: Disabled\n",
      "Logistic Regression: Enabled\n",
      "Decision Tree: Enabled\n",
      "Support Vector Machines: Enabled\n",
      "KNN: Enabled\n",
      "Naive Bayes: Enabled\n",
      "MLP: Enabled\n"
     ]
    }
   ],
   "source": [
    "#print(\"Sample size: {}\".format(sampleN))\n",
    "\n",
    "if multiclass:\n",
    "    print(\"Multi-Class Classification: Enabled\")\n",
    "else:\n",
    "    print(\"Multi-Class Classification: Disabled\")\n",
    "\n",
    "if enable_lr:\n",
    "    print(\"Logistic Regression: Enabled\")\n",
    "else:\n",
    "    print(\"Logistic Regression: Disabled\")\n",
    "    \n",
    "if enable_dt:\n",
    "    print(\"Decision Tree: Enabled\")\n",
    "else:\n",
    "    print(\"Decision Tree: Disabled\")\n",
    "    \n",
    "if enable_svm:\n",
    "    print(\"Support Vector Machines: Enabled\")\n",
    "else:\n",
    "    print(\"Support Vector Machines: Disabled\")\n",
    "\n",
    "if  enable_knn:\n",
    "    print(\"KNN: Enabled\")\n",
    "else:\n",
    "    print(\"KNN: Disabled\")\n",
    "    \n",
    "if enable_nbayes:\n",
    "    print(\"Naive Bayes: Enabled\")\n",
    "else:\n",
    "    print(\"Naive Bayes: Disabled\")\n",
    "    \n",
    "if enable_mlp:\n",
    "    print(\"MLP: Enabled\")\n",
    "else:\n",
    "    print(\"MLP: Disabled\")"
   ]
  },
  {
   "cell_type": "code",
   "execution_count": 3,
   "metadata": {},
   "outputs": [
    {
     "name": "stdout",
     "output_type": "stream",
     "text": [
      "   C_YEAR  C_MNTH  C_WDAY  C_HOUR  C_VEHS  C_CONF  C_RCFG  C_WTHR  C_RSUR  \\\n",
      "0       1       5       5       2       3      21       2       1       1   \n",
      "1      14       2       6       1       4      24       1       1       1   \n",
      "\n",
      "   C_RALN  C_TRAF  V_TYPE  V_YEAR  P_SEX  P_AGE  P_PSN  P_SAFE  P_USER  P_ISEV  \n",
      "0       1       1       6       2      1     34      1       2       1       0  \n",
      "1       2       7       1       4      0     47      3       2       2       1  \n",
      "   C_YEAR  C_MNTH  C_WDAY  C_HOUR  C_VEHS  C_CONF  C_RCFG  C_WTHR  C_RSUR  \\\n",
      "0       3       5       4       3       2      51       1       1       1   \n",
      "1      16       3       1       1       2      51       1       1       1   \n",
      "\n",
      "   C_RALN  C_TRAF  V_TYPE  V_YEAR  P_SEX  P_AGE  P_PSN  P_SAFE  P_USER  P_ISEV  \n",
      "0       1       7       1       3      1     18      1       2       2       1  \n",
      "1       1       7       6       4      1     19      1       2       1       1  \n"
     ]
    }
   ],
   "source": [
    "#load data\n",
    "df_test = pd.read_csv(datafile_test, engine = 'python')\n",
    "df_train = pd.read_csv(datafile_train, engine = 'python')\n",
    "df = df_train.copy()\n",
    "\n",
    "print(df_test.head(2))\n",
    "print(df_train.head(2))"
   ]
  },
  {
   "cell_type": "code",
   "execution_count": 4,
   "metadata": {},
   "outputs": [],
   "source": [
    "df_test_cat = df_test.astype('category').copy()\n",
    "df_train_cat = df_train.astype('category').copy()"
   ]
  },
  {
   "cell_type": "code",
   "execution_count": null,
   "metadata": {},
   "outputs": [],
   "source": [
    "# convert to the correct type\n",
    "df_train_cat['C_YEAR'] = df_train_cat['C_YEAR'].astype(CategoricalDtype(ordered=True))\n",
    "df_train_cat['C_MNTH'] = df_train_cat['C_MNTH'].astype(CategoricalDtype(ordered=True))\n",
    "df_train_cat['C_WDAY'] = df_train_cat['C_WDAY'].astype(CategoricalDtype(ordered=True))\n",
    "df_train_cat['C_HOUR'] = df_train_cat['C_HOUR'].astype(CategoricalDtype(ordered=True))\n",
    "df_train_cat['C_VEHS'] = df_train_cat['C_VEHS'].astype('int')\n",
    "df_train_cat['V_YEAR'] = df_train_cat['V_YEAR'].astype(CategoricalDtype(ordered=True))\n",
    "df_train_cat['P_PSN'] = df_train_cat['P_PSN'].astype(CategoricalDtype(ordered=True))\n",
    "df_train_cat['P_AGE'] = df_train_cat['P_AGE'].astype('int')\n",
    "df_train_cat['P_ISEV'] = df_train_cat['P_ISEV'].astype('int')"
   ]
  },
  {
   "cell_type": "code",
   "execution_count": null,
   "metadata": {},
   "outputs": [],
   "source": [
    "# convert to the correct type\n",
    "df_test_cat['C_YEAR'] = df_test_cat['C_YEAR'].astype(CategoricalDtype(ordered=True))\n",
    "df_test_cat['C_MNTH'] = df_test_cat['C_MNTH'].astype(CategoricalDtype(ordered=True))\n",
    "df_test_cat['C_WDAY'] = df_test_cat['C_WDAY'].astype(CategoricalDtype(ordered=True))\n",
    "df_test_cat['C_HOUR'] = df_test_cat['C_HOUR'].astype(CategoricalDtype(ordered=True))\n",
    "df_test_cat['C_VEHS'] = df_test_cat['C_VEHS'].astype('int')\n",
    "df_test_cat['V_YEAR'] = df_test_cat['V_YEAR'].astype(CategoricalDtype(ordered=True))\n",
    "df_test_cat['P_PSN'] = df_test_cat['P_PSN'].astype(CategoricalDtype(ordered=True))\n",
    "df_test_cat['P_AGE'] = df_test_cat['P_AGE'].astype('int')\n",
    "df_test_cat['P_ISEV'] = df_test_cat['P_ISEV'].astype('int')\n",
    "print(df_test_cat.info())"
   ]
  },
  {
   "cell_type": "code",
   "execution_count": 5,
   "metadata": {},
   "outputs": [
    {
     "name": "stdout",
     "output_type": "stream",
     "text": [
      "Number of Rows in test data: 1300968\n",
      "Number of Rows in train data: 3534154\n"
     ]
    }
   ],
   "source": [
    "total_test_Rows = df_test_cat.index.size\n",
    "print(\"Number of Rows in test data: {}\".format(total_test_Rows))\n",
    "\n",
    "total_train_Rows = df_train_cat.index.size\n",
    "print(\"Number of Rows in train data: {}\".format(total_train_Rows))"
   ]
  },
  {
   "cell_type": "code",
   "execution_count": 27,
   "metadata": {},
   "outputs": [],
   "source": [
    "#Split between data and class for training\n",
    "Y = df_train_cat[df_train_cat.columns[-1]]\n",
    "X = df_train_cat[df_train_cat.columns[0:df_train_cat.columns.size -1]]\n",
    "\n",
    "Y_test = df_test_cat[df_test_cat.columns[-1]]\n",
    "X_test = df_test_cat[df_test_cat.columns[0:df_test_cat.columns.size -1]]"
   ]
  },
  {
   "cell_type": "code",
   "execution_count": 28,
   "metadata": {},
   "outputs": [
    {
     "name": "stdout",
     "output_type": "stream",
     "text": [
      "[1, 0]\n",
      "Categories (2, int64): [1, 0]\n",
      "P_ISEV\n",
      "0    1767077\n",
      "1    1767077\n",
      "Name: P_ISEV, dtype: int64\n",
      "[0, 1]\n",
      "Categories (2, int64): [0, 1]\n",
      "P_ISEV\n",
      "0    543649\n",
      "1    757319\n",
      "Name: P_ISEV, dtype: int64\n"
     ]
    }
   ],
   "source": [
    "print(Y.unique())\n",
    "print(Y.groupby(Y_train).size())\n",
    "print(Y_test.unique())\n",
    "print(Y_test.groupby(Y_test).size())"
   ]
  },
  {
   "cell_type": "code",
   "execution_count": 35,
   "metadata": {},
   "outputs": [
    {
     "name": "stdout",
     "output_type": "stream",
     "text": [
      "Logistic Regression: Start\n",
      "\n",
      "Model: Logistic Regression\n",
      "Tue Dec  4 02:41:40 2018\n",
      "\n",
      "Using Stratified Kfold: 10\n",
      "[ 353416  353417  353418 ... 3534151 3534152 3534153]\n",
      "\n",
      "Model: Logistic Regression\n",
      "LogisticRegression(C=1, class_weight=None, dual=False, fit_intercept=True,\n",
      "          intercept_scaling=1, max_iter=1000, multi_class='ovr', n_jobs=10,\n",
      "          penalty='l2', random_state=0, solver='saga', tol=0.0001,\n",
      "          verbose=3, warm_start=False)\n",
      "\n",
      "Logistic Regression: Fit\n",
      "convergence after 13 epochs took 31 seconds\n",
      "Logistic Regression: Predict\n"
     ]
    },
    {
     "name": "stderr",
     "output_type": "stream",
     "text": [
      "[Parallel(n_jobs=10)]: Done   1 out of   1 | elapsed:   30.6s finished\n"
     ]
    },
    {
     "name": "stdout",
     "output_type": "stream",
     "text": [
      "Accuracy of logistic regression classifier on train set: 0.62\n",
      "Accuracy of logistic regression classifier on test set: 0.61\n",
      "Logistic Regression: Intercept\n",
      "[0.12181894]\n",
      "Logistic Regression: Coefficients\n",
      "[[ 0.00820767  0.00671875  0.01127662 -0.02271095 -0.32280624 -0.00311421\n",
      "   0.00817163  0.02975961  0.09728152  0.25044309  0.04217313  0.07538374\n",
      "  -0.12385502 -0.50908969  0.00815731 -0.32392867 -0.14224575  0.48835798]]\n",
      "Logistic Regression: Confusion Matrix\n",
      "[[102616  45461]\n",
      " [ 93558 111781]]\n",
      "Logistic Regression: Classification Report\n",
      "             precision    recall  f1-score   support\n",
      "\n",
      "          0       0.52      0.69      0.60    148077\n",
      "          1       0.71      0.54      0.62    205339\n",
      "\n",
      "avg / total       0.63      0.61      0.61    353416\n",
      "\n",
      "Tue Dec  4 02:42:17 2018\n",
      "[      0       1       2 ... 3534151 3534152 3534153]\n",
      "\n",
      "Model: Logistic Regression\n",
      "LogisticRegression(C=1, class_weight=None, dual=False, fit_intercept=True,\n",
      "          intercept_scaling=1, max_iter=1000, multi_class='ovr', n_jobs=10,\n",
      "          penalty='l2', random_state=0, solver='saga', tol=0.0001,\n",
      "          verbose=3, warm_start=False)\n",
      "\n",
      "Logistic Regression: Fit\n",
      "convergence after 14 epochs took 35 seconds\n",
      "Logistic Regression: Predict\n"
     ]
    },
    {
     "name": "stderr",
     "output_type": "stream",
     "text": [
      "[Parallel(n_jobs=10)]: Done   1 out of   1 | elapsed:   34.5s finished\n"
     ]
    },
    {
     "name": "stdout",
     "output_type": "stream",
     "text": [
      "Accuracy of logistic regression classifier on train set: 0.62\n",
      "Accuracy of logistic regression classifier on test set: 0.60\n",
      "Logistic Regression: Intercept\n",
      "[0.11974495]\n",
      "Logistic Regression: Coefficients\n",
      "[[ 0.00833139  0.00698844  0.01107335 -0.02211751 -0.32241109 -0.00327778\n",
      "   0.00853769  0.02943044  0.09877754  0.25094203  0.04213656  0.07547784\n",
      "  -0.12419451 -0.5085123   0.0081375  -0.32654973 -0.14239755  0.49018541]]\n",
      "Logistic Regression: Confusion Matrix\n",
      "[[102474  45049]\n",
      " [ 94899 110994]]\n",
      "Logistic Regression: Classification Report\n",
      "             precision    recall  f1-score   support\n",
      "\n",
      "          0       0.52      0.69      0.59    147523\n",
      "          1       0.71      0.54      0.61    205893\n",
      "\n",
      "avg / total       0.63      0.60      0.61    353416\n",
      "\n",
      "Tue Dec  4 02:42:57 2018\n",
      "[      0       1       2 ... 3534151 3534152 3534153]\n",
      "\n",
      "Model: Logistic Regression\n",
      "LogisticRegression(C=1, class_weight=None, dual=False, fit_intercept=True,\n",
      "          intercept_scaling=1, max_iter=1000, multi_class='ovr', n_jobs=10,\n",
      "          penalty='l2', random_state=0, solver='saga', tol=0.0001,\n",
      "          verbose=3, warm_start=False)\n",
      "\n",
      "Logistic Regression: Fit\n",
      "convergence after 14 epochs took 34 seconds\n",
      "Logistic Regression: Predict\n"
     ]
    },
    {
     "name": "stderr",
     "output_type": "stream",
     "text": [
      "[Parallel(n_jobs=10)]: Done   1 out of   1 | elapsed:   34.3s finished\n"
     ]
    },
    {
     "name": "stdout",
     "output_type": "stream",
     "text": [
      "Accuracy of logistic regression classifier on train set: 0.62\n",
      "Accuracy of logistic regression classifier on test set: 0.60\n",
      "Logistic Regression: Intercept\n",
      "[0.12152203]\n",
      "Logistic Regression: Coefficients\n",
      "[[ 0.00819566  0.00674303  0.01149856 -0.02193454 -0.32339025 -0.00320469\n",
      "   0.00723177  0.02951863  0.09856198  0.25188252  0.04215378  0.07549611\n",
      "  -0.12357634 -0.50959552  0.00810413 -0.32415604 -0.14249391  0.4888368 ]]\n",
      "Logistic Regression: Confusion Matrix\n",
      "[[101894  45905]\n",
      " [ 94358 111259]]\n",
      "Logistic Regression: Classification Report\n",
      "             precision    recall  f1-score   support\n",
      "\n",
      "          0       0.52      0.69      0.59    147799\n",
      "          1       0.71      0.54      0.61    205617\n",
      "\n",
      "avg / total       0.63      0.60      0.60    353416\n",
      "\n",
      "Tue Dec  4 02:43:36 2018\n",
      "[      0       1       2 ... 3534151 3534152 3534153]\n",
      "\n",
      "Model: Logistic Regression\n",
      "LogisticRegression(C=1, class_weight=None, dual=False, fit_intercept=True,\n",
      "          intercept_scaling=1, max_iter=1000, multi_class='ovr', n_jobs=10,\n",
      "          penalty='l2', random_state=0, solver='saga', tol=0.0001,\n",
      "          verbose=3, warm_start=False)\n",
      "\n",
      "Logistic Regression: Fit\n",
      "convergence after 14 epochs took 35 seconds\n",
      "Logistic Regression: Predict\n"
     ]
    },
    {
     "name": "stderr",
     "output_type": "stream",
     "text": [
      "[Parallel(n_jobs=10)]: Done   1 out of   1 | elapsed:   34.8s finished\n"
     ]
    },
    {
     "name": "stdout",
     "output_type": "stream",
     "text": [
      "Accuracy of logistic regression classifier on train set: 0.62\n",
      "Accuracy of logistic regression classifier on test set: 0.60\n",
      "Logistic Regression: Intercept\n",
      "[0.11854322]\n",
      "Logistic Regression: Coefficients\n",
      "[[ 0.0084068   0.00674064  0.0113218  -0.02217242 -0.32357846 -0.00315813\n",
      "   0.00838251  0.02959106  0.09775373  0.25078817  0.04219889  0.07527967\n",
      "  -0.1245331  -0.50966774  0.00819195 -0.32424608 -0.14267046  0.4910353 ]]\n",
      "Logistic Regression: Confusion Matrix\n",
      "[[102442  45445]\n",
      " [ 94403 111126]]\n",
      "Logistic Regression: Classification Report\n",
      "             precision    recall  f1-score   support\n",
      "\n",
      "          0       0.52      0.69      0.59    147887\n",
      "          1       0.71      0.54      0.61    205529\n",
      "\n",
      "avg / total       0.63      0.60      0.61    353416\n",
      "\n",
      "Tue Dec  4 02:44:16 2018\n",
      "[      0       1       2 ... 3534151 3534152 3534153]\n",
      "\n",
      "Model: Logistic Regression\n",
      "LogisticRegression(C=1, class_weight=None, dual=False, fit_intercept=True,\n",
      "          intercept_scaling=1, max_iter=1000, multi_class='ovr', n_jobs=10,\n",
      "          penalty='l2', random_state=0, solver='saga', tol=0.0001,\n",
      "          verbose=3, warm_start=False)\n",
      "\n",
      "Logistic Regression: Fit\n",
      "convergence after 14 epochs took 35 seconds\n",
      "Logistic Regression: Predict\n"
     ]
    },
    {
     "name": "stderr",
     "output_type": "stream",
     "text": [
      "[Parallel(n_jobs=10)]: Done   1 out of   1 | elapsed:   34.3s finished\n"
     ]
    },
    {
     "name": "stdout",
     "output_type": "stream",
     "text": [
      "Accuracy of logistic regression classifier on train set: 0.62\n",
      "Accuracy of logistic regression classifier on test set: 0.60\n",
      "Logistic Regression: Intercept\n",
      "[0.11967378]\n",
      "Logistic Regression: Coefficients\n",
      "[[ 0.008256    0.00680603  0.01116403 -0.02281215 -0.32346078 -0.00312814\n",
      "   0.00808416  0.02880961  0.09943185  0.25118716  0.04211145  0.07565593\n",
      "  -0.12331129 -0.50824957  0.00813644 -0.32663835 -0.1423279   0.48944949]]\n",
      "Logistic Regression: Confusion Matrix\n",
      "[[102022  45702]\n",
      " [ 94275 111416]]\n",
      "Logistic Regression: Classification Report\n",
      "             precision    recall  f1-score   support\n",
      "\n",
      "          0       0.52      0.69      0.59    147724\n",
      "          1       0.71      0.54      0.61    205691\n",
      "\n",
      "avg / total       0.63      0.60      0.61    353415\n",
      "\n",
      "Tue Dec  4 02:44:56 2018\n",
      "[      0       1       2 ... 3534151 3534152 3534153]\n",
      "\n",
      "Model: Logistic Regression\n",
      "LogisticRegression(C=1, class_weight=None, dual=False, fit_intercept=True,\n",
      "          intercept_scaling=1, max_iter=1000, multi_class='ovr', n_jobs=10,\n",
      "          penalty='l2', random_state=0, solver='saga', tol=0.0001,\n",
      "          verbose=3, warm_start=False)\n",
      "\n",
      "Logistic Regression: Fit\n",
      "convergence after 14 epochs took 34 seconds\n",
      "Logistic Regression: Predict\n"
     ]
    },
    {
     "name": "stderr",
     "output_type": "stream",
     "text": [
      "[Parallel(n_jobs=10)]: Done   1 out of   1 | elapsed:   34.4s finished\n"
     ]
    },
    {
     "name": "stdout",
     "output_type": "stream",
     "text": [
      "Accuracy of logistic regression classifier on train set: 0.62\n",
      "Accuracy of logistic regression classifier on test set: 0.60\n",
      "Logistic Regression: Intercept\n",
      "[0.12084613]\n",
      "Logistic Regression: Coefficients\n",
      "[[ 0.00836829  0.00680821  0.01154498 -0.0220917  -0.32267413 -0.00325035\n",
      "   0.00695897  0.02948817  0.09765723  0.25186908  0.04218749  0.0755798\n",
      "  -0.12434505 -0.508989    0.00819612 -0.32315163 -0.14298955  0.48725399]]\n",
      "Logistic Regression: Confusion Matrix\n",
      "[[102073  45035]\n",
      " [ 94994 111313]]\n",
      "Logistic Regression: Classification Report\n",
      "             precision    recall  f1-score   support\n",
      "\n",
      "          0       0.52      0.69      0.59    147108\n",
      "          1       0.71      0.54      0.61    206307\n",
      "\n",
      "avg / total       0.63      0.60      0.61    353415\n",
      "\n",
      "Tue Dec  4 02:45:35 2018\n",
      "[      0       1       2 ... 3534151 3534152 3534153]\n",
      "\n",
      "Model: Logistic Regression\n",
      "LogisticRegression(C=1, class_weight=None, dual=False, fit_intercept=True,\n",
      "          intercept_scaling=1, max_iter=1000, multi_class='ovr', n_jobs=10,\n",
      "          penalty='l2', random_state=0, solver='saga', tol=0.0001,\n",
      "          verbose=3, warm_start=False)\n",
      "\n",
      "Logistic Regression: Fit\n",
      "convergence after 14 epochs took 34 seconds\n",
      "Logistic Regression: Predict\n"
     ]
    },
    {
     "name": "stderr",
     "output_type": "stream",
     "text": [
      "[Parallel(n_jobs=10)]: Done   1 out of   1 | elapsed:   34.6s finished\n"
     ]
    },
    {
     "name": "stdout",
     "output_type": "stream",
     "text": [
      "Accuracy of logistic regression classifier on train set: 0.62\n",
      "Accuracy of logistic regression classifier on test set: 0.60\n",
      "Logistic Regression: Intercept\n",
      "[0.12278065]\n",
      "Logistic Regression: Coefficients\n",
      "[[ 0.00821654  0.00678298  0.01091224 -0.02243447 -0.32307725 -0.00314847\n",
      "   0.0077415   0.0295346   0.09780686  0.25076125  0.04224261  0.0756121\n",
      "  -0.12314201 -0.50948868  0.00812863 -0.32457408 -0.14300671  0.48903591]]\n",
      "Logistic Regression: Confusion Matrix\n",
      "[[102149  45734]\n",
      " [ 94119 111413]]\n",
      "Logistic Regression: Classification Report\n",
      "             precision    recall  f1-score   support\n",
      "\n",
      "          0       0.52      0.69      0.59    147883\n",
      "          1       0.71      0.54      0.61    205532\n",
      "\n",
      "avg / total       0.63      0.60      0.61    353415\n",
      "\n",
      "Tue Dec  4 02:46:15 2018\n",
      "[      0       1       2 ... 3534151 3534152 3534153]\n",
      "\n",
      "Model: Logistic Regression\n",
      "LogisticRegression(C=1, class_weight=None, dual=False, fit_intercept=True,\n",
      "          intercept_scaling=1, max_iter=1000, multi_class='ovr', n_jobs=10,\n",
      "          penalty='l2', random_state=0, solver='saga', tol=0.0001,\n",
      "          verbose=3, warm_start=False)\n",
      "\n",
      "Logistic Regression: Fit\n",
      "convergence after 13 epochs took 31 seconds\n",
      "Logistic Regression: Predict\n"
     ]
    },
    {
     "name": "stderr",
     "output_type": "stream",
     "text": [
      "[Parallel(n_jobs=10)]: Done   1 out of   1 | elapsed:   30.7s finished\n"
     ]
    },
    {
     "name": "stdout",
     "output_type": "stream",
     "text": [
      "Accuracy of logistic regression classifier on train set: 0.62\n",
      "Accuracy of logistic regression classifier on test set: 0.60\n",
      "Logistic Regression: Intercept\n",
      "[0.12396677]\n",
      "Logistic Regression: Coefficients\n",
      "[[ 0.00822176  0.00693869  0.01110987 -0.02234354 -0.32303575 -0.00321807\n",
      "   0.00774728  0.0292596   0.09861325  0.25139898  0.04229579  0.07545268\n",
      "  -0.12455366 -0.508318    0.00811766 -0.32362596 -0.14289878  0.48798138]]\n",
      "Logistic Regression: Confusion Matrix\n",
      "[[102027  44969]\n",
      " [ 94927 111492]]\n",
      "Logistic Regression: Classification Report\n",
      "             precision    recall  f1-score   support\n",
      "\n",
      "          0       0.52      0.69      0.59    146996\n",
      "          1       0.71      0.54      0.61    206419\n",
      "\n",
      "avg / total       0.63      0.60      0.61    353415\n",
      "\n",
      "Tue Dec  4 02:46:51 2018\n",
      "[      0       1       2 ... 3534151 3534152 3534153]\n",
      "\n",
      "Model: Logistic Regression\n",
      "LogisticRegression(C=1, class_weight=None, dual=False, fit_intercept=True,\n",
      "          intercept_scaling=1, max_iter=1000, multi_class='ovr', n_jobs=10,\n",
      "          penalty='l2', random_state=0, solver='saga', tol=0.0001,\n",
      "          verbose=3, warm_start=False)\n",
      "\n",
      "Logistic Regression: Fit\n",
      "convergence after 14 epochs took 34 seconds\n",
      "Logistic Regression: Predict\n"
     ]
    },
    {
     "name": "stderr",
     "output_type": "stream",
     "text": [
      "[Parallel(n_jobs=10)]: Done   1 out of   1 | elapsed:   33.6s finished\n"
     ]
    },
    {
     "name": "stdout",
     "output_type": "stream",
     "text": [
      "Accuracy of logistic regression classifier on train set: 0.62\n",
      "Accuracy of logistic regression classifier on test set: 0.60\n",
      "Logistic Regression: Intercept\n",
      "[0.64469968]\n",
      "Logistic Regression: Coefficients\n",
      "[[ 0.00984901  0.00527804  0.00728325 -0.03353188 -0.3478647  -0.00255549\n",
      "  -0.01731721  0.0248668   0.08912035  0.22316374  0.0412138   0.07730998\n",
      "  -0.1515433  -0.56018893  0.00764423 -0.34092008 -0.146954    0.43949589]]\n",
      "Logistic Regression: Confusion Matrix\n",
      "[[136547  96118]\n",
      " [ 45827  74923]]\n",
      "Logistic Regression: Classification Report\n",
      "             precision    recall  f1-score   support\n",
      "\n",
      "          0       0.75      0.59      0.66    232665\n",
      "          1       0.44      0.62      0.51    120750\n",
      "\n",
      "avg / total       0.64      0.60      0.61    353415\n",
      "\n",
      "Tue Dec  4 02:47:30 2018\n",
      "[      0       1       2 ... 3180736 3180737 3180738]\n",
      "\n",
      "Model: Logistic Regression\n",
      "LogisticRegression(C=1, class_weight=None, dual=False, fit_intercept=True,\n",
      "          intercept_scaling=1, max_iter=1000, multi_class='ovr', n_jobs=10,\n",
      "          penalty='l2', random_state=0, solver='saga', tol=0.0001,\n",
      "          verbose=3, warm_start=False)\n",
      "\n",
      "Logistic Regression: Fit\n",
      "convergence after 14 epochs took 34 seconds\n",
      "Logistic Regression: Predict\n"
     ]
    },
    {
     "name": "stderr",
     "output_type": "stream",
     "text": [
      "[Parallel(n_jobs=10)]: Done   1 out of   1 | elapsed:   34.1s finished\n"
     ]
    },
    {
     "name": "stdout",
     "output_type": "stream",
     "text": [
      "Accuracy of logistic regression classifier on train set: 0.63\n",
      "Accuracy of logistic regression classifier on test set: 0.43\n",
      "Logistic Regression: Intercept\n",
      "[1.46889414]\n",
      "Logistic Regression: Coefficients\n",
      "[[ 0.01226555  0.00279343  0.00077514 -0.05247273 -0.387008   -0.00168901\n",
      "  -0.05719052  0.0168505   0.07436339  0.17704345  0.03988152  0.0802104\n",
      "  -0.19361064 -0.64661991  0.00672214 -0.36359441 -0.15166949  0.35896251]]\n",
      "Logistic Regression: Confusion Matrix\n",
      "[[150217 203198]\n",
      " [     0      0]]\n",
      "Logistic Regression: Classification Report\n",
      "             precision    recall  f1-score   support\n",
      "\n",
      "          0       1.00      0.43      0.60    353415\n",
      "          1       0.00      0.00      0.00         0\n",
      "\n",
      "avg / total       1.00      0.43      0.60    353415\n",
      "\n",
      "Tue Dec  4 02:48:09 2018\n",
      "Logistic Regression: End\n"
     ]
    },
    {
     "name": "stderr",
     "output_type": "stream",
     "text": [
      "C:\\Users\\pradeep\\Anaconda3\\lib\\site-packages\\sklearn\\metrics\\classification.py:1137: UndefinedMetricWarning: Recall and F-score are ill-defined and being set to 0.0 in labels with no true samples.\n",
      "  'recall', 'true', average, warn_for)\n"
     ]
    }
   ],
   "source": [
    "if (True):    \n",
    "    seed = 101\n",
    "    print(\"Logistic Regression: Start\")\n",
    "    t_start =  time.time()\n",
    "    print()\n",
    "    print(\"Model: Logistic Regression\")\n",
    "    print(time.asctime( time.localtime(t_start) ))\n",
    "    print()\n",
    "    print(\"Using Stratified Kfold: {}\".format(nfold))\n",
    "    kfold = model_selection.KFold(n_splits=nfold, random_state=seed)\n",
    "    \n",
    "    models = []\n",
    "    \n",
    "    X_ = np.array(X)\n",
    "    Y_ = np.array(Y)\n",
    "    \n",
    "    for train_index, test_index in kfold.split(X_):\n",
    "        X1_train, X1_test = X_[train_index], X_[test_index]\n",
    "        y1_train, y1_test = Y_[train_index], Y_[test_index]\n",
    "        \n",
    "        lr = LogisticRegression(C=1, random_state=0, solver='saga', multi_class='ovr', \n",
    "                            verbose=verbose_level, n_jobs=10, max_iter=model_max_iter)\n",
    "        print()\n",
    "        print(\"Model: Logistic Regression\")\n",
    "        print(lr)\n",
    "        print()\n",
    "        print(\"Logistic Regression: Fit\")\n",
    "        lr.fit(X1_train, y1_train)\n",
    "\n",
    "        #add model for list\n",
    "        models.append(lr)\n",
    "\n",
    "        print(\"Logistic Regression: Predict\")\n",
    "        y_pred = lr.predict(X1_test)\n",
    "\n",
    "        print('Accuracy of logistic regression classifier on train set: {:.2f}'.format(lr.score(X1_train, y1_train)))\n",
    "        print('Accuracy of logistic regression classifier on test set: {:.2f}'.format(lr.score(X1_test, y1_test)))\n",
    "\n",
    "        # print the intercept (Note: one vs rest => 1 vs 2and3, 2 vs 1and3, 3 vs 1and2)\n",
    "        print(\"Logistic Regression: Intercept\")\n",
    "        print(lr.intercept_)\n",
    "\n",
    "        # print the coeficients (Note: one vs rest => 1 vs 2and3, 2 vs 1and3, 3 vs 1and2)\n",
    "        print(\"Logistic Regression: Coefficients\")\n",
    "        print(lr.coef_)\n",
    "\n",
    "        print(\"Logistic Regression: Confusion Matrix\")\n",
    "        cnf_matrix_lg = confusion_matrix(y1_test, y_pred)\n",
    "        print(cnf_matrix_lg)\n",
    "    \n",
    "        print(\"Logistic Regression: Classification Report\")\n",
    "        print(classification_report(y1_test, y_pred))\n",
    "\n",
    "        t_end =  time.time()\n",
    "        print(time.asctime( time.localtime(t_end) ))\n",
    "    \n",
    "    # save model to file\n",
    "    pickle.dump(models, open(file_lr, \"wb\"))\n",
    "    print(\"Logistic Regression: End\")"
   ]
  },
  {
   "cell_type": "code",
   "execution_count": 20,
   "metadata": {},
   "outputs": [
    {
     "name": "stdout",
     "output_type": "stream",
     "text": [
      "Logistic Regression: Start\n",
      "\n",
      "Model: Logistic Regression\n",
      "Tue Dec  4 01:44:14 2018\n",
      "\n",
      "Using Kfold: 10\n",
      "\n",
      "Model: Logistic Regression\n",
      "LogisticRegression(C=1, class_weight=None, dual=False, fit_intercept=True,\n",
      "          intercept_scaling=1, max_iter=1000, multi_class='ovr', n_jobs=10,\n",
      "          penalty='l2', random_state=0, solver='saga', tol=0.0001,\n",
      "          verbose=3, warm_start=False)\n",
      "\n",
      "Logistic Regression: Fit\n",
      "convergence after 13 epochs took 31 seconds\n"
     ]
    },
    {
     "name": "stderr",
     "output_type": "stream",
     "text": [
      "[Parallel(n_jobs=10)]: Done   1 out of   1 | elapsed:   30.3s finished\n"
     ]
    },
    {
     "name": "stdout",
     "output_type": "stream",
     "text": [
      "convergence after 14 epochs took 34 seconds\n"
     ]
    },
    {
     "name": "stderr",
     "output_type": "stream",
     "text": [
      "[Parallel(n_jobs=10)]: Done   1 out of   1 | elapsed:   33.5s finished\n"
     ]
    },
    {
     "name": "stdout",
     "output_type": "stream",
     "text": [
      "convergence after 14 epochs took 33 seconds\n"
     ]
    },
    {
     "name": "stderr",
     "output_type": "stream",
     "text": [
      "[Parallel(n_jobs=10)]: Done   1 out of   1 | elapsed:   32.8s finished\n"
     ]
    },
    {
     "name": "stdout",
     "output_type": "stream",
     "text": [
      "convergence after 14 epochs took 32 seconds\n"
     ]
    },
    {
     "name": "stderr",
     "output_type": "stream",
     "text": [
      "[Parallel(n_jobs=10)]: Done   1 out of   1 | elapsed:   32.6s finished\n"
     ]
    },
    {
     "name": "stdout",
     "output_type": "stream",
     "text": [
      "convergence after 14 epochs took 33 seconds\n"
     ]
    },
    {
     "name": "stderr",
     "output_type": "stream",
     "text": [
      "[Parallel(n_jobs=10)]: Done   1 out of   1 | elapsed:   32.9s finished\n"
     ]
    },
    {
     "name": "stdout",
     "output_type": "stream",
     "text": [
      "convergence after 14 epochs took 33 seconds\n"
     ]
    },
    {
     "name": "stderr",
     "output_type": "stream",
     "text": [
      "[Parallel(n_jobs=10)]: Done   1 out of   1 | elapsed:   32.9s finished\n"
     ]
    },
    {
     "name": "stdout",
     "output_type": "stream",
     "text": [
      "convergence after 14 epochs took 33 seconds\n"
     ]
    },
    {
     "name": "stderr",
     "output_type": "stream",
     "text": [
      "[Parallel(n_jobs=10)]: Done   1 out of   1 | elapsed:   32.9s finished\n"
     ]
    },
    {
     "name": "stdout",
     "output_type": "stream",
     "text": [
      "convergence after 13 epochs took 31 seconds\n"
     ]
    },
    {
     "name": "stderr",
     "output_type": "stream",
     "text": [
      "[Parallel(n_jobs=10)]: Done   1 out of   1 | elapsed:   30.5s finished\n"
     ]
    },
    {
     "name": "stdout",
     "output_type": "stream",
     "text": [
      "convergence after 14 epochs took 33 seconds\n"
     ]
    },
    {
     "name": "stderr",
     "output_type": "stream",
     "text": [
      "[Parallel(n_jobs=10)]: Done   1 out of   1 | elapsed:   32.7s finished\n"
     ]
    },
    {
     "name": "stdout",
     "output_type": "stream",
     "text": [
      "convergence after 14 epochs took 32 seconds\n"
     ]
    },
    {
     "name": "stderr",
     "output_type": "stream",
     "text": [
      "[Parallel(n_jobs=10)]: Done   1 out of   1 | elapsed:   32.9s finished\n"
     ]
    },
    {
     "name": "stdout",
     "output_type": "stream",
     "text": [
      "0.5857633609003906\n",
      "[0.60664203 0.6040134  0.6031221  0.60429635 0.60393022 0.60378309\n",
      " 0.60428109 0.60415942 0.5983617  0.42504421]\n",
      "Logistic Regression: End\n"
     ]
    }
   ],
   "source": [
    "if enable_lr:\n",
    "    seed = 101\n",
    "    print(\"Logistic Regression: Start\")\n",
    "    t_start =  time.time()\n",
    "    print()\n",
    "    print(\"Model: Logistic Regression\")\n",
    "    print(time.asctime( time.localtime(t_start) ))\n",
    "    print()\n",
    "    print(\"Using Kfold: {}\".format(nfold))\n",
    "    kfold = model_selection.KFold(n_splits=nfold, random_state=seed)\n",
    "    \n",
    "    lr = LogisticRegression(C=1, random_state=0, solver='saga', multi_class='ovr', \n",
    "                            verbose=verbose_level, n_jobs=10, max_iter=model_max_iter)\n",
    "    print()\n",
    "    print(\"Model: Logistic Regression\")\n",
    "    print(lr)\n",
    "    print()\n",
    "    print(\"Logistic Regression: Fit\")\n",
    "    results = model_selection.cross_val_score(lr, X_train, Y_train, cv=kfold)\n",
    "    #lr.fit(X_train, Y_train)\n",
    "    \n",
    "    print(results.mean())\n",
    "    print(results)\n",
    "    \n",
    "    # save model to file\n",
    "    pickle.dump(lr, open(file_lr, \"wb\"))\n",
    "    \n",
    "    \n",
    "if predict_lr:\n",
    "    # load model from file\n",
    "    loaded_model = pickle.load(open(file_lr, \"rb\"))\n",
    "    print(\"Logistic Regression: Predict\")\n",
    "    y_pred = lr.predict(X_test)\n",
    "\n",
    "    print('Accuracy of logistic regression classifier on train set: {:.2f}'.format(lr.score(X_train, Y_train)))\n",
    "    print('Accuracy of logistic regression classifier on test set: {:.2f}'.format(lr.score(X_test, Y_test)))\n",
    "\n",
    "    # print the intercept (Note: one vs rest => 1 vs 2and3, 2 vs 1and3, 3 vs 1and2)\n",
    "    print(\"Logistic Regression: Intercept\")\n",
    "    print(lr.intercept_)\n",
    "\n",
    "    # print the coeficients (Note: one vs rest => 1 vs 2and3, 2 vs 1and3, 3 vs 1and2)\n",
    "    print(\"Logistic Regression: Coefficients\")\n",
    "    print(lr.coef_)\n",
    "\n",
    "    print(\"Logistic Regression: Confusion Matrix\")\n",
    "    cnf_matrix_lg = confusion_matrix(Y_test, y_pred)\n",
    "    print(cnf_matrix_lg)\n",
    "    \n",
    "    print(\"Logistic Regression: Classification Report\")\n",
    "    print(classification_report(Y_test, y_pred))\n",
    "\n",
    "    t_end =  time.time()\n",
    "    print(time.asctime( time.localtime(t_end) ))\n",
    "    \n",
    "print(\"Logistic Regression: End\")"
   ]
  },
  {
   "cell_type": "code",
   "execution_count": null,
   "metadata": {},
   "outputs": [],
   "source": []
  }
 ],
 "metadata": {
  "kernelspec": {
   "display_name": "Python 3",
   "language": "python",
   "name": "python3"
  },
  "language_info": {
   "codemirror_mode": {
    "name": "ipython",
    "version": 3
   },
   "file_extension": ".py",
   "mimetype": "text/x-python",
   "name": "python",
   "nbconvert_exporter": "python",
   "pygments_lexer": "ipython3",
   "version": "3.7.0"
  }
 },
 "nbformat": 4,
 "nbformat_minor": 2
}
