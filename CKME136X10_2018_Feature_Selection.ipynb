{
 "cells": [
  {
   "cell_type": "markdown",
   "metadata": {},
   "source": [
    "## Feature Selection"
   ]
  },
  {
   "cell_type": "code",
   "execution_count": 1,
   "metadata": {},
   "outputs": [
    {
     "name": "stderr",
     "output_type": "stream",
     "text": [
      "C:\\Users\\pradeep\\Anaconda3\\lib\\site-packages\\sklearn\\ensemble\\weight_boosting.py:29: DeprecationWarning: numpy.core.umath_tests is an internal NumPy module and should not be imported. It will be removed in a future NumPy release.\n",
      "  from numpy.core.umath_tests import inner1d\n"
     ]
    }
   ],
   "source": [
    "import time\n",
    "import numpy as np\n",
    "import pandas as pd\n",
    "pd.options.display.max_rows = 25\n",
    "pd.options.display.max_columns  = 25\n",
    "\n",
    "from pandas.api.types import CategoricalDtype\n",
    "from sklearn.feature_selection import SelectKBest\n",
    "from sklearn.feature_selection import chi2\n",
    "from sklearn.feature_selection import RFE\n",
    "from sklearn.linear_model import LogisticRegression\n",
    "from sklearn.ensemble import ExtraTreesClassifier\n",
    "from sklearn.ensemble import RandomForestClassifier\n",
    "from sklearn import model_selection\n",
    "\n",
    "inputfile = 'CKME136X10_2018_Data_Cleaned_Transformed.csv'\n",
    "outputfile = 'CKME136X10_2018_Data_CTF.csv'"
   ]
  },
  {
   "cell_type": "code",
   "execution_count": 2,
   "metadata": {},
   "outputs": [],
   "source": [
    "#enable/disable feature selection\n",
    "enable_rf_features = True"
   ]
  },
  {
   "cell_type": "code",
   "execution_count": 5,
   "metadata": {},
   "outputs": [],
   "source": [
    "# this function converts the data frame to the appropriate data type\n",
    "def convert_type(data):\n",
    "    data = data.astype('category')\n",
    "    data['C_MNTH'] = data['C_MNTH'].astype(CategoricalDtype(ordered=True))\n",
    "    data['C_WDAY'] = data['C_WDAY'].astype(CategoricalDtype(ordered=True))\n",
    "    data['C_HOUR'] = data['C_HOUR'].astype(CategoricalDtype(ordered=True))\n",
    "    data['C_VEHS'] = data['C_VEHS'].astype(CategoricalDtype(ordered=True))\n",
    "    data['P_AGE'] = data['P_AGE'].astype(CategoricalDtype(ordered=True))\n",
    "    data['P_PSN'] = data['P_PSN'].astype(CategoricalDtype(ordered=True))\n",
    "    data['P_ISEV'] = data['P_ISEV'].astype('int')\n",
    "    return data"
   ]
  },
  {
   "cell_type": "code",
   "execution_count": 4,
   "metadata": {},
   "outputs": [],
   "source": [
    "#load data\n",
    "\n",
    "df = pd.read_csv(inputfile, engine = 'python')"
   ]
  },
  {
   "cell_type": "code",
   "execution_count": 6,
   "metadata": {},
   "outputs": [
    {
     "name": "stdout",
     "output_type": "stream",
     "text": [
      "<class 'pandas.core.frame.DataFrame'>\n",
      "RangeIndex: 4816153 entries, 0 to 4816152\n",
      "Data columns (total 15 columns):\n",
      "C_MNTH    category\n",
      "C_WDAY    category\n",
      "C_HOUR    category\n",
      "C_VEHS    category\n",
      "C_CONF    category\n",
      "C_RCFG    category\n",
      "C_WTHR    category\n",
      "C_RSUR    category\n",
      "C_RALN    category\n",
      "C_TRAF    category\n",
      "P_SEX     category\n",
      "P_AGE     category\n",
      "P_PSN     category\n",
      "P_USER    category\n",
      "P_ISEV    int32\n",
      "dtypes: category(14), int32(1)\n",
      "memory usage: 82.7 MB\n",
      "None\n"
     ]
    }
   ],
   "source": [
    "# convert to the correct type\n",
    "df = convert_type(df)\n",
    "print(df.info())"
   ]
  },
  {
   "cell_type": "code",
   "execution_count": 7,
   "metadata": {},
   "outputs": [],
   "source": [
    "#Split between data and class\n",
    "# leaking data here, need to split between test and train.  TBD\n",
    "Y = df[df.columns[-1]]\n",
    "X = df[df.columns[0:df.columns.size -1]]"
   ]
  },
  {
   "cell_type": "markdown",
   "metadata": {},
   "source": [
    "### Feature Selection by Chi Squre"
   ]
  },
  {
   "cell_type": "code",
   "execution_count": 8,
   "metadata": {},
   "outputs": [
    {
     "name": "stdout",
     "output_type": "stream",
     "text": [
      "[2.63839127e+02 4.93720089e+02 3.71416521e+03 4.80838471e+04\n",
      " 3.74398899e+05 3.76883025e+03 3.37096898e+03 7.04938725e+03\n",
      " 1.49681271e+04 7.32742309e+04 1.62208503e+04 3.70025675e+03\n",
      " 7.94718880e+03 4.10623311e+04]\n",
      "['C_CONF', 'C_TRAF', 'C_VEHS', 'P_USER', 'P_SEX', 'C_RALN', 'P_PSN', 'C_RSUR', 'C_RCFG', 'C_HOUR', 'P_AGE', 'C_WTHR']\n"
     ]
    }
   ],
   "source": [
    "# Feature Extraction with Univariate Statistical Tests (Chi-squared for classification)\n",
    "# Ref: https://machinelearningmastery.com/feature-selection-machine-learning-python/\n",
    "np.set_printoptions(edgeitems=12)\n",
    "tcd_as_array = df.values\n",
    "Xs = tcd_as_array[:,0:tcd_as_array.shape[1] -1]\n",
    "Ys = tcd_as_array[:,tcd_as_array.shape[1] -1]\n",
    "Ys=Y.astype('int')\n",
    "\n",
    "# feature extraction\n",
    "test = SelectKBest(score_func=chi2, k=12)\n",
    "fit = test.fit(Xs, Ys)\n",
    "\n",
    "# summarize scores\n",
    "#np.set_printoptions(precision=3)\n",
    "print(fit.scores_)\n",
    "t1 = np.array(fit.scores_).tolist()\n",
    "t2 = t1.copy()\n",
    "#t2 = [ '%.3f' % elem for elem in t2 ]\n",
    "t2.sort(reverse=True)\n",
    "\n",
    "chi_feature = []\n",
    "for i in range(0, Xs.shape[1]):\n",
    "    chi_feature.append(df.columns[t1.index(t2[i])])\n",
    "    #print(\"{}\".format(df.columns[t1.index(t2[i])]))\n",
    "\n",
    "#np.set_printoptions(precision=3)\n",
    "features = fit.transform(Xs)\n",
    "# summarize selected features\n",
    "print(chi_feature[0:12])\n"
   ]
  },
  {
   "cell_type": "markdown",
   "metadata": {},
   "source": [
    "### Feature Extraction: Recursive Feature Elimination "
   ]
  },
  {
   "cell_type": "code",
   "execution_count": 9,
   "metadata": {},
   "outputs": [
    {
     "name": "stdout",
     "output_type": "stream",
     "text": [
      "Num Features: 12\n",
      "Selected Features: [ True  True  True  True  True False  True  True  True  True  True  True\n",
      " False  True]\n",
      "Selected Features: Index(['C_MNTH', 'C_WDAY', 'C_HOUR', 'C_VEHS', 'C_CONF', 'C_WTHR', 'C_RSUR',\n",
      "       'C_RALN', 'C_TRAF', 'P_SEX', 'P_AGE', 'P_USER'],\n",
      "      dtype='object')\n",
      "Feature Ranking: [1 1 1 1 1 2 1 1 1 1 1 1 3 1]\n"
     ]
    }
   ],
   "source": [
    "# Feature Extraction with RFE\n",
    "\n",
    "# feature extraction\n",
    "#model = LogisticRegression()\n",
    "model = ExtraTreesClassifier()\n",
    "rfe = RFE(model, 12)\n",
    "fit = rfe.fit(X, Y)\n",
    "print(\"Num Features: {}\".format(fit.n_features_))\n",
    "print(\"Selected Features: {}\".format(fit.support_))\n",
    "print(\"Selected Features: {}\".format(X.columns[fit.support_]))\n",
    "print(\"Feature Ranking: {}\".format(fit.ranking_))"
   ]
  },
  {
   "cell_type": "markdown",
   "metadata": {},
   "source": [
    "### Feature Extraction: Extra Trees"
   ]
  },
  {
   "cell_type": "code",
   "execution_count": 10,
   "metadata": {},
   "outputs": [
    {
     "name": "stdout",
     "output_type": "stream",
     "text": [
      "[0.18601003 0.12089505 0.06282874 0.05239223 0.15950865 0.03391712\n",
      " 0.03544495 0.03991982 0.02825923 0.04504815 0.04862466 0.08331991\n",
      " 0.02440483 0.07942663]\n",
      "[ 0  4  1 11 13  2  3 10  9  7  6  5  8 12]\n",
      "Index(['C_MNTH', 'C_WDAY', 'C_HOUR', 'C_VEHS', 'C_CONF', 'C_RCFG', 'C_WTHR',\n",
      "       'C_RSUR', 'C_RALN', 'C_TRAF', 'P_SEX', 'P_AGE', 'P_PSN', 'P_USER'],\n",
      "      dtype='object')\n",
      " 1) C_MNTH                         0.186010\n",
      " 2) C_CONF                         0.159509\n",
      " 3) C_WDAY                         0.120895\n",
      " 4) P_AGE                          0.083320\n",
      " 5) P_USER                         0.079427\n",
      " 6) C_HOUR                         0.062829\n",
      " 7) C_VEHS                         0.052392\n",
      " 8) P_SEX                          0.048625\n",
      " 9) C_TRAF                         0.045048\n",
      "10) C_RSUR                         0.039920\n",
      "11) C_WTHR                         0.035445\n",
      "12) C_RCFG                         0.033917\n",
      "13) C_RALN                         0.028259\n",
      "14) P_PSN                          0.024405\n",
      "['C_MNTH', 'C_CONF', 'C_WDAY', 'P_AGE', 'P_USER', 'C_HOUR', 'C_VEHS', 'P_SEX', 'C_TRAF', 'C_RSUR', 'C_WTHR', 'C_RCFG']\n"
     ]
    }
   ],
   "source": [
    "# Feature Importance with Extra Trees Classifier\n",
    "\n",
    "# feature extraction\n",
    "model = ExtraTreesClassifier()\n",
    "model.fit(X, Y)\n",
    "print(model.feature_importances_)\n",
    "\n",
    "indices = np.argsort(model.feature_importances_)[::-1]\n",
    "print(indices)\n",
    "featureLabel = X.columns[0:]\n",
    "print(featureLabel)\n",
    "rankedFeature = []\n",
    "for f in range(X.shape[1]):\n",
    "    rankedFeature.append(featureLabel[indices[f]])\n",
    "    print(\"%2d) %-*s %f\" % (f+1, 30,  featureLabel[indices[f]], model.feature_importances_[indices[f]]))\n",
    "print(rankedFeature[0:12])"
   ]
  },
  {
   "cell_type": "markdown",
   "metadata": {},
   "source": [
    "### Feature Extraction: RandomForest"
   ]
  },
  {
   "cell_type": "code",
   "execution_count": 13,
   "metadata": {},
   "outputs": [
    {
     "name": "stdout",
     "output_type": "stream",
     "text": [
      "Random Forest Feature Selection: Start\n",
      "Thu Dec  6 23:22:47 2018\n",
      "Random Forest Feature Selection: Fit Start\n",
      "Random Forest Feature Selection: Fit\n",
      "Random Forest Feature Selection: Feature Importance\n",
      "[0.14828756 0.10120592 0.05966244 0.0279058  0.07816212 0.02617886\n",
      " 0.02617732 0.02538384 0.02736564 0.03620957 0.03108746 0.36597427\n",
      " 0.01337424 0.03302496]\n",
      "[11  0  1  4  2  9 13 10  3  8  5  6  7 12]\n",
      "Index(['C_MNTH', 'C_WDAY', 'C_HOUR', 'C_VEHS', 'C_CONF', 'C_RCFG', 'C_WTHR',\n",
      "       'C_RSUR', 'C_RALN', 'C_TRAF', 'P_SEX', 'P_AGE', 'P_PSN', 'P_USER'],\n",
      "      dtype='object')\n",
      " 1) P_AGE                          0.365974\n",
      " 2) C_MNTH                         0.148288\n",
      " 3) C_WDAY                         0.101206\n",
      " 4) C_CONF                         0.078162\n",
      " 5) C_HOUR                         0.059662\n",
      " 6) C_TRAF                         0.036210\n",
      " 7) P_USER                         0.033025\n",
      " 8) P_SEX                          0.031087\n",
      " 9) C_VEHS                         0.027906\n",
      "10) C_RALN                         0.027366\n",
      "11) C_RCFG                         0.026179\n",
      "12) C_WTHR                         0.026177\n",
      "13) C_RSUR                         0.025384\n",
      "14) P_PSN                          0.013374\n",
      "['P_AGE', 'C_MNTH', 'C_WDAY', 'C_CONF', 'C_HOUR', 'C_TRAF', 'P_USER', 'P_SEX', 'C_VEHS', 'C_RALN', 'C_RCFG', 'C_WTHR']\n"
     ]
    }
   ],
   "source": [
    "verbose_level = 0\n",
    "if enable_rf_features:\n",
    "    print(\"Random Forest Feature Selection: Start\")\n",
    "    t_start =  time.time()\n",
    "    print(time.asctime( time.localtime(t_start) ))\n",
    "    forest = RandomForestClassifier(n_estimators=100, random_state=0, n_jobs=-1, verbose=verbose_level)\n",
    "    print(\"Random Forest Feature Selection: Fit Start\")\n",
    "    forest.fit(X, Y)\n",
    "    print(\"Random Forest Feature Selection: Fit\")\n",
    "\n",
    "    importFeatures = forest.feature_importances_\n",
    "    print(\"Random Forest Feature Selection: Feature Importance\")\n",
    "    print(importFeatures)\n",
    "    \n",
    "    indices = np.argsort(importFeatures)[::-1]\n",
    "    print(indices)\n",
    "    featureLabel = X.columns[0:]\n",
    "    print(featureLabel)\n",
    "    rankedFeature = []\n",
    "    for f in range(X.shape[1]):\n",
    "        rankedFeature.append(featureLabel[indices[f]])\n",
    "        print(\"%2d) %-*s %f\" % (f+1, 30,  featureLabel[indices[f]], importFeatures[indices[f]]))\n",
    "    print(rankedFeature[0:12])"
   ]
  },
  {
   "cell_type": "code",
   "execution_count": null,
   "metadata": {},
   "outputs": [],
   "source": []
  },
  {
   "cell_type": "code",
   "execution_count": null,
   "metadata": {},
   "outputs": [],
   "source": []
  },
  {
   "cell_type": "code",
   "execution_count": 14,
   "metadata": {},
   "outputs": [],
   "source": [
    "### Keep all features, in genearl, they are important indicator"
   ]
  },
  {
   "cell_type": "code",
   "execution_count": 15,
   "metadata": {},
   "outputs": [],
   "source": [
    "df.to_csv(outputfile, encoding='utf-8', index=False)"
   ]
  },
  {
   "cell_type": "code",
   "execution_count": null,
   "metadata": {},
   "outputs": [],
   "source": []
  }
 ],
 "metadata": {
  "kernelspec": {
   "display_name": "Python 3",
   "language": "python",
   "name": "python3"
  },
  "language_info": {
   "codemirror_mode": {
    "name": "ipython",
    "version": 3
   },
   "file_extension": ".py",
   "mimetype": "text/x-python",
   "name": "python",
   "nbconvert_exporter": "python",
   "pygments_lexer": "ipython3",
   "version": "3.7.0"
  }
 },
 "nbformat": 4,
 "nbformat_minor": 2
}
