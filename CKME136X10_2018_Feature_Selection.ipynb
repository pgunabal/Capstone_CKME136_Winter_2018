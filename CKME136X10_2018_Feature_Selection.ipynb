{
 "cells": [
  {
   "cell_type": "markdown",
   "metadata": {},
   "source": [
    "## Feature Selection"
   ]
  },
  {
   "cell_type": "code",
   "execution_count": 1,
   "metadata": {},
   "outputs": [
    {
     "name": "stderr",
     "output_type": "stream",
     "text": [
      "C:\\Users\\pradeep\\Anaconda3\\lib\\site-packages\\sklearn\\ensemble\\weight_boosting.py:29: DeprecationWarning: numpy.core.umath_tests is an internal NumPy module and should not be imported. It will be removed in a future NumPy release.\n",
      "  from numpy.core.umath_tests import inner1d\n"
     ]
    }
   ],
   "source": [
    "import time\n",
    "import numpy as np\n",
    "import pandas as pd\n",
    "pd.options.display.max_rows = 25\n",
    "pd.options.display.max_columns  = 25\n",
    "\n",
    "from pandas.api.types import CategoricalDtype\n",
    "from sklearn.feature_selection import SelectKBest\n",
    "from sklearn.feature_selection import chi2\n",
    "from sklearn.feature_selection import RFE\n",
    "from sklearn.linear_model import LogisticRegression\n",
    "from sklearn.ensemble import ExtraTreesClassifier\n",
    "from sklearn.ensemble import RandomForestClassifier\n",
    "from sklearn import model_selection\n",
    "\n",
    "inputfile = 'CKME136X10_2018_Data_Cleaned_Transformed.csv'\n",
    "outputfile = 'CKME136X10_2018_Data_CTF.csv'"
   ]
  },
  {
   "cell_type": "code",
   "execution_count": 2,
   "metadata": {},
   "outputs": [],
   "source": [
    "#enable/disable feature selection\n",
    "enable_rf_features = True"
   ]
  },
  {
   "cell_type": "code",
   "execution_count": 3,
   "metadata": {},
   "outputs": [],
   "source": [
    "#load data\n",
    "\n",
    "df = pd.read_csv(inputfile, engine = 'python')"
   ]
  },
  {
   "cell_type": "code",
   "execution_count": 4,
   "metadata": {},
   "outputs": [
    {
     "name": "stdout",
     "output_type": "stream",
     "text": [
      "<class 'pandas.core.frame.DataFrame'>\n",
      "RangeIndex: 4336558 entries, 0 to 4336557\n",
      "Data columns (total 19 columns):\n",
      "C_YEAR    category\n",
      "C_MNTH    category\n",
      "C_WDAY    category\n",
      "C_HOUR    category\n",
      "C_VEHS    int32\n",
      "C_CONF    category\n",
      "C_RCFG    category\n",
      "C_WTHR    category\n",
      "C_RSUR    category\n",
      "C_RALN    category\n",
      "C_TRAF    category\n",
      "V_TYPE    category\n",
      "V_YEAR    category\n",
      "P_SEX     category\n",
      "P_AGE     int32\n",
      "P_PSN     category\n",
      "P_SAFE    category\n",
      "P_USER    category\n",
      "P_ISEV    int32\n",
      "dtypes: category(16), int32(3)\n",
      "memory usage: 115.8 MB\n",
      "None\n"
     ]
    }
   ],
   "source": [
    "# convert to the correct type\n",
    "df = df.astype('category')\n",
    "df['C_YEAR'] = df['C_YEAR'].astype(CategoricalDtype(ordered=True))\n",
    "df['C_MNTH'] = df['C_MNTH'].astype(CategoricalDtype(ordered=True))\n",
    "df['C_WDAY'] = df['C_WDAY'].astype(CategoricalDtype(ordered=True))\n",
    "df['C_HOUR'] = df['C_HOUR'].astype(CategoricalDtype(ordered=True))\n",
    "df['C_VEHS'] = df['C_VEHS'].astype('int')\n",
    "df['V_YEAR'] = df['V_YEAR'].astype(CategoricalDtype(ordered=True))\n",
    "df['P_PSN'] = df['P_PSN'].astype(CategoricalDtype(ordered=True))\n",
    "df['P_AGE'] = df['P_AGE'].astype('int')\n",
    "df['P_ISEV'] = df['P_ISEV'].astype('int')\n",
    "print(df.info())"
   ]
  },
  {
   "cell_type": "code",
   "execution_count": 5,
   "metadata": {},
   "outputs": [],
   "source": [
    "#Split between data and class\n",
    "# leaking data here, need to split between test and train.  TBD\n",
    "Y_ = df[df.columns[-1]]\n",
    "X_ = df[df.columns[0:df.columns.size -1]]\n",
    "\n",
    "#sprint into train and test 70/30\n",
    "#X_train, X_test, Y_train, Y_test = train_test_split(X, Y, test_size=0.3, random_state=0)"
   ]
  },
  {
   "cell_type": "markdown",
   "metadata": {},
   "source": [
    "### Feature Selection by Chi Squre"
   ]
  },
  {
   "cell_type": "code",
   "execution_count": 6,
   "metadata": {},
   "outputs": [
    {
     "name": "stdout",
     "output_type": "stream",
     "text": [
      "[4.35494924e+03 2.39992031e+02 4.65987366e+02 4.89185225e+03\n",
      " 4.24128149e+04 2.97977521e+05 3.58932621e+03 3.75529013e+03\n",
      " 1.00332083e+04 1.29696899e+04 6.70731479e+04 1.07965440e+06\n",
      " 1.75882834e+04 4.40951940e+04 9.10405781e+04 4.13985582e+03\n",
      " 3.09568526e+03 2.13322551e+04]\n",
      "['V_TYPE', 'C_CONF', 'P_AGE', 'C_TRAF', 'P_SEX', 'C_VEHS', 'P_USER', 'V_YEAR', 'C_RALN', 'C_RSUR', 'C_HOUR', 'C_YEAR']\n"
     ]
    }
   ],
   "source": [
    "# Feature Extraction with Univariate Statistical Tests (Chi-squared for classification)\n",
    "# Ref: https://machinelearningmastery.com/feature-selection-machine-learning-python/\n",
    "np.set_printoptions(edgeitems=12)\n",
    "tcd_as_array = df.values\n",
    "X = tcd_as_array[:,0:tcd_as_array.shape[1] -1]\n",
    "Y = tcd_as_array[:,tcd_as_array.shape[1] -1]\n",
    "Y=Y.astype('int')\n",
    "\n",
    "# feature extraction\n",
    "test = SelectKBest(score_func=chi2, k=12)\n",
    "fit = test.fit(X, Y)\n",
    "\n",
    "# summarize scores\n",
    "#np.set_printoptions(precision=3)\n",
    "print(fit.scores_)\n",
    "t1 = np.array(fit.scores_).tolist()\n",
    "t2 = t1.copy()\n",
    "#t2 = [ '%.3f' % elem for elem in t2 ]\n",
    "t2.sort(reverse=True)\n",
    "\n",
    "chi_feature = []\n",
    "for i in range(0, X.shape[1]):\n",
    "    chi_feature.append(df.columns[t1.index(t2[i])])\n",
    "    #print(\"{}\".format(df.columns[t1.index(t2[i])]))\n",
    "\n",
    "#np.set_printoptions(precision=3)\n",
    "features = fit.transform(X)\n",
    "# summarize selected features\n",
    "#print(features[0:11,:])\n",
    "print(chi_feature[0:12])\n"
   ]
  },
  {
   "cell_type": "markdown",
   "metadata": {},
   "source": [
    "### Feature Extraction: Recursive Feature Elimination "
   ]
  },
  {
   "cell_type": "code",
   "execution_count": 7,
   "metadata": {},
   "outputs": [
    {
     "name": "stdout",
     "output_type": "stream",
     "text": [
      "Num Features: 12\n",
      "Selected Features: [ True  True  True  True False  True False False False False  True  True\n",
      "  True  True  True False  True  True]\n",
      "Selected Features: Index(['C_YEAR', 'C_MNTH', 'C_WDAY', 'C_HOUR', 'C_CONF', 'C_TRAF', 'V_TYPE',\n",
      "       'V_YEAR', 'P_SEX', 'P_AGE', 'P_SAFE', 'P_USER'],\n",
      "      dtype='object')\n",
      "Feature Ranking: [1 1 1 1 3 1 5 2 6 4 1 1 1 1 1 7 1 1]\n"
     ]
    }
   ],
   "source": [
    "# Feature Extraction with RFE\n",
    "\n",
    "# feature extraction\n",
    "#model = LogisticRegression()\n",
    "model = ExtraTreesClassifier()\n",
    "rfe = RFE(model, 12)\n",
    "fit = rfe.fit(X_, Y_)\n",
    "print(\"Num Features: {}\".format(fit.n_features_))\n",
    "print(\"Selected Features: {}\".format(fit.support_))\n",
    "print(\"Selected Features: {}\".format(X_.columns[fit.support_]))\n",
    "print(\"Feature Ranking: {}\".format(fit.ranking_))\n"
   ]
  },
  {
   "cell_type": "markdown",
   "metadata": {},
   "source": [
    "### Feature Extraction: Extra Trees"
   ]
  },
  {
   "cell_type": "code",
   "execution_count": 8,
   "metadata": {},
   "outputs": [
    {
     "name": "stdout",
     "output_type": "stream",
     "text": [
      "[0.13978251 0.11909301 0.08241831 0.0461788  0.02599212 0.07809988\n",
      " 0.02111473 0.02444418 0.02749249 0.02397392 0.03007561 0.02645503\n",
      " 0.0357194  0.02589592 0.22057505 0.01131882 0.03264949 0.02872073]\n",
      "[14  0  1  2  5  3 12 16 10 17  8 11  4 13  7  9  6 15]\n",
      "Index(['C_YEAR', 'C_MNTH', 'C_WDAY', 'C_HOUR', 'C_VEHS', 'C_CONF', 'C_RCFG',\n",
      "       'C_WTHR', 'C_RSUR', 'C_RALN', 'C_TRAF', 'V_TYPE', 'V_YEAR', 'P_SEX',\n",
      "       'P_AGE', 'P_PSN', 'P_SAFE', 'P_USER'],\n",
      "      dtype='object')\n",
      " 1) P_AGE                          0.220575\n",
      " 2) C_YEAR                         0.139783\n",
      " 3) C_MNTH                         0.119093\n",
      " 4) C_WDAY                         0.082418\n",
      " 5) C_CONF                         0.078100\n",
      " 6) C_HOUR                         0.046179\n",
      " 7) V_YEAR                         0.035719\n",
      " 8) P_SAFE                         0.032649\n",
      " 9) C_TRAF                         0.030076\n",
      "10) P_USER                         0.028721\n",
      "11) C_RSUR                         0.027492\n",
      "12) V_TYPE                         0.026455\n",
      "13) C_VEHS                         0.025992\n",
      "14) P_SEX                          0.025896\n",
      "15) C_WTHR                         0.024444\n",
      "16) C_RALN                         0.023974\n",
      "17) C_RCFG                         0.021115\n",
      "18) P_PSN                          0.011319\n",
      "['P_AGE', 'C_YEAR', 'C_MNTH', 'C_WDAY', 'C_CONF', 'C_HOUR', 'V_YEAR', 'P_SAFE', 'C_TRAF', 'P_USER', 'C_RSUR', 'V_TYPE']\n"
     ]
    }
   ],
   "source": [
    "# Feature Importance with Extra Trees Classifier\n",
    "\n",
    "# feature extraction\n",
    "model = ExtraTreesClassifier()\n",
    "model.fit(X_, Y_)\n",
    "print(model.feature_importances_)\n",
    "\n",
    "indices = np.argsort(model.feature_importances_)[::-1]\n",
    "print(indices)\n",
    "featureLabel = X_.columns[0:]\n",
    "print(featureLabel)\n",
    "rankedFeature = []\n",
    "for f in range(X_.shape[1]):\n",
    "    rankedFeature.append(featureLabel[indices[f]])\n",
    "    print(\"%2d) %-*s %f\" % (f+1, 30,  featureLabel[indices[f]], model.feature_importances_[indices[f]]))\n",
    "print(rankedFeature[0:12])"
   ]
  },
  {
   "cell_type": "markdown",
   "metadata": {},
   "source": [
    "### Feature Extraction: RandomForest"
   ]
  },
  {
   "cell_type": "code",
   "execution_count": 9,
   "metadata": {},
   "outputs": [
    {
     "name": "stdout",
     "output_type": "stream",
     "text": [
      "Random Forest Feature Selection: Start\n",
      "Sun Dec  2 22:05:03 2018\n",
      "Random Forest Feature Selection: Fit Start\n",
      "Random Forest Feature Selection: Fit\n",
      "Random Forest Feature Selection: Feature Importance\n",
      "[0.13810023 0.1144342  0.08289854 0.05295084 0.02895296 0.06445717\n",
      " 0.02420928 0.02465523 0.0249129  0.02693571 0.03392114 0.02734204\n",
      " 0.03666382 0.02682164 0.21881604 0.01004577 0.03515624 0.02872623]\n",
      "[14  0  1  2  5  3 12 16 10  4 17 11  9 13  8  7  6 15]\n",
      "Index(['C_YEAR', 'C_MNTH', 'C_WDAY', 'C_HOUR', 'C_VEHS', 'C_CONF', 'C_RCFG',\n",
      "       'C_WTHR', 'C_RSUR', 'C_RALN', 'C_TRAF', 'V_TYPE', 'V_YEAR', 'P_SEX',\n",
      "       'P_AGE', 'P_PSN', 'P_SAFE', 'P_USER'],\n",
      "      dtype='object')\n",
      " 1) P_AGE                          0.218816\n",
      " 2) C_YEAR                         0.138100\n",
      " 3) C_MNTH                         0.114434\n",
      " 4) C_WDAY                         0.082899\n",
      " 5) C_CONF                         0.064457\n",
      " 6) C_HOUR                         0.052951\n",
      " 7) V_YEAR                         0.036664\n",
      " 8) P_SAFE                         0.035156\n",
      " 9) C_TRAF                         0.033921\n",
      "10) C_VEHS                         0.028953\n",
      "11) P_USER                         0.028726\n",
      "12) V_TYPE                         0.027342\n",
      "13) C_RALN                         0.026936\n",
      "14) P_SEX                          0.026822\n",
      "15) C_RSUR                         0.024913\n",
      "16) C_WTHR                         0.024655\n",
      "17) C_RCFG                         0.024209\n",
      "18) P_PSN                          0.010046\n",
      "['P_AGE', 'C_YEAR', 'C_MNTH', 'C_WDAY', 'C_CONF', 'C_HOUR', 'V_YEAR', 'P_SAFE', 'C_TRAF', 'C_VEHS', 'P_USER', 'V_TYPE']\n"
     ]
    }
   ],
   "source": [
    "verbose_level = 0\n",
    "if enable_rf_features:\n",
    "    print(\"Random Forest Feature Selection: Start\")\n",
    "    t_start =  time.time()\n",
    "    print(time.asctime( time.localtime(t_start) ))\n",
    "    forest = RandomForestClassifier(n_estimators=50, random_state=0, n_jobs=-1, verbose=verbose_level)\n",
    "    print(\"Random Forest Feature Selection: Fit Start\")\n",
    "    forest.fit(X_, Y_)\n",
    "    print(\"Random Forest Feature Selection: Fit\")\n",
    "\n",
    "    importFeatures = forest.feature_importances_\n",
    "    print(\"Random Forest Feature Selection: Feature Importance\")\n",
    "    print(importFeatures)\n",
    "    \n",
    "    indices = np.argsort(importFeatures)[::-1]\n",
    "    print(indices)\n",
    "    featureLabel = X_.columns[0:]\n",
    "    print(featureLabel)\n",
    "    rankedFeature = []\n",
    "    for f in range(X_.shape[1]):\n",
    "        rankedFeature.append(featureLabel[indices[f]])\n",
    "        print(\"%2d) %-*s %f\" % (f+1, 30,  featureLabel[indices[f]], importFeatures[indices[f]]))\n",
    "    print(rankedFeature[0:12])"
   ]
  },
  {
   "cell_type": "code",
   "execution_count": null,
   "metadata": {},
   "outputs": [],
   "source": []
  },
  {
   "cell_type": "code",
   "execution_count": null,
   "metadata": {},
   "outputs": [],
   "source": []
  },
  {
   "cell_type": "code",
   "execution_count": 10,
   "metadata": {},
   "outputs": [],
   "source": [
    "### Keep all features, in genearl, they are important indicator"
   ]
  },
  {
   "cell_type": "code",
   "execution_count": 11,
   "metadata": {},
   "outputs": [],
   "source": [
    "df.to_csv(outputfile, encoding='utf-8', index=False)"
   ]
  },
  {
   "cell_type": "code",
   "execution_count": null,
   "metadata": {},
   "outputs": [],
   "source": []
  }
 ],
 "metadata": {
  "kernelspec": {
   "display_name": "Python 3",
   "language": "python",
   "name": "python3"
  },
  "language_info": {
   "codemirror_mode": {
    "name": "ipython",
    "version": 3
   },
   "file_extension": ".py",
   "mimetype": "text/x-python",
   "name": "python",
   "nbconvert_exporter": "python",
   "pygments_lexer": "ipython3",
   "version": "3.7.0"
  }
 },
 "nbformat": 4,
 "nbformat_minor": 2
}
