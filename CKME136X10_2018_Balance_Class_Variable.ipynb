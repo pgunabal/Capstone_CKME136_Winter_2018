{
 "cells": [
  {
   "cell_type": "markdown",
   "metadata": {},
   "source": [
    "## Create Ballanced Data Set"
   ]
  },
  {
   "cell_type": "code",
   "execution_count": 2,
   "metadata": {},
   "outputs": [],
   "source": [
    "import time\n",
    "import numpy as np\n",
    "import pandas as pd\n",
    "import random as rand\n",
    "pd.options.display.max_rows = 25\n",
    "pd.options.display.max_columns  = 25\n",
    "\n",
    "from pandas.api.types import CategoricalDtype\n",
    "\n",
    "from collections import Counter\n",
    "from sklearn.datasets import make_classification\n",
    "from imblearn.over_sampling import SMOTE # doctest: +NORMALIZE_WHITESPACE\n",
    "from imblearn.over_sampling import RandomOverSampler\n",
    "from imblearn.under_sampling import RandomUnderSampler\n",
    "from sklearn import model_selection\n",
    "\n",
    "use_smote = False\n",
    "binaryClass = True\n",
    "\n",
    "inputfile = 'CKME136X10_2018_Data_CTF.csv'\n",
    "if binaryClass:\n",
    "    outputfile_train_O = 'CKME136X10_2018_Data_CTFB_B_O_Train.csv'\n",
    "    outputfile_train_U = 'CKME136X10_2018_Data_CTFB_B_U_Train.csv'\n",
    "    outputfile_test = 'CKME136X10_2018_Data_CTFB_B_Test.csv'\n",
    "else:\n",
    "    outputfile_train_O = 'CKME136X10_2018_Data_CTFB_M_O_Train.csv'\n",
    "    outputfile_train_U = 'CKME136X10_2018_Data_CTFB_M_U_Train.csv'\n",
    "    outputfile_test = 'CKME136X10_2018_Data_CTFB_M_Test.csv'\n"
   ]
  },
  {
   "cell_type": "code",
   "execution_count": 3,
   "metadata": {},
   "outputs": [
    {
     "ename": "FileNotFoundError",
     "evalue": "[Errno 2] No such file or directory: 'CKME136X10_2018_Data_CTF.csv'",
     "output_type": "error",
     "traceback": [
      "\u001b[0;31m---------------------------------------------------------------------------\u001b[0m",
      "\u001b[0;31mFileNotFoundError\u001b[0m                         Traceback (most recent call last)",
      "\u001b[0;32m<ipython-input-3-11fe562360a2>\u001b[0m in \u001b[0;36m<module>\u001b[0;34m\u001b[0m\n\u001b[1;32m      1\u001b[0m \u001b[0;31m#load data\u001b[0m\u001b[0;34m\u001b[0m\u001b[0;34m\u001b[0m\u001b[0m\n\u001b[0;32m----> 2\u001b[0;31m \u001b[0mdf\u001b[0m \u001b[0;34m=\u001b[0m \u001b[0mpd\u001b[0m\u001b[0;34m.\u001b[0m\u001b[0mread_csv\u001b[0m\u001b[0;34m(\u001b[0m\u001b[0minputfile\u001b[0m\u001b[0;34m,\u001b[0m \u001b[0mengine\u001b[0m \u001b[0;34m=\u001b[0m \u001b[0;34m'python'\u001b[0m\u001b[0;34m)\u001b[0m\u001b[0;34m\u001b[0m\u001b[0m\n\u001b[0m",
      "\u001b[0;32m/anaconda3/lib/python3.6/site-packages/pandas/io/parsers.py\u001b[0m in \u001b[0;36mparser_f\u001b[0;34m(filepath_or_buffer, sep, delimiter, header, names, index_col, usecols, squeeze, prefix, mangle_dupe_cols, dtype, engine, converters, true_values, false_values, skipinitialspace, skiprows, nrows, na_values, keep_default_na, na_filter, verbose, skip_blank_lines, parse_dates, infer_datetime_format, keep_date_col, date_parser, dayfirst, iterator, chunksize, compression, thousands, decimal, lineterminator, quotechar, quoting, escapechar, comment, encoding, dialect, tupleize_cols, error_bad_lines, warn_bad_lines, skipfooter, doublequote, delim_whitespace, low_memory, memory_map, float_precision)\u001b[0m\n\u001b[1;32m    676\u001b[0m                     skip_blank_lines=skip_blank_lines)\n\u001b[1;32m    677\u001b[0m \u001b[0;34m\u001b[0m\u001b[0m\n\u001b[0;32m--> 678\u001b[0;31m         \u001b[0;32mreturn\u001b[0m \u001b[0m_read\u001b[0m\u001b[0;34m(\u001b[0m\u001b[0mfilepath_or_buffer\u001b[0m\u001b[0;34m,\u001b[0m \u001b[0mkwds\u001b[0m\u001b[0;34m)\u001b[0m\u001b[0;34m\u001b[0m\u001b[0m\n\u001b[0m\u001b[1;32m    679\u001b[0m \u001b[0;34m\u001b[0m\u001b[0m\n\u001b[1;32m    680\u001b[0m     \u001b[0mparser_f\u001b[0m\u001b[0;34m.\u001b[0m\u001b[0m__name__\u001b[0m \u001b[0;34m=\u001b[0m \u001b[0mname\u001b[0m\u001b[0;34m\u001b[0m\u001b[0m\n",
      "\u001b[0;32m/anaconda3/lib/python3.6/site-packages/pandas/io/parsers.py\u001b[0m in \u001b[0;36m_read\u001b[0;34m(filepath_or_buffer, kwds)\u001b[0m\n\u001b[1;32m    438\u001b[0m \u001b[0;34m\u001b[0m\u001b[0m\n\u001b[1;32m    439\u001b[0m     \u001b[0;31m# Create the parser.\u001b[0m\u001b[0;34m\u001b[0m\u001b[0;34m\u001b[0m\u001b[0m\n\u001b[0;32m--> 440\u001b[0;31m     \u001b[0mparser\u001b[0m \u001b[0;34m=\u001b[0m \u001b[0mTextFileReader\u001b[0m\u001b[0;34m(\u001b[0m\u001b[0mfilepath_or_buffer\u001b[0m\u001b[0;34m,\u001b[0m \u001b[0;34m**\u001b[0m\u001b[0mkwds\u001b[0m\u001b[0;34m)\u001b[0m\u001b[0;34m\u001b[0m\u001b[0m\n\u001b[0m\u001b[1;32m    441\u001b[0m \u001b[0;34m\u001b[0m\u001b[0m\n\u001b[1;32m    442\u001b[0m     \u001b[0;32mif\u001b[0m \u001b[0mchunksize\u001b[0m \u001b[0;32mor\u001b[0m \u001b[0miterator\u001b[0m\u001b[0;34m:\u001b[0m\u001b[0;34m\u001b[0m\u001b[0m\n",
      "\u001b[0;32m/anaconda3/lib/python3.6/site-packages/pandas/io/parsers.py\u001b[0m in \u001b[0;36m__init__\u001b[0;34m(self, f, engine, **kwds)\u001b[0m\n\u001b[1;32m    785\u001b[0m             \u001b[0mself\u001b[0m\u001b[0;34m.\u001b[0m\u001b[0moptions\u001b[0m\u001b[0;34m[\u001b[0m\u001b[0;34m'has_index_names'\u001b[0m\u001b[0;34m]\u001b[0m \u001b[0;34m=\u001b[0m \u001b[0mkwds\u001b[0m\u001b[0;34m[\u001b[0m\u001b[0;34m'has_index_names'\u001b[0m\u001b[0;34m]\u001b[0m\u001b[0;34m\u001b[0m\u001b[0m\n\u001b[1;32m    786\u001b[0m \u001b[0;34m\u001b[0m\u001b[0m\n\u001b[0;32m--> 787\u001b[0;31m         \u001b[0mself\u001b[0m\u001b[0;34m.\u001b[0m\u001b[0m_make_engine\u001b[0m\u001b[0;34m(\u001b[0m\u001b[0mself\u001b[0m\u001b[0;34m.\u001b[0m\u001b[0mengine\u001b[0m\u001b[0;34m)\u001b[0m\u001b[0;34m\u001b[0m\u001b[0m\n\u001b[0m\u001b[1;32m    788\u001b[0m \u001b[0;34m\u001b[0m\u001b[0m\n\u001b[1;32m    789\u001b[0m     \u001b[0;32mdef\u001b[0m \u001b[0mclose\u001b[0m\u001b[0;34m(\u001b[0m\u001b[0mself\u001b[0m\u001b[0;34m)\u001b[0m\u001b[0;34m:\u001b[0m\u001b[0;34m\u001b[0m\u001b[0m\n",
      "\u001b[0;32m/anaconda3/lib/python3.6/site-packages/pandas/io/parsers.py\u001b[0m in \u001b[0;36m_make_engine\u001b[0;34m(self, engine)\u001b[0m\n\u001b[1;32m   1022\u001b[0m                                  ' \"c\", \"python\", or' ' \"python-fwf\")'.format(\n\u001b[1;32m   1023\u001b[0m                                      engine=engine))\n\u001b[0;32m-> 1024\u001b[0;31m             \u001b[0mself\u001b[0m\u001b[0;34m.\u001b[0m\u001b[0m_engine\u001b[0m \u001b[0;34m=\u001b[0m \u001b[0mklass\u001b[0m\u001b[0;34m(\u001b[0m\u001b[0mself\u001b[0m\u001b[0;34m.\u001b[0m\u001b[0mf\u001b[0m\u001b[0;34m,\u001b[0m \u001b[0;34m**\u001b[0m\u001b[0mself\u001b[0m\u001b[0;34m.\u001b[0m\u001b[0moptions\u001b[0m\u001b[0;34m)\u001b[0m\u001b[0;34m\u001b[0m\u001b[0m\n\u001b[0m\u001b[1;32m   1025\u001b[0m \u001b[0;34m\u001b[0m\u001b[0m\n\u001b[1;32m   1026\u001b[0m     \u001b[0;32mdef\u001b[0m \u001b[0m_failover_to_python\u001b[0m\u001b[0;34m(\u001b[0m\u001b[0mself\u001b[0m\u001b[0;34m)\u001b[0m\u001b[0;34m:\u001b[0m\u001b[0;34m\u001b[0m\u001b[0m\n",
      "\u001b[0;32m/anaconda3/lib/python3.6/site-packages/pandas/io/parsers.py\u001b[0m in \u001b[0;36m__init__\u001b[0;34m(self, f, **kwds)\u001b[0m\n\u001b[1;32m   2075\u001b[0m         f, handles = _get_handle(f, mode, encoding=self.encoding,\n\u001b[1;32m   2076\u001b[0m                                  \u001b[0mcompression\u001b[0m\u001b[0;34m=\u001b[0m\u001b[0mself\u001b[0m\u001b[0;34m.\u001b[0m\u001b[0mcompression\u001b[0m\u001b[0;34m,\u001b[0m\u001b[0;34m\u001b[0m\u001b[0m\n\u001b[0;32m-> 2077\u001b[0;31m                                  memory_map=self.memory_map)\n\u001b[0m\u001b[1;32m   2078\u001b[0m         \u001b[0mself\u001b[0m\u001b[0;34m.\u001b[0m\u001b[0mhandles\u001b[0m\u001b[0;34m.\u001b[0m\u001b[0mextend\u001b[0m\u001b[0;34m(\u001b[0m\u001b[0mhandles\u001b[0m\u001b[0;34m)\u001b[0m\u001b[0;34m\u001b[0m\u001b[0m\n\u001b[1;32m   2079\u001b[0m \u001b[0;34m\u001b[0m\u001b[0m\n",
      "\u001b[0;32m/anaconda3/lib/python3.6/site-packages/pandas/io/common.py\u001b[0m in \u001b[0;36m_get_handle\u001b[0;34m(path_or_buf, mode, encoding, compression, memory_map, is_text)\u001b[0m\n\u001b[1;32m    401\u001b[0m         \u001b[0;32melif\u001b[0m \u001b[0mis_text\u001b[0m\u001b[0;34m:\u001b[0m\u001b[0;34m\u001b[0m\u001b[0m\n\u001b[1;32m    402\u001b[0m             \u001b[0;31m# Python 3 and no explicit encoding\u001b[0m\u001b[0;34m\u001b[0m\u001b[0;34m\u001b[0m\u001b[0m\n\u001b[0;32m--> 403\u001b[0;31m             \u001b[0mf\u001b[0m \u001b[0;34m=\u001b[0m \u001b[0mopen\u001b[0m\u001b[0;34m(\u001b[0m\u001b[0mpath_or_buf\u001b[0m\u001b[0;34m,\u001b[0m \u001b[0mmode\u001b[0m\u001b[0;34m,\u001b[0m \u001b[0merrors\u001b[0m\u001b[0;34m=\u001b[0m\u001b[0;34m'replace'\u001b[0m\u001b[0;34m)\u001b[0m\u001b[0;34m\u001b[0m\u001b[0m\n\u001b[0m\u001b[1;32m    404\u001b[0m         \u001b[0;32melse\u001b[0m\u001b[0;34m:\u001b[0m\u001b[0;34m\u001b[0m\u001b[0m\n\u001b[1;32m    405\u001b[0m             \u001b[0;31m# Python 3 and binary mode\u001b[0m\u001b[0;34m\u001b[0m\u001b[0;34m\u001b[0m\u001b[0m\n",
      "\u001b[0;31mFileNotFoundError\u001b[0m: [Errno 2] No such file or directory: 'CKME136X10_2018_Data_CTF.csv'"
     ]
    }
   ],
   "source": [
    "#load data\n",
    "df = pd.read_csv(inputfile, engine = 'python')"
   ]
  },
  {
   "cell_type": "code",
   "execution_count": null,
   "metadata": {},
   "outputs": [],
   "source": [
    "df_columns = df.columns[:len(df.columns) -1]\n",
    "print(df_columns)"
   ]
  },
  {
   "cell_type": "code",
   "execution_count": null,
   "metadata": {},
   "outputs": [],
   "source": [
    "#check for nun numeric values\n",
    "print(\"Number of Null values: {}\".format(df.isnull().sum().sum()))\n",
    "print()\n",
    "print(\"Number of NaN: {0}\".format(df.isna().sum().sum()))\n",
    "print()\n",
    "print(\"Number of Non Numeric: {}\".format(df[df.columns].apply(lambda x: x.astype(str).str.contains('[^0-9]')).sum().sum()))\n",
    "print()\n",
    "print('Information on the imported data')\n",
    "print(df.info())"
   ]
  },
  {
   "cell_type": "code",
   "execution_count": null,
   "metadata": {},
   "outputs": [],
   "source": [
    "# convert to the correct type\n",
    "df = df.astype('category')\n",
    "df['C_YEAR'] = df['C_YEAR'].astype(CategoricalDtype(ordered=True))\n",
    "df['C_MNTH'] = df['C_MNTH'].astype(CategoricalDtype(ordered=True))\n",
    "df['C_WDAY'] = df['C_WDAY'].astype(CategoricalDtype(ordered=True))\n",
    "df['C_HOUR'] = df['C_HOUR'].astype(CategoricalDtype(ordered=True))\n",
    "df['C_VEHS'] = df['C_VEHS'].astype('int')\n",
    "df['V_YEAR'] = df['V_YEAR'].astype(CategoricalDtype(ordered=True))\n",
    "df['P_PSN'] = df['P_PSN'].astype(CategoricalDtype(ordered=True))\n",
    "df['P_AGE'] = df['P_AGE'].astype('int')\n",
    "df['P_ISEV'] = df['P_ISEV'].astype('int')\n",
    "print(df.info())"
   ]
  },
  {
   "cell_type": "markdown",
   "metadata": {},
   "source": [
    "## Split Training and Test set 70/30 split"
   ]
  },
  {
   "cell_type": "code",
   "execution_count": null,
   "metadata": {},
   "outputs": [],
   "source": [
    "## Split Training and Test set 70/30 split, so we don't bleed information to test set\n",
    "#Split between data and class\n",
    "Y = df[df.columns[-1]].copy()\n",
    "if binaryClass:\n",
    "    Y.replace(to_replace = 1, value = 0, inplace = True)\n",
    "    Y.replace(to_replace = 2, value = 1, inplace = True)\n",
    "    Y.replace(to_replace = 3, value = 1, inplace = True)\n",
    "else:\n",
    "    Y.replace(to_replace = 1, value = 0, inplace = True)\n",
    "    Y.replace(to_replace = 2, value = 1, inplace = True)\n",
    "    Y.replace(to_replace = 3, value = 2, inplace = True)\n",
    "\n",
    "X = df[df.columns[0:df.columns.size -1]].copy()\n",
    "\n",
    "X_train, X_test, Y_train, Y_test = model_selection.train_test_split(X, Y, test_size=0.3, stratify=Y)"
   ]
  },
  {
   "cell_type": "code",
   "execution_count": null,
   "metadata": {},
   "outputs": [],
   "source": [
    "print(Y_train.groupby(Y_train).size())\n",
    "print(Y_test.groupby(Y_test).size())\n"
   ]
  },
  {
   "cell_type": "code",
   "execution_count": null,
   "metadata": {},
   "outputs": [],
   "source": [
    "X_test.info()"
   ]
  },
  {
   "cell_type": "code",
   "execution_count": null,
   "metadata": {},
   "outputs": [],
   "source": [
    "#Testing Set\n",
    "df_test = X_test.copy()\n",
    "df_test['P_ISEV'] = Y_test.copy()"
   ]
  },
  {
   "cell_type": "markdown",
   "metadata": {},
   "source": [
    "### over sample using smote"
   ]
  },
  {
   "cell_type": "code",
   "execution_count": null,
   "metadata": {
    "scrolled": true
   },
   "outputs": [],
   "source": [
    "if (use_smote):\n",
    "# use somte to over sample the minority class\n",
    "    sm = SMOTE(random_state=12, ratio = 'minority')\n",
    "    x_res, y_res = sm.fit_sample(X_train, Y_train)\n",
    "    print('Resampled dataset shape %s' % Counter(y_res))\n",
    "    \n",
    "    df_train_over = pd.DataFrame(data=x_res, columns = df_columns)\n",
    "    df_train_over['P_ISEV'] = y_res\n",
    "\n",
    "    # convert to the correct type\n",
    "\n",
    "    #not sure why converting to category still leave fold values, lets convert to int first\n",
    "    df_train_over = df_train_over.astype('int')\n",
    "    df_train_over = df_train_over.astype('category')\n",
    "    df_train_over['C_YEAR'] = df_train_over['C_YEAR'].astype(CategoricalDtype(ordered=True))\n",
    "    df_train_over['C_MNTH'] = df_train_over['C_MNTH'].astype(CategoricalDtype(ordered=True))\n",
    "    df_train_over['C_WDAY'] = df_train_over['C_WDAY'].astype(CategoricalDtype(ordered=True))\n",
    "    df_train_over['C_HOUR'] = df_train_over['C_HOUR'].astype(CategoricalDtype(ordered=True))\n",
    "    df_train_over['C_VEHS'] = df_train_over['C_VEHS'].astype('int')\n",
    "    df_train_over['V_YEAR'] = df_train_over['V_YEAR'].astype(CategoricalDtype(ordered=True))\n",
    "    df_train_over['P_PSN'] = df_train_over['P_PSN'].astype(CategoricalDtype(ordered=True))\n",
    "    df_train_over['P_AGE'] = df_train_over['P_AGE'].astype('int')\n",
    "    df_train_over['P_ISEV'] = df_train_over['P_ISEV'].astype('int')\n",
    "    print(df_train_over.shape)\n",
    "    df_train_over.head(3)"
   ]
  },
  {
   "cell_type": "markdown",
   "metadata": {},
   "source": [
    "### under sample using smote"
   ]
  },
  {
   "cell_type": "code",
   "execution_count": null,
   "metadata": {},
   "outputs": [],
   "source": [
    "if (use_smote):\n",
    "    # use somte to under sample the minority class\n",
    "    sm = SMOTE(random_state=12, ratio = 'not minority')\n",
    "    x_res, y_res = sm.fit_sample(X_train, Y_train)\n",
    "    print('Resampled dataset shape %s' % Counter(y_res))\n",
    "    \n",
    "    df_train_under = pd.DataFrame(data=x_res, columns = df_columns)\n",
    "    df_train_under['P_ISEV'] = y_res\n",
    "\n",
    "    df_train_under = df_train_under.astype('int')\n",
    "    df_train_under = df_train_under.astype('category')\n",
    "    df_train_under['C_YEAR'] = df_train_under['C_YEAR'].astype(CategoricalDtype(ordered=True))\n",
    "    df_train_under['C_MNTH'] = df_train_under['C_MNTH'].astype(CategoricalDtype(ordered=True))\n",
    "    df_train_under['C_WDAY'] = df_train_under['C_WDAY'].astype(CategoricalDtype(ordered=True))\n",
    "    df_train_under['C_HOUR'] = df_train_under['C_HOUR'].astype(CategoricalDtype(ordered=True))\n",
    "    df_train_under['C_VEHS'] = df_train_under['C_VEHS'].astype('int')\n",
    "    df_train_under['V_YEAR'] = df_train_under['V_YEAR'].astype(CategoricalDtype(ordered=True))\n",
    "    df_train_under['P_PSN'] = df_train_under['P_PSN'].astype(CategoricalDtype(ordered=True))\n",
    "    df_train_under['P_AGE'] = df_train_under['P_AGE'].astype('int')\n",
    "    df_train_under['P_ISEV'] = df_train_under['P_ISEV'].astype('int')\n",
    "\n",
    "    print(df_train_under.shape)\n",
    "    df_train_under.head(3)"
   ]
  },
  {
   "cell_type": "markdown",
   "metadata": {},
   "source": [
    "### over sample using RamdomOverSampler"
   ]
  },
  {
   "cell_type": "code",
   "execution_count": null,
   "metadata": {},
   "outputs": [],
   "source": [
    "if (not use_smote):\n",
    "    ros = RandomOverSampler(random_state=0, ratio = 'minority')\n",
    "    X_resampled_ros, y_resampled_ros = ros.fit_sample(X_train, Y_train)\n",
    "    print(sorted(Counter(y_resampled_ros).items()))\n",
    "    \n",
    "    df_train_under = pd.DataFrame(data=X_resampled_ros, columns = df_columns)\n",
    "    df_train_under['P_ISEV'] = y_resampled_ros\n",
    "\n",
    "    df_train_under = df_train_under.astype('int')\n",
    "    df_train_under = df_train_under.astype('category')\n",
    "    df_train_under['C_YEAR'] = df_train_under['C_YEAR'].astype(CategoricalDtype(ordered=True))\n",
    "    df_train_under['C_MNTH'] = df_train_under['C_MNTH'].astype(CategoricalDtype(ordered=True))\n",
    "    df_train_under['C_WDAY'] = df_train_under['C_WDAY'].astype(CategoricalDtype(ordered=True))\n",
    "    df_train_under['C_HOUR'] = df_train_under['C_HOUR'].astype(CategoricalDtype(ordered=True))\n",
    "    df_train_under['C_VEHS'] = df_train_under['C_VEHS'].astype('int')\n",
    "    df_train_under['V_YEAR'] = df_train_under['V_YEAR'].astype(CategoricalDtype(ordered=True))\n",
    "    df_train_under['P_PSN'] = df_train_under['P_PSN'].astype(CategoricalDtype(ordered=True))\n",
    "    df_train_under['P_AGE'] = df_train_under['P_AGE'].astype('int')\n",
    "    df_train_under['P_ISEV'] = df_train_under['P_ISEV'].astype('int')\n",
    "\n",
    "    print(df_train_under.shape)\n",
    "    df_train_under.head(3)"
   ]
  },
  {
   "cell_type": "code",
   "execution_count": null,
   "metadata": {},
   "outputs": [],
   "source": [
    "### under sample non minority classes"
   ]
  },
  {
   "cell_type": "code",
   "execution_count": null,
   "metadata": {},
   "outputs": [],
   "source": [
    "if (not use_smote):\n",
    "    # under sample using Ramdom Under Sampler, much faster than smote\n",
    "    rus = RandomUnderSampler(random_state=0, ratio = 'not minority')\n",
    "    X_resampled_rus, y_resampled_rus = rus.fit_sample(X_train, Y_train)\n",
    "    print(sorted(Counter(y_resampled_rus).items()))\n",
    "\n",
    "    df_train_under = pd.DataFrame(data=X_resampled_rus, columns = df_columns)\n",
    "    df_train_under['P_ISEV'] = y_resampled_rus\n",
    "\n",
    "    df_train_under = df_train_under.astype('int')\n",
    "    df_train_under = df_train_under.astype('category')\n",
    "    df_train_under['C_YEAR'] = df_train_under['C_YEAR'].astype(CategoricalDtype(ordered=True))\n",
    "    df_train_under['C_MNTH'] = df_train_under['C_MNTH'].astype(CategoricalDtype(ordered=True))\n",
    "    df_train_under['C_WDAY'] = df_train_under['C_WDAY'].astype(CategoricalDtype(ordered=True))\n",
    "    df_train_under['C_HOUR'] = df_train_under['C_HOUR'].astype(CategoricalDtype(ordered=True))\n",
    "    df_train_under['C_VEHS'] = df_train_under['C_VEHS'].astype('int')\n",
    "    df_train_under['V_YEAR'] = df_train_under['V_YEAR'].astype(CategoricalDtype(ordered=True))\n",
    "    df_train_under['P_PSN'] = df_train_under['P_PSN'].astype(CategoricalDtype(ordered=True))\n",
    "    df_train_under['P_AGE'] = df_train_under['P_AGE'].astype('int')\n",
    "    df_train_under['P_ISEV'] = df_train_under['P_ISEV'].astype('int')\n",
    "\n",
    "    print(df_train_under.shape)\n",
    "    df_train_under.head(3)"
   ]
  },
  {
   "cell_type": "code",
   "execution_count": null,
   "metadata": {},
   "outputs": [],
   "source": [
    "df_test.info()"
   ]
  },
  {
   "cell_type": "code",
   "execution_count": null,
   "metadata": {},
   "outputs": [],
   "source": []
  },
  {
   "cell_type": "code",
   "execution_count": null,
   "metadata": {},
   "outputs": [],
   "source": []
  },
  {
   "cell_type": "code",
   "execution_count": null,
   "metadata": {},
   "outputs": [],
   "source": [
    "df_train_over.to_csv(outputfile_train_O, encoding='utf-8', index=False)\n",
    "df_train_under.to_csv(outputfile_train_U, encoding='utf-8', index=False)\n",
    "df_test.to_csv(outputfile_test, encoding='utf-8', index=False)"
   ]
  },
  {
   "cell_type": "code",
   "execution_count": null,
   "metadata": {},
   "outputs": [],
   "source": []
  }
 ],
 "metadata": {
  "kernelspec": {
   "display_name": "Python 3",
   "language": "python",
   "name": "python3"
  },
  "language_info": {
   "codemirror_mode": {
    "name": "ipython",
    "version": 3
   },
   "file_extension": ".py",
   "mimetype": "text/x-python",
   "name": "python",
   "nbconvert_exporter": "python",
   "pygments_lexer": "ipython3",
   "version": "3.6.6"
  }
 },
 "nbformat": 4,
 "nbformat_minor": 2
}
