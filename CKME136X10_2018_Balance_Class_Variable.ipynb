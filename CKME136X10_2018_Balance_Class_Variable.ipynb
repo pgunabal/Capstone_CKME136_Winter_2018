{
 "cells": [
  {
   "cell_type": "markdown",
   "metadata": {},
   "source": [
    "## Create Ballanced Data Set"
   ]
  },
  {
   "cell_type": "code",
   "execution_count": 1,
   "metadata": {},
   "outputs": [
    {
     "name": "stderr",
     "output_type": "stream",
     "text": [
      "C:\\Users\\pradeep\\Anaconda3\\lib\\site-packages\\sklearn\\ensemble\\weight_boosting.py:29: DeprecationWarning: numpy.core.umath_tests is an internal NumPy module and should not be imported. It will be removed in a future NumPy release.\n",
      "  from numpy.core.umath_tests import inner1d\n"
     ]
    }
   ],
   "source": [
    "import time\n",
    "import numpy as np\n",
    "import pandas as pd\n",
    "import random as rand\n",
    "pd.options.display.max_rows = 25\n",
    "pd.options.display.max_columns  = 25\n",
    "\n",
    "from pandas.api.types import CategoricalDtype\n",
    "\n",
    "from collections import Counter\n",
    "from sklearn.datasets import make_classification\n",
    "from imblearn.over_sampling import SMOTE # doctest: +NORMALIZE_WHITESPACE\n",
    "from imblearn.over_sampling import RandomOverSampler\n",
    "from imblearn.under_sampling import RandomUnderSampler\n",
    "from sklearn import model_selection\n",
    "\n",
    "use_smote = True\n",
    "binaryClass = False\n",
    "\n",
    "inputfile = 'CKME136X10_2018_Data_CTF.csv'\n",
    "if binaryClass:\n",
    "    outputfile_train_O = 'CKME136X10_2018_Data_CTFB_B_O_Train.csv'\n",
    "    outputfile_train_U = 'CKME136X10_2018_Data_CTFB_B_U_Train.csv'\n",
    "    outputfile_test = 'CKME136X10_2018_Data_CTFB_B_Test.csv'\n",
    "else:\n",
    "    outputfile_train_O = 'CKME136X10_2018_Data_CTFB_M_O_Train.csv'\n",
    "    outputfile_train_U = 'CKME136X10_2018_Data_CTFB_M_U_Train.csv'\n",
    "    outputfile_test = 'CKME136X10_2018_Data_CTFB_M_Test.csv'\n"
   ]
  },
  {
   "cell_type": "code",
   "execution_count": 2,
   "metadata": {},
   "outputs": [],
   "source": [
    "#load data\n",
    "df = pd.read_csv(inputfile, engine = 'python')"
   ]
  },
  {
   "cell_type": "code",
   "execution_count": 3,
   "metadata": {},
   "outputs": [
    {
     "name": "stdout",
     "output_type": "stream",
     "text": [
      "Index(['C_YEAR', 'C_MNTH', 'C_WDAY', 'C_HOUR', 'C_VEHS', 'C_CONF', 'C_RCFG',\n",
      "       'C_WTHR', 'C_RSUR', 'C_RALN', 'C_TRAF', 'V_TYPE', 'V_YEAR', 'P_SEX',\n",
      "       'P_AGE', 'P_PSN', 'P_SAFE', 'P_USER'],\n",
      "      dtype='object')\n"
     ]
    }
   ],
   "source": [
    "df_columns = df.columns[:len(df.columns) -1]\n",
    "print(df_columns)"
   ]
  },
  {
   "cell_type": "code",
   "execution_count": 4,
   "metadata": {},
   "outputs": [
    {
     "name": "stdout",
     "output_type": "stream",
     "text": [
      "Number of Null values: 0\n",
      "\n",
      "Number of NaN: 0\n",
      "\n",
      "Number of Non Numeric: 0\n",
      "\n",
      "Information on the imported data\n",
      "<class 'pandas.core.frame.DataFrame'>\n",
      "RangeIndex: 4336558 entries, 0 to 4336557\n",
      "Data columns (total 19 columns):\n",
      "C_YEAR    int64\n",
      "C_MNTH    int64\n",
      "C_WDAY    int64\n",
      "C_HOUR    int64\n",
      "C_VEHS    int64\n",
      "C_CONF    int64\n",
      "C_RCFG    int64\n",
      "C_WTHR    int64\n",
      "C_RSUR    int64\n",
      "C_RALN    int64\n",
      "C_TRAF    int64\n",
      "V_TYPE    int64\n",
      "V_YEAR    int64\n",
      "P_SEX     int64\n",
      "P_AGE     int64\n",
      "P_PSN     int64\n",
      "P_SAFE    int64\n",
      "P_USER    int64\n",
      "P_ISEV    int64\n",
      "dtypes: int64(19)\n",
      "memory usage: 628.6 MB\n",
      "None\n"
     ]
    }
   ],
   "source": [
    "#check for nun numeric values\n",
    "print(\"Number of Null values: {}\".format(df.isnull().sum().sum()))\n",
    "print()\n",
    "print(\"Number of NaN: {0}\".format(df.isna().sum().sum()))\n",
    "print()\n",
    "print(\"Number of Non Numeric: {}\".format(df[df.columns].apply(lambda x: x.astype(str).str.contains('[^0-9]')).sum().sum()))\n",
    "print()\n",
    "print('Information on the imported data')\n",
    "print(df.info())"
   ]
  },
  {
   "cell_type": "code",
   "execution_count": 5,
   "metadata": {},
   "outputs": [
    {
     "name": "stdout",
     "output_type": "stream",
     "text": [
      "<class 'pandas.core.frame.DataFrame'>\n",
      "RangeIndex: 4336558 entries, 0 to 4336557\n",
      "Data columns (total 19 columns):\n",
      "C_YEAR    category\n",
      "C_MNTH    category\n",
      "C_WDAY    category\n",
      "C_HOUR    category\n",
      "C_VEHS    int32\n",
      "C_CONF    category\n",
      "C_RCFG    category\n",
      "C_WTHR    category\n",
      "C_RSUR    category\n",
      "C_RALN    category\n",
      "C_TRAF    category\n",
      "V_TYPE    category\n",
      "V_YEAR    category\n",
      "P_SEX     category\n",
      "P_AGE     int32\n",
      "P_PSN     category\n",
      "P_SAFE    category\n",
      "P_USER    category\n",
      "P_ISEV    int32\n",
      "dtypes: category(16), int32(3)\n",
      "memory usage: 115.8 MB\n",
      "None\n"
     ]
    }
   ],
   "source": [
    "# convert to the correct type\n",
    "df = df.astype('category')\n",
    "df['C_YEAR'] = df['C_YEAR'].astype(CategoricalDtype(ordered=True))\n",
    "df['C_MNTH'] = df['C_MNTH'].astype(CategoricalDtype(ordered=True))\n",
    "df['C_WDAY'] = df['C_WDAY'].astype(CategoricalDtype(ordered=True))\n",
    "df['C_HOUR'] = df['C_HOUR'].astype(CategoricalDtype(ordered=True))\n",
    "df['C_VEHS'] = df['C_VEHS'].astype('int')\n",
    "df['V_YEAR'] = df['V_YEAR'].astype(CategoricalDtype(ordered=True))\n",
    "df['P_PSN'] = df['P_PSN'].astype(CategoricalDtype(ordered=True))\n",
    "df['P_AGE'] = df['P_AGE'].astype('int')\n",
    "df['P_ISEV'] = df['P_ISEV'].astype('int')\n",
    "print(df.info())"
   ]
  },
  {
   "cell_type": "markdown",
   "metadata": {},
   "source": [
    "## Split Training and Test set 70/30 split"
   ]
  },
  {
   "cell_type": "code",
   "execution_count": 6,
   "metadata": {},
   "outputs": [],
   "source": [
    "## Split Training and Test set 70/30 split, so we don't bleed information to test set\n",
    "#Split between data and class\n",
    "Y = df[df.columns[-1]].copy()\n",
    "if binaryClass:\n",
    "    Y.replace(to_replace = 1, value = 0, inplace = True)\n",
    "    Y.replace(to_replace = 2, value = 1, inplace = True)\n",
    "    Y.replace(to_replace = 3, value = 1, inplace = True)\n",
    "else:\n",
    "    Y.replace(to_replace = 1, value = 0, inplace = True)\n",
    "    Y.replace(to_replace = 2, value = 1, inplace = True)\n",
    "    Y.replace(to_replace = 3, value = 2, inplace = True)\n",
    "\n",
    "X = df[df.columns[0:df.columns.size -1]].copy()\n",
    "\n",
    "X_train, X_test, Y_train, Y_test = model_selection.train_test_split(X, Y, test_size=0.3, stratify=Y)"
   ]
  },
  {
   "cell_type": "code",
   "execution_count": 7,
   "metadata": {},
   "outputs": [
    {
     "name": "stdout",
     "output_type": "stream",
     "text": [
      "P_ISEV\n",
      "0    1268513\n",
      "1    1745255\n",
      "2      21822\n",
      "Name: P_ISEV, dtype: int64\n",
      "P_ISEV\n",
      "0    543649\n",
      "1    747967\n",
      "2      9352\n",
      "Name: P_ISEV, dtype: int64\n"
     ]
    }
   ],
   "source": [
    "print(Y_train.groupby(Y_train).size())\n",
    "print(Y_test.groupby(Y_test).size())\n"
   ]
  },
  {
   "cell_type": "code",
   "execution_count": 8,
   "metadata": {},
   "outputs": [
    {
     "name": "stdout",
     "output_type": "stream",
     "text": [
      "<class 'pandas.core.frame.DataFrame'>\n",
      "Int64Index: 1300968 entries, 3578209 to 1478231\n",
      "Data columns (total 18 columns):\n",
      "C_YEAR    1300968 non-null category\n",
      "C_MNTH    1300968 non-null category\n",
      "C_WDAY    1300968 non-null category\n",
      "C_HOUR    1300968 non-null category\n",
      "C_VEHS    1300968 non-null int32\n",
      "C_CONF    1300968 non-null category\n",
      "C_RCFG    1300968 non-null category\n",
      "C_WTHR    1300968 non-null category\n",
      "C_RSUR    1300968 non-null category\n",
      "C_RALN    1300968 non-null category\n",
      "C_TRAF    1300968 non-null category\n",
      "V_TYPE    1300968 non-null category\n",
      "V_YEAR    1300968 non-null category\n",
      "P_SEX     1300968 non-null category\n",
      "P_AGE     1300968 non-null int32\n",
      "P_PSN     1300968 non-null category\n",
      "P_SAFE    1300968 non-null category\n",
      "P_USER    1300968 non-null category\n",
      "dtypes: category(16), int32(2)\n",
      "memory usage: 39.7 MB\n"
     ]
    }
   ],
   "source": [
    "X_test.info()"
   ]
  },
  {
   "cell_type": "code",
   "execution_count": 9,
   "metadata": {},
   "outputs": [],
   "source": [
    "#Testing Set\n",
    "df_test = X_test.copy()\n",
    "df_test['P_ISEV'] = Y_test.copy()"
   ]
  },
  {
   "cell_type": "markdown",
   "metadata": {},
   "source": [
    "### over sample using smote"
   ]
  },
  {
   "cell_type": "code",
   "execution_count": 10,
   "metadata": {
    "scrolled": true
   },
   "outputs": [
    {
     "name": "stdout",
     "output_type": "stream",
     "text": [
      "Resampled dataset shape Counter({1: 1745255, 2: 1745255, 0: 1268513})\n",
      "(4759023, 19)\n"
     ]
    }
   ],
   "source": [
    "if (use_smote):\n",
    "# use somte to over sample the minority class\n",
    "    sm = SMOTE(random_state=12, ratio = 'minority')\n",
    "    x_res, y_res = sm.fit_sample(X_train, Y_train)\n",
    "    print('Resampled dataset shape %s' % Counter(y_res))\n",
    "    \n",
    "    df_train_over = pd.DataFrame(data=x_res, columns = df_columns)\n",
    "    df_train_over['P_ISEV'] = y_res\n",
    "\n",
    "    # convert to the correct type\n",
    "\n",
    "    #not sure why converting to category still leave fold values, lets convert to int first\n",
    "    df_train_over = df_train_over.astype('int')\n",
    "    df_train_over = df_train_over.astype('category')\n",
    "    df_train_over['C_YEAR'] = df_train_over['C_YEAR'].astype(CategoricalDtype(ordered=True))\n",
    "    df_train_over['C_MNTH'] = df_train_over['C_MNTH'].astype(CategoricalDtype(ordered=True))\n",
    "    df_train_over['C_WDAY'] = df_train_over['C_WDAY'].astype(CategoricalDtype(ordered=True))\n",
    "    df_train_over['C_HOUR'] = df_train_over['C_HOUR'].astype(CategoricalDtype(ordered=True))\n",
    "    df_train_over['C_VEHS'] = df_train_over['C_VEHS'].astype('int')\n",
    "    df_train_over['V_YEAR'] = df_train_over['V_YEAR'].astype(CategoricalDtype(ordered=True))\n",
    "    df_train_over['P_PSN'] = df_train_over['P_PSN'].astype(CategoricalDtype(ordered=True))\n",
    "    df_train_over['P_AGE'] = df_train_over['P_AGE'].astype('int')\n",
    "    df_train_over['P_ISEV'] = df_train_over['P_ISEV'].astype('int')\n",
    "    print(df_train_over.shape)\n",
    "    df_train_over.head(3)"
   ]
  },
  {
   "cell_type": "markdown",
   "metadata": {},
   "source": [
    "### under sample using smote"
   ]
  },
  {
   "cell_type": "code",
   "execution_count": 11,
   "metadata": {},
   "outputs": [
    {
     "name": "stdout",
     "output_type": "stream",
     "text": [
      "Resampled dataset shape Counter({0: 1745255, 1: 1745255, 2: 21822})\n",
      "(3512332, 19)\n"
     ]
    }
   ],
   "source": [
    "if (use_smote):\n",
    "    # use somte to under sample the minority class\n",
    "    sm = SMOTE(random_state=12, ratio = 'not minority')\n",
    "    x_res, y_res = sm.fit_sample(X_train, Y_train)\n",
    "    print('Resampled dataset shape %s' % Counter(y_res))\n",
    "    \n",
    "    df_train_under = pd.DataFrame(data=x_res, columns = df_columns)\n",
    "    df_train_under['P_ISEV'] = y_res\n",
    "\n",
    "    df_train_under = df_train_under.astype('int')\n",
    "    df_train_under = df_train_under.astype('category')\n",
    "    df_train_under['C_YEAR'] = df_train_under['C_YEAR'].astype(CategoricalDtype(ordered=True))\n",
    "    df_train_under['C_MNTH'] = df_train_under['C_MNTH'].astype(CategoricalDtype(ordered=True))\n",
    "    df_train_under['C_WDAY'] = df_train_under['C_WDAY'].astype(CategoricalDtype(ordered=True))\n",
    "    df_train_under['C_HOUR'] = df_train_under['C_HOUR'].astype(CategoricalDtype(ordered=True))\n",
    "    df_train_under['C_VEHS'] = df_train_under['C_VEHS'].astype('int')\n",
    "    df_train_under['V_YEAR'] = df_train_under['V_YEAR'].astype(CategoricalDtype(ordered=True))\n",
    "    df_train_under['P_PSN'] = df_train_under['P_PSN'].astype(CategoricalDtype(ordered=True))\n",
    "    df_train_under['P_AGE'] = df_train_under['P_AGE'].astype('int')\n",
    "    df_train_under['P_ISEV'] = df_train_under['P_ISEV'].astype('int')\n",
    "\n",
    "    print(df_train_under.shape)\n",
    "    df_train_under.head(3)"
   ]
  },
  {
   "cell_type": "markdown",
   "metadata": {},
   "source": [
    "### over sample using RamdomOverSampler"
   ]
  },
  {
   "cell_type": "code",
   "execution_count": 12,
   "metadata": {},
   "outputs": [],
   "source": [
    "if (not use_smote):\n",
    "    ros = RandomOverSampler(random_state=0, ratio = 'minority')\n",
    "    X_resampled_ros, y_resampled_ros = ros.fit_sample(X_train, Y_train)\n",
    "    print(sorted(Counter(y_resampled_ros).items()))\n",
    "    \n",
    "    df_train_under = pd.DataFrame(data=X_resampled_ros, columns = df_columns)\n",
    "    df_train_under['P_ISEV'] = y_resampled_ros\n",
    "\n",
    "    df_train_under = df_train_under.astype('int')\n",
    "    df_train_under = df_train_under.astype('category')\n",
    "    df_train_under['C_YEAR'] = df_train_under['C_YEAR'].astype(CategoricalDtype(ordered=True))\n",
    "    df_train_under['C_MNTH'] = df_train_under['C_MNTH'].astype(CategoricalDtype(ordered=True))\n",
    "    df_train_under['C_WDAY'] = df_train_under['C_WDAY'].astype(CategoricalDtype(ordered=True))\n",
    "    df_train_under['C_HOUR'] = df_train_under['C_HOUR'].astype(CategoricalDtype(ordered=True))\n",
    "    df_train_under['C_VEHS'] = df_train_under['C_VEHS'].astype('int')\n",
    "    df_train_under['V_YEAR'] = df_train_under['V_YEAR'].astype(CategoricalDtype(ordered=True))\n",
    "    df_train_under['P_PSN'] = df_train_under['P_PSN'].astype(CategoricalDtype(ordered=True))\n",
    "    df_train_under['P_AGE'] = df_train_under['P_AGE'].astype('int')\n",
    "    df_train_under['P_ISEV'] = df_train_under['P_ISEV'].astype('int')\n",
    "\n",
    "    print(df_train_under.shape)\n",
    "    df_train_under.head(3)"
   ]
  },
  {
   "cell_type": "code",
   "execution_count": 13,
   "metadata": {},
   "outputs": [],
   "source": [
    "### under sample non minority classes"
   ]
  },
  {
   "cell_type": "code",
   "execution_count": 14,
   "metadata": {},
   "outputs": [],
   "source": [
    "if (not use_smote):\n",
    "    # under sample using Ramdom Under Sampler, much faster than smote\n",
    "    rus = RandomUnderSampler(random_state=0, ratio = 'not minority')\n",
    "    X_resampled_rus, y_resampled_rus = rus.fit_sample(X_train, Y_train)\n",
    "    print(sorted(Counter(y_resampled_rus).items()))\n",
    "\n",
    "    df_train_under = pd.DataFrame(data=X_resampled_rus, columns = df_columns)\n",
    "    df_train_under['P_ISEV'] = y_resampled_rus\n",
    "\n",
    "    df_train_under = df_train_under.astype('int')\n",
    "    df_train_under = df_train_under.astype('category')\n",
    "    df_train_under['C_YEAR'] = df_train_under['C_YEAR'].astype(CategoricalDtype(ordered=True))\n",
    "    df_train_under['C_MNTH'] = df_train_under['C_MNTH'].astype(CategoricalDtype(ordered=True))\n",
    "    df_train_under['C_WDAY'] = df_train_under['C_WDAY'].astype(CategoricalDtype(ordered=True))\n",
    "    df_train_under['C_HOUR'] = df_train_under['C_HOUR'].astype(CategoricalDtype(ordered=True))\n",
    "    df_train_under['C_VEHS'] = df_train_under['C_VEHS'].astype('int')\n",
    "    df_train_under['V_YEAR'] = df_train_under['V_YEAR'].astype(CategoricalDtype(ordered=True))\n",
    "    df_train_under['P_PSN'] = df_train_under['P_PSN'].astype(CategoricalDtype(ordered=True))\n",
    "    df_train_under['P_AGE'] = df_train_under['P_AGE'].astype('int')\n",
    "    df_train_under['P_ISEV'] = df_train_under['P_ISEV'].astype('int')\n",
    "\n",
    "    print(df_train_under.shape)\n",
    "    df_train_under.head(3)"
   ]
  },
  {
   "cell_type": "code",
   "execution_count": 15,
   "metadata": {},
   "outputs": [
    {
     "name": "stdout",
     "output_type": "stream",
     "text": [
      "<class 'pandas.core.frame.DataFrame'>\n",
      "Int64Index: 1300968 entries, 3578209 to 1478231\n",
      "Data columns (total 19 columns):\n",
      "C_YEAR    1300968 non-null category\n",
      "C_MNTH    1300968 non-null category\n",
      "C_WDAY    1300968 non-null category\n",
      "C_HOUR    1300968 non-null category\n",
      "C_VEHS    1300968 non-null int32\n",
      "C_CONF    1300968 non-null category\n",
      "C_RCFG    1300968 non-null category\n",
      "C_WTHR    1300968 non-null category\n",
      "C_RSUR    1300968 non-null category\n",
      "C_RALN    1300968 non-null category\n",
      "C_TRAF    1300968 non-null category\n",
      "V_TYPE    1300968 non-null category\n",
      "V_YEAR    1300968 non-null category\n",
      "P_SEX     1300968 non-null category\n",
      "P_AGE     1300968 non-null int32\n",
      "P_PSN     1300968 non-null category\n",
      "P_SAFE    1300968 non-null category\n",
      "P_USER    1300968 non-null category\n",
      "P_ISEV    1300968 non-null int32\n",
      "dtypes: category(16), int32(3)\n",
      "memory usage: 44.7 MB\n"
     ]
    }
   ],
   "source": [
    "df_test.info()"
   ]
  },
  {
   "cell_type": "code",
   "execution_count": null,
   "metadata": {},
   "outputs": [],
   "source": []
  },
  {
   "cell_type": "code",
   "execution_count": null,
   "metadata": {},
   "outputs": [],
   "source": []
  },
  {
   "cell_type": "code",
   "execution_count": 16,
   "metadata": {},
   "outputs": [],
   "source": [
    "df_train_over.to_csv(outputfile_train_O, encoding='utf-8', index=False)\n",
    "df_train_under.to_csv(outputfile_train_U, encoding='utf-8', index=False)\n",
    "df_test.to_csv(outputfile_test, encoding='utf-8', index=False)"
   ]
  },
  {
   "cell_type": "code",
   "execution_count": null,
   "metadata": {},
   "outputs": [],
   "source": []
  }
 ],
 "metadata": {
  "kernelspec": {
   "display_name": "Python 3",
   "language": "python",
   "name": "python3"
  },
  "language_info": {
   "codemirror_mode": {
    "name": "ipython",
    "version": 3
   },
   "file_extension": ".py",
   "mimetype": "text/x-python",
   "name": "python",
   "nbconvert_exporter": "python",
   "pygments_lexer": "ipython3",
   "version": "3.7.0"
  }
 },
 "nbformat": 4,
 "nbformat_minor": 2
}
