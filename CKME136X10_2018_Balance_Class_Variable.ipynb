{
 "cells": [
  {
   "cell_type": "markdown",
   "metadata": {},
   "source": [
    "## Create Ballanced Data Set"
   ]
  },
  {
   "cell_type": "code",
   "execution_count": 1,
   "metadata": {},
   "outputs": [
    {
     "name": "stderr",
     "output_type": "stream",
     "text": [
      "C:\\Users\\pradeep\\Anaconda3\\lib\\site-packages\\sklearn\\ensemble\\weight_boosting.py:29: DeprecationWarning: numpy.core.umath_tests is an internal NumPy module and should not be imported. It will be removed in a future NumPy release.\n",
      "  from numpy.core.umath_tests import inner1d\n"
     ]
    }
   ],
   "source": [
    "import time\n",
    "import numpy as np\n",
    "import pandas as pd\n",
    "import random as rand\n",
    "pd.options.display.max_rows = 25\n",
    "pd.options.display.max_columns  = 25\n",
    "\n",
    "from pandas.api.types import CategoricalDtype\n",
    "\n",
    "from collections import Counter\n",
    "from sklearn.datasets import make_classification\n",
    "from imblearn.over_sampling import SMOTE # doctest: +NORMALIZE_WHITESPACE\n",
    "from imblearn.over_sampling import RandomOverSampler\n",
    "from imblearn.under_sampling import RandomUnderSampler\n",
    "from sklearn import model_selection\n",
    "\n",
    "use_smote = True\n",
    "binaryClass = True\n",
    "\n",
    "inputfile = 'CKME136X10_2018_Data_Cleaned_Transformed.csv'\n",
    "\n",
    "if binaryClass:\n",
    "    outputfile_train_O = 'CKME136X10_2018_Data_CTFB_B_O_Train.csv'\n",
    "    outputfile_train_U = 'CKME136X10_2018_Data_CTFB_B_U_Train.csv'\n",
    "    outputfile_test = 'CKME136X10_2018_Data_CTFB_B_Test.csv'\n",
    "else:\n",
    "    outputfile_train_O = 'CKME136X10_2018_Data_CTFB_M_O_Train.csv'\n",
    "    outputfile_train_U = 'CKME136X10_2018_Data_CTFB_M_U_Train.csv'\n",
    "    outputfile_test = 'CKME136X10_2018_Data_CTFB_M_Test.csv'\n"
   ]
  },
  {
   "cell_type": "code",
   "execution_count": 2,
   "metadata": {},
   "outputs": [],
   "source": [
    "# this function converts the data frame to the appropriate data type\n",
    "def convert_type(data):\n",
    "    data = data.astype('category')\n",
    "    data['C_MNTH'] = data['C_MNTH'].astype(CategoricalDtype(ordered=True))\n",
    "    data['C_WDAY'] = data['C_WDAY'].astype(CategoricalDtype(ordered=True))\n",
    "    data['C_HOUR'] = data['C_HOUR'].astype(CategoricalDtype(ordered=True))\n",
    "    data['C_VEHS'] = data['C_VEHS'].astype(CategoricalDtype(ordered=True))\n",
    "    data['P_AGE'] = data['P_AGE'].astype(CategoricalDtype(ordered=True))\n",
    "    data['P_PSN'] = data['P_PSN'].astype(CategoricalDtype(ordered=True))\n",
    "    data['P_ISEV'] = data['P_ISEV'].astype('int')\n",
    "    return data"
   ]
  },
  {
   "cell_type": "code",
   "execution_count": 3,
   "metadata": {},
   "outputs": [],
   "source": [
    "#load data\n",
    "df = pd.read_csv(inputfile, engine = 'python')"
   ]
  },
  {
   "cell_type": "code",
   "execution_count": 4,
   "metadata": {},
   "outputs": [
    {
     "name": "stdout",
     "output_type": "stream",
     "text": [
      "Index(['C_MNTH', 'C_WDAY', 'C_HOUR', 'C_VEHS', 'C_CONF', 'C_RCFG', 'C_WTHR',\n",
      "       'C_RSUR', 'C_RALN', 'C_TRAF', 'P_SEX', 'P_AGE', 'P_PSN', 'P_USER'],\n",
      "      dtype='object')\n"
     ]
    }
   ],
   "source": [
    "df_columns = df.columns[:len(df.columns) -1]\n",
    "print(df_columns)"
   ]
  },
  {
   "cell_type": "code",
   "execution_count": 5,
   "metadata": {},
   "outputs": [
    {
     "name": "stdout",
     "output_type": "stream",
     "text": [
      "Number of Null values: 0\n",
      "\n",
      "Number of NaN: 0\n",
      "\n",
      "Number of Non Numeric: 0\n",
      "\n"
     ]
    }
   ],
   "source": [
    "#check for nun numeric values\n",
    "print(\"Number of Null values: {}\".format(df.isnull().sum().sum()))\n",
    "print()\n",
    "print(\"Number of NaN: {0}\".format(df.isna().sum().sum()))\n",
    "print()\n",
    "print(\"Number of Non Numeric: {}\".format(df[df.columns].apply(lambda x: x.astype(str).str.contains('[^0-9]')).sum().sum()))\n",
    "print()"
   ]
  },
  {
   "cell_type": "code",
   "execution_count": 6,
   "metadata": {},
   "outputs": [
    {
     "name": "stdout",
     "output_type": "stream",
     "text": [
      "<class 'pandas.core.frame.DataFrame'>\n",
      "RangeIndex: 4816153 entries, 0 to 4816152\n",
      "Data columns (total 15 columns):\n",
      "C_MNTH    category\n",
      "C_WDAY    category\n",
      "C_HOUR    category\n",
      "C_VEHS    category\n",
      "C_CONF    category\n",
      "C_RCFG    category\n",
      "C_WTHR    category\n",
      "C_RSUR    category\n",
      "C_RALN    category\n",
      "C_TRAF    category\n",
      "P_SEX     category\n",
      "P_AGE     category\n",
      "P_PSN     category\n",
      "P_USER    category\n",
      "P_ISEV    int32\n",
      "dtypes: category(14), int32(1)\n",
      "memory usage: 82.7 MB\n",
      "None\n"
     ]
    }
   ],
   "source": [
    "# convert to the correct type\n",
    "df = convert_type(df)\n",
    "print(df.info())"
   ]
  },
  {
   "cell_type": "markdown",
   "metadata": {},
   "source": [
    "## Split Training and Test set 70/30 split"
   ]
  },
  {
   "cell_type": "code",
   "execution_count": 7,
   "metadata": {},
   "outputs": [],
   "source": [
    "## Split Training and Test set 70/30 split, so we don't bleed information to test set\n",
    "#Split between data and class\n",
    "Y = df[df.columns[-1]].copy()\n",
    "if binaryClass:\n",
    "    Y.replace(to_replace = 1, value = 0, inplace = True)\n",
    "    Y.replace(to_replace = 2, value = 1, inplace = True)\n",
    "    Y.replace(to_replace = 3, value = 1, inplace = True)\n",
    "else:\n",
    "    Y.replace(to_replace = 1, value = 0, inplace = True)\n",
    "    Y.replace(to_replace = 2, value = 1, inplace = True)\n",
    "    Y.replace(to_replace = 3, value = 2, inplace = True)\n",
    "\n",
    "X = df[df.columns[0:df.columns.size -1]].copy()\n",
    "\n",
    "X_train, X_test, Y_train, Y_test = model_selection.train_test_split(X, Y, test_size=0.3, stratify=Y)"
   ]
  },
  {
   "cell_type": "code",
   "execution_count": 8,
   "metadata": {},
   "outputs": [
    {
     "name": "stdout",
     "output_type": "stream",
     "text": [
      "P_ISEV\n",
      "0    1432039\n",
      "1    1939268\n",
      "Name: P_ISEV, dtype: int64\n",
      "P_ISEV\n",
      "0    613731\n",
      "1    831115\n",
      "Name: P_ISEV, dtype: int64\n"
     ]
    }
   ],
   "source": [
    "print(Y_train.groupby(Y_train).size())\n",
    "print(Y_test.groupby(Y_test).size())\n"
   ]
  },
  {
   "cell_type": "code",
   "execution_count": 9,
   "metadata": {},
   "outputs": [
    {
     "name": "stdout",
     "output_type": "stream",
     "text": [
      "Number of Null values: 0\n",
      "\n",
      "Number of NaN: 0\n",
      "\n",
      "Number of Non Numeric: 0\n",
      "\n"
     ]
    }
   ],
   "source": [
    "#check for nun numeric values\n",
    "print(\"Number of Null values: {}\".format(X_train.isnull().sum().sum()))\n",
    "print()\n",
    "print(\"Number of NaN: {0}\".format(X_train.isna().sum().sum()))\n",
    "print()\n",
    "print(\"Number of Non Numeric: {}\".format(X_train[X_train.columns].apply(lambda x: x.astype(str).str.contains('[^0-9]')).sum().sum()))\n",
    "print()"
   ]
  },
  {
   "cell_type": "code",
   "execution_count": 10,
   "metadata": {},
   "outputs": [
    {
     "name": "stdout",
     "output_type": "stream",
     "text": [
      "Number of Null values: 0\n",
      "\n",
      "Number of NaN: 0\n",
      "\n",
      "Number of Non Numeric: 0\n",
      "\n"
     ]
    }
   ],
   "source": [
    "#check for nun numeric values\n",
    "print(\"Number of Null values: {}\".format(X_test.isnull().sum().sum()))\n",
    "print()\n",
    "print(\"Number of NaN: {0}\".format(X_test.isna().sum().sum()))\n",
    "print()\n",
    "print(\"Number of Non Numeric: {}\".format(X_test[X_test.columns].apply(lambda x: x.astype(str).str.contains('[^0-9]')).sum().sum()))\n",
    "print()"
   ]
  },
  {
   "cell_type": "code",
   "execution_count": 11,
   "metadata": {},
   "outputs": [
    {
     "name": "stdout",
     "output_type": "stream",
     "text": [
      "<class 'pandas.core.frame.DataFrame'>\n",
      "Int64Index: 3371307 entries, 2300036 to 3726133\n",
      "Data columns (total 14 columns):\n",
      "C_MNTH    category\n",
      "C_WDAY    category\n",
      "C_HOUR    category\n",
      "C_VEHS    category\n",
      "C_CONF    category\n",
      "C_RCFG    category\n",
      "C_WTHR    category\n",
      "C_RSUR    category\n",
      "C_RALN    category\n",
      "C_TRAF    category\n",
      "P_SEX     category\n",
      "P_AGE     category\n",
      "P_PSN     category\n",
      "P_USER    category\n",
      "dtypes: category(14)\n",
      "memory usage: 70.7 MB\n",
      "<class 'pandas.core.frame.DataFrame'>\n",
      "Int64Index: 1444846 entries, 594060 to 2720405\n",
      "Data columns (total 14 columns):\n",
      "C_MNTH    1444846 non-null category\n",
      "C_WDAY    1444846 non-null category\n",
      "C_HOUR    1444846 non-null category\n",
      "C_VEHS    1444846 non-null category\n",
      "C_CONF    1444846 non-null category\n",
      "C_RCFG    1444846 non-null category\n",
      "C_WTHR    1444846 non-null category\n",
      "C_RSUR    1444846 non-null category\n",
      "C_RALN    1444846 non-null category\n",
      "C_TRAF    1444846 non-null category\n",
      "P_SEX     1444846 non-null category\n",
      "P_AGE     1444846 non-null category\n",
      "P_PSN     1444846 non-null category\n",
      "P_USER    1444846 non-null category\n",
      "dtypes: category(14)\n",
      "memory usage: 30.3 MB\n"
     ]
    }
   ],
   "source": [
    "X_train.info()\n",
    "X_test.info()"
   ]
  },
  {
   "cell_type": "code",
   "execution_count": 12,
   "metadata": {},
   "outputs": [],
   "source": [
    "#Testing Set\n",
    "df_test = X_test.copy()\n",
    "df_test['P_ISEV'] = Y_test.copy()"
   ]
  },
  {
   "cell_type": "markdown",
   "metadata": {},
   "source": [
    "### over sample using smote"
   ]
  },
  {
   "cell_type": "code",
   "execution_count": 13,
   "metadata": {
    "scrolled": true
   },
   "outputs": [
    {
     "name": "stdout",
     "output_type": "stream",
     "text": [
      "Resampled dataset shape Counter({0: 1939268, 1: 1939268})\n",
      "(3878536, 15)\n"
     ]
    }
   ],
   "source": [
    "if (use_smote):\n",
    "# use somte to over sample the minority class\n",
    "    sm = SMOTE(random_state=12, ratio = 'minority', n_jobs = -1)\n",
    "    x_res, y_res = sm.fit_sample(X_train, Y_train)\n",
    "    print('Resampled dataset shape %s' % Counter(y_res))\n",
    "    \n",
    "    df_train_over = pd.DataFrame(data=x_res, columns = df_columns)\n",
    "    df_train_over['P_ISEV'] = y_res\n",
    "\n",
    "    # convert to the correct type\n",
    "\n",
    "    #not sure why converting to category still leave fold values, lets convert to int first\n",
    "    df_train_over = df_train_over.astype('int')\n",
    "    df_train_over = convert_type(df_train_over)\n",
    "    print(df_train_over.shape)\n",
    "    df_train_over.head(3)"
   ]
  },
  {
   "cell_type": "markdown",
   "metadata": {},
   "source": [
    "### over sample using RamdomOverSampler"
   ]
  },
  {
   "cell_type": "code",
   "execution_count": 14,
   "metadata": {},
   "outputs": [],
   "source": [
    "if (not use_smote):\n",
    "    ros = RandomOverSampler(random_state=0, ratio = 'minority')\n",
    "    X_resampled_ros, y_resampled_ros = ros.fit_sample(X_train, Y_train)\n",
    "    print(sorted(Counter(y_resampled_ros).items()))\n",
    "    \n",
    "    df_train_over = pd.DataFrame(data=X_resampled_ros, columns = df_columns)\n",
    "    df_train_over['P_ISEV'] = y_resampled_ros\n",
    "\n",
    "    df_train_over = df_train_over.astype('int')\n",
    "    df_train_over = convert_type(df_train_over)\n",
    "\n",
    "    print(df_train_over.shape)\n",
    "    df_train_over.head(3)"
   ]
  },
  {
   "cell_type": "markdown",
   "metadata": {},
   "source": [
    "### under sample non minority classes"
   ]
  },
  {
   "cell_type": "code",
   "execution_count": 15,
   "metadata": {},
   "outputs": [],
   "source": [
    "# user RandomUnderSampler even if somte = True"
   ]
  },
  {
   "cell_type": "code",
   "execution_count": 16,
   "metadata": {},
   "outputs": [
    {
     "name": "stdout",
     "output_type": "stream",
     "text": [
      "[(0, 1432039), (1, 1432039)]\n",
      "(2864078, 15)\n"
     ]
    },
    {
     "data": {
      "text/html": [
       "<div>\n",
       "<style scoped>\n",
       "    .dataframe tbody tr th:only-of-type {\n",
       "        vertical-align: middle;\n",
       "    }\n",
       "\n",
       "    .dataframe tbody tr th {\n",
       "        vertical-align: top;\n",
       "    }\n",
       "\n",
       "    .dataframe thead th {\n",
       "        text-align: right;\n",
       "    }\n",
       "</style>\n",
       "<table border=\"1\" class=\"dataframe\">\n",
       "  <thead>\n",
       "    <tr style=\"text-align: right;\">\n",
       "      <th></th>\n",
       "      <th>C_MNTH</th>\n",
       "      <th>C_WDAY</th>\n",
       "      <th>C_HOUR</th>\n",
       "      <th>C_VEHS</th>\n",
       "      <th>C_CONF</th>\n",
       "      <th>C_RCFG</th>\n",
       "      <th>C_WTHR</th>\n",
       "      <th>C_RSUR</th>\n",
       "      <th>C_RALN</th>\n",
       "      <th>C_TRAF</th>\n",
       "      <th>P_SEX</th>\n",
       "      <th>P_AGE</th>\n",
       "      <th>P_PSN</th>\n",
       "      <th>P_USER</th>\n",
       "      <th>P_ISEV</th>\n",
       "    </tr>\n",
       "  </thead>\n",
       "  <tbody>\n",
       "    <tr>\n",
       "      <th>0</th>\n",
       "      <td>9</td>\n",
       "      <td>3</td>\n",
       "      <td>3</td>\n",
       "      <td>3</td>\n",
       "      <td>21</td>\n",
       "      <td>2</td>\n",
       "      <td>1</td>\n",
       "      <td>1</td>\n",
       "      <td>1</td>\n",
       "      <td>1</td>\n",
       "      <td>2</td>\n",
       "      <td>4</td>\n",
       "      <td>1</td>\n",
       "      <td>2</td>\n",
       "      <td>0</td>\n",
       "    </tr>\n",
       "    <tr>\n",
       "      <th>1</th>\n",
       "      <td>10</td>\n",
       "      <td>5</td>\n",
       "      <td>3</td>\n",
       "      <td>2</td>\n",
       "      <td>33</td>\n",
       "      <td>2</td>\n",
       "      <td>2</td>\n",
       "      <td>1</td>\n",
       "      <td>1</td>\n",
       "      <td>1</td>\n",
       "      <td>1</td>\n",
       "      <td>4</td>\n",
       "      <td>1</td>\n",
       "      <td>1</td>\n",
       "      <td>0</td>\n",
       "    </tr>\n",
       "    <tr>\n",
       "      <th>2</th>\n",
       "      <td>9</td>\n",
       "      <td>7</td>\n",
       "      <td>1</td>\n",
       "      <td>2</td>\n",
       "      <td>33</td>\n",
       "      <td>3</td>\n",
       "      <td>1</td>\n",
       "      <td>1</td>\n",
       "      <td>3</td>\n",
       "      <td>7</td>\n",
       "      <td>1</td>\n",
       "      <td>2</td>\n",
       "      <td>1</td>\n",
       "      <td>1</td>\n",
       "      <td>0</td>\n",
       "    </tr>\n",
       "  </tbody>\n",
       "</table>\n",
       "</div>"
      ],
      "text/plain": [
       "  C_MNTH C_WDAY C_HOUR C_VEHS C_CONF C_RCFG C_WTHR C_RSUR C_RALN C_TRAF P_SEX  \\\n",
       "0      9      3      3      3     21      2      1      1      1      1     2   \n",
       "1     10      5      3      2     33      2      2      1      1      1     1   \n",
       "2      9      7      1      2     33      3      1      1      3      7     1   \n",
       "\n",
       "  P_AGE P_PSN P_USER  P_ISEV  \n",
       "0     4     1      2       0  \n",
       "1     4     1      1       0  \n",
       "2     2     1      1       0  "
      ]
     },
     "execution_count": 16,
     "metadata": {},
     "output_type": "execute_result"
    }
   ],
   "source": [
    "# under sample using Ramdom Under Sampler, much faster than smote\n",
    "rus = RandomUnderSampler(random_state=0, ratio = 'not minority')\n",
    "X_resampled_rus, y_resampled_rus = rus.fit_sample(X_train, Y_train)\n",
    "print(sorted(Counter(y_resampled_rus).items()))\n",
    "\n",
    "df_train_under = pd.DataFrame(data=X_resampled_rus, columns = df_columns)\n",
    "df_train_under['P_ISEV'] = y_resampled_rus\n",
    "\n",
    "df_train_under = df_train_under.astype('int')\n",
    "df_train_under = convert_type(df_train_under)\n",
    "\n",
    "print(df_train_under.shape)\n",
    "df_train_under.head(3)"
   ]
  },
  {
   "cell_type": "code",
   "execution_count": 17,
   "metadata": {},
   "outputs": [
    {
     "name": "stdout",
     "output_type": "stream",
     "text": [
      "<class 'pandas.core.frame.DataFrame'>\n",
      "RangeIndex: 2864078 entries, 0 to 2864077\n",
      "Data columns (total 15 columns):\n",
      "C_MNTH    category\n",
      "C_WDAY    category\n",
      "C_HOUR    category\n",
      "C_VEHS    category\n",
      "C_CONF    category\n",
      "C_RCFG    category\n",
      "C_WTHR    category\n",
      "C_RSUR    category\n",
      "C_RALN    category\n",
      "C_TRAF    category\n",
      "P_SEX     category\n",
      "P_AGE     category\n",
      "P_PSN     category\n",
      "P_USER    category\n",
      "P_ISEV    int32\n",
      "dtypes: category(14), int32(1)\n",
      "memory usage: 49.2 MB\n",
      "None\n",
      "<class 'pandas.core.frame.DataFrame'>\n",
      "RangeIndex: 3878536 entries, 0 to 3878535\n",
      "Data columns (total 15 columns):\n",
      "C_MNTH    category\n",
      "C_WDAY    category\n",
      "C_HOUR    category\n",
      "C_VEHS    category\n",
      "C_CONF    category\n",
      "C_RCFG    category\n",
      "C_WTHR    category\n",
      "C_RSUR    category\n",
      "C_RALN    category\n",
      "C_TRAF    category\n",
      "P_SEX     category\n",
      "P_AGE     category\n",
      "P_PSN     category\n",
      "P_USER    category\n",
      "P_ISEV    int32\n",
      "dtypes: category(14), int32(1)\n",
      "memory usage: 66.6 MB\n",
      "None\n"
     ]
    }
   ],
   "source": [
    "print(df_train_under.info())\n",
    "print(df_train_over.info())\n"
   ]
  },
  {
   "cell_type": "code",
   "execution_count": 18,
   "metadata": {},
   "outputs": [],
   "source": [
    "df_train_over.to_csv(outputfile_train_O, encoding='utf-8', index=False)\n",
    "df_train_under.to_csv(outputfile_train_U, encoding='utf-8', index=False)\n",
    "df_test.to_csv(outputfile_test, encoding='utf-8', index=False)"
   ]
  },
  {
   "cell_type": "code",
   "execution_count": null,
   "metadata": {},
   "outputs": [],
   "source": []
  }
 ],
 "metadata": {
  "kernelspec": {
   "display_name": "Python 3",
   "language": "python",
   "name": "python3"
  },
  "language_info": {
   "codemirror_mode": {
    "name": "ipython",
    "version": 3
   },
   "file_extension": ".py",
   "mimetype": "text/x-python",
   "name": "python",
   "nbconvert_exporter": "python",
   "pygments_lexer": "ipython3",
   "version": "3.7.0"
  }
 },
 "nbformat": 4,
 "nbformat_minor": 2
}
